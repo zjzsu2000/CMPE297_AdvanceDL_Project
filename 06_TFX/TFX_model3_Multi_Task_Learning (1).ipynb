{
  "nbformat": 4,
  "nbformat_minor": 0,
  "metadata": {
    "colab": {
      "name": "TFX_model3_Multi_Task_Learning.ipynb",
      "provenance": [],
      "collapsed_sections": [
        "WocnDG_5lZOm",
        "IQDwVtyXlP1U",
        "PJdbdu_XZ_cC"
      ]
    },
    "kernelspec": {
      "name": "python3",
      "display_name": "Python 3"
    }
  },
  "cells": [
    {
      "cell_type": "markdown",
      "metadata": {
        "id": "WocnDG_5lZOm"
      },
      "source": [
        "#**load data**"
      ]
    },
    {
      "cell_type": "code",
      "metadata": {
        "colab": {
          "base_uri": "https://localhost:8080/"
        },
        "id": "3XKndBpCTeka",
        "outputId": "c61f6c2d-df9a-46ff-ef94-f42566d09da9"
      },
      "source": [
        "import io\n",
        "import os\n",
        "import pandas as pd\n",
        "import numpy as np\n",
        "from google.colab import drive\n",
        "drive.mount('/content/gdrive/')\n",
        "\n",
        "data_path='/content/gdrive/MyDrive/DL_project/dataset/'"
      ],
      "execution_count": 1,
      "outputs": [
        {
          "output_type": "stream",
          "text": [
            "Drive already mounted at /content/gdrive/; to attempt to forcibly remount, call drive.mount(\"/content/gdrive/\", force_remount=True).\n"
          ],
          "name": "stdout"
        }
      ]
    },
    {
      "cell_type": "code",
      "metadata": {
        "id": "LTGiPEXfT_wp"
      },
      "source": [
        "import tensorflow as tf\n",
        "from tensorflow.keras.models import Sequential\n",
        "from tensorflow.keras.layers import Dense, Activation, LeakyReLU\n",
        "from tensorflow.keras import backend\n",
        "from tensorflow.keras.callbacks import TensorBoard\n",
        "from tensorflow.keras.optimizers import Adam\n",
        "import pandas as pd\n",
        "import numpy as np\n",
        "from sklearn.model_selection import train_test_split"
      ],
      "execution_count": 2,
      "outputs": []
    },
    {
      "cell_type": "code",
      "metadata": {
        "id": "RsgnhP_TUIlz"
      },
      "source": [
        "df = pd.read_csv(data_path+'WIX_call-options-black-scholes.csv')\n",
        "call_df_21 = df.drop(columns=['Unnamed: 0','Unnamed: 0.1','UnderlyingSymbol','Exchange','OptionSymbol','Blank','Expiration',\n",
        "                     'DataDate','Last','Volume','OpenInterest','IV','Delta','Gamma','Theta','Vega','Alias',\n",
        "                     'sigma_5','sigma_10','sigma_30','black_scholes_pred_21'])\n",
        "call_df_21=call_df_21.dropna()"
      ],
      "execution_count": 3,
      "outputs": []
    },
    {
      "cell_type": "code",
      "metadata": {
        "colab": {
          "base_uri": "https://localhost:8080/",
          "height": 0
        },
        "id": "UFZqbMusU3OR",
        "outputId": "40282494-c908-498b-ab13-706b073c644f"
      },
      "source": [
        "call_df_21.head()"
      ],
      "execution_count": 4,
      "outputs": [
        {
          "output_type": "execute_result",
          "data": {
            "text/html": [
              "<div>\n",
              "<style scoped>\n",
              "    .dataframe tbody tr th:only-of-type {\n",
              "        vertical-align: middle;\n",
              "    }\n",
              "\n",
              "    .dataframe tbody tr th {\n",
              "        vertical-align: top;\n",
              "    }\n",
              "\n",
              "    .dataframe thead th {\n",
              "        text-align: right;\n",
              "    }\n",
              "</style>\n",
              "<table border=\"1\" class=\"dataframe\">\n",
              "  <thead>\n",
              "    <tr style=\"text-align: right;\">\n",
              "      <th></th>\n",
              "      <th>UnderlyingPrice</th>\n",
              "      <th>Strike</th>\n",
              "      <th>Bid</th>\n",
              "      <th>Ask</th>\n",
              "      <th>sigma_21</th>\n",
              "      <th>date_diff</th>\n",
              "      <th>treasury_rate</th>\n",
              "    </tr>\n",
              "  </thead>\n",
              "  <tbody>\n",
              "    <tr>\n",
              "      <th>1659</th>\n",
              "      <td>61.05</td>\n",
              "      <td>30.0</td>\n",
              "      <td>30.3</td>\n",
              "      <td>31.8</td>\n",
              "      <td>0.029875</td>\n",
              "      <td>16</td>\n",
              "      <td>1.43</td>\n",
              "    </tr>\n",
              "    <tr>\n",
              "      <th>1660</th>\n",
              "      <td>61.05</td>\n",
              "      <td>35.0</td>\n",
              "      <td>25.3</td>\n",
              "      <td>26.9</td>\n",
              "      <td>0.029875</td>\n",
              "      <td>16</td>\n",
              "      <td>1.43</td>\n",
              "    </tr>\n",
              "    <tr>\n",
              "      <th>1661</th>\n",
              "      <td>61.05</td>\n",
              "      <td>40.0</td>\n",
              "      <td>20.4</td>\n",
              "      <td>22.0</td>\n",
              "      <td>0.029875</td>\n",
              "      <td>16</td>\n",
              "      <td>1.43</td>\n",
              "    </tr>\n",
              "    <tr>\n",
              "      <th>1662</th>\n",
              "      <td>61.05</td>\n",
              "      <td>45.0</td>\n",
              "      <td>15.3</td>\n",
              "      <td>16.7</td>\n",
              "      <td>0.029875</td>\n",
              "      <td>16</td>\n",
              "      <td>1.43</td>\n",
              "    </tr>\n",
              "    <tr>\n",
              "      <th>1663</th>\n",
              "      <td>61.05</td>\n",
              "      <td>50.0</td>\n",
              "      <td>10.8</td>\n",
              "      <td>12.2</td>\n",
              "      <td>0.029875</td>\n",
              "      <td>16</td>\n",
              "      <td>1.43</td>\n",
              "    </tr>\n",
              "  </tbody>\n",
              "</table>\n",
              "</div>"
            ],
            "text/plain": [
              "      UnderlyingPrice  Strike   Bid   Ask  sigma_21  date_diff  treasury_rate\n",
              "1659            61.05    30.0  30.3  31.8  0.029875         16           1.43\n",
              "1660            61.05    35.0  25.3  26.9  0.029875         16           1.43\n",
              "1661            61.05    40.0  20.4  22.0  0.029875         16           1.43\n",
              "1662            61.05    45.0  15.3  16.7  0.029875         16           1.43\n",
              "1663            61.05    50.0  10.8  12.2  0.029875         16           1.43"
            ]
          },
          "metadata": {
            "tags": []
          },
          "execution_count": 4
        }
      ]
    },
    {
      "cell_type": "code",
      "metadata": {
        "id": "6lkwMFU6gZg1"
      },
      "source": [
        "call_df_21['UnderlyingPrice'] = call_df_21['UnderlyingPrice'].astype('float64') \n",
        "call_df_21['Strike'] = call_df_21['Strike'].astype('float64') \n",
        "call_df_21['Bid'] = call_df_21['Bid'].astype('float64') \n",
        "call_df_21['Ask'] = call_df_21['Ask'].astype('float64') \n",
        "call_df_21['sigma_21'] = call_df_21['sigma_21'].astype('float64') \n",
        "call_df_21['date_diff'] = call_df_21['date_diff'].astype('float64') \n",
        "call_df_21['treasury_rate'] = call_df_21['treasury_rate'].astype('float64') \n"
      ],
      "execution_count": 5,
      "outputs": []
    },
    {
      "cell_type": "code",
      "metadata": {
        "id": "JHomO2-7rgsW"
      },
      "source": [
        "#call_df_21= call_df_21.apply(pd.to_numeric, errors='coerce')\n"
      ],
      "execution_count": 6,
      "outputs": []
    },
    {
      "cell_type": "code",
      "metadata": {
        "colab": {
          "base_uri": "https://localhost:8080/"
        },
        "id": "rId8m1j7q0lx",
        "outputId": "3ef1ae56-6941-4697-f213-cc40aab888c1"
      },
      "source": [
        "call_df_21.dtypes"
      ],
      "execution_count": 7,
      "outputs": [
        {
          "output_type": "execute_result",
          "data": {
            "text/plain": [
              "UnderlyingPrice    float64\n",
              "Strike             float64\n",
              "Bid                float64\n",
              "Ask                float64\n",
              "sigma_21           float64\n",
              "date_diff          float64\n",
              "treasury_rate      float64\n",
              "dtype: object"
            ]
          },
          "metadata": {
            "tags": []
          },
          "execution_count": 7
        }
      ]
    },
    {
      "cell_type": "code",
      "metadata": {
        "id": "FXnhSsi7P1Zu"
      },
      "source": [
        "call_df_21.to_csv('/content/gdrive/MyDrive/DL_project/dataset/call_df_21.csv')"
      ],
      "execution_count": 8,
      "outputs": []
    },
    {
      "cell_type": "markdown",
      "metadata": {
        "id": "IQDwVtyXlP1U"
      },
      "source": [
        "#**TFX installation and pipeline**"
      ]
    },
    {
      "cell_type": "code",
      "metadata": {
        "colab": {
          "base_uri": "https://localhost:8080/"
        },
        "id": "bBriqREiVBHA",
        "outputId": "388a8a12-178d-4a68-9c14-63d9e4a1f451"
      },
      "source": [
        "!pip install tfx==0.23.1 tensorflow-data-validation==0.23.1"
      ],
      "execution_count": 9,
      "outputs": [
        {
          "output_type": "stream",
          "text": [
            "Requirement already satisfied: tfx==0.23.1 in /usr/local/lib/python3.6/dist-packages (0.23.1)\n",
            "Requirement already satisfied: tensorflow-data-validation==0.23.1 in /usr/local/lib/python3.6/dist-packages (0.23.1)\n",
            "Requirement already satisfied: jinja2<3,>=2.7.3 in /usr/local/lib/python3.6/dist-packages (from tfx==0.23.1) (2.11.2)\n",
            "Requirement already satisfied: click<8,>=7 in /usr/local/lib/python3.6/dist-packages (from tfx==0.23.1) (7.1.2)\n",
            "Requirement already satisfied: apache-beam[gcp]<3,>=2.24 in /usr/local/lib/python3.6/dist-packages (from tfx==0.23.1) (2.25.0)\n",
            "Requirement already satisfied: six<2,>=1.10 in /usr/local/lib/python3.6/dist-packages (from tfx==0.23.1) (1.15.0)\n",
            "Requirement already satisfied: keras-tuner<2,>=1 in /usr/local/lib/python3.6/dist-packages (from tfx==0.23.1) (1.0.2)\n",
            "Requirement already satisfied: absl-py<0.9,>=0.7 in /usr/local/lib/python3.6/dist-packages (from tfx==0.23.1) (0.8.1)\n",
            "Requirement already satisfied: kubernetes<12,>=10.0.1 in /usr/local/lib/python3.6/dist-packages (from tfx==0.23.1) (11.0.0)\n",
            "Requirement already satisfied: pyyaml<6,>=3.12 in /usr/local/lib/python3.6/dist-packages (from tfx==0.23.1) (3.13)\n",
            "Requirement already satisfied: tensorflow-serving-api!=2.0.*,!=2.1.*,!=2.2.*,<3,>=1.15 in /usr/local/lib/python3.6/dist-packages (from tfx==0.23.1) (2.3.0)\n",
            "Requirement already satisfied: pyarrow<0.18,>=0.17 in /usr/local/lib/python3.6/dist-packages (from tfx==0.23.1) (0.17.1)\n",
            "Requirement already satisfied: tensorflow-transform<0.24,>=0.23 in /usr/local/lib/python3.6/dist-packages (from tfx==0.23.1) (0.23.0)\n",
            "Requirement already satisfied: tfx-bsl<0.24,>=0.23 in /usr/local/lib/python3.6/dist-packages (from tfx==0.23.1) (0.23.0)\n",
            "Requirement already satisfied: attrs<20,>=19.3.0 in /usr/local/lib/python3.6/dist-packages (from tfx==0.23.1) (19.3.0)\n",
            "Requirement already satisfied: tensorflow!=2.0.*,!=2.1.*,!=2.2.*,<3,>=1.15.2 in /usr/local/lib/python3.6/dist-packages (from tfx==0.23.1) (2.3.0)\n",
            "Collecting grpcio<2,>=1.28.1\n",
            "  Using cached https://files.pythonhosted.org/packages/91/ab/8a7b37278fb59f3688af01cd069a5a4d2f3383eea2a2f78ddea4c7be047a/grpcio-1.34.0-cp36-cp36m-manylinux2014_x86_64.whl\n",
            "Requirement already satisfied: tensorflow-model-analysis<0.24,>=0.23 in /usr/local/lib/python3.6/dist-packages (from tfx==0.23.1) (0.23.0)\n",
            "Requirement already satisfied: docker<5,>=4.1 in /usr/local/lib/python3.6/dist-packages (from tfx==0.23.1) (4.4.0)\n",
            "Requirement already satisfied: ml-metadata<0.24,>=0.23 in /usr/local/lib/python3.6/dist-packages (from tfx==0.23.1) (0.23.0)\n",
            "Requirement already satisfied: protobuf<4,>=3.7 in /usr/local/lib/python3.6/dist-packages (from tfx==0.23.1) (3.12.4)\n",
            "Requirement already satisfied: google-api-python-client<2,>=1.7.8 in /usr/local/lib/python3.6/dist-packages (from tfx==0.23.1) (1.7.12)\n",
            "Requirement already satisfied: pandas<2,>=0.24 in /usr/local/lib/python3.6/dist-packages (from tensorflow-data-validation==0.23.1) (1.1.4)\n",
            "Requirement already satisfied: joblib<0.15,>=0.12 in /usr/local/lib/python3.6/dist-packages (from tensorflow-data-validation==0.23.1) (0.14.1)\n",
            "Requirement already satisfied: tensorflow-metadata<0.24,>=0.23 in /usr/local/lib/python3.6/dist-packages (from tensorflow-data-validation==0.23.1) (0.23.0)\n",
            "Requirement already satisfied: numpy<2,>=1.16 in /usr/local/lib/python3.6/dist-packages (from tensorflow-data-validation==0.23.1) (1.18.5)\n",
            "Requirement already satisfied: MarkupSafe>=0.23 in /usr/local/lib/python3.6/dist-packages (from jinja2<3,>=2.7.3->tfx==0.23.1) (1.1.1)\n",
            "Requirement already satisfied: pymongo<4.0.0,>=3.8.0 in /usr/local/lib/python3.6/dist-packages (from apache-beam[gcp]<3,>=2.24->tfx==0.23.1) (3.11.1)\n",
            "Requirement already satisfied: crcmod<2.0,>=1.7 in /usr/local/lib/python3.6/dist-packages (from apache-beam[gcp]<3,>=2.24->tfx==0.23.1) (1.7)\n",
            "Requirement already satisfied: mock<3.0.0,>=1.0.1 in /usr/local/lib/python3.6/dist-packages (from apache-beam[gcp]<3,>=2.24->tfx==0.23.1) (2.0.0)\n",
            "Requirement already satisfied: oauth2client<5,>=2.0.1 in /usr/local/lib/python3.6/dist-packages (from apache-beam[gcp]<3,>=2.24->tfx==0.23.1) (4.1.3)\n",
            "Requirement already satisfied: dill<0.3.2,>=0.3.1.1 in /usr/local/lib/python3.6/dist-packages (from apache-beam[gcp]<3,>=2.24->tfx==0.23.1) (0.3.1.1)\n",
            "Requirement already satisfied: pytz>=2018.3 in /usr/local/lib/python3.6/dist-packages (from apache-beam[gcp]<3,>=2.24->tfx==0.23.1) (2018.9)\n",
            "Requirement already satisfied: avro-python3!=1.9.2,<1.10.0,>=1.8.1; python_version >= \"3.0\" in /usr/local/lib/python3.6/dist-packages (from apache-beam[gcp]<3,>=2.24->tfx==0.23.1) (1.9.2.1)\n",
            "Requirement already satisfied: fastavro<2,>=0.21.4 in /usr/local/lib/python3.6/dist-packages (from apache-beam[gcp]<3,>=2.24->tfx==0.23.1) (1.2.1)\n",
            "Requirement already satisfied: future<1.0.0,>=0.18.2 in /usr/local/lib/python3.6/dist-packages (from apache-beam[gcp]<3,>=2.24->tfx==0.23.1) (0.18.2)\n",
            "Requirement already satisfied: pydot<2,>=1.2.0 in /usr/local/lib/python3.6/dist-packages (from apache-beam[gcp]<3,>=2.24->tfx==0.23.1) (1.3.0)\n",
            "Requirement already satisfied: hdfs<3.0.0,>=2.1.0 in /usr/local/lib/python3.6/dist-packages (from apache-beam[gcp]<3,>=2.24->tfx==0.23.1) (2.5.8)\n",
            "Requirement already satisfied: requests<3.0.0,>=2.24.0 in /usr/local/lib/python3.6/dist-packages (from apache-beam[gcp]<3,>=2.24->tfx==0.23.1) (2.25.0)\n",
            "Requirement already satisfied: httplib2<0.18.0,>=0.8 in /usr/local/lib/python3.6/dist-packages (from apache-beam[gcp]<3,>=2.24->tfx==0.23.1) (0.17.4)\n",
            "Requirement already satisfied: python-dateutil<3,>=2.8.0 in /usr/local/lib/python3.6/dist-packages (from apache-beam[gcp]<3,>=2.24->tfx==0.23.1) (2.8.1)\n",
            "Requirement already satisfied: typing-extensions<3.8.0,>=3.7.0 in /usr/local/lib/python3.6/dist-packages (from apache-beam[gcp]<3,>=2.24->tfx==0.23.1) (3.7.4.3)\n",
            "Requirement already satisfied: grpcio-gcp<1,>=0.2.2; extra == \"gcp\" in /usr/local/lib/python3.6/dist-packages (from apache-beam[gcp]<3,>=2.24->tfx==0.23.1) (0.2.2)\n",
            "Requirement already satisfied: google-cloud-datastore<2,>=1.7.1; extra == \"gcp\" in /usr/local/lib/python3.6/dist-packages (from apache-beam[gcp]<3,>=2.24->tfx==0.23.1) (1.8.0)\n",
            "Requirement already satisfied: google-cloud-dlp<2,>=0.12.0; extra == \"gcp\" in /usr/local/lib/python3.6/dist-packages (from apache-beam[gcp]<3,>=2.24->tfx==0.23.1) (1.0.0)\n",
            "Requirement already satisfied: google-apitools<0.5.32,>=0.5.31; extra == \"gcp\" in /usr/local/lib/python3.6/dist-packages (from apache-beam[gcp]<3,>=2.24->tfx==0.23.1) (0.5.31)\n",
            "Requirement already satisfied: google-cloud-build<3,>=2.0.0; python_version >= \"3.6\" and extra == \"gcp\" in /usr/local/lib/python3.6/dist-packages (from apache-beam[gcp]<3,>=2.24->tfx==0.23.1) (2.0.0)\n",
            "Requirement already satisfied: google-cloud-spanner<2,>=1.13.0; extra == \"gcp\" in /usr/local/lib/python3.6/dist-packages (from apache-beam[gcp]<3,>=2.24->tfx==0.23.1) (1.19.1)\n",
            "Requirement already satisfied: google-cloud-bigquery<2,>=1.6.0; extra == \"gcp\" in /usr/local/lib/python3.6/dist-packages (from apache-beam[gcp]<3,>=2.24->tfx==0.23.1) (1.21.0)\n",
            "Requirement already satisfied: google-cloud-pubsub<2,>=0.39.0; extra == \"gcp\" in /usr/local/lib/python3.6/dist-packages (from apache-beam[gcp]<3,>=2.24->tfx==0.23.1) (1.7.0)\n",
            "Requirement already satisfied: google-cloud-vision<2,>=0.38.0; extra == \"gcp\" in /usr/local/lib/python3.6/dist-packages (from apache-beam[gcp]<3,>=2.24->tfx==0.23.1) (1.0.0)\n",
            "Requirement already satisfied: google-auth<2,>=1.18.0; extra == \"gcp\" in /usr/local/lib/python3.6/dist-packages (from apache-beam[gcp]<3,>=2.24->tfx==0.23.1) (1.23.0)\n",
            "Requirement already satisfied: google-cloud-core<2,>=0.28.1; extra == \"gcp\" in /usr/local/lib/python3.6/dist-packages (from apache-beam[gcp]<3,>=2.24->tfx==0.23.1) (1.0.3)\n",
            "Requirement already satisfied: google-cloud-bigtable<2,>=0.31.1; extra == \"gcp\" in /usr/local/lib/python3.6/dist-packages (from apache-beam[gcp]<3,>=2.24->tfx==0.23.1) (1.6.1)\n",
            "Requirement already satisfied: google-cloud-videointelligence<2,>=1.8.0; extra == \"gcp\" in /usr/local/lib/python3.6/dist-packages (from apache-beam[gcp]<3,>=2.24->tfx==0.23.1) (1.16.1)\n",
            "Requirement already satisfied: cachetools<5,>=3.1.0; extra == \"gcp\" in /usr/local/lib/python3.6/dist-packages (from apache-beam[gcp]<3,>=2.24->tfx==0.23.1) (4.1.1)\n",
            "Requirement already satisfied: google-cloud-language<2,>=1.3.0; extra == \"gcp\" in /usr/local/lib/python3.6/dist-packages (from apache-beam[gcp]<3,>=2.24->tfx==0.23.1) (1.3.0)\n",
            "Requirement already satisfied: colorama in /usr/local/lib/python3.6/dist-packages (from keras-tuner<2,>=1->tfx==0.23.1) (0.4.4)\n",
            "Requirement already satisfied: scipy in /usr/local/lib/python3.6/dist-packages (from keras-tuner<2,>=1->tfx==0.23.1) (1.4.1)\n",
            "Requirement already satisfied: terminaltables in /usr/local/lib/python3.6/dist-packages (from keras-tuner<2,>=1->tfx==0.23.1) (3.1.0)\n",
            "Requirement already satisfied: tabulate in /usr/local/lib/python3.6/dist-packages (from keras-tuner<2,>=1->tfx==0.23.1) (0.8.7)\n",
            "Requirement already satisfied: packaging in /usr/local/lib/python3.6/dist-packages (from keras-tuner<2,>=1->tfx==0.23.1) (20.4)\n",
            "Requirement already satisfied: tqdm in /usr/local/lib/python3.6/dist-packages (from keras-tuner<2,>=1->tfx==0.23.1) (4.41.1)\n",
            "Requirement already satisfied: scikit-learn in /usr/local/lib/python3.6/dist-packages (from keras-tuner<2,>=1->tfx==0.23.1) (0.22.2.post1)\n",
            "Requirement already satisfied: websocket-client!=0.40.0,!=0.41.*,!=0.42.*,>=0.32.0 in /usr/local/lib/python3.6/dist-packages (from kubernetes<12,>=10.0.1->tfx==0.23.1) (0.57.0)\n",
            "Requirement already satisfied: setuptools>=21.0.0 in /usr/local/lib/python3.6/dist-packages (from kubernetes<12,>=10.0.1->tfx==0.23.1) (50.3.2)\n",
            "Requirement already satisfied: requests-oauthlib in /usr/local/lib/python3.6/dist-packages (from kubernetes<12,>=10.0.1->tfx==0.23.1) (1.3.0)\n",
            "Requirement already satisfied: certifi>=14.05.14 in /usr/local/lib/python3.6/dist-packages (from kubernetes<12,>=10.0.1->tfx==0.23.1) (2020.11.8)\n",
            "Requirement already satisfied: urllib3>=1.24.2 in /usr/local/lib/python3.6/dist-packages (from kubernetes<12,>=10.0.1->tfx==0.23.1) (1.24.3)\n",
            "Requirement already satisfied: termcolor>=1.1.0 in /usr/local/lib/python3.6/dist-packages (from tensorflow!=2.0.*,!=2.1.*,!=2.2.*,<3,>=1.15.2->tfx==0.23.1) (1.1.0)\n",
            "Requirement already satisfied: wheel>=0.26 in /usr/local/lib/python3.6/dist-packages (from tensorflow!=2.0.*,!=2.1.*,!=2.2.*,<3,>=1.15.2->tfx==0.23.1) (0.35.1)\n",
            "Requirement already satisfied: wrapt>=1.11.1 in /usr/local/lib/python3.6/dist-packages (from tensorflow!=2.0.*,!=2.1.*,!=2.2.*,<3,>=1.15.2->tfx==0.23.1) (1.12.1)\n",
            "Requirement already satisfied: tensorboard<3,>=2.3.0 in /usr/local/lib/python3.6/dist-packages (from tensorflow!=2.0.*,!=2.1.*,!=2.2.*,<3,>=1.15.2->tfx==0.23.1) (2.3.0)\n",
            "Requirement already satisfied: h5py<2.11.0,>=2.10.0 in /usr/local/lib/python3.6/dist-packages (from tensorflow!=2.0.*,!=2.1.*,!=2.2.*,<3,>=1.15.2->tfx==0.23.1) (2.10.0)\n",
            "Requirement already satisfied: google-pasta>=0.1.8 in /usr/local/lib/python3.6/dist-packages (from tensorflow!=2.0.*,!=2.1.*,!=2.2.*,<3,>=1.15.2->tfx==0.23.1) (0.2.0)\n",
            "Requirement already satisfied: gast==0.3.3 in /usr/local/lib/python3.6/dist-packages (from tensorflow!=2.0.*,!=2.1.*,!=2.2.*,<3,>=1.15.2->tfx==0.23.1) (0.3.3)\n",
            "Requirement already satisfied: keras-preprocessing<1.2,>=1.1.1 in /usr/local/lib/python3.6/dist-packages (from tensorflow!=2.0.*,!=2.1.*,!=2.2.*,<3,>=1.15.2->tfx==0.23.1) (1.1.2)\n",
            "Requirement already satisfied: opt-einsum>=2.3.2 in /usr/local/lib/python3.6/dist-packages (from tensorflow!=2.0.*,!=2.1.*,!=2.2.*,<3,>=1.15.2->tfx==0.23.1) (3.3.0)\n",
            "Requirement already satisfied: astunparse==1.6.3 in /usr/local/lib/python3.6/dist-packages (from tensorflow!=2.0.*,!=2.1.*,!=2.2.*,<3,>=1.15.2->tfx==0.23.1) (1.6.3)\n",
            "Requirement already satisfied: tensorflow-estimator<2.4.0,>=2.3.0 in /usr/local/lib/python3.6/dist-packages (from tensorflow!=2.0.*,!=2.1.*,!=2.2.*,<3,>=1.15.2->tfx==0.23.1) (2.3.0)\n",
            "Requirement already satisfied: jupyter<2,>=1 in /usr/local/lib/python3.6/dist-packages (from tensorflow-model-analysis<0.24,>=0.23->tfx==0.23.1) (1.0.0)\n",
            "Requirement already satisfied: ipywidgets<8,>=7 in /usr/local/lib/python3.6/dist-packages (from tensorflow-model-analysis<0.24,>=0.23->tfx==0.23.1) (7.5.1)\n",
            "Requirement already satisfied: uritemplate<4dev,>=3.0.0 in /usr/local/lib/python3.6/dist-packages (from google-api-python-client<2,>=1.7.8->tfx==0.23.1) (3.0.1)\n",
            "Requirement already satisfied: google-auth-httplib2>=0.0.3 in /usr/local/lib/python3.6/dist-packages (from google-api-python-client<2,>=1.7.8->tfx==0.23.1) (0.0.4)\n",
            "Requirement already satisfied: googleapis-common-protos in /usr/local/lib/python3.6/dist-packages (from tensorflow-metadata<0.24,>=0.23->tensorflow-data-validation==0.23.1) (1.52.0)\n",
            "Requirement already satisfied: pbr>=0.11 in /usr/local/lib/python3.6/dist-packages (from mock<3.0.0,>=1.0.1->apache-beam[gcp]<3,>=2.24->tfx==0.23.1) (5.5.1)\n",
            "Requirement already satisfied: pyasn1-modules>=0.0.5 in /usr/local/lib/python3.6/dist-packages (from oauth2client<5,>=2.0.1->apache-beam[gcp]<3,>=2.24->tfx==0.23.1) (0.2.8)\n",
            "Requirement already satisfied: pyasn1>=0.1.7 in /usr/local/lib/python3.6/dist-packages (from oauth2client<5,>=2.0.1->apache-beam[gcp]<3,>=2.24->tfx==0.23.1) (0.4.8)\n",
            "Requirement already satisfied: rsa>=3.1.4 in /usr/local/lib/python3.6/dist-packages (from oauth2client<5,>=2.0.1->apache-beam[gcp]<3,>=2.24->tfx==0.23.1) (4.6)\n",
            "Requirement already satisfied: pyparsing>=2.1.4 in /usr/local/lib/python3.6/dist-packages (from pydot<2,>=1.2.0->apache-beam[gcp]<3,>=2.24->tfx==0.23.1) (2.4.7)\n",
            "Requirement already satisfied: docopt in /usr/local/lib/python3.6/dist-packages (from hdfs<3.0.0,>=2.1.0->apache-beam[gcp]<3,>=2.24->tfx==0.23.1) (0.6.2)\n",
            "Requirement already satisfied: chardet<4,>=3.0.2 in /usr/local/lib/python3.6/dist-packages (from requests<3.0.0,>=2.24.0->apache-beam[gcp]<3,>=2.24->tfx==0.23.1) (3.0.4)\n",
            "Requirement already satisfied: idna<3,>=2.5 in /usr/local/lib/python3.6/dist-packages (from requests<3.0.0,>=2.24.0->apache-beam[gcp]<3,>=2.24->tfx==0.23.1) (2.10)\n",
            "Requirement already satisfied: google-api-core[grpc]<2.0.0dev,>=1.6.0 in /usr/local/lib/python3.6/dist-packages (from google-cloud-datastore<2,>=1.7.1; extra == \"gcp\"->apache-beam[gcp]<3,>=2.24->tfx==0.23.1) (1.23.0)\n",
            "Requirement already satisfied: fasteners>=0.14 in /usr/local/lib/python3.6/dist-packages (from google-apitools<0.5.32,>=0.5.31; extra == \"gcp\"->apache-beam[gcp]<3,>=2.24->tfx==0.23.1) (0.15)\n",
            "Requirement already satisfied: proto-plus>=0.4.0 in /usr/local/lib/python3.6/dist-packages (from google-cloud-build<3,>=2.0.0; python_version >= \"3.6\" and extra == \"gcp\"->apache-beam[gcp]<3,>=2.24->tfx==0.23.1) (1.11.0)\n",
            "Requirement already satisfied: libcst>=0.2.5 in /usr/local/lib/python3.6/dist-packages (from google-cloud-build<3,>=2.0.0; python_version >= \"3.6\" and extra == \"gcp\"->apache-beam[gcp]<3,>=2.24->tfx==0.23.1) (0.3.15)\n",
            "Requirement already satisfied: grpc-google-iam-v1<0.13dev,>=0.12.3 in /usr/local/lib/python3.6/dist-packages (from google-cloud-spanner<2,>=1.13.0; extra == \"gcp\"->apache-beam[gcp]<3,>=2.24->tfx==0.23.1) (0.12.3)\n",
            "Requirement already satisfied: google-resumable-media!=0.4.0,<0.5.0dev,>=0.3.1 in /usr/local/lib/python3.6/dist-packages (from google-cloud-bigquery<2,>=1.6.0; extra == \"gcp\"->apache-beam[gcp]<3,>=2.24->tfx==0.23.1) (0.4.1)\n",
            "Requirement already satisfied: oauthlib>=3.0.0 in /usr/local/lib/python3.6/dist-packages (from requests-oauthlib->kubernetes<12,>=10.0.1->tfx==0.23.1) (3.1.0)\n",
            "Requirement already satisfied: google-auth-oauthlib<0.5,>=0.4.1 in /usr/local/lib/python3.6/dist-packages (from tensorboard<3,>=2.3.0->tensorflow!=2.0.*,!=2.1.*,!=2.2.*,<3,>=1.15.2->tfx==0.23.1) (0.4.2)\n",
            "Requirement already satisfied: markdown>=2.6.8 in /usr/local/lib/python3.6/dist-packages (from tensorboard<3,>=2.3.0->tensorflow!=2.0.*,!=2.1.*,!=2.2.*,<3,>=1.15.2->tfx==0.23.1) (3.3.3)\n",
            "Requirement already satisfied: tensorboard-plugin-wit>=1.6.0 in /usr/local/lib/python3.6/dist-packages (from tensorboard<3,>=2.3.0->tensorflow!=2.0.*,!=2.1.*,!=2.2.*,<3,>=1.15.2->tfx==0.23.1) (1.7.0)\n",
            "Requirement already satisfied: werkzeug>=0.11.15 in /usr/local/lib/python3.6/dist-packages (from tensorboard<3,>=2.3.0->tensorflow!=2.0.*,!=2.1.*,!=2.2.*,<3,>=1.15.2->tfx==0.23.1) (1.0.1)\n",
            "Requirement already satisfied: ipykernel in /usr/local/lib/python3.6/dist-packages (from jupyter<2,>=1->tensorflow-model-analysis<0.24,>=0.23->tfx==0.23.1) (4.10.1)\n",
            "Requirement already satisfied: nbconvert in /usr/local/lib/python3.6/dist-packages (from jupyter<2,>=1->tensorflow-model-analysis<0.24,>=0.23->tfx==0.23.1) (5.6.1)\n",
            "Requirement already satisfied: qtconsole in /usr/local/lib/python3.6/dist-packages (from jupyter<2,>=1->tensorflow-model-analysis<0.24,>=0.23->tfx==0.23.1) (5.0.1)\n",
            "Requirement already satisfied: jupyter-console in /usr/local/lib/python3.6/dist-packages (from jupyter<2,>=1->tensorflow-model-analysis<0.24,>=0.23->tfx==0.23.1) (5.2.0)\n",
            "Requirement already satisfied: notebook in /usr/local/lib/python3.6/dist-packages (from jupyter<2,>=1->tensorflow-model-analysis<0.24,>=0.23->tfx==0.23.1) (5.3.1)\n",
            "Requirement already satisfied: traitlets>=4.3.1 in /usr/local/lib/python3.6/dist-packages (from ipywidgets<8,>=7->tensorflow-model-analysis<0.24,>=0.23->tfx==0.23.1) (4.3.3)\n",
            "Requirement already satisfied: nbformat>=4.2.0 in /usr/local/lib/python3.6/dist-packages (from ipywidgets<8,>=7->tensorflow-model-analysis<0.24,>=0.23->tfx==0.23.1) (5.0.8)\n",
            "Requirement already satisfied: widgetsnbextension~=3.5.0 in /usr/local/lib/python3.6/dist-packages (from ipywidgets<8,>=7->tensorflow-model-analysis<0.24,>=0.23->tfx==0.23.1) (3.5.1)\n",
            "Requirement already satisfied: ipython>=4.0.0; python_version >= \"3.3\" in /usr/local/lib/python3.6/dist-packages (from ipywidgets<8,>=7->tensorflow-model-analysis<0.24,>=0.23->tfx==0.23.1) (5.5.0)\n",
            "Requirement already satisfied: monotonic>=0.1 in /usr/local/lib/python3.6/dist-packages (from fasteners>=0.14->google-apitools<0.5.32,>=0.5.31; extra == \"gcp\"->apache-beam[gcp]<3,>=2.24->tfx==0.23.1) (1.5)\n",
            "Requirement already satisfied: dataclasses>=0.6.0; python_version < \"3.7\" in /usr/local/lib/python3.6/dist-packages (from libcst>=0.2.5->google-cloud-build<3,>=2.0.0; python_version >= \"3.6\" and extra == \"gcp\"->apache-beam[gcp]<3,>=2.24->tfx==0.23.1) (0.8)\n",
            "Requirement already satisfied: typing-inspect>=0.4.0 in /usr/local/lib/python3.6/dist-packages (from libcst>=0.2.5->google-cloud-build<3,>=2.0.0; python_version >= \"3.6\" and extra == \"gcp\"->apache-beam[gcp]<3,>=2.24->tfx==0.23.1) (0.6.0)\n",
            "Requirement already satisfied: importlib-metadata; python_version < \"3.8\" in /usr/local/lib/python3.6/dist-packages (from markdown>=2.6.8->tensorboard<3,>=2.3.0->tensorflow!=2.0.*,!=2.1.*,!=2.2.*,<3,>=1.15.2->tfx==0.23.1) (2.0.0)\n",
            "Requirement already satisfied: tornado>=4.0 in /usr/local/lib/python3.6/dist-packages (from ipykernel->jupyter<2,>=1->tensorflow-model-analysis<0.24,>=0.23->tfx==0.23.1) (5.1.1)\n",
            "Requirement already satisfied: jupyter-client in /usr/local/lib/python3.6/dist-packages (from ipykernel->jupyter<2,>=1->tensorflow-model-analysis<0.24,>=0.23->tfx==0.23.1) (5.3.5)\n",
            "Requirement already satisfied: entrypoints>=0.2.2 in /usr/local/lib/python3.6/dist-packages (from nbconvert->jupyter<2,>=1->tensorflow-model-analysis<0.24,>=0.23->tfx==0.23.1) (0.3)\n",
            "Requirement already satisfied: jupyter-core in /usr/local/lib/python3.6/dist-packages (from nbconvert->jupyter<2,>=1->tensorflow-model-analysis<0.24,>=0.23->tfx==0.23.1) (4.7.0)\n",
            "Requirement already satisfied: defusedxml in /usr/local/lib/python3.6/dist-packages (from nbconvert->jupyter<2,>=1->tensorflow-model-analysis<0.24,>=0.23->tfx==0.23.1) (0.6.0)\n",
            "Requirement already satisfied: mistune<2,>=0.8.1 in /usr/local/lib/python3.6/dist-packages (from nbconvert->jupyter<2,>=1->tensorflow-model-analysis<0.24,>=0.23->tfx==0.23.1) (0.8.4)\n",
            "Requirement already satisfied: pygments in /usr/local/lib/python3.6/dist-packages (from nbconvert->jupyter<2,>=1->tensorflow-model-analysis<0.24,>=0.23->tfx==0.23.1) (2.6.1)\n",
            "Requirement already satisfied: pandocfilters>=1.4.1 in /usr/local/lib/python3.6/dist-packages (from nbconvert->jupyter<2,>=1->tensorflow-model-analysis<0.24,>=0.23->tfx==0.23.1) (1.4.3)\n",
            "Requirement already satisfied: bleach in /usr/local/lib/python3.6/dist-packages (from nbconvert->jupyter<2,>=1->tensorflow-model-analysis<0.24,>=0.23->tfx==0.23.1) (3.2.1)\n",
            "Requirement already satisfied: testpath in /usr/local/lib/python3.6/dist-packages (from nbconvert->jupyter<2,>=1->tensorflow-model-analysis<0.24,>=0.23->tfx==0.23.1) (0.4.4)\n",
            "Requirement already satisfied: ipython-genutils in /usr/local/lib/python3.6/dist-packages (from qtconsole->jupyter<2,>=1->tensorflow-model-analysis<0.24,>=0.23->tfx==0.23.1) (0.2.0)\n",
            "Requirement already satisfied: pyzmq>=17.1 in /usr/local/lib/python3.6/dist-packages (from qtconsole->jupyter<2,>=1->tensorflow-model-analysis<0.24,>=0.23->tfx==0.23.1) (20.0.0)\n",
            "Requirement already satisfied: qtpy in /usr/local/lib/python3.6/dist-packages (from qtconsole->jupyter<2,>=1->tensorflow-model-analysis<0.24,>=0.23->tfx==0.23.1) (1.9.0)\n",
            "Requirement already satisfied: prompt-toolkit<2.0.0,>=1.0.0 in /usr/local/lib/python3.6/dist-packages (from jupyter-console->jupyter<2,>=1->tensorflow-model-analysis<0.24,>=0.23->tfx==0.23.1) (1.0.18)\n",
            "Requirement already satisfied: Send2Trash in /usr/local/lib/python3.6/dist-packages (from notebook->jupyter<2,>=1->tensorflow-model-analysis<0.24,>=0.23->tfx==0.23.1) (1.5.0)\n",
            "Requirement already satisfied: terminado>=0.8.1 in /usr/local/lib/python3.6/dist-packages (from notebook->jupyter<2,>=1->tensorflow-model-analysis<0.24,>=0.23->tfx==0.23.1) (0.9.1)\n",
            "Requirement already satisfied: decorator in /usr/local/lib/python3.6/dist-packages (from traitlets>=4.3.1->ipywidgets<8,>=7->tensorflow-model-analysis<0.24,>=0.23->tfx==0.23.1) (4.4.2)\n",
            "Requirement already satisfied: jsonschema!=2.5.0,>=2.4 in /usr/local/lib/python3.6/dist-packages (from nbformat>=4.2.0->ipywidgets<8,>=7->tensorflow-model-analysis<0.24,>=0.23->tfx==0.23.1) (2.6.0)\n",
            "Requirement already satisfied: pexpect; sys_platform != \"win32\" in /usr/local/lib/python3.6/dist-packages (from ipython>=4.0.0; python_version >= \"3.3\"->ipywidgets<8,>=7->tensorflow-model-analysis<0.24,>=0.23->tfx==0.23.1) (4.8.0)\n",
            "Requirement already satisfied: simplegeneric>0.8 in /usr/local/lib/python3.6/dist-packages (from ipython>=4.0.0; python_version >= \"3.3\"->ipywidgets<8,>=7->tensorflow-model-analysis<0.24,>=0.23->tfx==0.23.1) (0.8.1)\n",
            "Requirement already satisfied: pickleshare in /usr/local/lib/python3.6/dist-packages (from ipython>=4.0.0; python_version >= \"3.3\"->ipywidgets<8,>=7->tensorflow-model-analysis<0.24,>=0.23->tfx==0.23.1) (0.7.5)\n",
            "Requirement already satisfied: mypy-extensions>=0.3.0 in /usr/local/lib/python3.6/dist-packages (from typing-inspect>=0.4.0->libcst>=0.2.5->google-cloud-build<3,>=2.0.0; python_version >= \"3.6\" and extra == \"gcp\"->apache-beam[gcp]<3,>=2.24->tfx==0.23.1) (0.4.3)\n",
            "Requirement already satisfied: zipp>=0.5 in /usr/local/lib/python3.6/dist-packages (from importlib-metadata; python_version < \"3.8\"->markdown>=2.6.8->tensorboard<3,>=2.3.0->tensorflow!=2.0.*,!=2.1.*,!=2.2.*,<3,>=1.15.2->tfx==0.23.1) (3.4.0)\n",
            "Requirement already satisfied: webencodings in /usr/local/lib/python3.6/dist-packages (from bleach->nbconvert->jupyter<2,>=1->tensorflow-model-analysis<0.24,>=0.23->tfx==0.23.1) (0.5.1)\n",
            "Requirement already satisfied: wcwidth in /usr/local/lib/python3.6/dist-packages (from prompt-toolkit<2.0.0,>=1.0.0->jupyter-console->jupyter<2,>=1->tensorflow-model-analysis<0.24,>=0.23->tfx==0.23.1) (0.2.5)\n",
            "Requirement already satisfied: ptyprocess; os_name != \"nt\" in /usr/local/lib/python3.6/dist-packages (from terminado>=0.8.1->notebook->jupyter<2,>=1->tensorflow-model-analysis<0.24,>=0.23->tfx==0.23.1) (0.6.0)\n",
            "\u001b[31mERROR: google-cloud-spanner 1.19.1 has requirement google-cloud-core<2.0dev,>=1.4.1, but you'll have google-cloud-core 1.0.3 which is incompatible.\u001b[0m\n",
            "\u001b[31mERROR: google-cloud-bigtable 1.6.1 has requirement google-cloud-core<2.0dev,>=1.4.1, but you'll have google-cloud-core 1.0.3 which is incompatible.\u001b[0m\n",
            "Installing collected packages: grpcio\n",
            "  Found existing installation: grpcio 1.26.0\n",
            "    Uninstalling grpcio-1.26.0:\n",
            "      Successfully uninstalled grpcio-1.26.0\n",
            "Successfully installed grpcio-1.34.0\n"
          ],
          "name": "stdout"
        }
      ]
    },
    {
      "cell_type": "code",
      "metadata": {
        "id": "YIqpWK9efviJ",
        "colab": {
          "base_uri": "https://localhost:8080/"
        },
        "outputId": "62061075-7694-4dfb-933d-5cd85025c19c"
      },
      "source": [
        "\n",
        "import os\n",
        "import pprint\n",
        "import tempfile\n",
        "import urllib\n",
        "\n",
        "import absl\n",
        "import tensorflow as tf\n",
        "#import tensorflow_model_analysis as tfma\n",
        "tf.get_logger().propagate = False\n",
        "pp = pprint.PrettyPrinter()\n",
        "\n",
        "import tfx\n",
        "from tfx.components import CsvExampleGen\n",
        "from tfx.components import Evaluator\n",
        "from tfx.components import ExampleValidator\n",
        "from tfx.components import Pusher\n",
        "from tfx.components import ResolverNode\n",
        "from tfx.components import SchemaGen\n",
        "from tfx.components import StatisticsGen\n",
        "from tfx.components import Trainer\n",
        "from tfx.components import Transform\n",
        "from tfx.components.base import executor_spec\n",
        "from tfx.components.trainer.executor import GenericExecutor\n",
        "from tfx.dsl.experimental import latest_blessed_model_resolver\n",
        "from tfx.orchestration import metadata\n",
        "from tfx.orchestration import pipeline\n",
        "from tfx.orchestration.experimental.interactive.interactive_context import InteractiveContext\n",
        "from tfx.proto import pusher_pb2\n",
        "from tfx.proto import trainer_pb2\n",
        "from tfx.types import Channel\n",
        "from tfx.types.standard_artifacts import Model\n",
        "from tfx.types.standard_artifacts import ModelBlessing\n",
        "from tfx.utils.dsl_utils import external_input\n",
        "from tfx.components import ImportExampleGen\n",
        "from tfx.proto import example_gen_pb2\n",
        "\n",
        "%load_ext tfx.orchestration.experimental.interactive.notebook_extensions.skip"
      ],
      "execution_count": 10,
      "outputs": [
        {
          "output_type": "stream",
          "text": [
            "/usr/local/lib/python3.6/dist-packages/tfx/orchestration/data_types.py:191: UserWarning: RuntimeParameter is only supported on KubeflowDagRunner currently.\n",
            "  warnings.warn('RuntimeParameter is only supported on KubeflowDagRunner '\n"
          ],
          "name": "stderr"
        }
      ]
    },
    {
      "cell_type": "code",
      "metadata": {
        "id": "6e9ARhXwQEPL"
      },
      "source": [
        ""
      ],
      "execution_count": 10,
      "outputs": []
    },
    {
      "cell_type": "code",
      "metadata": {
        "id": "eZ4K18_DN2D8",
        "colab": {
          "base_uri": "https://localhost:8080/"
        },
        "outputId": "3ff03269-e9ae-45c6-e957-0b50a9bfb438"
      },
      "source": [
        "print('TensorFlow version: {}'.format(tf.__version__))\n",
        "print('TFX version: {}'.format(tfx.__version__))"
      ],
      "execution_count": 11,
      "outputs": [
        {
          "output_type": "stream",
          "text": [
            "TensorFlow version: 2.3.0\n",
            "TFX version: 0.23.1\n"
          ],
          "name": "stdout"
        }
      ]
    },
    {
      "cell_type": "code",
      "metadata": {
        "id": "17WG1nIGQEOJ"
      },
      "source": [
        ""
      ],
      "execution_count": 11,
      "outputs": []
    },
    {
      "cell_type": "code",
      "metadata": {
        "id": "NJEbxVU7617O"
      },
      "source": [
        "import shutil\n",
        "# This is the root directory for your TFX pip package installation.\n",
        "_tfx_root = tfx.__path__[0]\n",
        "\n",
        "# This is the directory containing the.\n",
        "_taxi_root = os.path.join(_tfx_root, 'examples/options_pipeline')\n",
        "\n",
        "# This is the path where your model will be pushed for serving.\n",
        "_serving_model_dir = os.path.join(\n",
        "    tempfile.mkdtemp(), 'serving_model/options_simple')\n",
        "\n",
        "# Set up logging.\n",
        "absl.logging.set_verbosity(absl.logging.INFO)"
      ],
      "execution_count": 12,
      "outputs": []
    },
    {
      "cell_type": "code",
      "metadata": {
        "id": "63y5GBIBQEMX"
      },
      "source": [
        ""
      ],
      "execution_count": 12,
      "outputs": []
    },
    {
      "cell_type": "code",
      "metadata": {
        "colab": {
          "base_uri": "https://localhost:8080/",
          "height": 35
        },
        "id": "UTqkuWMs62id",
        "outputId": "c23ecd6b-b2bf-4901-c074-6688b6c86f59"
      },
      "source": [
        "_data_root = tempfile.mkdtemp(prefix='tfx-data')\n",
        "\n",
        "train_=\"/content/gdrive/MyDrive/DL_project/dataset/call_df_21.csv\"\n",
        "#test_=\"/content/gdrive/My Drive/DL_project/test/Test.csv\"\n",
        "_data_filepath = os.path.join(_data_root, \"call_df_21.csv\")\n",
        "\n",
        "\n",
        "shutil.copy(train_,_data_root)\n",
        "#shutil.copy(test_,_data_root)\n"
      ],
      "execution_count": 13,
      "outputs": [
        {
          "output_type": "execute_result",
          "data": {
            "application/vnd.google.colaboratory.intrinsic+json": {
              "type": "string"
            },
            "text/plain": [
              "'/tmp/tfx-datagy8to2qo/call_df_21.csv'"
            ]
          },
          "metadata": {
            "tags": []
          },
          "execution_count": 13
        }
      ]
    },
    {
      "cell_type": "code",
      "metadata": {
        "colab": {
          "base_uri": "https://localhost:8080/",
          "height": 485
        },
        "id": "em7uR1PGQEGi",
        "outputId": "a31e5162-23a1-48bb-96be-5293c764304f"
      },
      "source": [
        "context = InteractiveContext()\n",
        "examples = external_input(_data_root)\n",
        "example_gen = CsvExampleGen(input=examples)\n",
        "context.run(example_gen)"
      ],
      "execution_count": 14,
      "outputs": [
        {
          "output_type": "stream",
          "text": [
            "WARNING:absl:InteractiveContext pipeline_root argument not provided: using temporary directory /tmp/tfx-interactive-2020-12-07T01_48_11.028514-t7es0csu as root for pipeline outputs.\n",
            "WARNING:absl:InteractiveContext metadata_connection_config not provided: using SQLite ML Metadata database at /tmp/tfx-interactive-2020-12-07T01_48_11.028514-t7es0csu/metadata.sqlite.\n"
          ],
          "name": "stderr"
        },
        {
          "output_type": "stream",
          "text": [
            "WARNING:tensorflow:From <ipython-input-14-5e891720d1dc>:2: external_input (from tfx.utils.dsl_utils) is deprecated and will be removed in a future version.\n",
            "Instructions for updating:\n",
            "external_input is deprecated, directly pass the uri to ExampleGen.\n"
          ],
          "name": "stdout"
        },
        {
          "output_type": "stream",
          "text": [
            "WARNING:absl:The \"input\" argument to the CsvExampleGen component has been deprecated by \"input_base\". Please update your usage as support for this argument will be removed soon.\n",
            "INFO:absl:Running driver for CsvExampleGen\n",
            "INFO:absl:MetadataStore with DB connection initialized\n",
            "INFO:absl:select span and version = (0, None)\n",
            "INFO:absl:latest span and version = (0, None)\n",
            "INFO:absl:Running executor for CsvExampleGen\n",
            "INFO:absl:Generating examples.\n",
            "WARNING:apache_beam.runners.interactive.interactive_environment:Dependencies required for Interactive Beam PCollection visualization are not available, please use: `pip install apache-beam[interactive]` to install necessary dependencies to enable all data visualization features.\n"
          ],
          "name": "stderr"
        },
        {
          "output_type": "display_data",
          "data": {
            "application/javascript": [
              "\n",
              "        if (typeof window.interactive_beam_jquery == 'undefined') {\n",
              "          var jqueryScript = document.createElement('script');\n",
              "          jqueryScript.src = 'https://code.jquery.com/jquery-3.4.1.slim.min.js';\n",
              "          jqueryScript.type = 'text/javascript';\n",
              "          jqueryScript.onload = function() {\n",
              "            var datatableScript = document.createElement('script');\n",
              "            datatableScript.src = 'https://cdn.datatables.net/1.10.20/js/jquery.dataTables.min.js';\n",
              "            datatableScript.type = 'text/javascript';\n",
              "            datatableScript.onload = function() {\n",
              "              window.interactive_beam_jquery = jQuery.noConflict(true);\n",
              "              window.interactive_beam_jquery(document).ready(function($){\n",
              "                \n",
              "              });\n",
              "            }\n",
              "            document.head.appendChild(datatableScript);\n",
              "          };\n",
              "          document.head.appendChild(jqueryScript);\n",
              "        } else {\n",
              "          window.interactive_beam_jquery(document).ready(function($){\n",
              "            \n",
              "          });\n",
              "        }"
            ]
          },
          "metadata": {
            "tags": []
          }
        },
        {
          "output_type": "display_data",
          "data": {
            "application/javascript": [
              "\n",
              "        var import_html = () => {\n",
              "          ['https://raw.githubusercontent.com/PAIR-code/facets/1.0.0/facets-dist/facets-jupyter.html'].forEach(href => {\n",
              "            var link = document.createElement('link');\n",
              "            link.rel = 'import'\n",
              "            link.href = href;\n",
              "            document.head.appendChild(link);\n",
              "          });\n",
              "        }\n",
              "        if ('import' in document.createElement('link')) {\n",
              "          import_html();\n",
              "        } else {\n",
              "          var webcomponentScript = document.createElement('script');\n",
              "          webcomponentScript.src = 'https://cdnjs.cloudflare.com/ajax/libs/webcomponentsjs/1.3.3/webcomponents-lite.js';\n",
              "          webcomponentScript.type = 'text/javascript';\n",
              "          webcomponentScript.onload = function(){\n",
              "            import_html();\n",
              "          };\n",
              "          document.head.appendChild(webcomponentScript);\n",
              "        }"
            ]
          },
          "metadata": {
            "tags": []
          }
        },
        {
          "output_type": "stream",
          "text": [
            "INFO:absl:Processing input csv data /tmp/tfx-datagy8to2qo/* to TFExample.\n",
            "WARNING:apache_beam.io.tfrecordio:Couldn't find python-snappy so the implementation of _TFRecordUtil._masked_crc32c is not as fast as it could be.\n",
            "INFO:absl:Examples generated.\n",
            "INFO:absl:Running publisher for CsvExampleGen\n",
            "INFO:absl:MetadataStore with DB connection initialized\n"
          ],
          "name": "stderr"
        },
        {
          "output_type": "execute_result",
          "data": {
            "text/html": [
              "<style>\n",
              ".tfx-object.expanded {\n",
              "  padding: 4px 8px 4px 8px;\n",
              "  background: white;\n",
              "  border: 1px solid #bbbbbb;\n",
              "  box-shadow: 4px 4px 2px rgba(0,0,0,0.05);\n",
              "}\n",
              ".tfx-object, .tfx-object * {\n",
              "  font-size: 11pt;\n",
              "}\n",
              ".tfx-object > .title {\n",
              "  cursor: pointer;\n",
              "}\n",
              ".tfx-object .expansion-marker {\n",
              "  color: #999999;\n",
              "}\n",
              ".tfx-object.expanded > .title > .expansion-marker:before {\n",
              "  content: '▼';\n",
              "}\n",
              ".tfx-object.collapsed > .title > .expansion-marker:before {\n",
              "  content: '▶';\n",
              "}\n",
              ".tfx-object .class-name {\n",
              "  font-weight: bold;\n",
              "}\n",
              ".tfx-object .deemphasize {\n",
              "  opacity: 0.5;\n",
              "}\n",
              ".tfx-object.collapsed > table.attr-table {\n",
              "  display: none;\n",
              "}\n",
              ".tfx-object.expanded > table.attr-table {\n",
              "  display: block;\n",
              "}\n",
              ".tfx-object table.attr-table {\n",
              "  border: 2px solid white;\n",
              "  margin-top: 5px;\n",
              "}\n",
              ".tfx-object table.attr-table td.attr-name {\n",
              "  vertical-align: top;\n",
              "  font-weight: bold;\n",
              "}\n",
              ".tfx-object table.attr-table td.attrvalue {\n",
              "  text-align: left;\n",
              "}\n",
              "</style>\n",
              "<script>\n",
              "function toggleTfxObject(element) {\n",
              "  var objElement = element.parentElement;\n",
              "  if (objElement.classList.contains('collapsed')) {\n",
              "    objElement.classList.remove('collapsed');\n",
              "    objElement.classList.add('expanded');\n",
              "  } else {\n",
              "    objElement.classList.add('collapsed');\n",
              "    objElement.classList.remove('expanded');\n",
              "  }\n",
              "}\n",
              "</script>\n",
              "<div class=\"tfx-object expanded\"><div class = \"title\" onclick=\"toggleTfxObject(this)\"><span class=\"expansion-marker\"></span><span class=\"class-name\">ExecutionResult</span><span class=\"deemphasize\"> at 0x7f488a0e4208</span></div><table class=\"attr-table\"><tr><td class=\"attr-name\">.execution_id</td><td class = \"attrvalue\">1</td></tr><tr><td class=\"attr-name\">.component</td><td class = \"attrvalue\"><style>\n",
              ".tfx-object.expanded {\n",
              "  padding: 4px 8px 4px 8px;\n",
              "  background: white;\n",
              "  border: 1px solid #bbbbbb;\n",
              "  box-shadow: 4px 4px 2px rgba(0,0,0,0.05);\n",
              "}\n",
              ".tfx-object, .tfx-object * {\n",
              "  font-size: 11pt;\n",
              "}\n",
              ".tfx-object > .title {\n",
              "  cursor: pointer;\n",
              "}\n",
              ".tfx-object .expansion-marker {\n",
              "  color: #999999;\n",
              "}\n",
              ".tfx-object.expanded > .title > .expansion-marker:before {\n",
              "  content: '▼';\n",
              "}\n",
              ".tfx-object.collapsed > .title > .expansion-marker:before {\n",
              "  content: '▶';\n",
              "}\n",
              ".tfx-object .class-name {\n",
              "  font-weight: bold;\n",
              "}\n",
              ".tfx-object .deemphasize {\n",
              "  opacity: 0.5;\n",
              "}\n",
              ".tfx-object.collapsed > table.attr-table {\n",
              "  display: none;\n",
              "}\n",
              ".tfx-object.expanded > table.attr-table {\n",
              "  display: block;\n",
              "}\n",
              ".tfx-object table.attr-table {\n",
              "  border: 2px solid white;\n",
              "  margin-top: 5px;\n",
              "}\n",
              ".tfx-object table.attr-table td.attr-name {\n",
              "  vertical-align: top;\n",
              "  font-weight: bold;\n",
              "}\n",
              ".tfx-object table.attr-table td.attrvalue {\n",
              "  text-align: left;\n",
              "}\n",
              "</style>\n",
              "<script>\n",
              "function toggleTfxObject(element) {\n",
              "  var objElement = element.parentElement;\n",
              "  if (objElement.classList.contains('collapsed')) {\n",
              "    objElement.classList.remove('collapsed');\n",
              "    objElement.classList.add('expanded');\n",
              "  } else {\n",
              "    objElement.classList.add('collapsed');\n",
              "    objElement.classList.remove('expanded');\n",
              "  }\n",
              "}\n",
              "</script>\n",
              "<div class=\"tfx-object collapsed\"><div class = \"title\" onclick=\"toggleTfxObject(this)\"><span class=\"expansion-marker\"></span><span class=\"class-name\">CsvExampleGen</span><span class=\"deemphasize\"> at 0x7f48904607f0</span></div><table class=\"attr-table\"><tr><td class=\"attr-name\">.inputs</td><td class = \"attrvalue\">{}</td></tr><tr><td class=\"attr-name\">.outputs</td><td class = \"attrvalue\"><table class=\"attr-table\"><tr><td class=\"attr-name\">['examples']</td><td class = \"attrvalue\"><style>\n",
              ".tfx-object.expanded {\n",
              "  padding: 4px 8px 4px 8px;\n",
              "  background: white;\n",
              "  border: 1px solid #bbbbbb;\n",
              "  box-shadow: 4px 4px 2px rgba(0,0,0,0.05);\n",
              "}\n",
              ".tfx-object, .tfx-object * {\n",
              "  font-size: 11pt;\n",
              "}\n",
              ".tfx-object > .title {\n",
              "  cursor: pointer;\n",
              "}\n",
              ".tfx-object .expansion-marker {\n",
              "  color: #999999;\n",
              "}\n",
              ".tfx-object.expanded > .title > .expansion-marker:before {\n",
              "  content: '▼';\n",
              "}\n",
              ".tfx-object.collapsed > .title > .expansion-marker:before {\n",
              "  content: '▶';\n",
              "}\n",
              ".tfx-object .class-name {\n",
              "  font-weight: bold;\n",
              "}\n",
              ".tfx-object .deemphasize {\n",
              "  opacity: 0.5;\n",
              "}\n",
              ".tfx-object.collapsed > table.attr-table {\n",
              "  display: none;\n",
              "}\n",
              ".tfx-object.expanded > table.attr-table {\n",
              "  display: block;\n",
              "}\n",
              ".tfx-object table.attr-table {\n",
              "  border: 2px solid white;\n",
              "  margin-top: 5px;\n",
              "}\n",
              ".tfx-object table.attr-table td.attr-name {\n",
              "  vertical-align: top;\n",
              "  font-weight: bold;\n",
              "}\n",
              ".tfx-object table.attr-table td.attrvalue {\n",
              "  text-align: left;\n",
              "}\n",
              "</style>\n",
              "<script>\n",
              "function toggleTfxObject(element) {\n",
              "  var objElement = element.parentElement;\n",
              "  if (objElement.classList.contains('collapsed')) {\n",
              "    objElement.classList.remove('collapsed');\n",
              "    objElement.classList.add('expanded');\n",
              "  } else {\n",
              "    objElement.classList.add('collapsed');\n",
              "    objElement.classList.remove('expanded');\n",
              "  }\n",
              "}\n",
              "</script>\n",
              "<div class=\"tfx-object collapsed\"><div class = \"title\" onclick=\"toggleTfxObject(this)\"><span class=\"expansion-marker\"></span><span class=\"class-name\">Channel</span> of type <span class=\"class-name\">'Examples'</span> (1 artifact)<span class=\"deemphasize\"> at 0x7f48951735c0</span></div><table class=\"attr-table\"><tr><td class=\"attr-name\">.type_name</td><td class = \"attrvalue\">Examples</td></tr><tr><td class=\"attr-name\">._artifacts</td><td class = \"attrvalue\"><table class=\"attr-table\"><tr><td class=\"attr-name\">[0]</td><td class = \"attrvalue\"><style>\n",
              ".tfx-object.expanded {\n",
              "  padding: 4px 8px 4px 8px;\n",
              "  background: white;\n",
              "  border: 1px solid #bbbbbb;\n",
              "  box-shadow: 4px 4px 2px rgba(0,0,0,0.05);\n",
              "}\n",
              ".tfx-object, .tfx-object * {\n",
              "  font-size: 11pt;\n",
              "}\n",
              ".tfx-object > .title {\n",
              "  cursor: pointer;\n",
              "}\n",
              ".tfx-object .expansion-marker {\n",
              "  color: #999999;\n",
              "}\n",
              ".tfx-object.expanded > .title > .expansion-marker:before {\n",
              "  content: '▼';\n",
              "}\n",
              ".tfx-object.collapsed > .title > .expansion-marker:before {\n",
              "  content: '▶';\n",
              "}\n",
              ".tfx-object .class-name {\n",
              "  font-weight: bold;\n",
              "}\n",
              ".tfx-object .deemphasize {\n",
              "  opacity: 0.5;\n",
              "}\n",
              ".tfx-object.collapsed > table.attr-table {\n",
              "  display: none;\n",
              "}\n",
              ".tfx-object.expanded > table.attr-table {\n",
              "  display: block;\n",
              "}\n",
              ".tfx-object table.attr-table {\n",
              "  border: 2px solid white;\n",
              "  margin-top: 5px;\n",
              "}\n",
              ".tfx-object table.attr-table td.attr-name {\n",
              "  vertical-align: top;\n",
              "  font-weight: bold;\n",
              "}\n",
              ".tfx-object table.attr-table td.attrvalue {\n",
              "  text-align: left;\n",
              "}\n",
              "</style>\n",
              "<script>\n",
              "function toggleTfxObject(element) {\n",
              "  var objElement = element.parentElement;\n",
              "  if (objElement.classList.contains('collapsed')) {\n",
              "    objElement.classList.remove('collapsed');\n",
              "    objElement.classList.add('expanded');\n",
              "  } else {\n",
              "    objElement.classList.add('collapsed');\n",
              "    objElement.classList.remove('expanded');\n",
              "  }\n",
              "}\n",
              "</script>\n",
              "<div class=\"tfx-object collapsed\"><div class = \"title\" onclick=\"toggleTfxObject(this)\"><span class=\"expansion-marker\"></span><span class=\"class-name\">Artifact</span> of type <span class=\"class-name\">'Examples'</span> (uri: /tmp/tfx-interactive-2020-12-07T01_48_11.028514-t7es0csu/CsvExampleGen/examples/1)<span class=\"deemphasize\"> at 0x7f4895173438</span></div><table class=\"attr-table\"><tr><td class=\"attr-name\">.type</td><td class = \"attrvalue\">&lt;class 'tfx.types.standard_artifacts.Examples'&gt;</td></tr><tr><td class=\"attr-name\">.uri</td><td class = \"attrvalue\">/tmp/tfx-interactive-2020-12-07T01_48_11.028514-t7es0csu/CsvExampleGen/examples/1</td></tr><tr><td class=\"attr-name\">.span</td><td class = \"attrvalue\">0</td></tr><tr><td class=\"attr-name\">.split_names</td><td class = \"attrvalue\">[\"train\", \"eval\"]</td></tr><tr><td class=\"attr-name\">.version</td><td class = \"attrvalue\">0</td></tr></table></div></td></tr></table></td></tr></table></div></td></tr></table></td></tr><tr><td class=\"attr-name\">.exec_properties</td><td class = \"attrvalue\"><table class=\"attr-table\"><tr><td class=\"attr-name\">['input_base']</td><td class = \"attrvalue\">/tmp/tfx-datagy8to2qo</td></tr><tr><td class=\"attr-name\">['input_config']</td><td class = \"attrvalue\">{\n",
              "  \"splits\": [\n",
              "    {\n",
              "      \"name\": \"single_split\",\n",
              "      \"pattern\": \"*\"\n",
              "    }\n",
              "  ]\n",
              "}</td></tr><tr><td class=\"attr-name\">['output_config']</td><td class = \"attrvalue\">{\n",
              "  \"split_config\": {\n",
              "    \"splits\": [\n",
              "      {\n",
              "        \"hash_buckets\": 2,\n",
              "        \"name\": \"train\"\n",
              "      },\n",
              "      {\n",
              "        \"hash_buckets\": 1,\n",
              "        \"name\": \"eval\"\n",
              "      }\n",
              "    ]\n",
              "  }\n",
              "}</td></tr><tr><td class=\"attr-name\">['output_data_format']</td><td class = \"attrvalue\">6</td></tr><tr><td class=\"attr-name\">['custom_config']</td><td class = \"attrvalue\">None</td></tr><tr><td class=\"attr-name\">['span']</td><td class = \"attrvalue\">0</td></tr><tr><td class=\"attr-name\">['version']</td><td class = \"attrvalue\">None</td></tr><tr><td class=\"attr-name\">['input_fingerprint']</td><td class = \"attrvalue\">split:single_split,num_files:1,total_bytes:2884897,xor_checksum:1607305691,sum_checksum:1607305691</td></tr><tr><td class=\"attr-name\">['_beam_pipeline_args']</td><td class = \"attrvalue\">[]</td></tr></table></td></tr></table></div></td></tr><tr><td class=\"attr-name\">.component.inputs</td><td class = \"attrvalue\">{}</td></tr><tr><td class=\"attr-name\">.component.outputs</td><td class = \"attrvalue\"><table class=\"attr-table\"><tr><td class=\"attr-name\">['examples']</td><td class = \"attrvalue\"><style>\n",
              ".tfx-object.expanded {\n",
              "  padding: 4px 8px 4px 8px;\n",
              "  background: white;\n",
              "  border: 1px solid #bbbbbb;\n",
              "  box-shadow: 4px 4px 2px rgba(0,0,0,0.05);\n",
              "}\n",
              ".tfx-object, .tfx-object * {\n",
              "  font-size: 11pt;\n",
              "}\n",
              ".tfx-object > .title {\n",
              "  cursor: pointer;\n",
              "}\n",
              ".tfx-object .expansion-marker {\n",
              "  color: #999999;\n",
              "}\n",
              ".tfx-object.expanded > .title > .expansion-marker:before {\n",
              "  content: '▼';\n",
              "}\n",
              ".tfx-object.collapsed > .title > .expansion-marker:before {\n",
              "  content: '▶';\n",
              "}\n",
              ".tfx-object .class-name {\n",
              "  font-weight: bold;\n",
              "}\n",
              ".tfx-object .deemphasize {\n",
              "  opacity: 0.5;\n",
              "}\n",
              ".tfx-object.collapsed > table.attr-table {\n",
              "  display: none;\n",
              "}\n",
              ".tfx-object.expanded > table.attr-table {\n",
              "  display: block;\n",
              "}\n",
              ".tfx-object table.attr-table {\n",
              "  border: 2px solid white;\n",
              "  margin-top: 5px;\n",
              "}\n",
              ".tfx-object table.attr-table td.attr-name {\n",
              "  vertical-align: top;\n",
              "  font-weight: bold;\n",
              "}\n",
              ".tfx-object table.attr-table td.attrvalue {\n",
              "  text-align: left;\n",
              "}\n",
              "</style>\n",
              "<script>\n",
              "function toggleTfxObject(element) {\n",
              "  var objElement = element.parentElement;\n",
              "  if (objElement.classList.contains('collapsed')) {\n",
              "    objElement.classList.remove('collapsed');\n",
              "    objElement.classList.add('expanded');\n",
              "  } else {\n",
              "    objElement.classList.add('collapsed');\n",
              "    objElement.classList.remove('expanded');\n",
              "  }\n",
              "}\n",
              "</script>\n",
              "<div class=\"tfx-object collapsed\"><div class = \"title\" onclick=\"toggleTfxObject(this)\"><span class=\"expansion-marker\"></span><span class=\"class-name\">Channel</span> of type <span class=\"class-name\">'Examples'</span> (1 artifact)<span class=\"deemphasize\"> at 0x7f48951735c0</span></div><table class=\"attr-table\"><tr><td class=\"attr-name\">.type_name</td><td class = \"attrvalue\">Examples</td></tr><tr><td class=\"attr-name\">._artifacts</td><td class = \"attrvalue\"><table class=\"attr-table\"><tr><td class=\"attr-name\">[0]</td><td class = \"attrvalue\"><style>\n",
              ".tfx-object.expanded {\n",
              "  padding: 4px 8px 4px 8px;\n",
              "  background: white;\n",
              "  border: 1px solid #bbbbbb;\n",
              "  box-shadow: 4px 4px 2px rgba(0,0,0,0.05);\n",
              "}\n",
              ".tfx-object, .tfx-object * {\n",
              "  font-size: 11pt;\n",
              "}\n",
              ".tfx-object > .title {\n",
              "  cursor: pointer;\n",
              "}\n",
              ".tfx-object .expansion-marker {\n",
              "  color: #999999;\n",
              "}\n",
              ".tfx-object.expanded > .title > .expansion-marker:before {\n",
              "  content: '▼';\n",
              "}\n",
              ".tfx-object.collapsed > .title > .expansion-marker:before {\n",
              "  content: '▶';\n",
              "}\n",
              ".tfx-object .class-name {\n",
              "  font-weight: bold;\n",
              "}\n",
              ".tfx-object .deemphasize {\n",
              "  opacity: 0.5;\n",
              "}\n",
              ".tfx-object.collapsed > table.attr-table {\n",
              "  display: none;\n",
              "}\n",
              ".tfx-object.expanded > table.attr-table {\n",
              "  display: block;\n",
              "}\n",
              ".tfx-object table.attr-table {\n",
              "  border: 2px solid white;\n",
              "  margin-top: 5px;\n",
              "}\n",
              ".tfx-object table.attr-table td.attr-name {\n",
              "  vertical-align: top;\n",
              "  font-weight: bold;\n",
              "}\n",
              ".tfx-object table.attr-table td.attrvalue {\n",
              "  text-align: left;\n",
              "}\n",
              "</style>\n",
              "<script>\n",
              "function toggleTfxObject(element) {\n",
              "  var objElement = element.parentElement;\n",
              "  if (objElement.classList.contains('collapsed')) {\n",
              "    objElement.classList.remove('collapsed');\n",
              "    objElement.classList.add('expanded');\n",
              "  } else {\n",
              "    objElement.classList.add('collapsed');\n",
              "    objElement.classList.remove('expanded');\n",
              "  }\n",
              "}\n",
              "</script>\n",
              "<div class=\"tfx-object collapsed\"><div class = \"title\" onclick=\"toggleTfxObject(this)\"><span class=\"expansion-marker\"></span><span class=\"class-name\">Artifact</span> of type <span class=\"class-name\">'Examples'</span> (uri: /tmp/tfx-interactive-2020-12-07T01_48_11.028514-t7es0csu/CsvExampleGen/examples/1)<span class=\"deemphasize\"> at 0x7f4895173438</span></div><table class=\"attr-table\"><tr><td class=\"attr-name\">.type</td><td class = \"attrvalue\">&lt;class 'tfx.types.standard_artifacts.Examples'&gt;</td></tr><tr><td class=\"attr-name\">.uri</td><td class = \"attrvalue\">/tmp/tfx-interactive-2020-12-07T01_48_11.028514-t7es0csu/CsvExampleGen/examples/1</td></tr><tr><td class=\"attr-name\">.span</td><td class = \"attrvalue\">0</td></tr><tr><td class=\"attr-name\">.split_names</td><td class = \"attrvalue\">[\"train\", \"eval\"]</td></tr><tr><td class=\"attr-name\">.version</td><td class = \"attrvalue\">0</td></tr></table></div></td></tr></table></td></tr></table></div></td></tr></table></td></tr></table></div>"
            ],
            "text/plain": [
              "ExecutionResult(\n",
              "    component_id: CsvExampleGen\n",
              "    execution_id: 1\n",
              "    outputs:\n",
              "        examples: Channel(\n",
              "            type_name: Examples\n",
              "            artifacts: [Artifact(artifact: id: 1\n",
              "        type_id: 5\n",
              "        uri: \"/tmp/tfx-interactive-2020-12-07T01_48_11.028514-t7es0csu/CsvExampleGen/examples/1\"\n",
              "        properties {\n",
              "          key: \"split_names\"\n",
              "          value {\n",
              "            string_value: \"[\\\"train\\\", \\\"eval\\\"]\"\n",
              "          }\n",
              "        }\n",
              "        custom_properties {\n",
              "          key: \"input_fingerprint\"\n",
              "          value {\n",
              "            string_value: \"split:single_split,num_files:1,total_bytes:2884897,xor_checksum:1607305691,sum_checksum:1607305691\"\n",
              "          }\n",
              "        }\n",
              "        custom_properties {\n",
              "          key: \"name\"\n",
              "          value {\n",
              "            string_value: \"examples\"\n",
              "          }\n",
              "        }\n",
              "        custom_properties {\n",
              "          key: \"payload_format\"\n",
              "          value {\n",
              "            string_value: \"FORMAT_TF_EXAMPLE\"\n",
              "          }\n",
              "        }\n",
              "        custom_properties {\n",
              "          key: \"pipeline_name\"\n",
              "          value {\n",
              "            string_value: \"interactive-2020-12-07T01_48_11.028514\"\n",
              "          }\n",
              "        }\n",
              "        custom_properties {\n",
              "          key: \"producer_component\"\n",
              "          value {\n",
              "            string_value: \"CsvExampleGen\"\n",
              "          }\n",
              "        }\n",
              "        custom_properties {\n",
              "          key: \"span\"\n",
              "          value {\n",
              "            string_value: \"0\"\n",
              "          }\n",
              "        }\n",
              "        custom_properties {\n",
              "          key: \"state\"\n",
              "          value {\n",
              "            string_value: \"published\"\n",
              "          }\n",
              "        }\n",
              "        , artifact_type: id: 5\n",
              "        name: \"Examples\"\n",
              "        properties {\n",
              "          key: \"span\"\n",
              "          value: INT\n",
              "        }\n",
              "        properties {\n",
              "          key: \"split_names\"\n",
              "          value: STRING\n",
              "        }\n",
              "        properties {\n",
              "          key: \"version\"\n",
              "          value: INT\n",
              "        }\n",
              "        )]\n",
              "        ))"
            ]
          },
          "metadata": {
            "tags": []
          },
          "execution_count": 14
        }
      ]
    },
    {
      "cell_type": "code",
      "metadata": {
        "colab": {
          "base_uri": "https://localhost:8080/"
        },
        "id": "i1N-laELRSHX",
        "outputId": "82185a89-db44-4405-b65d-36964261d92c"
      },
      "source": [
        "artifact = example_gen.outputs['examples'].get()[0]\n",
        "print(artifact.split_names, artifact.uri)"
      ],
      "execution_count": 15,
      "outputs": [
        {
          "output_type": "stream",
          "text": [
            "[\"train\", \"eval\"] /tmp/tfx-interactive-2020-12-07T01_48_11.028514-t7es0csu/CsvExampleGen/examples/1\n"
          ],
          "name": "stdout"
        }
      ]
    },
    {
      "cell_type": "code",
      "metadata": {
        "colab": {
          "base_uri": "https://localhost:8080/"
        },
        "id": "Ge_rk-xrWphG",
        "outputId": "646bf3a2-934b-41d0-a61a-e9d5831ed5d6"
      },
      "source": [
        "# Get the URI of the output artifact representing the training examples, which is a directory\n",
        "train_uri = os.path.join(example_gen.outputs['examples'].get()[0].uri, 'train')\n",
        "\n",
        "# Get the list of files in this directory (all compressed TFRecord files)\n",
        "tfrecord_filenames = [os.path.join(train_uri, name)\n",
        "                      for name in os.listdir(train_uri)]\n",
        "\n",
        "# Create a `TFRecordDataset` to read these files\n",
        "dataset = tf.data.TFRecordDataset(tfrecord_filenames, compression_type=\"GZIP\")\n",
        "\n",
        "# Iterate over the first 3 records and decode them.\n",
        "for tfrecord in dataset.take(3):\n",
        "  serialized_example = tfrecord.numpy()\n",
        "  example = tf.train.Example()\n",
        "  example.ParseFromString(serialized_example)\n",
        "  pp.pprint(example)"
      ],
      "execution_count": 16,
      "outputs": [
        {
          "output_type": "stream",
          "text": [
            "features {\n",
            "  feature {\n",
            "    key: \"\"\n",
            "    value {\n",
            "      int64_list {\n",
            "        value: 1661\n",
            "      }\n",
            "    }\n",
            "  }\n",
            "  feature {\n",
            "    key: \"Ask\"\n",
            "    value {\n",
            "      float_list {\n",
            "        value: 22.0\n",
            "      }\n",
            "    }\n",
            "  }\n",
            "  feature {\n",
            "    key: \"Bid\"\n",
            "    value {\n",
            "      float_list {\n",
            "        value: 20.399999618530273\n",
            "      }\n",
            "    }\n",
            "  }\n",
            "  feature {\n",
            "    key: \"Strike\"\n",
            "    value {\n",
            "      float_list {\n",
            "        value: 40.0\n",
            "      }\n",
            "    }\n",
            "  }\n",
            "  feature {\n",
            "    key: \"UnderlyingPrice\"\n",
            "    value {\n",
            "      float_list {\n",
            "        value: 61.04999923706055\n",
            "      }\n",
            "    }\n",
            "  }\n",
            "  feature {\n",
            "    key: \"date_diff\"\n",
            "    value {\n",
            "      float_list {\n",
            "        value: 16.0\n",
            "      }\n",
            "    }\n",
            "  }\n",
            "  feature {\n",
            "    key: \"sigma_21\"\n",
            "    value {\n",
            "      float_list {\n",
            "        value: 0.029875371605157852\n",
            "      }\n",
            "    }\n",
            "  }\n",
            "  feature {\n",
            "    key: \"treasury_rate\"\n",
            "    value {\n",
            "      float_list {\n",
            "        value: 1.4299999475479126\n",
            "      }\n",
            "    }\n",
            "  }\n",
            "}\n",
            "\n",
            "features {\n",
            "  feature {\n",
            "    key: \"\"\n",
            "    value {\n",
            "      int64_list {\n",
            "        value: 1665\n",
            "      }\n",
            "    }\n",
            "  }\n",
            "  feature {\n",
            "    key: \"Ask\"\n",
            "    value {\n",
            "      float_list {\n",
            "        value: 4.699999809265137\n",
            "      }\n",
            "    }\n",
            "  }\n",
            "  feature {\n",
            "    key: \"Bid\"\n",
            "    value {\n",
            "      float_list {\n",
            "        value: 4.0\n",
            "      }\n",
            "    }\n",
            "  }\n",
            "  feature {\n",
            "    key: \"Strike\"\n",
            "    value {\n",
            "      float_list {\n",
            "        value: 60.0\n",
            "      }\n",
            "    }\n",
            "  }\n",
            "  feature {\n",
            "    key: \"UnderlyingPrice\"\n",
            "    value {\n",
            "      float_list {\n",
            "        value: 61.04999923706055\n",
            "      }\n",
            "    }\n",
            "  }\n",
            "  feature {\n",
            "    key: \"date_diff\"\n",
            "    value {\n",
            "      float_list {\n",
            "        value: 16.0\n",
            "      }\n",
            "    }\n",
            "  }\n",
            "  feature {\n",
            "    key: \"sigma_21\"\n",
            "    value {\n",
            "      float_list {\n",
            "        value: 0.029875371605157852\n",
            "      }\n",
            "    }\n",
            "  }\n",
            "  feature {\n",
            "    key: \"treasury_rate\"\n",
            "    value {\n",
            "      float_list {\n",
            "        value: 1.4299999475479126\n",
            "      }\n",
            "    }\n",
            "  }\n",
            "}\n",
            "\n",
            "features {\n",
            "  feature {\n",
            "    key: \"\"\n",
            "    value {\n",
            "      int64_list {\n",
            "        value: 1666\n",
            "      }\n",
            "    }\n",
            "  }\n",
            "  feature {\n",
            "    key: \"Ask\"\n",
            "    value {\n",
            "      float_list {\n",
            "        value: 2.549999952316284\n",
            "      }\n",
            "    }\n",
            "  }\n",
            "  feature {\n",
            "    key: \"Bid\"\n",
            "    value {\n",
            "      float_list {\n",
            "        value: 2.0999999046325684\n",
            "      }\n",
            "    }\n",
            "  }\n",
            "  feature {\n",
            "    key: \"Strike\"\n",
            "    value {\n",
            "      float_list {\n",
            "        value: 65.0\n",
            "      }\n",
            "    }\n",
            "  }\n",
            "  feature {\n",
            "    key: \"UnderlyingPrice\"\n",
            "    value {\n",
            "      float_list {\n",
            "        value: 61.04999923706055\n",
            "      }\n",
            "    }\n",
            "  }\n",
            "  feature {\n",
            "    key: \"date_diff\"\n",
            "    value {\n",
            "      float_list {\n",
            "        value: 16.0\n",
            "      }\n",
            "    }\n",
            "  }\n",
            "  feature {\n",
            "    key: \"sigma_21\"\n",
            "    value {\n",
            "      float_list {\n",
            "        value: 0.029875371605157852\n",
            "      }\n",
            "    }\n",
            "  }\n",
            "  feature {\n",
            "    key: \"treasury_rate\"\n",
            "    value {\n",
            "      float_list {\n",
            "        value: 1.4299999475479126\n",
            "      }\n",
            "    }\n",
            "  }\n",
            "}\n",
            "\n"
          ],
          "name": "stdout"
        }
      ]
    },
    {
      "cell_type": "code",
      "metadata": {
        "colab": {
          "base_uri": "https://localhost:8080/",
          "height": 378
        },
        "id": "rSC2HQyXWpel",
        "outputId": "c0e41148-5c2e-409c-be13-2be8920db622"
      },
      "source": [
        "statistics_gen = StatisticsGen(\n",
        "    examples=example_gen.outputs['examples'])\n",
        "context.run(statistics_gen)"
      ],
      "execution_count": 17,
      "outputs": [
        {
          "output_type": "stream",
          "text": [
            "INFO:absl:Excluding no splits because exclude_splits is not set.\n",
            "INFO:absl:Running driver for StatisticsGen\n",
            "INFO:absl:MetadataStore with DB connection initialized\n",
            "INFO:absl:Running executor for StatisticsGen\n",
            "INFO:absl:We decided to produce LargeList and LargeBinary types.\n",
            "INFO:absl:We decided to produce LargeList and LargeBinary types.\n",
            "INFO:absl:Generating statistics for split train.\n",
            "INFO:absl:Statistics for split train written to /tmp/tfx-interactive-2020-12-07T01_48_11.028514-t7es0csu/StatisticsGen/statistics/2/train.\n",
            "INFO:absl:Generating statistics for split eval.\n",
            "INFO:absl:Statistics for split eval written to /tmp/tfx-interactive-2020-12-07T01_48_11.028514-t7es0csu/StatisticsGen/statistics/2/eval.\n",
            "INFO:absl:Running publisher for StatisticsGen\n",
            "INFO:absl:MetadataStore with DB connection initialized\n"
          ],
          "name": "stderr"
        },
        {
          "output_type": "execute_result",
          "data": {
            "text/html": [
              "<style>\n",
              ".tfx-object.expanded {\n",
              "  padding: 4px 8px 4px 8px;\n",
              "  background: white;\n",
              "  border: 1px solid #bbbbbb;\n",
              "  box-shadow: 4px 4px 2px rgba(0,0,0,0.05);\n",
              "}\n",
              ".tfx-object, .tfx-object * {\n",
              "  font-size: 11pt;\n",
              "}\n",
              ".tfx-object > .title {\n",
              "  cursor: pointer;\n",
              "}\n",
              ".tfx-object .expansion-marker {\n",
              "  color: #999999;\n",
              "}\n",
              ".tfx-object.expanded > .title > .expansion-marker:before {\n",
              "  content: '▼';\n",
              "}\n",
              ".tfx-object.collapsed > .title > .expansion-marker:before {\n",
              "  content: '▶';\n",
              "}\n",
              ".tfx-object .class-name {\n",
              "  font-weight: bold;\n",
              "}\n",
              ".tfx-object .deemphasize {\n",
              "  opacity: 0.5;\n",
              "}\n",
              ".tfx-object.collapsed > table.attr-table {\n",
              "  display: none;\n",
              "}\n",
              ".tfx-object.expanded > table.attr-table {\n",
              "  display: block;\n",
              "}\n",
              ".tfx-object table.attr-table {\n",
              "  border: 2px solid white;\n",
              "  margin-top: 5px;\n",
              "}\n",
              ".tfx-object table.attr-table td.attr-name {\n",
              "  vertical-align: top;\n",
              "  font-weight: bold;\n",
              "}\n",
              ".tfx-object table.attr-table td.attrvalue {\n",
              "  text-align: left;\n",
              "}\n",
              "</style>\n",
              "<script>\n",
              "function toggleTfxObject(element) {\n",
              "  var objElement = element.parentElement;\n",
              "  if (objElement.classList.contains('collapsed')) {\n",
              "    objElement.classList.remove('collapsed');\n",
              "    objElement.classList.add('expanded');\n",
              "  } else {\n",
              "    objElement.classList.add('collapsed');\n",
              "    objElement.classList.remove('expanded');\n",
              "  }\n",
              "}\n",
              "</script>\n",
              "<div class=\"tfx-object expanded\"><div class = \"title\" onclick=\"toggleTfxObject(this)\"><span class=\"expansion-marker\"></span><span class=\"class-name\">ExecutionResult</span><span class=\"deemphasize\"> at 0x7f4895173828</span></div><table class=\"attr-table\"><tr><td class=\"attr-name\">.execution_id</td><td class = \"attrvalue\">2</td></tr><tr><td class=\"attr-name\">.component</td><td class = \"attrvalue\"><style>\n",
              ".tfx-object.expanded {\n",
              "  padding: 4px 8px 4px 8px;\n",
              "  background: white;\n",
              "  border: 1px solid #bbbbbb;\n",
              "  box-shadow: 4px 4px 2px rgba(0,0,0,0.05);\n",
              "}\n",
              ".tfx-object, .tfx-object * {\n",
              "  font-size: 11pt;\n",
              "}\n",
              ".tfx-object > .title {\n",
              "  cursor: pointer;\n",
              "}\n",
              ".tfx-object .expansion-marker {\n",
              "  color: #999999;\n",
              "}\n",
              ".tfx-object.expanded > .title > .expansion-marker:before {\n",
              "  content: '▼';\n",
              "}\n",
              ".tfx-object.collapsed > .title > .expansion-marker:before {\n",
              "  content: '▶';\n",
              "}\n",
              ".tfx-object .class-name {\n",
              "  font-weight: bold;\n",
              "}\n",
              ".tfx-object .deemphasize {\n",
              "  opacity: 0.5;\n",
              "}\n",
              ".tfx-object.collapsed > table.attr-table {\n",
              "  display: none;\n",
              "}\n",
              ".tfx-object.expanded > table.attr-table {\n",
              "  display: block;\n",
              "}\n",
              ".tfx-object table.attr-table {\n",
              "  border: 2px solid white;\n",
              "  margin-top: 5px;\n",
              "}\n",
              ".tfx-object table.attr-table td.attr-name {\n",
              "  vertical-align: top;\n",
              "  font-weight: bold;\n",
              "}\n",
              ".tfx-object table.attr-table td.attrvalue {\n",
              "  text-align: left;\n",
              "}\n",
              "</style>\n",
              "<script>\n",
              "function toggleTfxObject(element) {\n",
              "  var objElement = element.parentElement;\n",
              "  if (objElement.classList.contains('collapsed')) {\n",
              "    objElement.classList.remove('collapsed');\n",
              "    objElement.classList.add('expanded');\n",
              "  } else {\n",
              "    objElement.classList.add('collapsed');\n",
              "    objElement.classList.remove('expanded');\n",
              "  }\n",
              "}\n",
              "</script>\n",
              "<div class=\"tfx-object collapsed\"><div class = \"title\" onclick=\"toggleTfxObject(this)\"><span class=\"expansion-marker\"></span><span class=\"class-name\">StatisticsGen</span><span class=\"deemphasize\"> at 0x7f4895167048</span></div><table class=\"attr-table\"><tr><td class=\"attr-name\">.inputs</td><td class = \"attrvalue\"><table class=\"attr-table\"><tr><td class=\"attr-name\">['examples']</td><td class = \"attrvalue\"><style>\n",
              ".tfx-object.expanded {\n",
              "  padding: 4px 8px 4px 8px;\n",
              "  background: white;\n",
              "  border: 1px solid #bbbbbb;\n",
              "  box-shadow: 4px 4px 2px rgba(0,0,0,0.05);\n",
              "}\n",
              ".tfx-object, .tfx-object * {\n",
              "  font-size: 11pt;\n",
              "}\n",
              ".tfx-object > .title {\n",
              "  cursor: pointer;\n",
              "}\n",
              ".tfx-object .expansion-marker {\n",
              "  color: #999999;\n",
              "}\n",
              ".tfx-object.expanded > .title > .expansion-marker:before {\n",
              "  content: '▼';\n",
              "}\n",
              ".tfx-object.collapsed > .title > .expansion-marker:before {\n",
              "  content: '▶';\n",
              "}\n",
              ".tfx-object .class-name {\n",
              "  font-weight: bold;\n",
              "}\n",
              ".tfx-object .deemphasize {\n",
              "  opacity: 0.5;\n",
              "}\n",
              ".tfx-object.collapsed > table.attr-table {\n",
              "  display: none;\n",
              "}\n",
              ".tfx-object.expanded > table.attr-table {\n",
              "  display: block;\n",
              "}\n",
              ".tfx-object table.attr-table {\n",
              "  border: 2px solid white;\n",
              "  margin-top: 5px;\n",
              "}\n",
              ".tfx-object table.attr-table td.attr-name {\n",
              "  vertical-align: top;\n",
              "  font-weight: bold;\n",
              "}\n",
              ".tfx-object table.attr-table td.attrvalue {\n",
              "  text-align: left;\n",
              "}\n",
              "</style>\n",
              "<script>\n",
              "function toggleTfxObject(element) {\n",
              "  var objElement = element.parentElement;\n",
              "  if (objElement.classList.contains('collapsed')) {\n",
              "    objElement.classList.remove('collapsed');\n",
              "    objElement.classList.add('expanded');\n",
              "  } else {\n",
              "    objElement.classList.add('collapsed');\n",
              "    objElement.classList.remove('expanded');\n",
              "  }\n",
              "}\n",
              "</script>\n",
              "<div class=\"tfx-object collapsed\"><div class = \"title\" onclick=\"toggleTfxObject(this)\"><span class=\"expansion-marker\"></span><span class=\"class-name\">Channel</span> of type <span class=\"class-name\">'Examples'</span> (1 artifact)<span class=\"deemphasize\"> at 0x7f48951735c0</span></div><table class=\"attr-table\"><tr><td class=\"attr-name\">.type_name</td><td class = \"attrvalue\">Examples</td></tr><tr><td class=\"attr-name\">._artifacts</td><td class = \"attrvalue\"><table class=\"attr-table\"><tr><td class=\"attr-name\">[0]</td><td class = \"attrvalue\"><style>\n",
              ".tfx-object.expanded {\n",
              "  padding: 4px 8px 4px 8px;\n",
              "  background: white;\n",
              "  border: 1px solid #bbbbbb;\n",
              "  box-shadow: 4px 4px 2px rgba(0,0,0,0.05);\n",
              "}\n",
              ".tfx-object, .tfx-object * {\n",
              "  font-size: 11pt;\n",
              "}\n",
              ".tfx-object > .title {\n",
              "  cursor: pointer;\n",
              "}\n",
              ".tfx-object .expansion-marker {\n",
              "  color: #999999;\n",
              "}\n",
              ".tfx-object.expanded > .title > .expansion-marker:before {\n",
              "  content: '▼';\n",
              "}\n",
              ".tfx-object.collapsed > .title > .expansion-marker:before {\n",
              "  content: '▶';\n",
              "}\n",
              ".tfx-object .class-name {\n",
              "  font-weight: bold;\n",
              "}\n",
              ".tfx-object .deemphasize {\n",
              "  opacity: 0.5;\n",
              "}\n",
              ".tfx-object.collapsed > table.attr-table {\n",
              "  display: none;\n",
              "}\n",
              ".tfx-object.expanded > table.attr-table {\n",
              "  display: block;\n",
              "}\n",
              ".tfx-object table.attr-table {\n",
              "  border: 2px solid white;\n",
              "  margin-top: 5px;\n",
              "}\n",
              ".tfx-object table.attr-table td.attr-name {\n",
              "  vertical-align: top;\n",
              "  font-weight: bold;\n",
              "}\n",
              ".tfx-object table.attr-table td.attrvalue {\n",
              "  text-align: left;\n",
              "}\n",
              "</style>\n",
              "<script>\n",
              "function toggleTfxObject(element) {\n",
              "  var objElement = element.parentElement;\n",
              "  if (objElement.classList.contains('collapsed')) {\n",
              "    objElement.classList.remove('collapsed');\n",
              "    objElement.classList.add('expanded');\n",
              "  } else {\n",
              "    objElement.classList.add('collapsed');\n",
              "    objElement.classList.remove('expanded');\n",
              "  }\n",
              "}\n",
              "</script>\n",
              "<div class=\"tfx-object collapsed\"><div class = \"title\" onclick=\"toggleTfxObject(this)\"><span class=\"expansion-marker\"></span><span class=\"class-name\">Artifact</span> of type <span class=\"class-name\">'Examples'</span> (uri: /tmp/tfx-interactive-2020-12-07T01_48_11.028514-t7es0csu/CsvExampleGen/examples/1)<span class=\"deemphasize\"> at 0x7f4895173438</span></div><table class=\"attr-table\"><tr><td class=\"attr-name\">.type</td><td class = \"attrvalue\">&lt;class 'tfx.types.standard_artifacts.Examples'&gt;</td></tr><tr><td class=\"attr-name\">.uri</td><td class = \"attrvalue\">/tmp/tfx-interactive-2020-12-07T01_48_11.028514-t7es0csu/CsvExampleGen/examples/1</td></tr><tr><td class=\"attr-name\">.span</td><td class = \"attrvalue\">0</td></tr><tr><td class=\"attr-name\">.split_names</td><td class = \"attrvalue\">[\"train\", \"eval\"]</td></tr><tr><td class=\"attr-name\">.version</td><td class = \"attrvalue\">0</td></tr></table></div></td></tr></table></td></tr></table></div></td></tr></table></td></tr><tr><td class=\"attr-name\">.outputs</td><td class = \"attrvalue\"><table class=\"attr-table\"><tr><td class=\"attr-name\">['statistics']</td><td class = \"attrvalue\"><style>\n",
              ".tfx-object.expanded {\n",
              "  padding: 4px 8px 4px 8px;\n",
              "  background: white;\n",
              "  border: 1px solid #bbbbbb;\n",
              "  box-shadow: 4px 4px 2px rgba(0,0,0,0.05);\n",
              "}\n",
              ".tfx-object, .tfx-object * {\n",
              "  font-size: 11pt;\n",
              "}\n",
              ".tfx-object > .title {\n",
              "  cursor: pointer;\n",
              "}\n",
              ".tfx-object .expansion-marker {\n",
              "  color: #999999;\n",
              "}\n",
              ".tfx-object.expanded > .title > .expansion-marker:before {\n",
              "  content: '▼';\n",
              "}\n",
              ".tfx-object.collapsed > .title > .expansion-marker:before {\n",
              "  content: '▶';\n",
              "}\n",
              ".tfx-object .class-name {\n",
              "  font-weight: bold;\n",
              "}\n",
              ".tfx-object .deemphasize {\n",
              "  opacity: 0.5;\n",
              "}\n",
              ".tfx-object.collapsed > table.attr-table {\n",
              "  display: none;\n",
              "}\n",
              ".tfx-object.expanded > table.attr-table {\n",
              "  display: block;\n",
              "}\n",
              ".tfx-object table.attr-table {\n",
              "  border: 2px solid white;\n",
              "  margin-top: 5px;\n",
              "}\n",
              ".tfx-object table.attr-table td.attr-name {\n",
              "  vertical-align: top;\n",
              "  font-weight: bold;\n",
              "}\n",
              ".tfx-object table.attr-table td.attrvalue {\n",
              "  text-align: left;\n",
              "}\n",
              "</style>\n",
              "<script>\n",
              "function toggleTfxObject(element) {\n",
              "  var objElement = element.parentElement;\n",
              "  if (objElement.classList.contains('collapsed')) {\n",
              "    objElement.classList.remove('collapsed');\n",
              "    objElement.classList.add('expanded');\n",
              "  } else {\n",
              "    objElement.classList.add('collapsed');\n",
              "    objElement.classList.remove('expanded');\n",
              "  }\n",
              "}\n",
              "</script>\n",
              "<div class=\"tfx-object collapsed\"><div class = \"title\" onclick=\"toggleTfxObject(this)\"><span class=\"expansion-marker\"></span><span class=\"class-name\">Channel</span> of type <span class=\"class-name\">'ExampleStatistics'</span> (1 artifact)<span class=\"deemphasize\"> at 0x7f4888809550</span></div><table class=\"attr-table\"><tr><td class=\"attr-name\">.type_name</td><td class = \"attrvalue\">ExampleStatistics</td></tr><tr><td class=\"attr-name\">._artifacts</td><td class = \"attrvalue\"><table class=\"attr-table\"><tr><td class=\"attr-name\">[0]</td><td class = \"attrvalue\"><style>\n",
              ".tfx-object.expanded {\n",
              "  padding: 4px 8px 4px 8px;\n",
              "  background: white;\n",
              "  border: 1px solid #bbbbbb;\n",
              "  box-shadow: 4px 4px 2px rgba(0,0,0,0.05);\n",
              "}\n",
              ".tfx-object, .tfx-object * {\n",
              "  font-size: 11pt;\n",
              "}\n",
              ".tfx-object > .title {\n",
              "  cursor: pointer;\n",
              "}\n",
              ".tfx-object .expansion-marker {\n",
              "  color: #999999;\n",
              "}\n",
              ".tfx-object.expanded > .title > .expansion-marker:before {\n",
              "  content: '▼';\n",
              "}\n",
              ".tfx-object.collapsed > .title > .expansion-marker:before {\n",
              "  content: '▶';\n",
              "}\n",
              ".tfx-object .class-name {\n",
              "  font-weight: bold;\n",
              "}\n",
              ".tfx-object .deemphasize {\n",
              "  opacity: 0.5;\n",
              "}\n",
              ".tfx-object.collapsed > table.attr-table {\n",
              "  display: none;\n",
              "}\n",
              ".tfx-object.expanded > table.attr-table {\n",
              "  display: block;\n",
              "}\n",
              ".tfx-object table.attr-table {\n",
              "  border: 2px solid white;\n",
              "  margin-top: 5px;\n",
              "}\n",
              ".tfx-object table.attr-table td.attr-name {\n",
              "  vertical-align: top;\n",
              "  font-weight: bold;\n",
              "}\n",
              ".tfx-object table.attr-table td.attrvalue {\n",
              "  text-align: left;\n",
              "}\n",
              "</style>\n",
              "<script>\n",
              "function toggleTfxObject(element) {\n",
              "  var objElement = element.parentElement;\n",
              "  if (objElement.classList.contains('collapsed')) {\n",
              "    objElement.classList.remove('collapsed');\n",
              "    objElement.classList.add('expanded');\n",
              "  } else {\n",
              "    objElement.classList.add('collapsed');\n",
              "    objElement.classList.remove('expanded');\n",
              "  }\n",
              "}\n",
              "</script>\n",
              "<div class=\"tfx-object collapsed\"><div class = \"title\" onclick=\"toggleTfxObject(this)\"><span class=\"expansion-marker\"></span><span class=\"class-name\">Artifact</span> of type <span class=\"class-name\">'ExampleStatistics'</span> (uri: /tmp/tfx-interactive-2020-12-07T01_48_11.028514-t7es0csu/StatisticsGen/statistics/2)<span class=\"deemphasize\"> at 0x7f4888809c88</span></div><table class=\"attr-table\"><tr><td class=\"attr-name\">.type</td><td class = \"attrvalue\">&lt;class 'tfx.types.standard_artifacts.ExampleStatistics'&gt;</td></tr><tr><td class=\"attr-name\">.uri</td><td class = \"attrvalue\">/tmp/tfx-interactive-2020-12-07T01_48_11.028514-t7es0csu/StatisticsGen/statistics/2</td></tr><tr><td class=\"attr-name\">.span</td><td class = \"attrvalue\">0</td></tr><tr><td class=\"attr-name\">.split_names</td><td class = \"attrvalue\">[\"train\", \"eval\"]</td></tr></table></div></td></tr></table></td></tr></table></div></td></tr></table></td></tr><tr><td class=\"attr-name\">.exec_properties</td><td class = \"attrvalue\"><table class=\"attr-table\"><tr><td class=\"attr-name\">['stats_options_json']</td><td class = \"attrvalue\">None</td></tr><tr><td class=\"attr-name\">['exclude_splits']</td><td class = \"attrvalue\">[]</td></tr></table></td></tr></table></div></td></tr><tr><td class=\"attr-name\">.component.inputs</td><td class = \"attrvalue\"><table class=\"attr-table\"><tr><td class=\"attr-name\">['examples']</td><td class = \"attrvalue\"><style>\n",
              ".tfx-object.expanded {\n",
              "  padding: 4px 8px 4px 8px;\n",
              "  background: white;\n",
              "  border: 1px solid #bbbbbb;\n",
              "  box-shadow: 4px 4px 2px rgba(0,0,0,0.05);\n",
              "}\n",
              ".tfx-object, .tfx-object * {\n",
              "  font-size: 11pt;\n",
              "}\n",
              ".tfx-object > .title {\n",
              "  cursor: pointer;\n",
              "}\n",
              ".tfx-object .expansion-marker {\n",
              "  color: #999999;\n",
              "}\n",
              ".tfx-object.expanded > .title > .expansion-marker:before {\n",
              "  content: '▼';\n",
              "}\n",
              ".tfx-object.collapsed > .title > .expansion-marker:before {\n",
              "  content: '▶';\n",
              "}\n",
              ".tfx-object .class-name {\n",
              "  font-weight: bold;\n",
              "}\n",
              ".tfx-object .deemphasize {\n",
              "  opacity: 0.5;\n",
              "}\n",
              ".tfx-object.collapsed > table.attr-table {\n",
              "  display: none;\n",
              "}\n",
              ".tfx-object.expanded > table.attr-table {\n",
              "  display: block;\n",
              "}\n",
              ".tfx-object table.attr-table {\n",
              "  border: 2px solid white;\n",
              "  margin-top: 5px;\n",
              "}\n",
              ".tfx-object table.attr-table td.attr-name {\n",
              "  vertical-align: top;\n",
              "  font-weight: bold;\n",
              "}\n",
              ".tfx-object table.attr-table td.attrvalue {\n",
              "  text-align: left;\n",
              "}\n",
              "</style>\n",
              "<script>\n",
              "function toggleTfxObject(element) {\n",
              "  var objElement = element.parentElement;\n",
              "  if (objElement.classList.contains('collapsed')) {\n",
              "    objElement.classList.remove('collapsed');\n",
              "    objElement.classList.add('expanded');\n",
              "  } else {\n",
              "    objElement.classList.add('collapsed');\n",
              "    objElement.classList.remove('expanded');\n",
              "  }\n",
              "}\n",
              "</script>\n",
              "<div class=\"tfx-object collapsed\"><div class = \"title\" onclick=\"toggleTfxObject(this)\"><span class=\"expansion-marker\"></span><span class=\"class-name\">Channel</span> of type <span class=\"class-name\">'Examples'</span> (1 artifact)<span class=\"deemphasize\"> at 0x7f48951735c0</span></div><table class=\"attr-table\"><tr><td class=\"attr-name\">.type_name</td><td class = \"attrvalue\">Examples</td></tr><tr><td class=\"attr-name\">._artifacts</td><td class = \"attrvalue\"><table class=\"attr-table\"><tr><td class=\"attr-name\">[0]</td><td class = \"attrvalue\"><style>\n",
              ".tfx-object.expanded {\n",
              "  padding: 4px 8px 4px 8px;\n",
              "  background: white;\n",
              "  border: 1px solid #bbbbbb;\n",
              "  box-shadow: 4px 4px 2px rgba(0,0,0,0.05);\n",
              "}\n",
              ".tfx-object, .tfx-object * {\n",
              "  font-size: 11pt;\n",
              "}\n",
              ".tfx-object > .title {\n",
              "  cursor: pointer;\n",
              "}\n",
              ".tfx-object .expansion-marker {\n",
              "  color: #999999;\n",
              "}\n",
              ".tfx-object.expanded > .title > .expansion-marker:before {\n",
              "  content: '▼';\n",
              "}\n",
              ".tfx-object.collapsed > .title > .expansion-marker:before {\n",
              "  content: '▶';\n",
              "}\n",
              ".tfx-object .class-name {\n",
              "  font-weight: bold;\n",
              "}\n",
              ".tfx-object .deemphasize {\n",
              "  opacity: 0.5;\n",
              "}\n",
              ".tfx-object.collapsed > table.attr-table {\n",
              "  display: none;\n",
              "}\n",
              ".tfx-object.expanded > table.attr-table {\n",
              "  display: block;\n",
              "}\n",
              ".tfx-object table.attr-table {\n",
              "  border: 2px solid white;\n",
              "  margin-top: 5px;\n",
              "}\n",
              ".tfx-object table.attr-table td.attr-name {\n",
              "  vertical-align: top;\n",
              "  font-weight: bold;\n",
              "}\n",
              ".tfx-object table.attr-table td.attrvalue {\n",
              "  text-align: left;\n",
              "}\n",
              "</style>\n",
              "<script>\n",
              "function toggleTfxObject(element) {\n",
              "  var objElement = element.parentElement;\n",
              "  if (objElement.classList.contains('collapsed')) {\n",
              "    objElement.classList.remove('collapsed');\n",
              "    objElement.classList.add('expanded');\n",
              "  } else {\n",
              "    objElement.classList.add('collapsed');\n",
              "    objElement.classList.remove('expanded');\n",
              "  }\n",
              "}\n",
              "</script>\n",
              "<div class=\"tfx-object collapsed\"><div class = \"title\" onclick=\"toggleTfxObject(this)\"><span class=\"expansion-marker\"></span><span class=\"class-name\">Artifact</span> of type <span class=\"class-name\">'Examples'</span> (uri: /tmp/tfx-interactive-2020-12-07T01_48_11.028514-t7es0csu/CsvExampleGen/examples/1)<span class=\"deemphasize\"> at 0x7f4895173438</span></div><table class=\"attr-table\"><tr><td class=\"attr-name\">.type</td><td class = \"attrvalue\">&lt;class 'tfx.types.standard_artifacts.Examples'&gt;</td></tr><tr><td class=\"attr-name\">.uri</td><td class = \"attrvalue\">/tmp/tfx-interactive-2020-12-07T01_48_11.028514-t7es0csu/CsvExampleGen/examples/1</td></tr><tr><td class=\"attr-name\">.span</td><td class = \"attrvalue\">0</td></tr><tr><td class=\"attr-name\">.split_names</td><td class = \"attrvalue\">[\"train\", \"eval\"]</td></tr><tr><td class=\"attr-name\">.version</td><td class = \"attrvalue\">0</td></tr></table></div></td></tr></table></td></tr></table></div></td></tr></table></td></tr><tr><td class=\"attr-name\">.component.outputs</td><td class = \"attrvalue\"><table class=\"attr-table\"><tr><td class=\"attr-name\">['statistics']</td><td class = \"attrvalue\"><style>\n",
              ".tfx-object.expanded {\n",
              "  padding: 4px 8px 4px 8px;\n",
              "  background: white;\n",
              "  border: 1px solid #bbbbbb;\n",
              "  box-shadow: 4px 4px 2px rgba(0,0,0,0.05);\n",
              "}\n",
              ".tfx-object, .tfx-object * {\n",
              "  font-size: 11pt;\n",
              "}\n",
              ".tfx-object > .title {\n",
              "  cursor: pointer;\n",
              "}\n",
              ".tfx-object .expansion-marker {\n",
              "  color: #999999;\n",
              "}\n",
              ".tfx-object.expanded > .title > .expansion-marker:before {\n",
              "  content: '▼';\n",
              "}\n",
              ".tfx-object.collapsed > .title > .expansion-marker:before {\n",
              "  content: '▶';\n",
              "}\n",
              ".tfx-object .class-name {\n",
              "  font-weight: bold;\n",
              "}\n",
              ".tfx-object .deemphasize {\n",
              "  opacity: 0.5;\n",
              "}\n",
              ".tfx-object.collapsed > table.attr-table {\n",
              "  display: none;\n",
              "}\n",
              ".tfx-object.expanded > table.attr-table {\n",
              "  display: block;\n",
              "}\n",
              ".tfx-object table.attr-table {\n",
              "  border: 2px solid white;\n",
              "  margin-top: 5px;\n",
              "}\n",
              ".tfx-object table.attr-table td.attr-name {\n",
              "  vertical-align: top;\n",
              "  font-weight: bold;\n",
              "}\n",
              ".tfx-object table.attr-table td.attrvalue {\n",
              "  text-align: left;\n",
              "}\n",
              "</style>\n",
              "<script>\n",
              "function toggleTfxObject(element) {\n",
              "  var objElement = element.parentElement;\n",
              "  if (objElement.classList.contains('collapsed')) {\n",
              "    objElement.classList.remove('collapsed');\n",
              "    objElement.classList.add('expanded');\n",
              "  } else {\n",
              "    objElement.classList.add('collapsed');\n",
              "    objElement.classList.remove('expanded');\n",
              "  }\n",
              "}\n",
              "</script>\n",
              "<div class=\"tfx-object collapsed\"><div class = \"title\" onclick=\"toggleTfxObject(this)\"><span class=\"expansion-marker\"></span><span class=\"class-name\">Channel</span> of type <span class=\"class-name\">'ExampleStatistics'</span> (1 artifact)<span class=\"deemphasize\"> at 0x7f4888809550</span></div><table class=\"attr-table\"><tr><td class=\"attr-name\">.type_name</td><td class = \"attrvalue\">ExampleStatistics</td></tr><tr><td class=\"attr-name\">._artifacts</td><td class = \"attrvalue\"><table class=\"attr-table\"><tr><td class=\"attr-name\">[0]</td><td class = \"attrvalue\"><style>\n",
              ".tfx-object.expanded {\n",
              "  padding: 4px 8px 4px 8px;\n",
              "  background: white;\n",
              "  border: 1px solid #bbbbbb;\n",
              "  box-shadow: 4px 4px 2px rgba(0,0,0,0.05);\n",
              "}\n",
              ".tfx-object, .tfx-object * {\n",
              "  font-size: 11pt;\n",
              "}\n",
              ".tfx-object > .title {\n",
              "  cursor: pointer;\n",
              "}\n",
              ".tfx-object .expansion-marker {\n",
              "  color: #999999;\n",
              "}\n",
              ".tfx-object.expanded > .title > .expansion-marker:before {\n",
              "  content: '▼';\n",
              "}\n",
              ".tfx-object.collapsed > .title > .expansion-marker:before {\n",
              "  content: '▶';\n",
              "}\n",
              ".tfx-object .class-name {\n",
              "  font-weight: bold;\n",
              "}\n",
              ".tfx-object .deemphasize {\n",
              "  opacity: 0.5;\n",
              "}\n",
              ".tfx-object.collapsed > table.attr-table {\n",
              "  display: none;\n",
              "}\n",
              ".tfx-object.expanded > table.attr-table {\n",
              "  display: block;\n",
              "}\n",
              ".tfx-object table.attr-table {\n",
              "  border: 2px solid white;\n",
              "  margin-top: 5px;\n",
              "}\n",
              ".tfx-object table.attr-table td.attr-name {\n",
              "  vertical-align: top;\n",
              "  font-weight: bold;\n",
              "}\n",
              ".tfx-object table.attr-table td.attrvalue {\n",
              "  text-align: left;\n",
              "}\n",
              "</style>\n",
              "<script>\n",
              "function toggleTfxObject(element) {\n",
              "  var objElement = element.parentElement;\n",
              "  if (objElement.classList.contains('collapsed')) {\n",
              "    objElement.classList.remove('collapsed');\n",
              "    objElement.classList.add('expanded');\n",
              "  } else {\n",
              "    objElement.classList.add('collapsed');\n",
              "    objElement.classList.remove('expanded');\n",
              "  }\n",
              "}\n",
              "</script>\n",
              "<div class=\"tfx-object collapsed\"><div class = \"title\" onclick=\"toggleTfxObject(this)\"><span class=\"expansion-marker\"></span><span class=\"class-name\">Artifact</span> of type <span class=\"class-name\">'ExampleStatistics'</span> (uri: /tmp/tfx-interactive-2020-12-07T01_48_11.028514-t7es0csu/StatisticsGen/statistics/2)<span class=\"deemphasize\"> at 0x7f4888809c88</span></div><table class=\"attr-table\"><tr><td class=\"attr-name\">.type</td><td class = \"attrvalue\">&lt;class 'tfx.types.standard_artifacts.ExampleStatistics'&gt;</td></tr><tr><td class=\"attr-name\">.uri</td><td class = \"attrvalue\">/tmp/tfx-interactive-2020-12-07T01_48_11.028514-t7es0csu/StatisticsGen/statistics/2</td></tr><tr><td class=\"attr-name\">.span</td><td class = \"attrvalue\">0</td></tr><tr><td class=\"attr-name\">.split_names</td><td class = \"attrvalue\">[\"train\", \"eval\"]</td></tr></table></div></td></tr></table></td></tr></table></div></td></tr></table></td></tr></table></div>"
            ],
            "text/plain": [
              "ExecutionResult(\n",
              "    component_id: StatisticsGen\n",
              "    execution_id: 2\n",
              "    outputs:\n",
              "        statistics: Channel(\n",
              "            type_name: ExampleStatistics\n",
              "            artifacts: [Artifact(artifact: id: 2\n",
              "        type_id: 7\n",
              "        uri: \"/tmp/tfx-interactive-2020-12-07T01_48_11.028514-t7es0csu/StatisticsGen/statistics/2\"\n",
              "        properties {\n",
              "          key: \"split_names\"\n",
              "          value {\n",
              "            string_value: \"[\\\"train\\\", \\\"eval\\\"]\"\n",
              "          }\n",
              "        }\n",
              "        custom_properties {\n",
              "          key: \"name\"\n",
              "          value {\n",
              "            string_value: \"statistics\"\n",
              "          }\n",
              "        }\n",
              "        custom_properties {\n",
              "          key: \"pipeline_name\"\n",
              "          value {\n",
              "            string_value: \"interactive-2020-12-07T01_48_11.028514\"\n",
              "          }\n",
              "        }\n",
              "        custom_properties {\n",
              "          key: \"producer_component\"\n",
              "          value {\n",
              "            string_value: \"StatisticsGen\"\n",
              "          }\n",
              "        }\n",
              "        custom_properties {\n",
              "          key: \"state\"\n",
              "          value {\n",
              "            string_value: \"published\"\n",
              "          }\n",
              "        }\n",
              "        , artifact_type: id: 7\n",
              "        name: \"ExampleStatistics\"\n",
              "        properties {\n",
              "          key: \"span\"\n",
              "          value: INT\n",
              "        }\n",
              "        properties {\n",
              "          key: \"split_names\"\n",
              "          value: STRING\n",
              "        }\n",
              "        )]\n",
              "        ))"
            ]
          },
          "metadata": {
            "tags": []
          },
          "execution_count": 17
        }
      ]
    },
    {
      "cell_type": "markdown",
      "metadata": {
        "id": "PJdbdu_XZ_cC"
      },
      "source": [
        "#**converting call_df to tf.records**"
      ]
    },
    {
      "cell_type": "code",
      "metadata": {
        "colab": {
          "base_uri": "https://localhost:8080/"
        },
        "id": "itfAIG96aEWA",
        "outputId": "9b15ceca-0d27-45fe-c1b2-582036c3314b"
      },
      "source": [
        "call_df_21.dtypes"
      ],
      "execution_count": 16,
      "outputs": [
        {
          "output_type": "execute_result",
          "data": {
            "text/plain": [
              "UnderlyingPrice    float64\n",
              "Strike             float64\n",
              "Bid                float64\n",
              "Ask                float64\n",
              "sigma_21           float64\n",
              "date_diff          float64\n",
              "treasury_rate      float64\n",
              "dtype: object"
            ]
          },
          "metadata": {
            "tags": []
          },
          "execution_count": 16
        }
      ]
    },
    {
      "cell_type": "code",
      "metadata": {
        "colab": {
          "base_uri": "https://localhost:8080/"
        },
        "id": "BoOI8HAs8JFa",
        "outputId": "cdb41809-6ffc-41ee-dd1b-038d686ce6da"
      },
      "source": [
        "call_df_21.shape"
      ],
      "execution_count": 17,
      "outputs": [
        {
          "output_type": "execute_result",
          "data": {
            "text/plain": [
              "(49833, 7)"
            ]
          },
          "metadata": {
            "tags": []
          },
          "execution_count": 17
        }
      ]
    },
    {
      "cell_type": "code",
      "metadata": {
        "id": "VtjJp_nq8Kgb"
      },
      "source": [
        ""
      ],
      "execution_count": null,
      "outputs": []
    },
    {
      "cell_type": "code",
      "metadata": {
        "colab": {
          "base_uri": "https://localhost:8080/"
        },
        "id": "MFN8XcCbWpbZ",
        "outputId": "e8d1967e-5936-4ba4-93ec-0206927afbf3"
      },
      "source": [
        "pip install tqdm"
      ],
      "execution_count": 18,
      "outputs": [
        {
          "output_type": "stream",
          "text": [
            "Requirement already satisfied: tqdm in /usr/local/lib/python3.6/dist-packages (4.41.1)\n"
          ],
          "name": "stdout"
        }
      ]
    },
    {
      "cell_type": "code",
      "metadata": {
        "id": "fpVpP8HzWpYY"
      },
      "source": [
        ""
      ],
      "execution_count": null,
      "outputs": []
    },
    {
      "cell_type": "code",
      "metadata": {
        "colab": {
          "base_uri": "https://localhost:8080/"
        },
        "id": "P4vQVNTT7lAS",
        "outputId": "1c7ed25c-6f5c-4afe-a841-f6872a4f5a77"
      },
      "source": [
        "\"\"\" Example module to convert csv data to TFRecords\n",
        "\"\"\"\n",
        "import csv\n",
        "import tensorflow as tf\n",
        "from tqdm import tqdm\n",
        "\n",
        "def _bytes_feature(value):\n",
        "    return tf.train.Feature(\n",
        "        bytes_list=tf.train.BytesList(value=[value.encode()])\n",
        "    )\n",
        "\n",
        "def _float_feature(value):\n",
        "  \"\"\"Returns a float_list from a float / double.\"\"\"\n",
        "  return tf.train.Feature(float_list=tf.train.FloatList(value=[value]))\n",
        "\n",
        "def _int64_feature(value):\n",
        "  \"\"\"Returns an int64_list from a bool / enum / int / uint.\"\"\"\n",
        "  return tf.train.Feature(int64_list=tf.train.Int64List(value=[value]))\n",
        "        \n",
        "\n",
        "original_data_file = \"/content/gdrive/MyDrive/DL_project/dataset/call_df_21.csv\"\n",
        "tfrecords_filename = \"/content/gdrive/MyDrive/DL_project/dataset/call_df_21.tfrecords\"\n",
        "tf_record_writer = tf.io.TFRecordWriter(tfrecords_filename)\n",
        "\n",
        "with open(original_data_file) as csv_file:\n",
        "    reader = csv.DictReader(csv_file, delimiter=\",\", quotechar='\"')\n",
        "    for row in tqdm(reader):\n",
        "        example = tf.train.Example(\n",
        "            features=tf.train.Features(\n",
        "                feature={\n",
        "                    \"UnderlyingPrice\": _bytes_feature(row[\"UnderlyingPrice\"]),\n",
        "                    \"Strike\": _bytes_feature(row[\"Strike\"]),\n",
        "                    \"Bid\": _bytes_feature(row[\"Bid\"]),\n",
        "                    \"Ask\": _bytes_feature(row[\"Ask\"]),\n",
        "                    \"sigma_21\": _bytes_feature(row[\"sigma_21\"]),\n",
        "                    \"date_diff\": _bytes_feature(row[\"date_diff\"]),\n",
        "                    \"treasury_rate\": _bytes_feature(row[\"treasury_rate\"]),                    \n",
        "                }\n",
        "            )\n",
        "        )\n",
        "        tf_record_writer.write(example.SerializeToString())\n",
        "    tf_record_writer.close()"
      ],
      "execution_count": 13,
      "outputs": [
        {
          "output_type": "stream",
          "text": [
            "49833it [00:03, 12809.94it/s]\n"
          ],
          "name": "stderr"
        }
      ]
    },
    {
      "cell_type": "markdown",
      "metadata": {
        "id": "apypPIj3Khro"
      },
      "source": [
        "#Data Ingestion and Visualization"
      ]
    },
    {
      "cell_type": "code",
      "metadata": {
        "colab": {
          "base_uri": "https://localhost:8080/",
          "height": 1000
        },
        "id": "V1BHT4kraRWZ",
        "outputId": "10714ea8-2693-4269-bf07-9d12793696e0"
      },
      "source": [
        "import tensorflow_data_validation as tfdv\n",
        "stats = tfdv.generate_statistics_from_tfrecord(data_location='/content/gdrive/MyDrive/DL_project/dataset/call_df_21.tfrecords')\n",
        "tfdv.visualize_statistics(stats)\n"
      ],
      "execution_count": 20,
      "outputs": [
        {
          "output_type": "stream",
          "text": [
            "WARNING:tensorflow:From /usr/local/lib/python3.6/dist-packages/tensorflow_data_validation/utils/stats_util.py:229: tf_record_iterator (from tensorflow.python.lib.io.tf_record) is deprecated and will be removed in a future version.\n",
            "Instructions for updating:\n",
            "Use eager execution and: \n",
            "`tf.data.TFRecordDataset(path)`\n"
          ],
          "name": "stdout"
        },
        {
          "output_type": "display_data",
          "data": {
            "text/html": [
              "<iframe id='facets-iframe' width=\"100%\" height=\"500px\"></iframe>\n",
              "        <script>\n",
              "        facets_iframe = document.getElementById('facets-iframe');\n",
              "        facets_html = '<script src=\"https://cdnjs.cloudflare.com/ajax/libs/webcomponentsjs/1.3.3/webcomponents-lite.js\"><\\/script><link rel=\"import\" href=\"https://raw.githubusercontent.com/PAIR-code/facets/master/facets-dist/facets-jupyter.html\"><facets-overview proto-input=\"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\"></facets-overview>';\n",
              "        facets_iframe.srcdoc = facets_html;\n",
              "         facets_iframe.id = \"\";\n",
              "         setTimeout(() => {\n",
              "           facets_iframe.setAttribute('height', facets_iframe.contentWindow.document.body.offsetHeight + 'px')\n",
              "         }, 1500)\n",
              "         </script>"
            ],
            "text/plain": [
              "<IPython.core.display.HTML object>"
            ]
          },
          "metadata": {
            "tags": []
          }
        }
      ]
    },
    {
      "cell_type": "code",
      "metadata": {
        "colab": {
          "base_uri": "https://localhost:8080/",
          "height": 462
        },
        "id": "2igISRFd0nsX",
        "outputId": "837e2f10-0373-4c60-bc01-e84172d784d5"
      },
      "source": [
        "schema = tfdv.infer_schema(stats)\n",
        "tfdv.display_schema(schema)\n"
      ],
      "execution_count": 21,
      "outputs": [
        {
          "output_type": "display_data",
          "data": {
            "text/html": [
              "<div>\n",
              "<style scoped>\n",
              "    .dataframe tbody tr th:only-of-type {\n",
              "        vertical-align: middle;\n",
              "    }\n",
              "\n",
              "    .dataframe tbody tr th {\n",
              "        vertical-align: top;\n",
              "    }\n",
              "\n",
              "    .dataframe thead th {\n",
              "        text-align: right;\n",
              "    }\n",
              "</style>\n",
              "<table border=\"1\" class=\"dataframe\">\n",
              "  <thead>\n",
              "    <tr style=\"text-align: right;\">\n",
              "      <th></th>\n",
              "      <th>Type</th>\n",
              "      <th>Presence</th>\n",
              "      <th>Valency</th>\n",
              "      <th>Domain</th>\n",
              "    </tr>\n",
              "    <tr>\n",
              "      <th>Feature name</th>\n",
              "      <th></th>\n",
              "      <th></th>\n",
              "      <th></th>\n",
              "      <th></th>\n",
              "    </tr>\n",
              "  </thead>\n",
              "  <tbody>\n",
              "    <tr>\n",
              "      <th>'Ask'</th>\n",
              "      <td>BYTES</td>\n",
              "      <td>required</td>\n",
              "      <td></td>\n",
              "      <td>-</td>\n",
              "    </tr>\n",
              "    <tr>\n",
              "      <th>'Bid'</th>\n",
              "      <td>BYTES</td>\n",
              "      <td>required</td>\n",
              "      <td></td>\n",
              "      <td>-</td>\n",
              "    </tr>\n",
              "    <tr>\n",
              "      <th>'Strike'</th>\n",
              "      <td>STRING</td>\n",
              "      <td>required</td>\n",
              "      <td></td>\n",
              "      <td>'Strike'</td>\n",
              "    </tr>\n",
              "    <tr>\n",
              "      <th>'UnderlyingPrice'</th>\n",
              "      <td>BYTES</td>\n",
              "      <td>required</td>\n",
              "      <td></td>\n",
              "      <td>-</td>\n",
              "    </tr>\n",
              "    <tr>\n",
              "      <th>'date_diff'</th>\n",
              "      <td>BYTES</td>\n",
              "      <td>required</td>\n",
              "      <td></td>\n",
              "      <td>-</td>\n",
              "    </tr>\n",
              "    <tr>\n",
              "      <th>'sigma_21'</th>\n",
              "      <td>BYTES</td>\n",
              "      <td>required</td>\n",
              "      <td></td>\n",
              "      <td>-</td>\n",
              "    </tr>\n",
              "    <tr>\n",
              "      <th>'treasury_rate'</th>\n",
              "      <td>BYTES</td>\n",
              "      <td>required</td>\n",
              "      <td></td>\n",
              "      <td>-</td>\n",
              "    </tr>\n",
              "  </tbody>\n",
              "</table>\n",
              "</div>"
            ],
            "text/plain": [
              "                     Type  Presence Valency    Domain\n",
              "Feature name                                         \n",
              "'Ask'               BYTES  required                 -\n",
              "'Bid'               BYTES  required                 -\n",
              "'Strike'           STRING  required          'Strike'\n",
              "'UnderlyingPrice'   BYTES  required                 -\n",
              "'date_diff'         BYTES  required                 -\n",
              "'sigma_21'          BYTES  required                 -\n",
              "'treasury_rate'     BYTES  required                 -"
            ]
          },
          "metadata": {
            "tags": []
          }
        },
        {
          "output_type": "stream",
          "text": [
            "/usr/local/lib/python3.6/dist-packages/tensorflow_data_validation/utils/display_util.py:138: FutureWarning: Passing a negative integer is deprecated in version 1.0 and will not be supported in future version. Instead, use None to not limit the column width.\n",
            "  pd.set_option('max_colwidth', -1)\n"
          ],
          "name": "stderr"
        },
        {
          "output_type": "display_data",
          "data": {
            "text/html": [
              "<div>\n",
              "<style scoped>\n",
              "    .dataframe tbody tr th:only-of-type {\n",
              "        vertical-align: middle;\n",
              "    }\n",
              "\n",
              "    .dataframe tbody tr th {\n",
              "        vertical-align: top;\n",
              "    }\n",
              "\n",
              "    .dataframe thead th {\n",
              "        text-align: right;\n",
              "    }\n",
              "</style>\n",
              "<table border=\"1\" class=\"dataframe\">\n",
              "  <thead>\n",
              "    <tr style=\"text-align: right;\">\n",
              "      <th></th>\n",
              "      <th>Values</th>\n",
              "    </tr>\n",
              "    <tr>\n",
              "      <th>Domain</th>\n",
              "      <th></th>\n",
              "    </tr>\n",
              "  </thead>\n",
              "  <tbody>\n",
              "    <tr>\n",
              "      <th>'Strike'</th>\n",
              "      <td>'100.0', '105.0', '110.0', '115.0', '120.0', '125.0', '130.0', '135.0', '140.0', '145.0', '150.0', '155.0', '160.0', '165.0', '170.0', '175.0', '180.0', '185.0', '190.0', '195.0', '200.0', '210.0', '30.0', '35.0', '40.0', '45.0', '50.0', '55.0', '60.0', '65.0', '70.0', '75.0', '80.0', '85.0', '90.0', '95.0'</td>\n",
              "    </tr>\n",
              "  </tbody>\n",
              "</table>\n",
              "</div>"
            ],
            "text/plain": [
              "                                                                                                                                                                                                                                                                                                                        Values\n",
              "Domain                                                                                                                                                                                                                                                                                                                        \n",
              "'Strike'  '100.0', '105.0', '110.0', '115.0', '120.0', '125.0', '130.0', '135.0', '140.0', '145.0', '150.0', '155.0', '160.0', '165.0', '170.0', '175.0', '180.0', '185.0', '190.0', '195.0', '200.0', '210.0', '30.0', '35.0', '40.0', '45.0', '50.0', '55.0', '60.0', '65.0', '70.0', '75.0', '80.0', '85.0', '90.0', '95.0'"
            ]
          },
          "metadata": {
            "tags": []
          }
        }
      ]
    },
    {
      "cell_type": "code",
      "metadata": {
        "id": "e8YfXsAN7V1E"
      },
      "source": [
        "# generate two files from the existing data file for demo proposes\n",
        "!sed -e '1,30000d;' /content/gdrive/MyDrive/DL_project/dataset/call_df_21.csv > /content/gdrive/MyDrive/DL_project/dataset/dataset_1.csv\n",
        "!sed -e '1h;30000,49833d;' /content/gdrive/MyDrive/DL_project/dataset/call_df_21.csv> /content/gdrive/MyDrive/DL_project/dataset/dataset_2.csv"
      ],
      "execution_count": 22,
      "outputs": []
    },
    {
      "cell_type": "code",
      "metadata": {
        "colab": {
          "base_uri": "https://localhost:8080/",
          "height": 1000
        },
        "id": "qEcofJO001U-",
        "outputId": "8e22805c-a2f3-4e76-817b-c42000a1808b"
      },
      "source": [
        "train_stats = tfdv.generate_statistics_from_csv(\n",
        "    data_location='/content/gdrive/MyDrive/DL_project/dataset/dataset_1.csv',\n",
        "    delimiter=',')\n",
        "val_stats = tfdv.generate_statistics_from_csv(\n",
        "    data_location='/content/gdrive/MyDrive/DL_project/dataset/dataset_1.csv',\n",
        "    delimiter=',')\n",
        "\n",
        "tfdv.visualize_statistics(lhs_statistics=val_stats, rhs_statistics=train_stats,\n",
        "                          lhs_name='VAL_DATASET', rhs_name='TRAIN_DATASET')"
      ],
      "execution_count": 23,
      "outputs": [
        {
          "output_type": "display_data",
          "data": {
            "text/html": [
              "<iframe id='facets-iframe' width=\"100%\" height=\"500px\"></iframe>\n",
              "        <script>\n",
              "        facets_iframe = document.getElementById('facets-iframe');\n",
              "        facets_html = '<script src=\"https://cdnjs.cloudflare.com/ajax/libs/webcomponentsjs/1.3.3/webcomponents-lite.js\"><\\/script><link rel=\"import\" href=\"https://raw.githubusercontent.com/PAIR-code/facets/master/facets-dist/facets-jupyter.html\"><facets-overview proto-input=\"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\"></facets-overview>';\n",
              "        facets_iframe.srcdoc = facets_html;\n",
              "         facets_iframe.id = \"\";\n",
              "         setTimeout(() => {\n",
              "           facets_iframe.setAttribute('height', facets_iframe.contentWindow.document.body.offsetHeight + 'px')\n",
              "         }, 1500)\n",
              "         </script>"
            ],
            "text/plain": [
              "<IPython.core.display.HTML object>"
            ]
          },
          "metadata": {
            "tags": []
          }
        }
      ]
    },
    {
      "cell_type": "code",
      "metadata": {
        "colab": {
          "base_uri": "https://localhost:8080/",
          "height": 599
        },
        "id": "pvQQIzdC9g0K",
        "outputId": "49bb9f68-5f95-4325-cadc-edc9d96353ca"
      },
      "source": [
        "anomalies = tfdv.validate_statistics(statistics=val_stats, schema=schema)\n",
        "tfdv.display_anomalies(anomalies)\n"
      ],
      "execution_count": 24,
      "outputs": [
        {
          "output_type": "stream",
          "text": [
            "/usr/local/lib/python3.6/dist-packages/tensorflow_data_validation/utils/display_util.py:173: FutureWarning: Passing a negative integer is deprecated in version 1.0 and will not be supported in future version. Instead, use None to not limit the column width.\n",
            "  pd.set_option('max_colwidth', -1)\n"
          ],
          "name": "stderr"
        },
        {
          "output_type": "display_data",
          "data": {
            "text/html": [
              "<div>\n",
              "<style scoped>\n",
              "    .dataframe tbody tr th:only-of-type {\n",
              "        vertical-align: middle;\n",
              "    }\n",
              "\n",
              "    .dataframe tbody tr th {\n",
              "        vertical-align: top;\n",
              "    }\n",
              "\n",
              "    .dataframe thead th {\n",
              "        text-align: right;\n",
              "    }\n",
              "</style>\n",
              "<table border=\"1\" class=\"dataframe\">\n",
              "  <thead>\n",
              "    <tr style=\"text-align: right;\">\n",
              "      <th></th>\n",
              "      <th>Anomaly short description</th>\n",
              "      <th>Anomaly long description</th>\n",
              "    </tr>\n",
              "    <tr>\n",
              "      <th>Feature name</th>\n",
              "      <th></th>\n",
              "      <th></th>\n",
              "    </tr>\n",
              "  </thead>\n",
              "  <tbody>\n",
              "    <tr>\n",
              "      <th>'\\'106.52\\''</th>\n",
              "      <td>New column</td>\n",
              "      <td>New column (column in data but not in schema)</td>\n",
              "    </tr>\n",
              "    <tr>\n",
              "      <th>'Ask'</th>\n",
              "      <td>Column dropped</td>\n",
              "      <td>Column is completely missing</td>\n",
              "    </tr>\n",
              "    <tr>\n",
              "      <th>'\\'0.0466434048839187\\''</th>\n",
              "      <td>New column</td>\n",
              "      <td>New column (column in data but not in schema)</td>\n",
              "    </tr>\n",
              "    <tr>\n",
              "      <th>'Bid'</th>\n",
              "      <td>Column dropped</td>\n",
              "      <td>Column is completely missing</td>\n",
              "    </tr>\n",
              "    <tr>\n",
              "      <th>'UnderlyingPrice'</th>\n",
              "      <td>Column dropped</td>\n",
              "      <td>Column is completely missing</td>\n",
              "    </tr>\n",
              "    <tr>\n",
              "      <th>'sigma_21'</th>\n",
              "      <td>Column dropped</td>\n",
              "      <td>Column is completely missing</td>\n",
              "    </tr>\n",
              "    <tr>\n",
              "      <th>'\\'21.0\\''</th>\n",
              "      <td>New column</td>\n",
              "      <td>New column (column in data but not in schema)</td>\n",
              "    </tr>\n",
              "    <tr>\n",
              "      <th>'Strike'</th>\n",
              "      <td>Column dropped</td>\n",
              "      <td>Column is completely missing</td>\n",
              "    </tr>\n",
              "    <tr>\n",
              "      <th>'\\'2.36\\''</th>\n",
              "      <td>New column</td>\n",
              "      <td>New column (column in data but not in schema)</td>\n",
              "    </tr>\n",
              "    <tr>\n",
              "      <th>'treasury_rate'</th>\n",
              "      <td>Column dropped</td>\n",
              "      <td>Column is completely missing</td>\n",
              "    </tr>\n",
              "    <tr>\n",
              "      <th>'\\'29.0\\''</th>\n",
              "      <td>New column</td>\n",
              "      <td>New column (column in data but not in schema)</td>\n",
              "    </tr>\n",
              "    <tr>\n",
              "      <th>'\\'80.0\\''</th>\n",
              "      <td>New column</td>\n",
              "      <td>New column (column in data but not in schema)</td>\n",
              "    </tr>\n",
              "    <tr>\n",
              "      <th>'\\'24.4\\''</th>\n",
              "      <td>New column</td>\n",
              "      <td>New column (column in data but not in schema)</td>\n",
              "    </tr>\n",
              "    <tr>\n",
              "      <th>'date_diff'</th>\n",
              "      <td>Column dropped</td>\n",
              "      <td>Column is completely missing</td>\n",
              "    </tr>\n",
              "    <tr>\n",
              "      <th>'31658'</th>\n",
              "      <td>New column</td>\n",
              "      <td>New column (column in data but not in schema)</td>\n",
              "    </tr>\n",
              "  </tbody>\n",
              "</table>\n",
              "</div>"
            ],
            "text/plain": [
              "                         Anomaly short description                       Anomaly long description\n",
              "Feature name                                                                                     \n",
              "'\\'106.52\\''              New column                New column (column in data but not in schema)\n",
              "'Ask'                     Column dropped            Column is completely missing                 \n",
              "'\\'0.0466434048839187\\''  New column                New column (column in data but not in schema)\n",
              "'Bid'                     Column dropped            Column is completely missing                 \n",
              "'UnderlyingPrice'         Column dropped            Column is completely missing                 \n",
              "'sigma_21'                Column dropped            Column is completely missing                 \n",
              "'\\'21.0\\''                New column                New column (column in data but not in schema)\n",
              "'Strike'                  Column dropped            Column is completely missing                 \n",
              "'\\'2.36\\''                New column                New column (column in data but not in schema)\n",
              "'treasury_rate'           Column dropped            Column is completely missing                 \n",
              "'\\'29.0\\''                New column                New column (column in data but not in schema)\n",
              "'\\'80.0\\''                New column                New column (column in data but not in schema)\n",
              "'\\'24.4\\''                New column                New column (column in data but not in schema)\n",
              "'date_diff'               Column dropped            Column is completely missing                 \n",
              "'31658'                   New column                New column (column in data but not in schema)"
            ]
          },
          "metadata": {
            "tags": []
          }
        }
      ]
    },
    {
      "cell_type": "code",
      "metadata": {
        "colab": {
          "base_uri": "https://localhost:8080/",
          "height": 1000
        },
        "id": "COlayqg93S7g",
        "outputId": "7b0580f1-aaf3-4e48-bb8a-81fe8b655fbe"
      },
      "source": [
        "context.show(statistics_gen.outputs['statistics'])\n"
      ],
      "execution_count": 25,
      "outputs": [
        {
          "output_type": "display_data",
          "data": {
            "text/html": [
              "<b>Artifact at /tmp/tfx-interactive-2020-12-06T21_40_57.631863-i8chsz9d/StatisticsGen/statistics/2</b><br/><br/>"
            ],
            "text/plain": [
              "<IPython.core.display.HTML object>"
            ]
          },
          "metadata": {
            "tags": []
          }
        },
        {
          "output_type": "display_data",
          "data": {
            "text/html": [
              "<div><b>'train' split:</b></div><br/><br/>"
            ],
            "text/plain": [
              "<IPython.core.display.HTML object>"
            ]
          },
          "metadata": {
            "tags": []
          }
        },
        {
          "output_type": "display_data",
          "data": {
            "text/html": [
              "<iframe id='facets-iframe' width=\"100%\" height=\"500px\"></iframe>\n",
              "        <script>\n",
              "        facets_iframe = document.getElementById('facets-iframe');\n",
              "        facets_html = '<script src=\"https://cdnjs.cloudflare.com/ajax/libs/webcomponentsjs/1.3.3/webcomponents-lite.js\"><\\/script><link rel=\"import\" href=\"https://raw.githubusercontent.com/PAIR-code/facets/master/facets-dist/facets-jupyter.html\"><facets-overview proto-input=\"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\"></facets-overview>';\n",
              "        facets_iframe.srcdoc = facets_html;\n",
              "         facets_iframe.id = \"\";\n",
              "         setTimeout(() => {\n",
              "           facets_iframe.setAttribute('height', facets_iframe.contentWindow.document.body.offsetHeight + 'px')\n",
              "         }, 1500)\n",
              "         </script>"
            ],
            "text/plain": [
              "<IPython.core.display.HTML object>"
            ]
          },
          "metadata": {
            "tags": []
          }
        },
        {
          "output_type": "display_data",
          "data": {
            "text/html": [
              "<div><b>'eval' split:</b></div><br/><br/>"
            ],
            "text/plain": [
              "<IPython.core.display.HTML object>"
            ]
          },
          "metadata": {
            "tags": []
          }
        },
        {
          "output_type": "display_data",
          "data": {
            "text/html": [
              "<iframe id='facets-iframe' width=\"100%\" height=\"500px\"></iframe>\n",
              "        <script>\n",
              "        facets_iframe = document.getElementById('facets-iframe');\n",
              "        facets_html = '<script src=\"https://cdnjs.cloudflare.com/ajax/libs/webcomponentsjs/1.3.3/webcomponents-lite.js\"><\\/script><link rel=\"import\" href=\"https://raw.githubusercontent.com/PAIR-code/facets/master/facets-dist/facets-jupyter.html\"><facets-overview proto-input=\"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\"></facets-overview>';\n",
              "        facets_iframe.srcdoc = facets_html;\n",
              "         facets_iframe.id = \"\";\n",
              "         setTimeout(() => {\n",
              "           facets_iframe.setAttribute('height', facets_iframe.contentWindow.document.body.offsetHeight + 'px')\n",
              "         }, 1500)\n",
              "         </script>"
            ],
            "text/plain": [
              "<IPython.core.display.HTML object>"
            ]
          },
          "metadata": {
            "tags": []
          }
        }
      ]
    },
    {
      "cell_type": "code",
      "metadata": {
        "id": "tBvNPrxNm3Wn"
      },
      "source": [
        ""
      ],
      "execution_count": null,
      "outputs": []
    },
    {
      "cell_type": "code",
      "metadata": {
        "id": "3k4tf77yBQNU"
      },
      "source": [
        ""
      ],
      "execution_count": null,
      "outputs": []
    },
    {
      "cell_type": "markdown",
      "metadata": {
        "id": "RQAXN59YmzjI"
      },
      "source": [
        "#**TFX serving**"
      ]
    },
    {
      "cell_type": "code",
      "metadata": {
        "colab": {
          "base_uri": "https://localhost:8080/"
        },
        "id": "UzWXcxgSBQLB",
        "outputId": "f8db7c2e-acf5-4480-b453-0699d9b43842"
      },
      "source": [
        "!echo \"deb http://storage.googleapis.com/tensorflow-serving-apt stable tensorflow-model-server tensorflow-model-server-universal\" | tee /etc/apt/sources.list.d/tensorflow-serving.list && \\\n",
        "curl https://storage.googleapis.com/tensorflow-serving-apt/tensorflow-serving.release.pub.gpg | apt-key add -\n",
        "!apt update\n"
      ],
      "execution_count": 18,
      "outputs": [
        {
          "output_type": "stream",
          "text": [
            "deb http://storage.googleapis.com/tensorflow-serving-apt stable tensorflow-model-server tensorflow-model-server-universal\n",
            "  % Total    % Received % Xferd  Average Speed   Time    Time     Time  Current\n",
            "                                 Dload  Upload   Total   Spent    Left  Speed\n",
            "\r  0     0    0     0    0     0      0      0 --:--:-- --:--:-- --:--:--     0\r100  2943  100  2943    0     0   130k      0 --:--:-- --:--:-- --:--:--  130k\n",
            "OK\n",
            "Hit:1 http://storage.googleapis.com/tensorflow-serving-apt stable InRelease\n",
            "Ign:2 https://developer.download.nvidia.com/compute/cuda/repos/ubuntu1804/x86_64  InRelease\n",
            "Hit:3 https://cloud.r-project.org/bin/linux/ubuntu bionic-cran40/ InRelease\n",
            "Ign:4 https://developer.download.nvidia.com/compute/machine-learning/repos/ubuntu1804/x86_64  InRelease\n",
            "Hit:5 https://developer.download.nvidia.com/compute/cuda/repos/ubuntu1804/x86_64  Release\n",
            "Hit:6 https://developer.download.nvidia.com/compute/machine-learning/repos/ubuntu1804/x86_64  Release\n",
            "Get:7 http://security.ubuntu.com/ubuntu bionic-security InRelease [88.7 kB]\n",
            "Hit:8 http://ppa.launchpad.net/c2d4u.team/c2d4u4.0+/ubuntu bionic InRelease\n",
            "Hit:9 http://archive.ubuntu.com/ubuntu bionic InRelease\n",
            "Get:10 http://archive.ubuntu.com/ubuntu bionic-updates InRelease [88.7 kB]\n",
            "Hit:11 http://ppa.launchpad.net/graphics-drivers/ppa/ubuntu bionic InRelease\n",
            "Get:14 http://archive.ubuntu.com/ubuntu bionic-backports InRelease [74.6 kB]\n",
            "Fetched 252 kB in 2s (118 kB/s)\n",
            "Reading package lists... Done\n",
            "Building dependency tree       \n",
            "Reading state information... Done\n",
            "15 packages can be upgraded. Run 'apt list --upgradable' to see them.\n"
          ],
          "name": "stdout"
        }
      ]
    },
    {
      "cell_type": "code",
      "metadata": {
        "colab": {
          "base_uri": "https://localhost:8080/"
        },
        "id": "vvG8mIwGCi8o",
        "outputId": "5d006d2c-8ea8-4f78-87a3-6973148da669"
      },
      "source": [
        "!apt-get install tensorflow-model-server\n"
      ],
      "execution_count": 19,
      "outputs": [
        {
          "output_type": "stream",
          "text": [
            "Reading package lists... Done\n",
            "Building dependency tree       \n",
            "Reading state information... Done\n",
            "tensorflow-model-server is already the newest version (2.3.0).\n",
            "0 upgraded, 0 newly installed, 0 to remove and 15 not upgraded.\n"
          ],
          "name": "stdout"
        }
      ]
    },
    {
      "cell_type": "code",
      "metadata": {
        "id": "IyxMD4mqBQDX"
      },
      "source": [
        "import sys\n",
        "\n",
        "# Confirm that we're using Python 3\n",
        "assert sys.version_info.major is 3, 'Oops, not running Python 3. Use Runtime > Change runtime type'"
      ],
      "execution_count": 20,
      "outputs": []
    },
    {
      "cell_type": "code",
      "metadata": {
        "colab": {
          "base_uri": "https://localhost:8080/"
        },
        "id": "GYW_-wgWDinW",
        "outputId": "ce386707-6aa0-44f0-f329-46e0dea1a91a"
      },
      "source": [
        "# TensorFlow and tf.keras\n",
        "print(\"Installing dependencies for Colab environment\")\n",
        "!pip install -Uq grpcio==1.26.0\n",
        "\n",
        "import tensorflow as tf\n",
        "from tensorflow import keras\n",
        "import numpy as np\n",
        "import matplotlib.pyplot as plt\n",
        "import os\n",
        "import subprocess\n",
        "\n",
        "print('TensorFlow version: {}'.format(tf.__version__))"
      ],
      "execution_count": 21,
      "outputs": [
        {
          "output_type": "stream",
          "text": [
            "Installing dependencies for Colab environment\n",
            "\u001b[31mERROR: tfx 0.23.1 has requirement grpcio<2,>=1.28.1, but you'll have grpcio 1.26.0 which is incompatible.\u001b[0m\n",
            "\u001b[31mERROR: google-cloud-spanner 1.19.1 has requirement google-cloud-core<2.0dev,>=1.4.1, but you'll have google-cloud-core 1.0.3 which is incompatible.\u001b[0m\n",
            "\u001b[31mERROR: google-cloud-bigtable 1.6.1 has requirement google-cloud-core<2.0dev,>=1.4.1, but you'll have google-cloud-core 1.0.3 which is incompatible.\u001b[0m\n",
            "\u001b[31mERROR: apache-beam 2.25.0 has requirement grpcio<2,>=1.29.0, but you'll have grpcio 1.26.0 which is incompatible.\u001b[0m\n",
            "TensorFlow version: 2.3.0\n"
          ],
          "name": "stdout"
        }
      ]
    },
    {
      "cell_type": "code",
      "metadata": {
        "id": "-fD1bLyiDlOC"
      },
      "source": [
        "from tensorflow.keras.models import load_model\n",
        "# loading CNN model for facial expression recognition\n",
        "model = load_model('/content/gdrive/MyDrive/DL_project/dataset/model3_call21_WIX_200.h5') "
      ],
      "execution_count": 22,
      "outputs": []
    },
    {
      "cell_type": "code",
      "metadata": {
        "colab": {
          "base_uri": "https://localhost:8080/"
        },
        "id": "ulvO-lZiD19R",
        "outputId": "a091f46d-27f2-4cb3-ba68-16abb543ef23"
      },
      "source": [
        "model.summary()"
      ],
      "execution_count": 23,
      "outputs": [
        {
          "output_type": "stream",
          "text": [
            "Model: \"sequential\"\n",
            "_________________________________________________________________\n",
            "Layer (type)                 Output Shape              Param #   \n",
            "=================================================================\n",
            "dense (Dense)                (None, 400)               2400      \n",
            "_________________________________________________________________\n",
            "leaky_re_lu (LeakyReLU)      (None, 400)               0         \n",
            "_________________________________________________________________\n",
            "dense_1 (Dense)              (None, 400)               160400    \n",
            "_________________________________________________________________\n",
            "leaky_re_lu_1 (LeakyReLU)    (None, 400)               0         \n",
            "_________________________________________________________________\n",
            "dense_2 (Dense)              (None, 400)               160400    \n",
            "_________________________________________________________________\n",
            "leaky_re_lu_2 (LeakyReLU)    (None, 400)               0         \n",
            "_________________________________________________________________\n",
            "dense_3 (Dense)              (None, 400)               160400    \n",
            "_________________________________________________________________\n",
            "leaky_re_lu_3 (LeakyReLU)    (None, 400)               0         \n",
            "_________________________________________________________________\n",
            "dense_4 (Dense)              (None, 2)                 802       \n",
            "=================================================================\n",
            "Total params: 484,402\n",
            "Trainable params: 484,402\n",
            "Non-trainable params: 0\n",
            "_________________________________________________________________\n"
          ],
          "name": "stdout"
        }
      ]
    },
    {
      "cell_type": "code",
      "metadata": {
        "colab": {
          "base_uri": "https://localhost:8080/"
        },
        "id": "1x9DYf_BD167",
        "outputId": "23c7f6ea-6223-426c-8a6c-1b25b0a48766"
      },
      "source": [
        "# Fetch the Keras session and save the model\n",
        "# The signature definition is defined by the input and output tensors,\n",
        "# and stored with the default serving key\n",
        "import tempfile\n",
        "\n",
        "MODEL_DIR = tempfile.gettempdir()\n",
        "#version = 1\n",
        "export_path = MODEL_DIR\n",
        "print('export_path = {}\\n'.format(export_path))\n",
        "\n",
        "tf.keras.models.save_model(\n",
        "    model,\n",
        "    export_path,\n",
        "    overwrite=True,\n",
        "    include_optimizer=True,\n",
        "    save_format=None,\n",
        "    signatures=None,\n",
        "    options=None\n",
        ")\n",
        "\n",
        "print('\\nSaved model:')\n",
        "!ls -l {export_path}"
      ],
      "execution_count": 24,
      "outputs": [
        {
          "output_type": "stream",
          "text": [
            "export_path = /tmp\n",
            "\n",
            "WARNING:tensorflow:From /usr/local/lib/python3.6/dist-packages/tensorflow/python/training/tracking/tracking.py:111: Model.state_updates (from tensorflow.python.keras.engine.training) is deprecated and will be removed in a future version.\n",
            "Instructions for updating:\n",
            "This property should not be used in TensorFlow 2.0, as updates are applied automatically.\n",
            "WARNING:tensorflow:From /usr/local/lib/python3.6/dist-packages/tensorflow/python/training/tracking/tracking.py:111: Layer.updates (from tensorflow.python.keras.engine.base_layer) is deprecated and will be removed in a future version.\n",
            "Instructions for updating:\n",
            "This property should not be used in TensorFlow 2.0, as updates are applied automatically.\n",
            "INFO:tensorflow:Assets written to: /tmp/assets\n",
            "\n",
            "Saved model:\n",
            "total 13736\n",
            "drwxr-xr-x 4 root root     4096 Dec  7 00:43 1\n",
            "drwxr-xr-x 2 root root     4096 Dec  7 00:53 assets\n",
            "srw------- 1 root root        0 Dec  6 21:37 drivefs_ipc.0\n",
            "srw------- 1 root root        0 Dec  6 21:37 drivefs_ipc.0_shell\n",
            "drwxr-xr-x 2 root root     4096 Dec  6 23:04 ngrok\n",
            "-rw-r--r-- 1 root root 13773305 Dec  6 23:04 ngrok-stable-linux-amd64.zip\n",
            "drwxr-xr-x 2 root root     4096 Dec  7 01:48 __pycache__\n",
            "-rw-r--r-- 1 root root   143318 Dec  7 01:48 saved_model.pb\n",
            "drwx------ 2 root root     4096 Dec  7 00:36 tfx-data4k972teh\n",
            "drwx------ 2 root root     4096 Dec  7 00:42 tfx-datadko_i3ul\n",
            "drwx------ 2 root root     4096 Dec  7 00:53 tfx-dataej8zneph\n",
            "drwx------ 2 root root     4096 Dec  6 21:40 tfx-datagiz_qpg9\n",
            "drwx------ 2 root root     4096 Dec  7 01:48 tfx-datagy8to2qo\n",
            "drwx------ 2 root root     4096 Dec  7 01:16 tfx-datahcx281ue\n",
            "drwx------ 2 root root     4096 Dec  7 01:36 tfx-datairzngf44\n",
            "drwx------ 2 root root     4096 Dec  7 00:23 tfx-dataq6u7q5ah\n",
            "drwx------ 2 root root     4096 Dec  7 00:09 tfx-datavpdm83bg\n",
            "drwx------ 4 root root     4096 Dec  6 21:41 tfx-interactive-2020-12-06T21_40_57.631863-i8chsz9d\n",
            "drwx------ 4 root root     4096 Dec  7 00:23 tfx-interactive-2020-12-07T00_23_32.626911-7ow8yrl1\n",
            "drwx------ 4 root root     4096 Dec  7 00:37 tfx-interactive-2020-12-07T00_36_53.872737-wln57g3i\n",
            "drwx------ 4 root root     4096 Dec  7 00:43 tfx-interactive-2020-12-07T00_42_57.509993-rjz_chnc\n",
            "drwx------ 4 root root     4096 Dec  7 00:53 tfx-interactive-2020-12-07T00_53_24.854382-s73pzf03\n",
            "drwx------ 4 root root     4096 Dec  7 01:17 tfx-interactive-2020-12-07T01_16_45.995489-p6ll3723\n",
            "drwx------ 4 root root     4096 Dec  7 01:36 tfx-interactive-2020-12-07T01_36_25.446537-y5catwo4\n",
            "drwx------ 4 root root     4096 Dec  7 01:48 tfx-interactive-2020-12-07T01_48_11.028514-t7es0csu\n",
            "drwx------ 2 root root     4096 Dec  7 00:53 tmp5pdtpezf\n",
            "drwx------ 2 root root     4096 Dec  7 01:36 tmp6n_euhqd\n",
            "drwx------ 2 root root     4096 Dec  6 21:42 tmp7c56b6sf\n",
            "drwx------ 2 root root     4096 Dec  7 00:36 tmp969jyhl6\n",
            "drwx------ 2 root root     4096 Dec  6 21:37 tmpatczudvp\n",
            "drwx------ 2 root root     4096 Dec  6 21:41 tmpbgxiox3_\n",
            "drwx------ 2 root root     4096 Dec  7 00:23 tmpe4r0pu7g\n",
            "drwx------ 2 root root     4096 Dec  6 21:42 tmpe6gt86t6\n",
            "drwx------ 2 root root     4096 Dec  7 01:16 tmptfioutrf\n",
            "drwx------ 2 root root     4096 Dec  7 01:48 tmptwpitf8h\n",
            "drwx------ 2 root root     4096 Dec  7 00:42 tmpustrghy0\n",
            "-rw------- 1 root root     1080 Dec  7 01:48 tmpv7102k2g.py\n",
            "drwx------ 2 root root     4096 Dec  6 21:40 tmpxq_6aszb\n",
            "drwx------ 2 root root     4096 Dec  7 00:09 tmpz9hdxojx\n",
            "drwxr-xr-x 2 root root     4096 Dec  7 01:48 variables\n"
          ],
          "name": "stdout"
        }
      ]
    },
    {
      "cell_type": "code",
      "metadata": {
        "colab": {
          "base_uri": "https://localhost:8080/"
        },
        "id": "PA6_XbZwD14H",
        "outputId": "62d838ba-1339-4352-c959-005c56f864e4"
      },
      "source": [
        "!saved_model_cli show --dir {export_path} --all"
      ],
      "execution_count": 25,
      "outputs": [
        {
          "output_type": "stream",
          "text": [
            "\n",
            "MetaGraphDef with tag-set: 'serve' contains the following SignatureDefs:\n",
            "\n",
            "signature_def['__saved_model_init_op']:\n",
            "  The given SavedModel SignatureDef contains the following input(s):\n",
            "  The given SavedModel SignatureDef contains the following output(s):\n",
            "    outputs['__saved_model_init_op'] tensor_info:\n",
            "        dtype: DT_INVALID\n",
            "        shape: unknown_rank\n",
            "        name: NoOp\n",
            "  Method name is: \n",
            "\n",
            "signature_def['serving_default']:\n",
            "  The given SavedModel SignatureDef contains the following input(s):\n",
            "    inputs['dense_input'] tensor_info:\n",
            "        dtype: DT_FLOAT\n",
            "        shape: (-1, 5)\n",
            "        name: serving_default_dense_input:0\n",
            "  The given SavedModel SignatureDef contains the following output(s):\n",
            "    outputs['dense_4'] tensor_info:\n",
            "        dtype: DT_FLOAT\n",
            "        shape: (-1, 2)\n",
            "        name: StatefulPartitionedCall:0\n",
            "  Method name is: tensorflow/serving/predict\n",
            "WARNING: Logging before flag parsing goes to stderr.\n",
            "W1207 01:48:44.592797 140193889802112 deprecation.py:506] From /usr/local/lib/python2.7/dist-packages/tensorflow_core/python/ops/resource_variable_ops.py:1786: calling __init__ (from tensorflow.python.ops.resource_variable_ops) with constraint is deprecated and will be removed in a future version.\n",
            "Instructions for updating:\n",
            "If using Keras pass *_constraint arguments to layers.\n",
            "\n",
            "Defined Functions:\n",
            "  Function Name: '__call__'\n",
            "    Option #1\n",
            "      Callable with:\n",
            "        Argument #1\n",
            "          inputs: TensorSpec(shape=(None, 5), dtype=tf.float32, name=u'inputs')\n",
            "        Argument #2\n",
            "          DType: bool\n",
            "          Value: True\n",
            "        Argument #3\n",
            "          DType: NoneType\n",
            "          Value: None\n",
            "    Option #2\n",
            "      Callable with:\n",
            "        Argument #1\n",
            "          dense_input: TensorSpec(shape=(None, 5), dtype=tf.float32, name=u'dense_input')\n",
            "        Argument #2\n",
            "          DType: bool\n",
            "          Value: True\n",
            "        Argument #3\n",
            "          DType: NoneType\n",
            "          Value: None\n",
            "    Option #3\n",
            "      Callable with:\n",
            "        Argument #1\n",
            "          dense_input: TensorSpec(shape=(None, 5), dtype=tf.float32, name=u'dense_input')\n",
            "        Argument #2\n",
            "          DType: bool\n",
            "          Value: False\n",
            "        Argument #3\n",
            "          DType: NoneType\n",
            "          Value: None\n",
            "    Option #4\n",
            "      Callable with:\n",
            "        Argument #1\n",
            "          inputs: TensorSpec(shape=(None, 5), dtype=tf.float32, name=u'inputs')\n",
            "        Argument #2\n",
            "          DType: bool\n",
            "          Value: False\n",
            "        Argument #3\n",
            "          DType: NoneType\n",
            "          Value: None\n",
            "\n",
            "  Function Name: '_default_save_signature'\n",
            "    Option #1\n",
            "      Callable with:\n",
            "        Argument #1\n",
            "          dense_input: TensorSpec(shape=(None, 5), dtype=tf.float32, name=u'dense_input')\n",
            "\n",
            "  Function Name: 'call_and_return_all_conditional_losses'\n",
            "    Option #1\n",
            "      Callable with:\n",
            "        Argument #1\n",
            "          inputs: TensorSpec(shape=(None, 5), dtype=tf.float32, name=u'inputs')\n",
            "        Argument #2\n",
            "          DType: bool\n",
            "          Value: True\n",
            "        Argument #3\n",
            "          DType: NoneType\n",
            "          Value: None\n",
            "    Option #2\n",
            "      Callable with:\n",
            "        Argument #1\n",
            "          inputs: TensorSpec(shape=(None, 5), dtype=tf.float32, name=u'inputs')\n",
            "        Argument #2\n",
            "          DType: bool\n",
            "          Value: False\n",
            "        Argument #3\n",
            "          DType: NoneType\n",
            "          Value: None\n",
            "    Option #3\n",
            "      Callable with:\n",
            "        Argument #1\n",
            "          dense_input: TensorSpec(shape=(None, 5), dtype=tf.float32, name=u'dense_input')\n",
            "        Argument #2\n",
            "          DType: bool\n",
            "          Value: False\n",
            "        Argument #3\n",
            "          DType: NoneType\n",
            "          Value: None\n",
            "    Option #4\n",
            "      Callable with:\n",
            "        Argument #1\n",
            "          dense_input: TensorSpec(shape=(None, 5), dtype=tf.float32, name=u'dense_input')\n",
            "        Argument #2\n",
            "          DType: bool\n",
            "          Value: True\n",
            "        Argument #3\n",
            "          DType: NoneType\n",
            "          Value: None\n"
          ],
          "name": "stdout"
        }
      ]
    },
    {
      "cell_type": "code",
      "metadata": {
        "id": "4YaDQ1eXD110"
      },
      "source": [
        "os.environ[\"MODEL_DIR\"] = MODEL_DIR"
      ],
      "execution_count": 26,
      "outputs": []
    },
    {
      "cell_type": "code",
      "metadata": {
        "id": "HL4ZtS2xS4Gz"
      },
      "source": [
        ""
      ],
      "execution_count": null,
      "outputs": []
    },
    {
      "cell_type": "code",
      "metadata": {
        "colab": {
          "base_uri": "https://localhost:8080/"
        },
        "id": "M399OztcEUp2",
        "outputId": "f0d5c6ae-99f1-436b-a202-3083b1c69058"
      },
      "source": [
        "%%bash --bg \n",
        "nohup tensorflow_model_server \\\n",
        "  --rest_api_port=8501 \\\n",
        "  --model_name=first_model \\\n",
        "  --model_base_path=\"${MODEL_DIR}\""
      ],
      "execution_count": 27,
      "outputs": [
        {
          "output_type": "stream",
          "text": [
            "Starting job # 0 in a separate thread.\n"
          ],
          "name": "stdout"
        }
      ]
    },
    {
      "cell_type": "code",
      "metadata": {
        "colab": {
          "base_uri": "https://localhost:8080/"
        },
        "id": "Oexe4ssNEUnG",
        "outputId": "5337700d-31b1-4b8c-b191-d8dffe432b56"
      },
      "source": [
        "!tail server.log"
      ],
      "execution_count": 28,
      "outputs": [
        {
          "output_type": "stream",
          "text": [
            "To enable them in other operations, rebuild TensorFlow with the appropriate compiler flags.\n",
            "2020-12-07 00:54:58.210420: I external/org_tensorflow/tensorflow/cc/saved_model/loader.cc:199] Restoring SavedModel bundle.\n",
            "2020-12-07 00:54:58.254873: I external/org_tensorflow/tensorflow/cc/saved_model/loader.cc:183] Running initialization op on SavedModel bundle at path: /tmp/1\n",
            "2020-12-07 00:54:58.262050: I external/org_tensorflow/tensorflow/cc/saved_model/loader.cc:303] SavedModel load for tags { serve }; Status: success: OK. Took 73981 microseconds.\n",
            "2020-12-07 00:54:58.263058: I tensorflow_serving/servables/tensorflow/saved_model_warmup_util.cc:59] No warmup data file found at /tmp/1/assets.extra/tf_serving_warmup_requests\n",
            "2020-12-07 00:54:58.263216: I tensorflow_serving/core/loader_harness.cc:87] Successfully loaded servable version {name: first_model version: 1}\n",
            "2020-12-07 00:54:58.264399: I tensorflow_serving/model_servers/server.cc:367] Running gRPC ModelServer at 0.0.0.0:8500 ...\n",
            "[warn] getaddrinfo: address family for nodename not supported\n",
            "2020-12-07 00:54:58.265214: I tensorflow_serving/model_servers/server.cc:387] Exporting HTTP/REST API at:localhost:8501 ...\n",
            "[evhttp_server.cc : 238] NET_LOG: Entering the event loop ...\n"
          ],
          "name": "stdout"
        }
      ]
    },
    {
      "cell_type": "code",
      "metadata": {
        "id": "COfUVggSL2kE"
      },
      "source": [
        "call_X_train, call_X_test, call_y_train, call_y_test = train_test_split(call_df_21.drop(['Bid', 'Ask'], axis=1),\n",
        "                                                                        call_df_21[['Bid', 'Ask']], test_size=0.1, random_state=42)"
      ],
      "execution_count": 29,
      "outputs": []
    },
    {
      "cell_type": "code",
      "metadata": {
        "id": "CnjH4Qd3L52t"
      },
      "source": [
        "call_X_test.to_csv('/content/gdrive/MyDrive/DL_project/dataset/call_X_test.csv')"
      ],
      "execution_count": 30,
      "outputs": []
    },
    {
      "cell_type": "code",
      "metadata": {
        "id": "8lDF89F1hZgk"
      },
      "source": [
        "xs = np.array(call_X_test)\n"
      ],
      "execution_count": 31,
      "outputs": []
    },
    {
      "cell_type": "code",
      "metadata": {
        "id": "sqUuMkIYpfA3"
      },
      "source": [
        ""
      ],
      "execution_count": null,
      "outputs": []
    },
    {
      "cell_type": "markdown",
      "metadata": {
        "id": "iFWpHORIKAxr"
      },
      "source": [
        "#**Model Predictions**"
      ]
    },
    {
      "cell_type": "code",
      "metadata": {
        "id": "ByAoMFalhwNr"
      },
      "source": [
        "import json\n",
        "\n",
        "data = json.dumps({\"signature_name\": \"serving_default\",\n",
        "                   \"instances\": xs.tolist()})"
      ],
      "execution_count": 44,
      "outputs": []
    },
    {
      "cell_type": "code",
      "metadata": {
        "colab": {
          "base_uri": "https://localhost:8080/",
          "height": 0
        },
        "id": "GfySC1RJigCN",
        "outputId": "6b1cdaf2-81ff-48e2-b180-3fc8bf4ec7df"
      },
      "source": [
        "data"
      ],
      "execution_count": 45,
      "outputs": [
        {
          "output_type": "execute_result",
          "data": {
            "application/vnd.google.colaboratory.intrinsic+json": {
              "type": "string"
            },
            "text/plain": [
              "'{\"signature_name\": \"serving_default\", \"instances\": [[141.96, 190.0, 0.040351047419522064, 225.0, 2.22], [82.85, 70.0, 0.02629471439129068, 37.0, 1.64], [97.4, 155.0, 0.03228772966546013, 571.0, 2.54], [110.11, 135.0, 0.06315234590095266, 42.0, 2.41], [109.1, 95.0, 0.016403341833589692, 140.0, 2.52], [137.46, 115.0, 0.026066182636784167, 4.0, 2.41], [79.65, 60.0, 0.026428436979249875, 228.0, 1.86], [105.2, 130.0, 0.02488153995771937, 178.0, 2.19], [79.35, 75.0, 0.02112959870762864, 318.0, 2.06], [97.4, 45.0, 0.03228772966546013, 116.0, 1.93], [111.96, 70.0, 0.04309717861046268, 17.0, 2.14], [106.3, 60.0, 0.03627265867160459, 15.0, 1.98], [96.6, 135.0, 0.06593577053311157, 63.0, 2.36], [90.65, 145.0, 0.05369590696567412, 744.0, 2.5], [108.15, 95.0, 0.01953874168830817, 130.0, 2.46], [101.34, 120.0, 0.05211642321528565, 93.0, 2.45], [89.4, 40.0, 0.02907330589461383, 93.0, 1.81], [141.96, 55.0, 0.040351047419522064, 225.0, 2.22], [125.75, 65.0, 0.0567472996325723, 696.0, 2.5], [122.65, 170.0, 0.04381723541187575, 191.0, 2.46], [112.0, 75.0, 0.044291377964058416, 480.0, 2.6], [95.0, 60.0, 0.039871988179493965, 535.0, 2.44], [142.03, 190.0, 0.02304807360549109, 256.0, 2.46], [119.3, 60.0, 0.041100395508881706, 108.0, 2.42], [107.6, 145.0, 0.02658037020883468, 576.0, 2.56], [82.05, 40.0, 0.03607495935958746, 248.0, 2.09], [106.3, 75.0, 0.03627265867160459, 15.0, 1.98], [124.48, 95.0, 0.035416602172033324, 276.0, 2.45], [83.425, 30.0, 0.03688202209474797, 254.0, 2.05], [146.01, 110.0, 0.04034332393473633, 11.0, 2.3], [110.85, 90.0, 0.02266813029334776, 86.0, 2.01], [83.18, 70.0, 0.05119926052739802, 4.0, 2.36], [108.89, 85.0, 0.033616104014165364, 59.0, 2.46], [139.47, 100.0, 0.02178936629123049, 549.0, 1.87], [77.4, 35.0, 0.0229767343221936, 291.0, 2.08], [144.62, 155.0, 0.02990831354276945, 108.0, 2.2], [112.45, 65.0, 0.046253993306802715, 485.0, 2.58], [148.12, 105.0, 0.03955871329297976, 28.0, 2.16], [140.94, 80.0, 0.036935548741476684, 590.0, 1.83], [86.45, 110.0, 0.035883690523158804, 30.0, 1.69], [90.0, 105.0, 0.01722376373399032, 49.0, 1.92], [101.45, 90.0, 0.03742145682550624, 56.0, 2.0], [103.91, 115.0, 0.050830213280792264, 29.0, 2.41], [109.0, 85.0, 0.02935983489015061, 31.0, 1.93], [88.4, 110.0, 0.05375751880029838, 784.0, 2.81], [84.92, 120.0, 0.05092128836817107, 1.0, 2.42], [84.92, 80.0, 0.05092128836817107, 29.0, 2.42], [84.6, 80.0, 0.039189587467606035, 43.0, 1.68], [85.67, 75.0, 0.05134786360186918, 213.0, 2.53], [93.51, 120.0, 0.04812671260953174, 414.0, 2.69], [133.94, 195.0, 0.037198772132634436, 233.0, 2.38], [99.55, 50.0, 0.033053053201065684, 113.0, 1.93], [93.51, 95.0, 0.04812671260953174, 50.0, 2.37], [106.52, 140.0, 0.0466434048839187, 357.0, 2.6], [105.3, 115.0, 0.02787708475705453, 148.0, 2.23], [116.1, 65.0, 0.04319010755719318, 217.0, 2.33], [97.45, 105.0, 0.03939848994816208, 820.0, 2.87], [95.0, 60.0, 0.039871988179493965, 80.0, 2.03], [99.65, 110.0, 0.040151201275386836, 156.0, 2.23], [90.0, 120.0, 0.01722376373399032, 14.0, 1.74], [107.85, 105.0, 0.020152416626519568, 36.0, 2.43], [107.28, 80.0, 0.01804299572857353, 225.0, 2.52], [115.8, 100.0, 0.04366757207570815, 114.0, 2.2], [84.5, 115.0, 0.016135623623264126, 148.0, 2.09], [86.4, 120.0, 0.020375721807325376, 304.0, 2.08], [97.51, 70.0, 0.03425648376411678, 462.0, 2.66], [115.8, 155.0, 0.04366757207570815, 51.0, 2.2], [108.25, 140.0, 0.03581670508662785, 14.0, 1.98], [106.87, 165.0, 0.017810059724161033, 317.0, 2.54], [76.1, 55.0, 0.03568778432317364, 329.0, 2.02], [85.67, 170.0, 0.05134786360186918, 759.0, 2.65], [75.55, 85.0, 0.03425629580763793, 325.0, 2.08], [95.91, 90.0, 0.0521173509381002, 66.0, 2.46], [85.04, 105.0, 0.06600052885413198, 150.0, 2.52], [82.67, 110.0, 0.05135880528303604, 115.0, 2.45], [144.75, 125.0, 0.02486137805704945, 99.0, 2.17], [80.5, 65.0, 0.02274421240213188, 199.0, 1.92], [81.75, 35.0, 0.022918911862514674, 681.0, 2.25], [147.42, 170.0, 0.01800164940835659, 172.0, 2.1], [133.4, 165.0, 0.02875923859176239, 29.0, 2.38], [140.94, 130.0, 0.036935548741476684, 590.0, 1.83], [101.77, 100.0, 0.06778791125188538, 168.0, 2.49], [113.5, 30.0, 0.045621608535184766, 483.0, 2.58], [99.29, 165.0, 0.05210345396041228, 4.0, 2.42], [136.8, 110.0, 0.022252106239307963, 50.0, 2.47], [104.35, 150.0, 0.026903333240906255, 28.0, 1.86], [89.41, 70.0, 0.05373582164075096, 387.0, 2.61], [106.1, 40.0, 0.03980859881527557, 71.0, 2.06], [93.51, 75.0, 0.04812671260953174, 414.0, 2.69], [116.3, 150.0, 0.04357222028705686, 843.0, 2.83], [101.34, 115.0, 0.05211642321528565, 3.0, 2.41], [97.42, 35.0, 0.046291221339118456, 451.0, 2.67], [102.0, 130.0, 0.03123251637738835, 17.0, 1.91], [92.12, 130.0, 0.037428600486516604, 827.0, 2.85], [76.1, 40.0, 0.034878010813682435, 144.0, 1.87], [134.76, 170.0, 0.03635558075423575, 52.0, 2.37], [97.4, 80.0, 0.03228772966546013, 25.0, 1.8], [114.18, 70.0, 0.05345431358025315, 144.0, 2.51], [86.05, 115.0, 0.037057284322713234, 255.0, 2.05], [87.95, 75.0, 0.035025484640970835, 155.0, 2.1], [143.36, 180.0, 0.02208173621110559, 252.0, 2.45], [84.5, 60.0, 0.016135623623264126, 57.0, 1.91], [83.3, 85.0, 0.02816223659953558, 270.0, 2.04], [144.13, 115.0, 0.02412207640156263, 193.0, 2.14], [125.68, 120.0, 0.02730710523442496, 60.0, 2.44], [104.35, 65.0, 0.026903333240906255, 28.0, 1.86], [86.95, 120.0, 0.015562401342617497, 50.0, 1.93], [143.02, 175.0, 0.03363884127473833, 564.0, 1.78], [111.96, 115.0, 0.05436436876731463, 238.0, 2.51], [83.18, 90.0, 0.05119926052739802, 4.0, 2.36], [105.85, 95.0, 0.03850843954337147, 540.0, 2.41], [85.2, 70.0, 0.016127754243936997, 142.0, 2.08], [75.55, 50.0, 0.03425629580763793, 17.0, 1.49], [91.39, 75.0, 0.05654371115744505, 39.0, 2.32], [83.5, 65.0, 0.041067196097455023, 631.0, 2.49], [114.09, 145.0, 0.04988989500469597, 325.0, 2.55], [139.52, 140.0, 0.03648791528053155, 50.0, 2.38], [143.36, 170.0, 0.02208173621110559, 616.0, 2.26], [143.0, 115.0, 0.02356693543711004, 95.0, 2.16], [149.14, 140.0, 0.01778622484506646, 21.0, 2.13], [87.2, 80.0, 0.05053913197199575, 763.0, 2.73], [119.0, 145.0, 0.043633075940499325, 113.0, 2.18], [95.93, 130.0, 0.06666538557082065, 7.0, 2.21], [114.01, 60.0, 0.0432652999768328, 107.0, 2.23], [92.12, 80.0, 0.037428600486516604, 99.0, 2.27], [83.425, 55.0, 0.03688202209474797, 9.0, 1.68], [116.13, 105.0, 0.057630864965401124, 3.0, 2.42], [95.44, 90.0, 0.05591199982832329, 39.0, 2.42], [114.1, 45.0, 0.04654464387159128, 29.0, 2.03], [84.15, 125.0, 0.02088460505842642, 666.0, 2.29], [139.52, 175.0, 0.03648791528053155, 50.0, 2.38], [106.52, 85.0, 0.0466434048839187, 175.0, 2.51], [88.67, 50.0, 0.052216453849600886, 401.0, 2.7], [60.0, 65.0, 0.03557069196275883, 39.0, 1.4], [113.67, 85.0, 0.049063841279046616, 16.0, 2.43], [141.4, 85.0, 0.022239045536183395, 259.0, 2.46], [106.52, 125.0, 0.0466434048839187, 83.0, 2.39], [140.7, 85.0, 0.02171823662231393, 9.0, 2.42], [83.225, 95.0, 0.03670930940113666, 253.0, 2.05], [128.25, 130.0, 0.02708046286156833, 633.0, 2.36], [110.85, 45.0, 0.02266813029334776, 177.0, 2.2], [139.52, 50.0, 0.03648791528053155, 50.0, 2.38], [134.16, 165.0, 0.02593423395533704, 171.0, 2.46], [83.65, 40.0, 0.03806448896319161, 259.0, 2.03], [139.24, 165.0, 0.02741726994500036, 0.0, 2.39], [144.62, 125.0, 0.02990831354276945, 45.0, 2.21], [82.85, 110.0, 0.02629471439129068, 646.0, 2.32], [86.05, 55.0, 0.037057284322713234, 10.0, 1.69], [144.78, 85.0, 0.04039331808446709, 588.0, 1.85], [98.25, 120.0, 0.02407223709119008, 70.0, 1.93], [122.51, 65.0, 0.03552736788519532, 30.0, 2.43], [61.75, 30.0, 0.03005834075666536, 715.0, 2.16], [121.4, 95.0, 0.056874325017275164, 154.0, 2.5], [98.25, 45.0, 0.02407223709119008, 133.0, 1.93], [114.18, 135.0, 0.05345431358025315, 690.0, 2.51], [109.65, 160.0, 0.029259029608548006, 141.0, 2.28], [118.12, 155.0, 0.03379825466972451, 29.0, 2.45], [86.75, 95.0, 0.036707828274391216, 7.0, 1.68], [60.0, 80.0, 0.03557069196275883, 165.0, 1.67], [143.0, 60.0, 0.02356693543711004, 4.0, 2.17], [114.1, 170.0, 0.04654464387159128, 120.0, 2.17], [141.17, 200.0, 0.021145810352489983, 617.0, 2.26], [121.4, 70.0, 0.056874325017275164, 154.0, 2.5], [83.425, 90.0, 0.03688202209474797, 163.0, 2.05], [96.8, 50.0, 0.0329202118784856, 23.0, 1.79], [75.6, 40.0, 0.035646036027757975, 63.0, 1.62], [111.27, 80.0, 0.05758693612186035, 340.0, 2.55], [114.1, 60.0, 0.04654464387159128, 29.0, 2.03], [124.98, 105.0, 0.04357283801505035, 277.0, 2.43], [145.84, 75.0, 0.03967343022331565, 212.0, 2.11], [149.14, 135.0, 0.01778622484506646, 84.0, 2.12], [115.95, 150.0, 0.043428805077523454, 490.0, 2.56], [111.22, 65.0, 0.05807076087841561, 72.0, 2.42], [124.98, 160.0, 0.04357283801505035, 186.0, 2.46], [86.95, 55.0, 0.015562401342617497, 596.0, 2.4], [139.24, 115.0, 0.02741726994500036, 245.0, 2.42], [81.9, 105.0, 0.023407470823318902, 287.0, 2.06], [87.2, 95.0, 0.05053913197199575, 7.0, 2.36], [137.22, 55.0, 0.02356572453640285, 164.0, 2.46], [81.6, 45.0, 0.027967467676052928, 87.0, 1.87], [111.15, 100.0, 0.044180877443518035, 213.0, 2.35], [61.45, 95.0, 0.03193718936996071, 77.0, 1.48], [101.57, 55.0, 0.051093507440548885, 2.0, 2.41], [137.22, 90.0, 0.02356572453640285, 164.0, 2.46], [104.1, 70.0, 0.02944259516825113, 10.0, 1.88], [129.95, 165.0, 0.026794942492717886, 176.0, 2.46], [125.02, 75.0, 0.04316950309792203, 6.0, 2.41], [76.8, 105.0, 0.02933387656602945, 231.0, 1.86], [136.8, 30.0, 0.022252106239307963, 260.0, 2.46], [89.54, 165.0, 0.049390696870170704, 780.0, 2.83], [87.95, 125.0, 0.035025484640970835, 155.0, 2.1], [119.15, 65.0, 0.04106330083258357, 17.0, 2.42], [75.05, 30.0, 0.03422545995240442, 51.0, 1.65], [107.21, 120.0, 0.01633129053880686, 227.0, 2.53], [84.25, 125.0, 0.03680927376720219, 158.0, 2.09], [93.98, 110.0, 0.0550863498793181, 45.0, 2.37], [101.91, 90.0, 0.06750222569987634, 436.0, 2.74], [98.55, 165.0, 0.06770483768273462, 164.0, 2.51], [102.0, 80.0, 0.03123251637738835, 17.0, 1.91], [142.1, 180.0, 0.03328721317978595, 567.0, 1.75], [105.2, 115.0, 0.02488153995771937, 59.0, 2.02], [109.27, 170.0, 0.02093525234091236, 309.0, 2.52], [109.65, 65.0, 0.029259029608548006, 50.0, 2.11], [86.45, 60.0, 0.035883690523158804, 30.0, 1.69], [94.1, 115.0, 0.038396805639194016, 464.0, 2.67], [95.75, 55.0, 0.019383883901721143, 135.0, 1.95], [86.45, 50.0, 0.02916089943722945, 183.0, 2.01], [101.45, 65.0, 0.03742145682550624, 21.0, 1.9], [143.1, 130.0, 0.02100244127244113, 547.0, 1.9], [83.15, 50.0, 0.03939288128719838, 16.0, 1.69], [83.225, 45.0, 0.03670930940113666, 617.0, 2.54], [96.95, 135.0, 0.037464009722041273, 81.0, 2.04], [109.03, 100.0, 0.0165504455523345, 319.0, 2.54], [83.425, 105.0, 0.03688202209474797, 37.0, 1.68], [92.9, 80.0, 0.02391101621048447, 71.0, 1.94], [142.44, 145.0, 0.037687252670167794, 584.0, 1.93], [97.45, 135.0, 0.03939848994816208, 456.0, 2.67], [58.25, 80.0, 0.034302774894045644, 36.0, 1.32], [96.95, 110.0, 0.037464009722041273, 172.0, 2.21], [88.67, 85.0, 0.052216453849600886, 219.0, 2.56], [106.0, 40.0, 0.02494461008299276, 32.0, 1.84], [119.26, 180.0, 0.04253479949494567, 289.0, 2.41], [79.65, 100.0, 0.026428436979249875, 683.0, 2.24], [93.98, 95.0, 0.0550863498793181, 17.0, 2.37], [112.45, 55.0, 0.046253993306802715, 485.0, 2.58], [103.2, 140.0, 0.03980976548517892, 521.0, 2.44], [113.65, 80.0, 0.03900722091893658, 219.0, 2.31], [106.99, 65.0, 0.06744445974072215, 78.0, 2.42], [97.45, 145.0, 0.03939848994816208, 820.0, 2.87], [81.6, 50.0, 0.027967467676052928, 178.0, 2.05], [102.39, 140.0, 0.03919313319782007, 2.0, 2.2], [121.4, 85.0, 0.056874325017275164, 336.0, 2.55], [63.1, 85.0, 0.03501066441507238, 4.0, 1.35], [118.84, 175.0, 0.04068573078584941, 113.0, 2.43], [134.86, 70.0, 0.027111380155893743, 610.0, 2.2], [147.42, 80.0, 0.01800164940835659, 536.0, 1.98], [134.79, 70.0, 0.0286904981199604, 147.0, 2.39], [101.29, 135.0, 0.052604678039866605, 735.0, 2.55], [92.08, 160.0, 0.056522309865481124, 38.0, 2.28], [137.51, 170.0, 0.02752305044493216, 157.0, 2.43], [133.57, 90.0, 0.026763198903317645, 81.0, 2.44], [107.6, 50.0, 0.02658037020883468, 121.0, 1.94], [91.82, 80.0, 0.05831998124933874, 52.0, 2.33], [103.91, 100.0, 0.050830213280792264, 365.0, 2.57], [117.4, 135.0, 0.04068156701191989, 660.0, 2.22], [145.84, 80.0, 0.03967343022331565, 121.0, 2.18], [119.36, 155.0, 0.04206772515911834, 102.0, 2.43], [103.0, 125.0, 0.0238246792656612, 64.0, 1.94], [121.4, 135.0, 0.056874325017275164, 336.0, 2.55], [83.18, 150.0, 0.05119926052739802, 396.0, 2.66], [102.25, 125.0, 0.04027350865033592, 154.0, 2.24], [119.7, 105.0, 0.04577045983518167, 202.0, 2.36], [108.15, 95.0, 0.01953874168830817, 221.0, 2.54], [101.95, 145.0, 0.03009799618017172, 119.0, 1.93], [121.77, 170.0, 0.040637651528114285, 661.0, 2.24], [135.81, 125.0, 0.028478627205766167, 241.0, 2.42], [83.5, 70.0, 0.041067196097455023, 176.0, 2.02], [109.1, 45.0, 0.016403341833589692, 686.0, 2.55], [141.4, 85.0, 0.022239045536183395, 14.0, 2.42], [102.36, 100.0, 0.047397276740506665, 177.0, 2.51], [86.89, 75.0, 0.06339175941381088, 148.0, 2.52], [114.18, 155.0, 0.05345431358025315, 690.0, 2.51], [94.41, 170.0, 0.0493526854941492, 779.0, 2.81], [91.39, 80.0, 0.05654371115744505, 403.0, 2.69], [92.12, 115.0, 0.037428600486516604, 99.0, 2.27], [109.6, 150.0, 0.028568698611290418, 506.0, 2.48], [148.12, 180.0, 0.03955871329297976, 119.0, 2.11], [111.27, 110.0, 0.05758693612186035, 66.0, 2.45], [111.96, 85.0, 0.05436436876731463, 21.0, 2.43], [143.36, 50.0, 0.02208173621110559, 70.0, 2.43], [86.4, 40.0, 0.020375721807325376, 213.0, 1.97], [109.27, 30.0, 0.02093525234091236, 309.0, 2.52], [83.225, 45.0, 0.03670930940113666, 253.0, 2.05], [91.39, 160.0, 0.05654371115744505, 767.0, 2.72], [108.6, 135.0, 0.032424728602590006, 508.0, 2.47], [133.57, 145.0, 0.026763198903317645, 53.0, 2.44], [119.41, 125.0, 0.057647592204568415, 156.0, 2.51], [145.27, 60.0, 0.02472683396997556, 192.0, 2.15], [107.85, 140.0, 0.020152416626519568, 219.0, 2.53], [109.27, 45.0, 0.02093525234091236, 309.0, 2.52], [99.55, 85.0, 0.033053053201065684, 113.0, 1.93], [136.8, 175.0, 0.022252106239307963, 78.0, 2.47], [101.91, 80.0, 0.06750222569987634, 436.0, 2.74], [81.9, 55.0, 0.023407470823318902, 42.0, 1.68], [143.0, 145.0, 0.02356693543711004, 4.0, 2.17], [133.94, 130.0, 0.037198772132634436, 233.0, 2.38], [113.5, 110.0, 0.045621608535184766, 209.0, 2.38], [103.91, 50.0, 0.050830213280792264, 91.0, 2.42], [113.65, 40.0, 0.03900722091893658, 493.0, 2.55], [105.65, 80.0, 0.03028472331639227, 29.0, 1.85], [151.52, 105.0, 0.01908022790249121, 86.0, 2.1], [142.09, 150.0, 0.02714700206074621, 247.0, 2.43], [106.1, 90.0, 0.03980859881527557, 43.0, 1.91], [98.55, 125.0, 0.06770483768273462, 438.0, 2.71], [110.11, 85.0, 0.06315234590095266, 14.0, 2.41], [113.67, 165.0, 0.049063841279046616, 324.0, 2.54], [134.79, 120.0, 0.0286904981199604, 28.0, 2.37], [143.22, 120.0, 0.037955192138043284, 127.0, 2.19], [100.3, 85.0, 0.039631207170908386, 46.0, 2.05], [145.84, 130.0, 0.03967343022331565, 2.0, 2.14], [104.2, 100.0, 0.029096468191720862, 100.0, 1.97], [85.75, 45.0, 0.016114162935089483, 602.0, 2.48], [142.44, 180.0, 0.037687252670167794, 129.0, 2.27], [145.84, 180.0, 0.020942446037653058, 28.0, 2.11], [119.41, 160.0, 0.057647592204568415, 64.0, 2.44], [92.28, 65.0, 0.05017401584613703, 25.0, 2.24], [137.22, 170.0, 0.02356572453640285, 10.0, 2.44], [108.36, 45.0, 0.02017738307473924, 311.0, 2.52], [83.2, 40.0, 0.022573054573586555, 2.0, 1.71], [149.04, 65.0, 0.03997917719852827, 29.0, 2.17], [103.75, 80.0, 0.02370739211794156, 581.0, 2.55], [118.92, 95.0, 0.04086959285181575, 24.0, 2.47], [75.55, 60.0, 0.03425629580763793, 143.0, 1.87], [101.29, 50.0, 0.052604678039866605, 371.0, 2.58], [101.34, 120.0, 0.05211642321528565, 59.0, 2.45], [101.57, 95.0, 0.051093507440548885, 58.0, 2.43], [111.96, 100.0, 0.05436436876731463, 329.0, 2.55], [117.98, 145.0, 0.04070214771517892, 119.0, 2.46], [83.2, 60.0, 0.022573054573586555, 310.0, 2.05], [84.92, 115.0, 0.05092128836817107, 757.0, 2.67], [97.98, 110.0, 0.0462370357253842, 25.0, 2.18], [113.5, 130.0, 0.045621608535184766, 28.0, 2.05], [128.25, 160.0, 0.02708046286156833, 59.0, 2.45], [117.4, 175.0, 0.04068156701191989, 205.0, 2.46], [96.8, 130.0, 0.0329202118784856, 23.0, 1.79], [82.95, 30.0, 0.02248597549291465, 288.0, 2.07], [90.34, 90.0, 0.05337744260853343, 382.0, 2.63], [143.22, 45.0, 0.037955192138043284, 582.0, 1.83], [88.4, 125.0, 0.05375751880029838, 784.0, 2.81], [82.1, 110.0, 0.05211553345680715, 0.0, 2.41], [139.52, 70.0, 0.03648791528053155, 141.0, 2.4], [95.0, 160.0, 0.04574261854631706, 181.0, 2.48], [89.4, 70.0, 0.02907330589461383, 30.0, 1.67], [137.51, 155.0, 0.02752305044493216, 3.0, 2.41], [77.3, 75.0, 0.03570828839001672, 695.0, 2.26], [91.31, 105.0, 0.06716914969694814, 3.0, 2.24], [87.95, 105.0, 0.035025484640970835, 155.0, 2.1], [139.59, 125.0, 0.033261560062757614, 205.0, 2.12], [107.28, 145.0, 0.01804299572857353, 225.0, 2.52], [76.1, 85.0, 0.034878010813682435, 690.0, 2.22], [89.41, 75.0, 0.05373582164075096, 205.0, 2.54], [81.9, 120.0, 0.023407470823318902, 651.0, 2.27], [92.12, 155.0, 0.037428600486516604, 99.0, 2.27], [135.81, 95.0, 0.028478627205766167, 31.0, 2.37], [90.65, 100.0, 0.05369590696567412, 106.0, 2.42], [133.73, 105.0, 0.034736415434142576, 18.0, 2.36], [144.62, 30.0, 0.02990831354276945, 199.0, 2.09], [144.75, 105.0, 0.02486137805704945, 190.0, 2.08], [99.89, 60.0, 0.05255867684674709, 372.0, 2.59], [144.62, 115.0, 0.02990831354276945, 199.0, 2.09], [103.91, 65.0, 0.050830213280792264, 29.0, 2.41], [133.4, 85.0, 0.02875923859176239, 57.0, 2.37], [121.62, 55.0, 0.043193840148350426, 99.0, 2.43], [137.46, 155.0, 0.026066182636784167, 39.0, 2.41], [103.2, 30.0, 0.03980976548517892, 157.0, 2.25], [143.48, 35.0, 0.024087248549372785, 189.0, 2.07], [60.0, 55.0, 0.03557069196275883, 711.0, 2.08], [95.0, 105.0, 0.039871988179493965, 80.0, 2.03], [119.15, 120.0, 0.04106330083258357, 200.0, 2.46], [133.94, 80.0, 0.037198772132634436, 23.0, 2.35], [84.5, 50.0, 0.026966968549812943, 7.0, 1.64], [98.95, 60.0, 0.032242082363378124, 570.0, 2.53], [76.5, 130.0, 0.01941518223912429, 660.0, 2.28], [94.18, 45.0, 0.0418915506785926, 413.0, 2.7], [146.01, 80.0, 0.04034332393473633, 585.0, 1.9], [93.69, 70.0, 0.05449156940305447, 771.0, 2.75], [115.8, 85.0, 0.04366757207570815, 478.0, 2.58], [81.75, 100.0, 0.027639068053334416, 632.0, 2.49], [94.99, 150.0, 0.0697894134639457, 1.0, 2.2], [122.65, 150.0, 0.04381723541187575, 646.0, 2.31], [106.3, 65.0, 0.03627265867160459, 224.0, 2.3], [107.96, 155.0, 0.020556949806368498, 214.0, 2.51], [90.65, 70.0, 0.05369590696567412, 44.0, 2.4], [105.15, 80.0, 0.05041707319464903, 172.0, 2.51], [96.6, 165.0, 0.06593577053311157, 63.0, 2.36], [77.4, 40.0, 0.0229767343221936, 291.0, 2.08], [99.55, 125.0, 0.033053053201065684, 22.0, 1.76], [111.96, 115.0, 0.05436436876731463, 21.0, 2.43], [134.16, 85.0, 0.02593423395533704, 626.0, 2.27], [119.3, 175.0, 0.041100395508881706, 290.0, 2.41], [99.55, 170.0, 0.06805140265323532, 801.0, 2.93], [111.11, 105.0, 0.055187490005592345, 695.0, 2.5], [125.75, 160.0, 0.0567472996325723, 241.0, 2.52], [106.52, 125.0, 0.0466434048839187, 721.0, 2.6], [143.36, 190.0, 0.02208173621110559, 161.0, 2.45], [140.7, 125.0, 0.02171823662231393, 9.0, 2.42], [105.85, 40.0, 0.03850843954337147, 85.0, 1.99], [91.31, 60.0, 0.06716914969694814, 430.0, 2.72], [133.94, 210.0, 0.037198772132634436, 233.0, 2.38], [145.47, 75.0, 0.01844086679291513, 176.0, 2.08], [85.6, 150.0, 0.05089068930639548, 120.0, 2.4], [84.15, 90.0, 0.02088460505842642, 29.0, 1.67], [88.4, 115.0, 0.05375751880029838, 784.0, 2.81], [136.6, 30.0, 0.02784704439188373, 242.0, 2.42], [146.1, 110.0, 0.01954833436101369, 241.0, 2.09], [104.1, 65.0, 0.02944259516825113, 10.0, 1.88], [90.34, 155.0, 0.05337744260853343, 382.0, 2.63], [143.36, 140.0, 0.02208173621110559, 42.0, 2.42], [77.4, 50.0, 0.0229767343221936, 46.0, 1.77], [99.55, 70.0, 0.06805140265323532, 73.0, 2.35], [85.67, 80.0, 0.05134786360186918, 87.0, 2.39], [143.36, 60.0, 0.02208173621110559, 161.0, 2.45], [148.01, 180.0, 0.017307845747791668, 535.0, 1.97], [107.6, 110.0, 0.02658037020883468, 30.0, 1.85], [101.44, 70.0, 0.06760264965192364, 161.0, 2.52], [108.68, 65.0, 0.05522043012971626, 148.0, 2.51], [81.75, 30.0, 0.022918911862514674, 135.0, 1.68], [96.6, 160.0, 0.06593577053311157, 63.0, 2.36], [80.5, 75.0, 0.02274421240213188, 290.0, 2.09], [85.1, 30.0, 0.015440871820853228, 234.0, 2.06], [114.09, 85.0, 0.04988989500469597, 234.0, 2.51], [141.17, 70.0, 0.021145810352489983, 617.0, 2.26], [111.96, 160.0, 0.04309717861046268, 45.0, 2.14], [63.1, 30.0, 0.03501066441507238, 67.0, 1.62], [149.04, 100.0, 0.03997917719852827, 29.0, 2.17], [85.2, 45.0, 0.016127754243936997, 142.0, 2.08], [111.3, 115.0, 0.03529287075030784, 136.0, 2.29], [143.0, 155.0, 0.02356693543711004, 4.0, 2.17], [74.85, 45.0, 0.03588738917539757, 332.0, 2.01], [142.03, 110.0, 0.02304807360549109, 165.0, 2.46], [144.62, 60.0, 0.02990831354276945, 17.0, 2.21], [81.9, 110.0, 0.023407470823318902, 42.0, 1.68], [129.95, 65.0, 0.026794942492717886, 85.0, 2.43], [83.15, 105.0, 0.03939288128719838, 44.0, 1.69], [143.61, 165.0, 0.03721474485363761, 128.0, 2.24], [109.27, 115.0, 0.02093525234091236, 35.0, 2.48], [137.22, 170.0, 0.02356572453640285, 255.0, 2.46], [96.95, 145.0, 0.037464009722041273, 172.0, 2.21], [98.95, 125.0, 0.023534909328441097, 129.0, 1.92], [101.87, 170.0, 0.04958711777085005, 724.0, 2.58], [91.89, 90.0, 0.05247972172205729, 42.0, 2.4], [75.6, 75.0, 0.035646036027757975, 28.0, 1.35], [109.02, 120.0, 0.04324673887199517, 834.0, 2.87], [108.36, 165.0, 0.02017738307473924, 675.0, 2.45], [101.57, 95.0, 0.051093507440548885, 2.0, 2.41], [89.35, 35.0, 0.06919720611335829, 65.0, 2.38], [95.0, 95.0, 0.039871988179493965, 535.0, 2.44], [83.18, 145.0, 0.05119926052739802, 760.0, 2.7], [133.43, 180.0, 0.026733957170835786, 261.0, 2.44], [151.52, 185.0, 0.01908022790249121, 86.0, 2.1], [104.29, 120.0, 0.04812054632559818, 90.0, 2.41], [114.01, 140.0, 0.0432652999768328, 44.0, 2.15], [145.59, 165.0, 0.0243538727116994, 37.0, 2.18], [137.34, 35.0, 0.0347013778172662, 231.0, 2.35], [86.95, 65.0, 0.015562401342617497, 15.0, 1.76], [106.3, 70.0, 0.03627265867160459, 15.0, 1.98], [103.9, 170.0, 0.04798018744684324, 358.0, 2.58], [102.36, 135.0, 0.03894561031299679, 94.0, 2.3], [75.05, 60.0, 0.03009198382900272, 323.0, 2.05], [106.6, 90.0, 0.03518143723410588, 135.0, 2.14], [77.3, 35.0, 0.03570828839001672, 58.0, 1.64], [85.67, 130.0, 0.05134786360186918, 759.0, 2.65], [82.67, 105.0, 0.05135880528303604, 115.0, 2.45], [124.48, 175.0, 0.035416602172033324, 640.0, 2.41], [134.16, 160.0, 0.02593423395533704, 17.0, 2.43], [106.6, 45.0, 0.03518143723410588, 44.0, 2.0], [119.36, 55.0, 0.04206772515911834, 10.0, 2.43], [104.29, 100.0, 0.04812054632559818, 0.0, 2.4], [86.05, 70.0, 0.037057284322713234, 255.0, 2.05], [106.85, 90.0, 0.03120329614729463, 28.0, 1.95], [144.63, 180.0, 0.03987837568686335, 577.0, 1.86], [99.29, 85.0, 0.05210345396041228, 186.0, 2.52], [128.25, 175.0, 0.02708046286156833, 269.0, 2.46], [99.8, 115.0, 0.04027389784965785, 32.0, 1.93], [75.05, 75.0, 0.03422545995240442, 233.0, 1.86], [122.65, 105.0, 0.04381723541187575, 8.0, 2.4], [133.52, 65.0, 0.02679878159514775, 266.0, 2.46], [83.3, 55.0, 0.02816223659953558, 179.0, 2.04], [79.55, 45.0, 0.02081677694808208, 113.0, 1.73], [137.34, 65.0, 0.0347013778172662, 140.0, 2.35], [114.18, 110.0, 0.05345431358025315, 690.0, 2.51], [102.39, 105.0, 0.03919313319782007, 183.0, 2.47], [109.35, 30.0, 0.06814659430140835, 351.0, 2.55], [135.81, 145.0, 0.028478627205766167, 150.0, 2.42], [121.4, 170.0, 0.056874325017275164, 62.0, 2.43], [76.8, 95.0, 0.02933387656602945, 49.0, 1.65], [97.35, 95.0, 0.06119850817893752, 169.0, 2.49], [98.95, 80.0, 0.032242082363378124, 52.0, 1.93], [96.47, 140.0, 0.04852132788166263, 136.0, 2.56], [144.11, 165.0, 0.03955388694961375, 25.0, 2.12], [143.48, 115.0, 0.024087248549372785, 189.0, 2.07], [82.4, 110.0, 0.02098512697245141, 309.0, 2.07], [86.95, 110.0, 0.015562401342617497, 141.0, 2.08], [101.95, 45.0, 0.03009799618017172, 28.0, 1.83], [105.65, 75.0, 0.03028472331639227, 120.0, 1.94], [145.47, 130.0, 0.01844086679291513, 85.0, 2.1], [110.69, 90.0, 0.05949430095473529, 711.0, 2.53], [99.89, 70.0, 0.05255867684674709, 36.0, 2.42], [89.42, 85.0, 0.05252903068517965, 77.0, 2.4], [134.76, 140.0, 0.03635558075423575, 143.0, 2.38], [122.51, 135.0, 0.03552736788519532, 1.0, 2.43], [134.86, 90.0, 0.027111380155893743, 36.0, 2.4], [115.8, 145.0, 0.04366757207570815, 114.0, 2.2], [93.98, 150.0, 0.0550863498793181, 135.0, 2.42], [109.35, 40.0, 0.06814659430140835, 351.0, 2.55], [96.47, 80.0, 0.04852132788166263, 18.0, 2.3], [143.61, 130.0, 0.03721474485363761, 219.0, 2.2], [143.71, 70.0, 0.02417727691911128, 105.0, 2.23], [146.1, 190.0, 0.01954833436101369, 87.0, 2.06], [139.76, 140.0, 0.03323668688625022, 24.0, 2.11], [121.77, 110.0, 0.040637651528114285, 115.0, 2.46], [118.92, 30.0, 0.04086959285181575, 298.0, 2.41], [145.84, 65.0, 0.020942446037653058, 182.0, 2.03], [145.59, 75.0, 0.0243538727116994, 191.0, 2.07], [119.26, 115.0, 0.04253479949494567, 198.0, 2.45], [86.45, 60.0, 0.035883690523158804, 611.0, 2.58], [99.89, 115.0, 0.05255867684674709, 736.0, 2.56], [114.85, 95.0, 0.04503190154239454, 31.0, 2.05], [139.59, 190.0, 0.033261560062757614, 569.0, 1.77], [102.36, 85.0, 0.03894561031299679, 3.0, 2.19], [108.6, 110.0, 0.032424728602590006, 144.0, 2.25], [83.18, 60.0, 0.05119926052739802, 396.0, 2.66], [75.6, 70.0, 0.035646036027757975, 0.0, 1.35], [139.52, 125.0, 0.03648791528053155, 50.0, 2.38], [91.55, 125.0, 0.04960606332745087, 86.0, 2.34], [122.75, 155.0, 0.029983711000520632, 183.0, 2.47], [82.45, 65.0, 0.02395413754744376, 44.0, 1.67], [103.75, 65.0, 0.02370739211794156, 581.0, 2.55], [149.14, 200.0, 0.01778622484506646, 84.0, 2.12], [147.42, 185.0, 0.01800164940835659, 18.0, 2.12], [96.6, 100.0, 0.06593577053311157, 0.0, 2.21], [97.51, 130.0, 0.03425648376411678, 188.0, 2.44], [115.8, 145.0, 0.04366757207570815, 23.0, 2.11], [99.55, 125.0, 0.06805140265323532, 45.0, 2.23], [85.0, 40.0, 0.028565676067374344, 637.0, 2.46], [87.0, 70.0, 0.02007968702641709, 667.0, 2.31], [109.02, 160.0, 0.04324673887199517, 196.0, 2.42], [145.21, 75.0, 0.03978760750816205, 578.0, 1.86], [109.1, 150.0, 0.016403341833589692, 686.0, 2.55], [115.8, 130.0, 0.04366757207570815, 204.0, 2.37], [133.94, 210.0, 0.037198772132634436, 597.0, 2.09], [109.27, 155.0, 0.043225389323293235, 469.0, 2.64], [92.08, 75.0, 0.056522309865481124, 38.0, 2.28], [91.31, 120.0, 0.06716914969694814, 3.0, 2.24], [75.05, 45.0, 0.03009198382900272, 323.0, 2.05], [96.47, 70.0, 0.04852132788166263, 228.0, 2.56], [143.48, 75.0, 0.024087248549372785, 553.0, 1.84], [61.05, 50.0, 0.02987537075131015, 16.0, 1.43], [102.36, 130.0, 0.03894561031299679, 3.0, 2.19], [86.89, 120.0, 0.06339175941381088, 148.0, 2.52], [103.75, 150.0, 0.02370739211794156, 126.0, 1.94], [87.95, 80.0, 0.035025484640970835, 155.0, 2.1], [101.77, 150.0, 0.06778791125188538, 168.0, 2.49], [97.51, 170.0, 0.03425648376411678, 462.0, 2.66], [105.2, 120.0, 0.02488153995771937, 87.0, 2.02], [125.68, 145.0, 0.02730710523442496, 179.0, 2.47], [82.45, 60.0, 0.02355362887883084, 680.0, 2.25], [76.5, 45.0, 0.01941518223912429, 660.0, 2.28], [146.01, 85.0, 0.04034332393473633, 39.0, 2.3], [143.71, 170.0, 0.02417727691911128, 105.0, 2.23], [101.57, 115.0, 0.051093507440548885, 92.0, 2.43], [82.25, 55.0, 0.039105580737061794, 263.0, 2.04], [86.97, 55.0, 0.0524224717238065, 126.0, 2.43], [97.45, 140.0, 0.03939848994816208, 182.0, 2.47], [97.4, 90.0, 0.03228772966546013, 116.0, 1.93], [133.52, 145.0, 0.02679878159514775, 266.0, 2.46], [97.51, 150.0, 0.03425648376411678, 35.0, 2.14], [145.52, 55.0, 0.019325458726455042, 179.0, 2.08], [116.13, 45.0, 0.057630864965401124, 157.0, 2.5], [85.67, 55.0, 0.05134786360186918, 759.0, 2.65], [121.4, 95.0, 0.056874325017275164, 700.0, 2.52], [148.52, 145.0, 0.02922987407630936, 233.0, 2.1], [140.7, 140.0, 0.02171823662231393, 44.0, 2.42], [77.65, 65.0, 0.020019776292782333, 206.0, 1.93], [92.9, 30.0, 0.02391101621048447, 589.0, 2.5], [81.75, 75.0, 0.027639068053334416, 632.0, 2.49], [96.95, 40.0, 0.037464009722041273, 536.0, 2.43], [90.0, 75.0, 0.01722376373399032, 49.0, 1.92], [82.1, 65.0, 0.05211553345680715, 0.0, 2.41], [125.02, 100.0, 0.04316950309792203, 6.0, 2.41], [89.41, 150.0, 0.05373582164075096, 23.0, 2.41], [108.15, 130.0, 0.01953874168830817, 130.0, 2.46], [111.3, 35.0, 0.03529287075030784, 136.0, 2.29], [81.5, 50.0, 0.0392368437441856, 262.0, 2.05], [82.67, 100.0, 0.05135880528303604, 53.0, 2.45], [71.7, 45.0, 0.035571211115538307, 702.0, 2.17], [104.05, 45.0, 0.03983454266421006, 67.0, 2.06], [86.16, 55.0, 0.06603447853296382, 31.0, 2.23], [145.84, 60.0, 0.03967343022331565, 30.0, 2.14], [101.67, 65.0, 0.06785756925371184, 441.0, 2.7], [120.83, 160.0, 0.04081190245642279, 112.0, 2.4], [93.69, 55.0, 0.05449156940305447, 133.0, 2.41], [81.9, 70.0, 0.023407470823318902, 287.0, 2.06], [96.8, 145.0, 0.0329202118784856, 205.0, 2.1], [99.8, 125.0, 0.04027389784965785, 151.0, 2.25], [81.65, 50.0, 0.04085377595000247, 49.0, 1.82], [109.1, 60.0, 0.016403341833589692, 14.0, 2.44], [99.55, 135.0, 0.06805140265323532, 437.0, 2.72], [107.28, 135.0, 0.01804299572857353, 680.0, 2.47], [141.96, 180.0, 0.040351047419522064, 43.0, 2.32], [145.84, 160.0, 0.020942446037653058, 245.0, 2.03], [105.65, 150.0, 0.03028472331639227, 211.0, 2.12], [100.3, 70.0, 0.031957296786981115, 567.0, 2.52], [110.11, 110.0, 0.06315234590095266, 42.0, 2.41], [86.45, 105.0, 0.035883690523158804, 65.0, 1.92], [90.52, 60.0, 0.058429640905986874, 809.0, 2.81], [101.44, 100.0, 0.06760264965192364, 71.0, 2.35], [145.84, 175.0, 0.03967343022331565, 121.0, 2.18], [91.31, 130.0, 0.06716914969694814, 794.0, 2.89], [107.85, 125.0, 0.020152416626519568, 674.0, 2.45], [140.7, 75.0, 0.02171823662231393, 44.0, 2.42], [140.95, 175.0, 0.033643711082795166, 50.0, 2.14], [84.15, 100.0, 0.02088460505842642, 302.0, 2.05], [108.15, 135.0, 0.01953874168830817, 221.0, 2.54], [139.47, 95.0, 0.02178936629123049, 94.0, 2.15], [82.95, 70.0, 0.02248597549291465, 288.0, 2.07], [143.0, 150.0, 0.02356693543711004, 95.0, 2.16], [91.31, 45.0, 0.06716914969694814, 430.0, 2.72], [125.68, 170.0, 0.02730710523442496, 179.0, 2.47], [145.52, 100.0, 0.019325458726455042, 88.0, 2.09], [89.42, 70.0, 0.05645052394588116, 406.0, 2.68], [96.8, 95.0, 0.0329202118784856, 205.0, 2.1], [94.1, 105.0, 0.038396805639194016, 190.0, 2.45], [106.7, 125.0, 0.028871292293442905, 98.0, 1.98], [133.43, 45.0, 0.026733957170835786, 261.0, 2.44], [101.91, 145.0, 0.06750222569987634, 9.0, 2.23], [108.6, 95.0, 0.032424728602590006, 25.0, 1.96], [91.31, 125.0, 0.06716914969694814, 156.0, 2.53], [111.22, 135.0, 0.05807076087841561, 164.0, 2.5], [89.54, 160.0, 0.049390696870170704, 780.0, 2.83], [99.65, 80.0, 0.040151201275386836, 37.0, 1.96], [101.67, 55.0, 0.06785756925371184, 49.0, 2.33], [91.82, 110.0, 0.05831998124933874, 808.0, 2.84], [135.81, 175.0, 0.028478627205766167, 241.0, 2.42], [113.5, 60.0, 0.045621608535184766, 119.0, 2.18], [143.48, 145.0, 0.024087248549372785, 189.0, 2.07], [84.92, 70.0, 0.05092128836817107, 211.0, 2.55], [89.54, 90.0, 0.049390696870170704, 52.0, 2.41], [83.18, 75.0, 0.05119926052739802, 396.0, 2.66], [118.65, 55.0, 0.042099531639726386, 106.0, 2.44], [118.12, 50.0, 0.03379825466972451, 667.0, 2.4], [82.05, 45.0, 0.03607495935958746, 612.0, 2.58], [133.57, 120.0, 0.026763198903317645, 263.0, 2.47], [97.98, 100.0, 0.0462370357253842, 60.0, 2.34], [141.96, 120.0, 0.040351047419522064, 43.0, 2.32], [87.0, 100.0, 0.02007968702641709, 121.0, 1.74], [119.15, 140.0, 0.04106330083258357, 291.0, 2.41], [83.6, 65.0, 0.032657795322860415, 23.0, 1.76], [143.02, 115.0, 0.03363884127473833, 109.0, 2.21], [94.4, 95.0, 0.017144481326023718, 136.0, 2.13], [108.9, 45.0, 0.02392192790432199, 88.0, 1.99], [122.65, 65.0, 0.038312663166650884, 28.0, 2.51], [106.7, 135.0, 0.028871292293442905, 35.0, 1.87], [84.25, 30.0, 0.03680927376720219, 613.0, 2.55], [142.03, 100.0, 0.02304807360549109, 11.0, 2.43], [93.98, 145.0, 0.0550863498793181, 773.0, 2.8], [137.51, 175.0, 0.02752305044493216, 66.0, 2.41], [90.34, 80.0, 0.05337744260853343, 746.0, 2.48], [86.95, 125.0, 0.015562401342617497, 50.0, 1.93], [88.75, 35.0, 0.03455286422363945, 609.0, 2.55], [109.6, 80.0, 0.028568698611290418, 23.0, 1.97], [59.65, 80.0, 0.034146872967722224, 343.0, 1.89], [116.1, 135.0, 0.04319010755719318, 491.0, 2.55], [83.3, 80.0, 0.020032987384958824, 60.0, 1.8], [142.44, 165.0, 0.037687252670167794, 584.0, 1.93], [112.45, 90.0, 0.046253993306802715, 849.0, 2.81], [92.9, 70.0, 0.02391101621048447, 589.0, 2.5], [95.93, 80.0, 0.06666538557082065, 160.0, 2.52], [84.55, 60.0, 0.026524870053739283, 192.0, 1.93], [85.67, 95.0, 0.05134786360186918, 87.0, 2.39], [120.34, 100.0, 0.0438325118803356, 192.0, 2.46], [114.09, 80.0, 0.04988989500469597, 234.0, 2.51], [138.18, 85.0, 0.037655242502910836, 17.0, 2.34], [102.36, 125.0, 0.047397276740506665, 85.0, 2.41], [103.79, 60.0, 0.05177982124764943, 45.0, 2.39], [92.12, 55.0, 0.037428600486516604, 8.0, 2.14], [133.94, 135.0, 0.037198772132634436, 233.0, 2.38], [119.0, 160.0, 0.043633075940499325, 50.0, 2.18], [63.1, 75.0, 0.03501066441507238, 340.0, 1.93], [141.91, 115.0, 0.020369889593048918, 247.0, 2.04], [84.92, 60.0, 0.05092128836817107, 29.0, 2.42], [139.47, 150.0, 0.02178936629123049, 94.0, 2.15], [121.77, 170.0, 0.040637651528114285, 297.0, 2.44], [96.8, 120.0, 0.0329202118784856, 51.0, 1.93], [125.75, 50.0, 0.0567472996325723, 150.0, 2.52], [144.62, 145.0, 0.02990831354276945, 199.0, 2.09], [142.44, 55.0, 0.037687252670167794, 584.0, 1.93], [99.8, 70.0, 0.04027389784965785, 32.0, 1.93], [95.91, 50.0, 0.0521173509381002, 738.0, 2.58], [89.42, 95.0, 0.05645052394588116, 770.0, 2.72], [151.52, 175.0, 0.01908022790249121, 240.0, 2.08], [82.67, 95.0, 0.05135880528303604, 81.0, 2.45], [95.0, 75.0, 0.039871988179493965, 171.0, 2.21], [136.6, 155.0, 0.02784704439188373, 606.0, 2.21], [95.35, 155.0, 0.03980656094125559, 79.0, 2.03], [122.65, 50.0, 0.038312663166650884, 666.0, 2.41], [121.4, 85.0, 0.056874325017275164, 62.0, 2.43], [100.3, 150.0, 0.031957296786981115, 49.0, 1.93], [104.29, 120.0, 0.04812054632559818, 182.0, 2.5], [97.35, 110.0, 0.06119850817893752, 443.0, 2.69], [89.4, 90.0, 0.02907330589461383, 184.0, 2.01], [118.65, 165.0, 0.042099531639726386, 14.0, 2.43], [91.55, 115.0, 0.04960606332745087, 58.0, 2.34], [124.48, 145.0, 0.035416602172033324, 31.0, 2.43], [98.95, 40.0, 0.032242082363378124, 570.0, 2.53], [109.02, 85.0, 0.04324673887199517, 106.0, 2.22], [89.42, 65.0, 0.05645052394588116, 770.0, 2.72], [63.1, 85.0, 0.03501066441507238, 704.0, 2.09], [120.83, 150.0, 0.04081190245642279, 112.0, 2.4], [104.2, 45.0, 0.029096468191720862, 100.0, 1.97], [109.1, 80.0, 0.016403341833589692, 231.0, 2.52], [144.13, 145.0, 0.02412207640156263, 102.0, 2.26], [144.13, 115.0, 0.02412207640156263, 11.0, 2.23], [81.7, 55.0, 0.022058999127506286, 38.0, 1.64], [99.55, 50.0, 0.02379997599014585, 219.0, 2.09], [83.3, 105.0, 0.020032987384958824, 60.0, 1.8], [111.96, 125.0, 0.05436436876731463, 329.0, 2.55], [140.7, 135.0, 0.02171823662231393, 44.0, 2.42], [90.25, 150.0, 0.05240592015590785, 750.0, 2.56], [137.51, 100.0, 0.02752305044493216, 248.0, 2.43], [82.85, 35.0, 0.02629471439129068, 100.0, 1.73], [142.09, 40.0, 0.02714700206074621, 247.0, 2.43], [83.18, 30.0, 0.05119926052739802, 32.0, 2.36], [117.4, 75.0, 0.04068156701191989, 296.0, 2.4], [142.44, 155.0, 0.037687252670167794, 129.0, 2.27], [124.98, 115.0, 0.04357283801505035, 32.0, 2.42], [97.27, 135.0, 0.03429335757363078, 459.0, 2.67], [88.75, 45.0, 0.03455286422363945, 63.0, 1.91], [95.0, 95.0, 0.04574261854631706, 28.0, 2.19], [121.62, 100.0, 0.043193840148350426, 7.0, 2.42], [128.25, 95.0, 0.02708046286156833, 24.0, 2.43], [97.51, 40.0, 0.03425648376411678, 462.0, 2.66], [93.69, 140.0, 0.05449156940305447, 133.0, 2.41], [136.8, 135.0, 0.022252106239307963, 624.0, 2.35], [82.67, 30.0, 0.05135880528303604, 25.0, 2.42], [94.99, 40.0, 0.0697894134639457, 428.0, 2.7], [120.11, 135.0, 0.04211339748648698, 196.0, 2.46], [90.25, 100.0, 0.05240592015590785, 112.0, 2.41], [76.1, 105.0, 0.03568778432317364, 693.0, 2.25], [83.3, 125.0, 0.03475224044737936, 605.0, 2.59], [98.55, 120.0, 0.06770483768273462, 74.0, 2.36], [75.6, 100.0, 0.035646036027757975, 154.0, 1.83], [141.96, 105.0, 0.040351047419522064, 134.0, 2.33], [119.7, 50.0, 0.04577045983518167, 476.0, 2.59], [143.71, 150.0, 0.02417727691911128, 196.0, 2.14], [108.1, 115.0, 0.05806304972627883, 8.0, 2.43], [111.96, 150.0, 0.05436436876731463, 329.0, 2.55], [98.95, 100.0, 0.032242082363378124, 115.0, 1.93], [146.01, 90.0, 0.04034332393473633, 39.0, 2.3], [108.36, 155.0, 0.02017738307473924, 220.0, 2.53], [105.15, 60.0, 0.05041707319464903, 46.0, 2.42], [91.89, 90.0, 0.05247972172205729, 742.0, 2.5], [84.25, 60.0, 0.03680927376720219, 158.0, 2.09], [120.83, 110.0, 0.04081190245642279, 658.0, 2.27], [148.52, 160.0, 0.02922987407630936, 170.0, 2.1], [141.17, 65.0, 0.021145810352489983, 162.0, 2.46], [140.94, 55.0, 0.036935548741476684, 226.0, 2.25], [99.55, 125.0, 0.06805140265323532, 437.0, 2.72], [144.11, 180.0, 0.03955388694961375, 53.0, 2.13], [90.34, 170.0, 0.05337744260853343, 382.0, 2.63], [95.44, 50.0, 0.05591199982832329, 39.0, 2.42], [86.97, 140.0, 0.0524224717238065, 764.0, 2.75], [106.3, 60.0, 0.03627265867160459, 43.0, 1.98], [109.02, 135.0, 0.04324673887199517, 470.0, 2.63], [88.67, 130.0, 0.052216453849600886, 37.0, 2.3], [89.4, 80.0, 0.02907330589461383, 639.0, 2.42], [102.25, 80.0, 0.04027350865033592, 154.0, 2.24], [106.0, 115.0, 0.02494461008299276, 578.0, 2.56], [122.75, 95.0, 0.029983711000520632, 92.0, 2.42], [104.1, 50.0, 0.03205668447190172, 15.0, 1.87], [86.95, 70.0, 0.015562401342617497, 141.0, 2.08], [133.52, 110.0, 0.02679878159514775, 21.0, 2.42], [59.95, 85.0, 0.03368497367649679, 9.0, 1.36], [91.55, 80.0, 0.04960606332745087, 23.0, 2.2], [105.65, 65.0, 0.03028472331639227, 575.0, 2.56], [101.77, 30.0, 0.06778791125188538, 442.0, 2.67], [145.84, 70.0, 0.020942446037653058, 91.0, 2.06], [106.85, 115.0, 0.03120329614729463, 56.0, 2.09], [109.05, 100.0, 0.028532374790515017, 143.0, 2.28], [85.0, 95.0, 0.028565676067374344, 182.0, 2.01], [142.1, 185.0, 0.03328721317978595, 112.0, 2.12], [107.6, 150.0, 0.02658037020883468, 58.0, 1.94], [125.68, 85.0, 0.02730710523442496, 270.0, 2.47], [97.42, 70.0, 0.046291221339118456, 59.0, 2.33], [82.45, 45.0, 0.02355362887883084, 316.0, 2.05], [108.89, 125.0, 0.033616104014165364, 59.0, 2.46], [112.0, 105.0, 0.044291377964058416, 25.0, 2.07], [96.7, 75.0, 0.057924496456266614, 175.0, 2.47], [83.65, 75.0, 0.03806448896319161, 259.0, 2.03], [90.52, 135.0, 0.058429640905986874, 809.0, 2.81], [142.44, 125.0, 0.037687252670167794, 584.0, 1.93], [103.79, 125.0, 0.05177982124764943, 717.0, 2.56], [104.35, 80.0, 0.026903333240906255, 546.0, 2.41], [142.1, 55.0, 0.03328721317978595, 203.0, 2.09], [85.6, 125.0, 0.05089068930639548, 30.0, 2.35], [108.6, 140.0, 0.032424728602590006, 508.0, 2.47], [114.85, 120.0, 0.04503190154239454, 3.0, 2.05], [100.3, 90.0, 0.031957296786981115, 49.0, 1.93], [109.65, 140.0, 0.029259029608548006, 231.0, 2.28], [110.69, 90.0, 0.05949430095473529, 11.0, 2.41], [101.87, 140.0, 0.04958711777085005, 52.0, 2.43], [145.84, 210.0, 0.03967343022331565, 121.0, 2.18], [86.75, 55.0, 0.036707828274391216, 35.0, 1.68], [85.67, 65.0, 0.05134786360186918, 31.0, 2.35], [85.2, 40.0, 0.016127754243936997, 51.0, 1.94], [122.65, 50.0, 0.04381723541187575, 646.0, 2.31], [77.65, 45.0, 0.020019776292782333, 115.0, 1.77], [143.0, 60.0, 0.02356693543711004, 186.0, 2.06], [99.58, 100.0, 0.03881411603965588, 101.0, 2.25], [89.42, 95.0, 0.05252903068517965, 111.0, 2.4], [84.25, 80.0, 0.021000429032404483, 217.0, 1.96], [82.67, 35.0, 0.05135880528303604, 389.0, 2.61], [142.09, 55.0, 0.02714700206074621, 156.0, 2.43], [109.6, 120.0, 0.028568698611290418, 232.0, 2.28], [99.8, 120.0, 0.04027389784965785, 32.0, 1.93], [76.8, 55.0, 0.02933387656602945, 231.0, 1.86], [85.04, 65.0, 0.06600052885413198, 788.0, 2.79], [108.6, 105.0, 0.032424728602590006, 25.0, 1.96], [141.91, 160.0, 0.020369889593048918, 247.0, 2.04], [113.67, 50.0, 0.049063841279046616, 324.0, 2.54], [148.12, 70.0, 0.03955871329297976, 210.0, 2.05], [84.85, 75.0, 0.027112728040820242, 8.0, 1.65], [112.0, 150.0, 0.044291377964058416, 25.0, 2.07], [114.18, 160.0, 0.05345431358025315, 144.0, 2.51], [148.12, 175.0, 0.03955871329297976, 210.0, 2.05], [85.15, 45.0, 0.0380501450991221, 620.0, 2.49], [61.45, 55.0, 0.03193718936996071, 14.0, 1.4], [134.76, 210.0, 0.03635558075423575, 234.0, 2.38], [119.0, 155.0, 0.043633075940499325, 841.0, 2.83], [108.75, 80.0, 0.027372650454282367, 93.0, 2.0], [82.05, 50.0, 0.03607495935958746, 612.0, 2.58], [84.92, 50.0, 0.05092128836817107, 393.0, 2.64], [99.6, 150.0, 0.03949299905522924, 78.0, 2.02], [101.57, 30.0, 0.051093507440548885, 366.0, 2.57], [125.68, 135.0, 0.02730710523442496, 179.0, 2.47], [108.68, 115.0, 0.05522043012971626, 239.0, 2.51], [133.94, 70.0, 0.037198772132634436, 51.0, 2.37], [115.95, 125.0, 0.043428805077523454, 216.0, 2.33], [104.05, 75.0, 0.03983454266421006, 158.0, 2.22], [118.84, 80.0, 0.04068573078584941, 659.0, 2.23], [118.92, 160.0, 0.04086959285181575, 53.0, 2.46], [95.93, 100.0, 0.06666538557082065, 434.0, 2.73], [119.66, 155.0, 0.056911777328876485, 337.0, 2.53], [106.52, 125.0, 0.0466434048839187, 175.0, 2.51], [102.95, 95.0, 0.03911118885856188, 44.0, 1.93], [111.96, 140.0, 0.05436436876731463, 238.0, 2.51], [106.2, 120.0, 0.03944865609835047, 161.0, 2.23], [111.1, 65.0, 0.0283847778515402, 140.0, 2.28], [82.1, 50.0, 0.05211553345680715, 210.0, 2.54], [99.55, 75.0, 0.02379997599014585, 583.0, 2.59], [139.76, 120.0, 0.03323668688625022, 24.0, 2.11], [81.6, 105.0, 0.027967467676052928, 52.0, 1.87], [145.59, 80.0, 0.0243538727116994, 9.0, 2.18], [104.35, 90.0, 0.026903333240906255, 182.0, 2.16], [95.93, 135.0, 0.06666538557082065, 160.0, 2.52], [105.3, 140.0, 0.03207961120690282, 105.0, 1.97], [79.55, 95.0, 0.02081677694808208, 50.0, 1.73], [98.55, 100.0, 0.06770483768273462, 438.0, 2.71], [146.01, 150.0, 0.04034332393473633, 11.0, 2.3], [139.47, 155.0, 0.02178936629123049, 3.0, 2.16], [98.85, 130.0, 0.038414581421304266, 14.0, 1.9], [83.05, 40.0, 0.019072673638772814, 298.0, 2.06], [98.2, 115.0, 0.02359929121875208, 130.0, 1.94], [107.25, 65.0, 0.02126967117374272, 308.0, 2.52], [145.27, 100.0, 0.02472683396997556, 556.0, 1.92], [114.85, 115.0, 0.04503190154239454, 212.0, 2.36], [138.18, 85.0, 0.037655242502910836, 227.0, 2.29], [84.92, 170.0, 0.05092128836817107, 757.0, 2.67], [71.7, 35.0, 0.035571211115538307, 156.0, 1.81], [88.67, 135.0, 0.052216453849600886, 765.0, 2.77], [143.02, 165.0, 0.03363884127473833, 46.0, 2.21], [84.85, 65.0, 0.027112728040820242, 99.0, 1.75], [95.44, 110.0, 0.05591199982832329, 193.0, 2.54], [102.36, 75.0, 0.047397276740506665, 85.0, 2.41], [101.77, 85.0, 0.06778791125188538, 442.0, 2.67], [145.84, 110.0, 0.03967343022331565, 576.0, 1.74], [96.8, 135.0, 0.0329202118784856, 205.0, 2.1], [119.3, 140.0, 0.041100395508881706, 290.0, 2.41], [99.55, 170.0, 0.06805140265323532, 73.0, 2.35], [149.04, 85.0, 0.03997917719852827, 211.0, 2.04], [106.3, 60.0, 0.03627265867160459, 134.0, 2.13], [108.25, 60.0, 0.03581670508662785, 42.0, 1.98], [107.96, 170.0, 0.020556949806368498, 31.0, 2.47], [111.11, 80.0, 0.055187490005592345, 240.0, 2.51], [101.87, 35.0, 0.04958711777085005, 360.0, 2.59], [110.11, 30.0, 0.06315234590095266, 350.0, 2.56], [98.95, 70.0, 0.032242082363378124, 115.0, 1.93], [88.67, 60.0, 0.052216453849600886, 219.0, 2.56], [108.6, 110.0, 0.032424728602590006, 234.0, 2.25], [119.41, 90.0, 0.057647592204568415, 156.0, 2.51], [133.43, 135.0, 0.026733957170835786, 51.0, 2.43], [85.0, 55.0, 0.028565676067374344, 273.0, 2.22], [86.4, 100.0, 0.020375721807325376, 668.0, 2.34], [145.27, 115.0, 0.02472683396997556, 38.0, 2.22], [140.94, 60.0, 0.036935548741476684, 590.0, 1.83], [143.61, 50.0, 0.03721474485363761, 37.0, 2.19], [103.0, 95.0, 0.0238246792656612, 127.0, 1.94], [133.73, 125.0, 0.034736415434142576, 137.0, 2.31], [110.11, 165.0, 0.06315234590095266, 350.0, 2.56], [145.52, 50.0, 0.019325458726455042, 179.0, 2.08], [76.1, 65.0, 0.03568778432317364, 329.0, 2.02], [83.05, 40.0, 0.019072673638772814, 25.0, 1.71], [110.11, 85.0, 0.06315234590095266, 76.0, 2.4], [94.4, 85.0, 0.017144481326023718, 591.0, 2.49], [99.6, 100.0, 0.03949299905522924, 50.0, 2.02], [95.0, 80.0, 0.04574261854631706, 0.0, 2.19], [115.8, 150.0, 0.04366757207570815, 204.0, 2.37], [141.17, 165.0, 0.021145810352489983, 253.0, 2.46], [91.39, 145.0, 0.05654371115744505, 39.0, 2.32], [101.87, 70.0, 0.04958711777085005, 86.0, 2.43], [77.3, 90.0, 0.03570828839001672, 331.0, 2.03], [99.55, 60.0, 0.033053053201065684, 204.0, 2.11], [97.45, 75.0, 0.03939848994816208, 29.0, 2.19], [82.45, 100.0, 0.02395413754744376, 16.0, 1.67], [90.52, 80.0, 0.058429640905986874, 171.0, 2.49], [83.225, 100.0, 0.03670930940113666, 617.0, 2.54], [120.83, 95.0, 0.04081190245642279, 294.0, 2.4], [143.61, 130.0, 0.03721474485363761, 583.0, 1.88], [82.45, 95.0, 0.02355362887883084, 225.0, 1.89], [139.76, 100.0, 0.03323668688625022, 206.0, 2.1], [81.75, 85.0, 0.027639068053334416, 51.0, 1.85], [140.94, 115.0, 0.036935548741476684, 44.0, 2.31], [143.1, 130.0, 0.02100244127244113, 246.0, 2.01], [86.4, 65.0, 0.020375721807325376, 59.0, 1.81], [113.5, 60.0, 0.045621608535184766, 28.0, 2.05], [142.44, 160.0, 0.037687252670167794, 584.0, 1.93], [137.34, 70.0, 0.0347013778172662, 49.0, 2.35], [141.91, 180.0, 0.020369889593048918, 247.0, 2.04], [145.27, 185.0, 0.02472683396997556, 192.0, 2.15], [138.18, 120.0, 0.037655242502910836, 136.0, 2.29], [91.55, 60.0, 0.04960606332745087, 86.0, 2.34], [144.62, 70.0, 0.02990831354276945, 17.0, 2.21], [119.26, 115.0, 0.04253479949494567, 15.0, 2.42], [86.16, 150.0, 0.06603447853296382, 787.0, 2.79], [108.68, 120.0, 0.05522043012971626, 694.0, 2.53], [97.42, 120.0, 0.046291221339118456, 815.0, 2.89], [136.6, 95.0, 0.02784704439188373, 32.0, 2.39], [115.95, 85.0, 0.043428805077523454, 126.0, 2.16], [133.73, 195.0, 0.034736415434142576, 228.0, 2.31], [83.65, 125.0, 0.03806448896319161, 623.0, 2.51], [109.1, 115.0, 0.016403341833589692, 322.0, 2.55], [90.65, 70.0, 0.05369590696567412, 380.0, 2.6], [112.45, 70.0, 0.046253993306802715, 121.0, 2.16], [107.96, 110.0, 0.020556949806368498, 669.0, 2.45], [143.71, 50.0, 0.02417727691911128, 196.0, 2.14], [145.21, 210.0, 0.03978760750816205, 578.0, 1.86], [102.0, 60.0, 0.03123251637738835, 108.0, 1.98], [133.94, 155.0, 0.037198772132634436, 597.0, 2.09], [108.9, 115.0, 0.02392192790432199, 179.0, 2.19], [133.52, 80.0, 0.02679878159514775, 175.0, 2.46], [128.25, 80.0, 0.02708046286156833, 87.0, 2.45], [97.4, 150.0, 0.03228772966546013, 53.0, 1.93], [142.94, 190.0, 0.03891984806009386, 217.0, 2.18], [108.36, 70.0, 0.02017738307473924, 3.0, 2.44], [109.35, 80.0, 0.06814659430140835, 77.0, 2.41], [87.0, 70.0, 0.02007968702641709, 303.0, 2.06], [108.89, 90.0, 0.033616104014165364, 59.0, 2.46], [122.75, 160.0, 0.029983711000520632, 638.0, 2.38], [102.39, 85.0, 0.03919313319782007, 821.0, 2.89], [119.41, 95.0, 0.057647592204568415, 156.0, 2.51], [77.4, 100.0, 0.0229767343221936, 291.0, 2.08], [106.52, 100.0, 0.0466434048839187, 49.0, 2.39], [89.54, 55.0, 0.049390696870170704, 780.0, 2.83], [144.63, 90.0, 0.03987837568686335, 577.0, 1.86], [143.0, 140.0, 0.02356693543711004, 95.0, 2.16], [98.55, 90.0, 0.06770483768273462, 438.0, 2.71], [97.51, 135.0, 0.03425648376411678, 35.0, 2.14], [85.1, 55.0, 0.015440871820853228, 52.0, 1.93], [99.55, 65.0, 0.033053053201065684, 113.0, 1.93], [101.67, 120.0, 0.06785756925371184, 441.0, 2.7], [117.98, 80.0, 0.04070214771517892, 301.0, 2.45], [118.84, 85.0, 0.04068573078584941, 204.0, 2.44], [76.5, 65.0, 0.01941518223912429, 296.0, 2.12], [99.89, 60.0, 0.05255867684674709, 736.0, 2.56], [111.65, 50.0, 0.038944572100956996, 130.0, 2.14], [96.47, 50.0, 0.04852132788166263, 46.0, 2.38], [85.5, 40.0, 0.034654111036277274, 151.0, 2.14], [98.02, 165.0, 0.052282287257146204, 373.0, 2.59], [104.35, 90.0, 0.026903333240906255, 28.0, 1.86], [134.86, 65.0, 0.027111380155893743, 246.0, 2.43], [83.5, 75.0, 0.041067196097455023, 50.0, 1.82], [101.34, 125.0, 0.05211642321528565, 59.0, 2.45], [137.34, 95.0, 0.0347013778172662, 21.0, 2.35], [138.18, 80.0, 0.037655242502910836, 45.0, 2.34], [94.37, 50.0, 0.05920640773116481, 174.0, 2.47], [99.89, 105.0, 0.05255867684674709, 64.0, 2.43], [101.77, 120.0, 0.06778791125188538, 442.0, 2.67], [120.83, 60.0, 0.04081190245642279, 203.0, 2.44], [121.77, 130.0, 0.040637651528114285, 52.0, 2.46], [109.02, 125.0, 0.04324673887199517, 834.0, 2.87], [85.0, 130.0, 0.028565676067374344, 637.0, 2.46], [91.31, 60.0, 0.06716914969694814, 794.0, 2.89], [88.4, 55.0, 0.05375751880029838, 56.0, 2.41], [59.95, 75.0, 0.03368497367649679, 345.0, 1.91], [87.95, 40.0, 0.035025484640970835, 64.0, 1.92], [103.2, 45.0, 0.03980976548517892, 521.0, 2.44], [120.34, 90.0, 0.0438325118803356, 192.0, 2.46], [120.34, 140.0, 0.0438325118803356, 647.0, 2.35], [108.25, 60.0, 0.03581670508662785, 14.0, 1.98], [84.55, 60.0, 0.026524870053739283, 647.0, 2.32], [113.67, 115.0, 0.049063841279046616, 142.0, 2.52], [106.87, 55.0, 0.017810059724161033, 317.0, 2.54], [84.85, 35.0, 0.027112728040820242, 281.0, 2.11], [90.34, 75.0, 0.05337744260853343, 108.0, 2.45], [94.4, 80.0, 0.017144481326023718, 591.0, 2.49], [58.25, 90.0, 0.034302774894045644, 708.0, 2.13], [114.85, 65.0, 0.04503190154239454, 3.0, 2.05], [108.15, 145.0, 0.01953874168830817, 221.0, 2.54], [118.84, 75.0, 0.04068573078584941, 204.0, 2.44], [89.41, 125.0, 0.05373582164075096, 205.0, 2.54], [106.7, 50.0, 0.028871292293442905, 553.0, 2.59], [84.5, 45.0, 0.026966968549812943, 35.0, 1.64], [128.25, 110.0, 0.02708046286156833, 178.0, 2.46], [141.4, 145.0, 0.022239045536183395, 259.0, 2.46], [102.25, 65.0, 0.04027350865033592, 518.0, 2.44], [96.7, 140.0, 0.057924496456266614, 57.0, 2.34], [82.25, 80.0, 0.039105580737061794, 263.0, 2.04], [119.0, 105.0, 0.043633075940499325, 22.0, 2.1], [143.53, 80.0, 0.029901334351513275, 562.0, 1.77], [148.52, 50.0, 0.02922987407630936, 170.0, 2.1], [106.85, 105.0, 0.03120329614729463, 28.0, 1.95], [103.2, 90.0, 0.03980976548517892, 66.0, 2.08], [142.09, 125.0, 0.02714700206074621, 156.0, 2.43], [136.49, 110.0, 0.028166128481303964, 240.0, 2.41], [101.91, 95.0, 0.06750222569987634, 9.0, 2.23], [125.68, 65.0, 0.02730710523442496, 634.0, 2.38], [85.04, 140.0, 0.06600052885413198, 32.0, 2.23], [104.05, 40.0, 0.03983454266421006, 158.0, 2.22], [93.51, 95.0, 0.04812671260953174, 232.0, 2.52], [99.65, 80.0, 0.040151201275386836, 156.0, 2.23], [145.21, 210.0, 0.03978760750816205, 214.0, 2.2], [75.55, 65.0, 0.03425629580763793, 325.0, 2.08], [149.14, 185.0, 0.01778622484506646, 175.0, 2.1], [111.11, 150.0, 0.055187490005592345, 331.0, 2.54], [84.92, 105.0, 0.05092128836817107, 119.0, 2.39], [83.5, 40.0, 0.041067196097455023, 85.0, 1.82], [113.5, 100.0, 0.045621608535184766, 119.0, 2.18], [86.16, 60.0, 0.06603447853296382, 31.0, 2.23], [103.2, 65.0, 0.03980976548517892, 3.0, 1.96], [93.69, 95.0, 0.05449156940305447, 225.0, 2.56], [95.35, 45.0, 0.03980656094125559, 170.0, 2.22], [140.94, 185.0, 0.036935548741476684, 226.0, 2.25], [120.34, 120.0, 0.0438325118803356, 9.0, 2.42], [133.57, 85.0, 0.026763198903317645, 81.0, 2.44], [143.22, 115.0, 0.037955192138043284, 8.0, 2.24], [147.42, 140.0, 0.01800164940835659, 172.0, 2.1], [122.65, 60.0, 0.038312663166650884, 666.0, 2.41], [108.89, 70.0, 0.033616104014165364, 59.0, 2.46], [82.1, 70.0, 0.05211553345680715, 0.0, 2.41], [103.9, 150.0, 0.04798018744684324, 84.0, 2.37], [148.12, 145.0, 0.03955871329297976, 119.0, 2.11], [109.65, 120.0, 0.029259029608548006, 22.0, 1.97], [99.55, 135.0, 0.04045012597373312, 519.0, 2.45], [101.95, 70.0, 0.03009799618017172, 574.0, 2.56], [105.65, 105.0, 0.03028472331639227, 211.0, 2.12], [83.225, 40.0, 0.03670930940113666, 617.0, 2.54], [106.6, 145.0, 0.03518143723410588, 135.0, 2.14], [95.0, 155.0, 0.04574261854631706, 181.0, 2.48], [121.4, 100.0, 0.056874325017275164, 154.0, 2.5], [109.35, 90.0, 0.06814659430140835, 15.0, 2.42], [142.09, 160.0, 0.02714700206074621, 37.0, 2.4], [109.05, 80.0, 0.028532374790515017, 143.0, 2.28], [148.52, 155.0, 0.02922987407630936, 233.0, 2.1], [90.25, 45.0, 0.05240592015590785, 204.0, 2.49], [101.29, 160.0, 0.052604678039866605, 371.0, 2.58], [86.45, 90.0, 0.035883690523158804, 156.0, 2.09], [95.35, 150.0, 0.03980656094125559, 79.0, 2.03], [148.12, 145.0, 0.03955871329297976, 0.0, 2.16], [122.75, 100.0, 0.029983711000520632, 0.0, 2.44], [59.65, 85.0, 0.034146872967722224, 707.0, 2.05], [75.6, 70.0, 0.035646036027757975, 336.0, 2.0], [111.01, 85.0, 0.05767055003564834, 35.0, 2.43], [124.98, 145.0, 0.04357283801505035, 3.0, 2.42], [60.15, 70.0, 0.034690698407710024, 10.0, 1.48], [110.69, 70.0, 0.05949430095473529, 711.0, 2.53], [122.75, 110.0, 0.029983711000520632, 0.0, 2.44], [83.3, 55.0, 0.03475224044737936, 605.0, 2.59], [143.0, 100.0, 0.02356693543711004, 550.0, 1.83], [75.05, 70.0, 0.03422545995240442, 16.0, 1.5], [108.25, 150.0, 0.03581670508662785, 42.0, 1.98], [143.0, 175.0, 0.02356693543711004, 32.0, 2.17], [151.52, 150.0, 0.01908022790249121, 240.0, 2.08], [103.79, 125.0, 0.05177982124764943, 45.0, 2.39], [105.15, 145.0, 0.05041707319464903, 718.0, 2.6], [99.8, 145.0, 0.04027389784965785, 60.0, 2.06], [74.85, 105.0, 0.03588738917539757, 241.0, 1.87], [99.65, 65.0, 0.040151201275386836, 520.0, 2.45], [139.52, 145.0, 0.03648791528053155, 232.0, 2.4], [117.4, 145.0, 0.04068156701191989, 51.0, 2.44], [81.75, 95.0, 0.027639068053334416, 177.0, 2.03], [85.6, 70.0, 0.05089068930639548, 394.0, 2.62], [84.25, 65.0, 0.021000429032404483, 0.0, 1.71], [112.0, 60.0, 0.044291377964058416, 844.0, 2.83], [144.78, 130.0, 0.04039331808446709, 42.0, 2.3], [99.58, 50.0, 0.03881411603965588, 101.0, 2.25], [99.55, 115.0, 0.04045012597373312, 155.0, 2.24], [88.4, 65.0, 0.05375751880029838, 56.0, 2.41], [83.3, 75.0, 0.020032987384958824, 214.0, 1.99], [98.02, 140.0, 0.052282287257146204, 99.0, 2.45], [116.3, 145.0, 0.04357222028705686, 205.0, 2.38], [101.44, 145.0, 0.06760264965192364, 71.0, 2.35], [90.25, 85.0, 0.05240592015590785, 112.0, 2.41], [93.51, 140.0, 0.04812671260953174, 140.0, 2.52], [97.4, 110.0, 0.03228772966546013, 207.0, 2.13], [137.51, 180.0, 0.02752305044493216, 612.0, 2.2], [99.65, 60.0, 0.040151201275386836, 156.0, 2.23], [129.59, 135.0, 0.02700353265241049, 177.0, 2.46], [122.65, 120.0, 0.038312663166650884, 28.0, 2.51], [140.94, 200.0, 0.036935548741476684, 226.0, 2.25], [105.98, 135.0, 0.01722287137317212, 315.0, 2.53], [103.9, 90.0, 0.04798018744684324, 358.0, 2.58], [82.05, 75.0, 0.03607495935958746, 157.0, 2.09], [108.6, 155.0, 0.032424728602590006, 144.0, 2.25], [143.48, 115.0, 0.024087248549372785, 35.0, 2.16], [139.24, 85.0, 0.02741726994500036, 35.0, 2.39], [148.01, 210.0, 0.017307845747791668, 80.0, 2.08], [83.15, 40.0, 0.03939288128719838, 79.0, 1.84], [97.42, 110.0, 0.046291221339118456, 177.0, 2.48], [142.03, 160.0, 0.02304807360549109, 165.0, 2.46], [81.75, 30.0, 0.027639068053334416, 632.0, 2.49], [100.3, 95.0, 0.039631207170908386, 11.0, 1.92], [86.4, 110.0, 0.020375721807325376, 304.0, 2.08], [108.36, 85.0, 0.02017738307473924, 3.0, 2.44], [59.95, 95.0, 0.03368497367649679, 709.0, 2.15], [134.79, 145.0, 0.0286904981199604, 238.0, 2.39], [89.54, 70.0, 0.049390696870170704, 142.0, 2.53], [139.59, 210.0, 0.033261560062757614, 205.0, 2.12], [135.81, 90.0, 0.028478627205766167, 59.0, 2.39], [84.85, 110.0, 0.027112728040820242, 190.0, 1.95], [85.2, 60.0, 0.016127754243936997, 142.0, 2.08], [87.2, 140.0, 0.05053913197199575, 7.0, 2.36], [142.09, 160.0, 0.02714700206074621, 156.0, 2.43], [111.96, 70.0, 0.04309717861046268, 45.0, 2.14], [139.47, 100.0, 0.02178936629123049, 94.0, 2.15], [89.41, 110.0, 0.05373582164075096, 23.0, 2.41], [96.7, 95.0, 0.057924496456266614, 85.0, 2.34], [135.81, 75.0, 0.028478627205766167, 241.0, 2.42], [91.39, 70.0, 0.05654371115744505, 767.0, 2.72], [115.95, 45.0, 0.043428805077523454, 490.0, 2.56], [128.25, 165.0, 0.02708046286156833, 87.0, 2.45], [95.44, 65.0, 0.05591199982832329, 11.0, 2.42], [83.18, 160.0, 0.05119926052739802, 396.0, 2.66], [119.0, 105.0, 0.043633075940499325, 203.0, 2.37], [100.3, 45.0, 0.031957296786981115, 567.0, 2.52], [84.5, 65.0, 0.026966968549812943, 644.0, 2.37], [114.09, 130.0, 0.04988989500469597, 234.0, 2.51], [106.99, 70.0, 0.06744445974072215, 78.0, 2.42], [84.85, 95.0, 0.027112728040820242, 645.0, 2.34], [144.63, 110.0, 0.03987837568686335, 31.0, 2.18], [107.21, 160.0, 0.01633129053880686, 44.0, 2.44], [86.95, 110.0, 0.015562401342617497, 15.0, 1.76], [86.45, 75.0, 0.02916089943722945, 274.0, 2.21], [82.85, 50.0, 0.02629471439129068, 100.0, 1.73], [139.59, 90.0, 0.033261560062757614, 569.0, 1.77], [98.25, 75.0, 0.02407223709119008, 133.0, 1.93], [89.54, 60.0, 0.049390696870170704, 416.0, 2.7], [149.04, 105.0, 0.03997917719852827, 29.0, 2.17], [105.3, 90.0, 0.02787708475705453, 57.0, 2.08], [109.1, 135.0, 0.016403341833589692, 322.0, 2.55], [108.75, 60.0, 0.027372650454282367, 93.0, 2.0], [110.85, 70.0, 0.02266813029334776, 58.0, 2.01], [133.43, 185.0, 0.026733957170835786, 170.0, 2.44], [122.75, 180.0, 0.029983711000520632, 183.0, 2.47], [91.55, 150.0, 0.04960606332745087, 23.0, 2.2], [101.87, 40.0, 0.04958711777085005, 360.0, 2.59], [140.95, 150.0, 0.033643711082795166, 113.0, 2.14], [106.99, 160.0, 0.06744445974072215, 78.0, 2.42], [105.98, 110.0, 0.01722287137317212, 41.0, 2.45], [106.6, 150.0, 0.03518143723410588, 16.0, 2.0], [109.27, 40.0, 0.043225389323293235, 469.0, 2.64], [90.25, 125.0, 0.05240592015590785, 386.0, 2.58], [92.28, 120.0, 0.05017401584613703, 53.0, 2.41], [93.98, 140.0, 0.0550863498793181, 45.0, 2.37], [146.01, 200.0, 0.04034332393473633, 221.0, 2.21], [143.53, 100.0, 0.029901334351513275, 16.0, 2.25], [89.54, 70.0, 0.049390696870170704, 234.0, 2.53], [106.1, 110.0, 0.03980859881527557, 43.0, 1.91], [83.18, 45.0, 0.05119926052739802, 760.0, 2.7], [142.44, 50.0, 0.037687252670167794, 38.0, 2.27], [109.02, 80.0, 0.04324673887199517, 43.0, 2.16], [81.5, 50.0, 0.0392368437441856, 80.0, 1.85], [143.1, 155.0, 0.02100244127244113, 1.0, 2.11], [103.79, 65.0, 0.05177982124764943, 353.0, 2.6], [116.3, 100.0, 0.04357222028705686, 52.0, 2.21], [133.43, 95.0, 0.026733957170835786, 170.0, 2.44], [118.84, 55.0, 0.04068573078584941, 21.0, 2.44], [106.6, 150.0, 0.03518143723410588, 44.0, 2.0], [90.34, 110.0, 0.05337744260853343, 46.0, 2.45], [119.3, 75.0, 0.041100395508881706, 654.0, 2.3], [99.55, 100.0, 0.06805140265323532, 45.0, 2.23], [111.11, 155.0, 0.055187490005592345, 695.0, 2.5], [103.2, 60.0, 0.03980976548517892, 38.0, 1.96], [89.4, 90.0, 0.02907330589461383, 93.0, 1.81], [92.08, 90.0, 0.056522309865481124, 402.0, 2.7], [85.67, 45.0, 0.05134786360186918, 213.0, 2.53], [108.36, 100.0, 0.02017738307473924, 3.0, 2.44], [98.95, 55.0, 0.023534909328441097, 129.0, 1.92], [83.2, 80.0, 0.022573054573586555, 2.0, 1.71], [104.1, 75.0, 0.02944259516825113, 10.0, 1.88], [92.28, 140.0, 0.05017401584613703, 53.0, 2.41], [106.3, 50.0, 0.03627265867160459, 498.0, 2.5], [109.82, 110.0, 0.0581122217960108, 9.0, 2.4], [94.1, 75.0, 0.038396805639194016, 100.0, 2.27], [83.15, 70.0, 0.03939288128719838, 261.0, 2.03], [102.39, 100.0, 0.03919313319782007, 93.0, 2.31], [110.69, 80.0, 0.05949430095473529, 711.0, 2.53], [79.65, 55.0, 0.026428436979249875, 228.0, 1.86], [103.91, 75.0, 0.050830213280792264, 1.0, 2.41], [143.61, 140.0, 0.03721474485363761, 9.0, 2.19], [95.0, 30.0, 0.04574261854631706, 455.0, 2.67], [114.98, 140.0, 0.04578773498363206, 837.0, 2.82], [109.82, 85.0, 0.0581122217960108, 37.0, 2.4], [101.57, 120.0, 0.051093507440548885, 58.0, 2.43], [105.98, 170.0, 0.01722287137317212, 41.0, 2.45], [93.98, 125.0, 0.0550863498793181, 227.0, 2.58], [102.36, 85.0, 0.047397276740506665, 723.0, 2.58], [86.97, 65.0, 0.0524224717238065, 126.0, 2.43], [139.24, 85.0, 0.02741726994500036, 609.0, 2.2], [81.5, 120.0, 0.0392368437441856, 262.0, 2.05], [106.3, 160.0, 0.03627265867160459, 224.0, 2.3], [143.22, 165.0, 0.037955192138043284, 218.0, 2.18], [143.22, 165.0, 0.037955192138043284, 582.0, 1.83], [107.28, 75.0, 0.01804299572857353, 680.0, 2.47], [117.98, 75.0, 0.04070214771517892, 56.0, 2.46], [146.1, 170.0, 0.01954833436101369, 241.0, 2.09], [104.35, 130.0, 0.026903333240906255, 28.0, 1.86], [89.41, 85.0, 0.05373582164075096, 51.0, 2.44], [85.6, 160.0, 0.05089068930639548, 120.0, 2.4], [103.79, 50.0, 0.05177982124764943, 171.0, 2.51], [82.45, 115.0, 0.02395413754744376, 107.0, 1.71], [145.47, 140.0, 0.01844086679291513, 239.0, 2.08], [102.6, 115.0, 0.0395312245048135, 73.0, 2.06], [133.52, 145.0, 0.02679878159514775, 21.0, 2.42], [106.7, 120.0, 0.028871292293442905, 7.0, 1.87], [120.83, 80.0, 0.04081190245642279, 658.0, 2.27], [83.18, 45.0, 0.05119926052739802, 214.0, 2.54], [102.25, 45.0, 0.04027350865033592, 518.0, 2.44], [101.44, 100.0, 0.06760264965192364, 8.0, 2.21], [99.29, 65.0, 0.05210345396041228, 94.0, 2.45], [86.16, 45.0, 0.06603447853296382, 59.0, 2.39], [90.25, 50.0, 0.05240592015590785, 204.0, 2.49], [108.1, 75.0, 0.05806304972627883, 70.0, 2.42], [99.55, 70.0, 0.04045012597373312, 36.0, 1.96], [142.44, 165.0, 0.037687252670167794, 10.0, 2.27], [110.69, 90.0, 0.05949430095473529, 165.0, 2.49], [148.01, 75.0, 0.017307845747791668, 80.0, 2.08], [82.1, 140.0, 0.05211553345680715, 0.0, 2.41], [118.84, 160.0, 0.04068573078584941, 204.0, 2.44], [81.5, 50.0, 0.0392368437441856, 626.0, 2.5], [107.21, 145.0, 0.01633129053880686, 682.0, 2.55], [116.3, 80.0, 0.04357222028705686, 52.0, 2.21], [90.34, 85.0, 0.05337744260853343, 382.0, 2.63], [76.5, 75.0, 0.01941518223912429, 296.0, 2.12], [106.1, 135.0, 0.03980859881527557, 8.0, 1.91], [133.4, 170.0, 0.02875923859176239, 239.0, 2.4], [108.36, 50.0, 0.02017738307473924, 37.0, 2.44], [63.1, 50.0, 0.03501066441507238, 32.0, 1.35], [118.84, 140.0, 0.04068573078584941, 21.0, 2.44], [81.2, 110.0, 0.023240811553711386, 648.0, 2.29], [75.55, 105.0, 0.03425629580763793, 689.0, 2.27], [108.25, 65.0, 0.03581670508662785, 14.0, 1.98], [58.25, 45.0, 0.034302774894045644, 36.0, 1.32], [91.55, 65.0, 0.04960606332745087, 176.0, 2.47], [148.01, 120.0, 0.017307845747791668, 17.0, 2.07], [79.55, 60.0, 0.02081677694808208, 50.0, 1.73], [97.4, 135.0, 0.03228772966546013, 53.0, 1.93], [108.65, 105.0, 0.029278954084508618, 99.0, 1.98], [137.22, 200.0, 0.02356572453640285, 619.0, 2.28], [98.02, 100.0, 0.052282287257146204, 737.0, 2.56], [102.25, 130.0, 0.04027350865033592, 518.0, 2.44], [83.3, 125.0, 0.02816223659953558, 270.0, 2.04], [121.62, 90.0, 0.043193840148350426, 36.0, 2.42], [137.34, 170.0, 0.0347013778172662, 140.0, 2.35], [145.47, 160.0, 0.01844086679291513, 540.0, 1.99], [142.1, 210.0, 0.03328721317978595, 567.0, 1.75], [101.45, 115.0, 0.03742145682550624, 175.0, 2.2], [97.98, 130.0, 0.0462370357253842, 25.0, 2.18], [85.75, 40.0, 0.016114162935089483, 602.0, 2.48], [90.25, 45.0, 0.05240592015590785, 750.0, 2.56], [112.0, 170.0, 0.044291377964058416, 844.0, 2.83], [84.15, 90.0, 0.02088460505842642, 666.0, 2.29], [92.12, 150.0, 0.037428600486516604, 99.0, 2.27], [104.1, 40.0, 0.03205668447190172, 561.0, 2.55], [82.45, 60.0, 0.02395413754744376, 198.0, 1.9], [94.4, 110.0, 0.017144481326023718, 136.0, 2.13], [88.25, 130.0, 0.029491533475485245, 185.0, 2.02], [111.96, 130.0, 0.04309717861046268, 17.0, 2.14], [93.69, 150.0, 0.05449156940305447, 771.0, 2.75], [124.98, 90.0, 0.04357283801505035, 277.0, 2.43], [108.65, 95.0, 0.029278954084508618, 8.0, 1.89], [111.11, 75.0, 0.055187490005592345, 240.0, 2.51], [109.05, 35.0, 0.028532374790515017, 507.0, 2.47], [107.21, 125.0, 0.01633129053880686, 136.0, 2.53], [149.04, 210.0, 0.03997917719852827, 120.0, 2.14], [146.1, 170.0, 0.01954833436101369, 542.0, 1.97], [110.85, 100.0, 0.02266813029334776, 86.0, 2.01], [101.91, 140.0, 0.06750222569987634, 72.0, 2.37], [74.85, 85.0, 0.03588738917539757, 241.0, 1.87], [99.55, 135.0, 0.033053053201065684, 568.0, 2.52], [145.27, 180.0, 0.02472683396997556, 192.0, 2.15], [81.65, 90.0, 0.04085377595000247, 175.0, 2.02], [140.94, 160.0, 0.036935548741476684, 135.0, 2.35], [109.27, 80.0, 0.02093525234091236, 1.0, 2.48], [76.1, 65.0, 0.03568778432317364, 693.0, 2.25], [103.9, 130.0, 0.04798018744684324, 84.0, 2.37], [105.3, 75.0, 0.03207961120690282, 560.0, 2.53], [96.95, 145.0, 0.037464009722041273, 18.0, 1.91], [122.75, 70.0, 0.029983711000520632, 29.0, 2.44], [94.18, 130.0, 0.0418915506785926, 777.0, 2.8], [91.89, 100.0, 0.05247972172205729, 42.0, 2.4], [84.25, 55.0, 0.03680927376720219, 4.0, 1.7], [85.16, 135.0, 0.04964192796762052, 105.0, 2.41], [87.95, 40.0, 0.035025484640970835, 246.0, 2.1], [105.98, 165.0, 0.01722287137317212, 679.0, 2.45], [90.34, 120.0, 0.05337744260853343, 746.0, 2.48], [145.21, 80.0, 0.03978760750816205, 123.0, 2.23], [99.89, 170.0, 0.05255867684674709, 736.0, 2.56], [104.1, 110.0, 0.02944259516825113, 556.0, 2.59], [111.15, 155.0, 0.044180877443518035, 487.0, 2.57], [143.48, 130.0, 0.024087248549372785, 7.0, 2.16], [149.14, 165.0, 0.01778622484506646, 539.0, 2.0], [97.98, 120.0, 0.0462370357253842, 25.0, 2.18], [97.98, 75.0, 0.0462370357253842, 452.0, 2.68], [84.92, 130.0, 0.05092128836817107, 211.0, 2.55], [143.02, 140.0, 0.03363884127473833, 46.0, 2.21], [99.6, 40.0, 0.03949299905522924, 78.0, 2.02], [139.59, 100.0, 0.033261560062757614, 114.0, 2.15], [81.65, 105.0, 0.04085377595000247, 21.0, 1.62], [124.98, 135.0, 0.04357283801505035, 32.0, 2.42], [109.35, 160.0, 0.06814659430140835, 351.0, 2.55], [133.57, 105.0, 0.026763198903317645, 627.0, 2.3], [99.89, 115.0, 0.05255867684674709, 36.0, 2.42], [99.55, 60.0, 0.04045012597373312, 519.0, 2.45], [141.4, 195.0, 0.022239045536183395, 259.0, 2.46], [104.29, 170.0, 0.04812054632559818, 0.0, 2.4], [106.6, 85.0, 0.03518143723410588, 16.0, 2.0], [86.4, 115.0, 0.020375721807325376, 213.0, 1.97], [110.85, 145.0, 0.02266813029334776, 23.0, 1.9], [141.91, 160.0, 0.020369889593048918, 184.0, 2.04], [109.27, 145.0, 0.043225389323293235, 195.0, 2.41], [85.5, 95.0, 0.034654111036277274, 151.0, 2.14], [59.95, 55.0, 0.03368497367649679, 709.0, 2.15], [147.42, 145.0, 0.01800164940835659, 81.0, 2.12], [113.95, 75.0, 0.04040101175550796, 37.0, 2.01], [114.09, 55.0, 0.04988989500469597, 325.0, 2.55], [101.87, 50.0, 0.04958711777085005, 86.0, 2.43], [88.25, 65.0, 0.029491533475485245, 185.0, 2.02], [111.96, 130.0, 0.05436436876731463, 329.0, 2.55], [81.9, 125.0, 0.023407470823318902, 105.0, 1.73], [103.9, 35.0, 0.04798018744684324, 358.0, 2.58], [113.65, 130.0, 0.03900722091893658, 10.0, 2.02], [88.4, 150.0, 0.05375751880029838, 146.0, 2.52], [113.5, 80.0, 0.045621608535184766, 847.0, 2.81], [104.65, 60.0, 0.02685491140134169, 547.0, 2.4], [140.94, 50.0, 0.036935548741476684, 226.0, 2.25], [94.18, 140.0, 0.0418915506785926, 139.0, 2.52], [134.16, 65.0, 0.02593423395533704, 262.0, 2.46], [145.84, 210.0, 0.03967343022331565, 212.0, 2.11], [118.92, 115.0, 0.04086959285181575, 53.0, 2.46], [142.1, 90.0, 0.03328721317978595, 567.0, 1.75], [82.95, 120.0, 0.02248597549291465, 43.0, 1.67], [139.24, 60.0, 0.02741726994500036, 63.0, 2.39], [144.63, 105.0, 0.03987837568686335, 213.0, 2.2], [85.16, 60.0, 0.04964192796762052, 15.0, 2.42], [85.16, 35.0, 0.04964192796762052, 379.0, 2.5], [143.36, 145.0, 0.02208173621110559, 252.0, 2.45], [137.34, 105.0, 0.0347013778172662, 595.0, 1.95], [121.4, 125.0, 0.056874325017275164, 154.0, 2.5], [89.4, 45.0, 0.02907330589461383, 93.0, 1.81], [106.2, 110.0, 0.03944865609835047, 70.0, 2.05], [145.27, 140.0, 0.02472683396997556, 192.0, 2.15], [143.02, 155.0, 0.03363884127473833, 46.0, 2.21], [85.75, 130.0, 0.016114162935089483, 56.0, 1.9], [148.01, 95.0, 0.017307845747791668, 80.0, 2.08], [99.65, 105.0, 0.040151201275386836, 65.0, 2.07], [108.36, 50.0, 0.02017738307473924, 675.0, 2.45], [94.41, 120.0, 0.0493526854941492, 233.0, 2.53], [106.52, 105.0, 0.0466434048839187, 357.0, 2.6], [90.34, 50.0, 0.05337744260853343, 108.0, 2.45], [99.29, 90.0, 0.05210345396041228, 4.0, 2.42], [137.46, 185.0, 0.026066182636784167, 67.0, 2.41], [96.7, 70.0, 0.057924496456266614, 175.0, 2.47], [143.48, 160.0, 0.024087248549372785, 35.0, 2.16], [106.0, 145.0, 0.02494461008299276, 214.0, 2.13], [81.7, 110.0, 0.022058999127506286, 220.0, 1.9], [96.8, 35.0, 0.0329202118784856, 23.0, 1.79], [79.55, 50.0, 0.02081677694808208, 22.0, 1.63], [144.62, 125.0, 0.02990831354276945, 17.0, 2.21], [96.95, 120.0, 0.037464009722041273, 18.0, 1.91], [82.45, 35.0, 0.02395413754744376, 289.0, 2.07], [137.51, 180.0, 0.02752305044493216, 248.0, 2.43], [124.98, 150.0, 0.04357283801505035, 3.0, 2.42], [128.25, 60.0, 0.02708046286156833, 269.0, 2.46], [81.75, 120.0, 0.027639068053334416, 177.0, 2.03], [95.75, 80.0, 0.019383883901721143, 135.0, 1.95], [105.2, 65.0, 0.02488153995771937, 24.0, 1.92], [91.82, 55.0, 0.05831998124933874, 52.0, 2.33], [112.45, 55.0, 0.046253993306802715, 121.0, 2.16], [120.83, 95.0, 0.04081190245642279, 203.0, 2.44], [109.05, 160.0, 0.028532374790515017, 233.0, 2.28], [101.44, 135.0, 0.06760264965192364, 8.0, 2.21], [142.44, 85.0, 0.037687252670167794, 10.0, 2.27], [128.25, 70.0, 0.02708046286156833, 24.0, 2.43], [137.34, 80.0, 0.0347013778172662, 231.0, 2.35], [108.25, 120.0, 0.03581670508662785, 42.0, 1.98], [148.52, 175.0, 0.02922987407630936, 16.0, 2.01], [95.75, 100.0, 0.019383883901721143, 9.0, 1.81], [94.1, 165.0, 0.038396805639194016, 190.0, 2.45], [145.84, 115.0, 0.020942446037653058, 182.0, 2.03], [142.1, 80.0, 0.03328721317978595, 203.0, 2.09], [103.2, 95.0, 0.03980976548517892, 3.0, 1.96], [103.0, 75.0, 0.0238246792656612, 1.0, 1.81], [122.51, 145.0, 0.03552736788519532, 30.0, 2.43], [95.35, 115.0, 0.03980656094125559, 16.0, 1.93], [120.11, 95.0, 0.04211339748648698, 42.0, 2.42], [95.91, 130.0, 0.0521173509381002, 192.0, 2.54], [80.5, 105.0, 0.02274421240213188, 45.0, 1.7], [106.1, 130.0, 0.03980859881527557, 162.0, 2.25], [90.52, 155.0, 0.058429640905986874, 18.0, 2.17], [94.4, 95.0, 0.017144481326023718, 227.0, 2.13], [108.15, 70.0, 0.01953874168830817, 676.0, 2.47], [106.85, 55.0, 0.03120329614729463, 511.0, 2.44], [140.95, 160.0, 0.033643711082795166, 22.0, 2.19], [114.18, 60.0, 0.05345431358025315, 52.0, 2.47], [133.52, 100.0, 0.02679878159514775, 175.0, 2.46], [83.425, 45.0, 0.03688202209474797, 163.0, 2.05], [86.89, 100.0, 0.06339175941381088, 58.0, 2.41], [108.68, 160.0, 0.05522043012971626, 694.0, 2.53], [110.69, 65.0, 0.05949430095473529, 711.0, 2.53], [140.95, 175.0, 0.033643711082795166, 22.0, 2.19], [108.65, 120.0, 0.029278954084508618, 99.0, 1.98], [139.47, 130.0, 0.02178936629123049, 185.0, 2.06], [118.65, 160.0, 0.042099531639726386, 43.0, 2.43], [92.9, 85.0, 0.02391101621048447, 8.0, 1.78], [129.59, 115.0, 0.02700353265241049, 58.0, 2.44], [108.1, 45.0, 0.05806304972627883, 344.0, 2.55], [110.85, 40.0, 0.02266813029334776, 541.0, 2.42], [143.48, 115.0, 0.024087248549372785, 7.0, 2.16], [93.98, 45.0, 0.0550863498793181, 409.0, 2.71], [129.59, 55.0, 0.02700353265241049, 86.0, 2.44], [106.52, 160.0, 0.0466434048839187, 721.0, 2.6], [134.76, 85.0, 0.03635558075423575, 234.0, 2.38], [140.95, 105.0, 0.033643711082795166, 22.0, 2.19], [91.55, 135.0, 0.04960606332745087, 814.0, 2.84], [109.27, 150.0, 0.02093525234091236, 673.0, 2.46], [87.2, 95.0, 0.05053913197199575, 125.0, 2.42], [81.2, 45.0, 0.023240811553711386, 648.0, 2.29], [101.57, 105.0, 0.051093507440548885, 58.0, 2.43], [86.4, 50.0, 0.020375721807325376, 213.0, 1.97], [106.85, 150.0, 0.03120329614729463, 511.0, 2.44], [99.55, 45.0, 0.02379997599014585, 128.0, 1.94], [145.84, 170.0, 0.03967343022331565, 30.0, 2.14], [101.87, 110.0, 0.04958711777085005, 360.0, 2.59], [82.85, 40.0, 0.02629471439129068, 191.0, 1.95], [83.15, 80.0, 0.02315670353995874, 130.0, 1.71], [84.55, 100.0, 0.026524870053739283, 101.0, 1.74], [145.52, 90.0, 0.019325458726455042, 179.0, 2.08], [102.36, 75.0, 0.03894561031299679, 458.0, 2.66], [143.53, 40.0, 0.029901334351513275, 198.0, 2.08], [76.1, 65.0, 0.034878010813682435, 18.0, 1.39], [82.85, 110.0, 0.02629471439129068, 282.0, 2.09], [134.16, 150.0, 0.02593423395533704, 17.0, 2.43], [109.82, 140.0, 0.0581122217960108, 37.0, 2.4], [102.25, 105.0, 0.04027350865033592, 63.0, 2.05], [144.78, 160.0, 0.04039331808446709, 224.0, 2.15], [145.84, 120.0, 0.03967343022331565, 2.0, 2.14], [108.68, 150.0, 0.05522043012971626, 330.0, 2.55], [128.25, 160.0, 0.02708046286156833, 633.0, 2.36], [118.92, 130.0, 0.04086959285181575, 53.0, 2.46], [96.6, 140.0, 0.06593577053311157, 63.0, 2.36], [114.01, 165.0, 0.0432652999768328, 471.0, 2.62], [89.35, 100.0, 0.06919720611335829, 2.0, 2.24], [115.95, 135.0, 0.043428805077523454, 490.0, 2.56], [88.25, 100.0, 0.029491533475485245, 640.0, 2.41], [140.95, 60.0, 0.033643711082795166, 113.0, 2.14], [92.9, 65.0, 0.02391101621048447, 589.0, 2.5], [84.5, 100.0, 0.016135623623264126, 148.0, 2.09], [106.1, 120.0, 0.03980859881527557, 8.0, 1.91], [86.45, 80.0, 0.035883690523158804, 2.0, 1.69], [84.5, 100.0, 0.016135623623264126, 603.0, 2.5], [82.45, 55.0, 0.02395413754744376, 107.0, 1.71], [104.65, 120.0, 0.02685491140134169, 29.0, 1.89], [104.05, 125.0, 0.03983454266421006, 158.0, 2.22], [117.4, 155.0, 0.04068156701191989, 114.0, 2.44], [141.4, 90.0, 0.022239045536183395, 168.0, 2.46], [111.96, 115.0, 0.04309717861046268, 17.0, 2.14], [84.85, 115.0, 0.027112728040820242, 645.0, 2.34], [103.91, 60.0, 0.050830213280792264, 29.0, 2.41], [146.01, 85.0, 0.04034332393473633, 130.0, 2.29], [139.47, 140.0, 0.02178936629123049, 31.0, 2.16], [105.3, 85.0, 0.03207961120690282, 14.0, 1.86], [104.2, 70.0, 0.029096468191720862, 37.0, 1.89], [144.78, 135.0, 0.04039331808446709, 588.0, 1.85], [113.5, 55.0, 0.045621608535184766, 119.0, 2.18], [111.11, 125.0, 0.055187490005592345, 331.0, 2.54], [109.27, 55.0, 0.02093525234091236, 309.0, 2.52], [94.1, 80.0, 0.038396805639194016, 828.0, 2.88], [58.25, 60.0, 0.034302774894045644, 344.0, 1.91], [118.12, 90.0, 0.03379825466972451, 667.0, 2.4], [133.57, 155.0, 0.026763198903317645, 627.0, 2.3], [83.3, 40.0, 0.03475224044737936, 605.0, 2.59], [77.3, 30.0, 0.03570828839001672, 58.0, 1.64], [102.95, 90.0, 0.03911118885856188, 44.0, 1.93], [148.01, 110.0, 0.017307845747791668, 80.0, 2.08], [99.29, 85.0, 0.05210345396041228, 32.0, 2.42], [108.9, 65.0, 0.02392192790432199, 179.0, 2.19], [144.75, 175.0, 0.02486137805704945, 190.0, 2.08], [109.65, 115.0, 0.029259029608548006, 505.0, 2.47], [96.7, 130.0, 0.057924496456266614, 813.0, 2.86], [141.4, 120.0, 0.022239045536183395, 77.0, 2.43], [122.65, 85.0, 0.04381723541187575, 100.0, 2.43], [84.15, 85.0, 0.02088460505842642, 120.0, 1.72], [133.43, 90.0, 0.026733957170835786, 261.0, 2.44], [136.8, 65.0, 0.022252106239307963, 15.0, 2.44], [143.1, 150.0, 0.02100244127244113, 183.0, 2.01], [83.65, 80.0, 0.03806448896319161, 14.0, 1.67], [111.27, 40.0, 0.05758693612186035, 340.0, 2.55], [143.36, 50.0, 0.02208173621110559, 616.0, 2.26], [110.11, 60.0, 0.06315234590095266, 14.0, 2.41], [143.0, 155.0, 0.02356693543711004, 95.0, 2.16], [133.4, 155.0, 0.02875923859176239, 148.0, 2.4], [90.65, 45.0, 0.05369590696567412, 744.0, 2.5], [99.58, 70.0, 0.03881411603965588, 38.0, 2.17], [134.79, 80.0, 0.0286904981199604, 28.0, 2.37], [103.2, 110.0, 0.03980976548517892, 38.0, 1.96], [146.01, 135.0, 0.04034332393473633, 39.0, 2.3], [75.05, 70.0, 0.03422545995240442, 324.0, 2.07], [105.85, 45.0, 0.03850843954337147, 540.0, 2.41], [143.53, 35.0, 0.029901334351513275, 198.0, 2.08], [82.1, 40.0, 0.05211553345680715, 392.0, 2.62], [98.95, 90.0, 0.023534909328441097, 3.0, 1.81], [109.25, 145.0, 0.02096594591642004, 49.0, 2.45], [144.11, 160.0, 0.03955388694961375, 116.0, 2.13], [99.8, 70.0, 0.04027389784965785, 515.0, 2.43], [140.95, 145.0, 0.033643711082795166, 22.0, 2.19], [144.11, 190.0, 0.03955388694961375, 571.0, 1.72], [79.55, 105.0, 0.02081677694808208, 659.0, 2.27], [93.69, 130.0, 0.05449156940305447, 407.0, 2.7], [140.7, 120.0, 0.02171823662231393, 72.0, 2.43], [94.1, 125.0, 0.038396805639194016, 9.0, 2.18], [104.8, 40.0, 0.02969373123956808, 557.0, 2.57], [83.5, 90.0, 0.041067196097455023, 85.0, 1.82], [92.12, 120.0, 0.037428600486516604, 36.0, 2.14], [83.18, 145.0, 0.05119926052739802, 396.0, 2.66], [91.89, 135.0, 0.05247972172205729, 378.0, 2.57], [98.25, 100.0, 0.02407223709119008, 588.0, 2.5], [115.8, 120.0, 0.04366757207570815, 842.0, 2.83], [85.6, 110.0, 0.05089068930639548, 120.0, 2.4], [98.02, 95.0, 0.052282287257146204, 737.0, 2.56], [144.62, 150.0, 0.02990831354276945, 199.0, 2.09], [111.22, 70.0, 0.05807076087841561, 710.0, 2.53], [143.0, 60.0, 0.02356693543711004, 95.0, 2.16], [108.05, 110.0, 0.02914895502030368, 550.0, 2.59], [90.25, 130.0, 0.05240592015590785, 386.0, 2.58], [75.6, 50.0, 0.035646036027757975, 63.0, 1.62], [82.1, 130.0, 0.05211553345680715, 28.0, 2.41], [141.4, 125.0, 0.022239045536183395, 49.0, 2.43], [137.34, 130.0, 0.0347013778172662, 49.0, 2.35], [59.95, 80.0, 0.03368497367649679, 163.0, 1.73], [85.6, 45.0, 0.02740671450912244, 641.0, 2.39], [143.71, 140.0, 0.02417727691911128, 560.0, 1.87], [82.85, 115.0, 0.02629471439129068, 191.0, 1.95], [88.4, 75.0, 0.05375751880029838, 146.0, 2.52], [104.1, 100.0, 0.02944259516825113, 38.0, 1.88], [134.86, 105.0, 0.027111380155893743, 155.0, 2.43], [139.24, 95.0, 0.02741726994500036, 245.0, 2.42], [144.78, 30.0, 0.04039331808446709, 224.0, 2.15], [77.4, 55.0, 0.0229767343221936, 46.0, 1.77], [91.55, 80.0, 0.04960606332745087, 176.0, 2.47], [85.04, 70.0, 0.06600052885413198, 32.0, 2.23], [148.12, 140.0, 0.03955871329297976, 210.0, 2.05], [81.7, 55.0, 0.022058999127506286, 3.0, 1.64], [94.41, 145.0, 0.0493526854941492, 415.0, 2.69], [91.31, 60.0, 0.06716914969694814, 66.0, 2.38], [84.5, 70.0, 0.016135623623264126, 603.0, 2.5], [109.02, 95.0, 0.04324673887199517, 834.0, 2.87], [101.34, 115.0, 0.05211642321528565, 185.0, 2.52], [101.77, 120.0, 0.06778791125188538, 806.0, 2.84], [119.0, 130.0, 0.043633075940499325, 477.0, 2.58], [134.86, 105.0, 0.027111380155893743, 1.0, 2.4], [142.44, 155.0, 0.037687252670167794, 584.0, 1.93], [82.45, 35.0, 0.02355362887883084, 316.0, 2.05], [107.96, 120.0, 0.020556949806368498, 60.0, 2.44], [89.35, 125.0, 0.06919720611335829, 2.0, 2.24], [103.2, 100.0, 0.03980976548517892, 38.0, 1.96], [144.13, 130.0, 0.02412207640156263, 102.0, 2.26], [119.66, 145.0, 0.056911777328876485, 155.0, 2.51], [102.36, 80.0, 0.03894561031299679, 94.0, 2.3], [90.65, 100.0, 0.05369590696567412, 44.0, 2.4], [82.1, 100.0, 0.05211553345680715, 392.0, 2.62], [99.8, 125.0, 0.04027389784965785, 60.0, 2.06], [139.59, 165.0, 0.033261560062757614, 114.0, 2.15], [142.94, 200.0, 0.03891984806009386, 217.0, 2.18], [143.53, 55.0, 0.029901334351513275, 16.0, 2.25], [110.69, 75.0, 0.05949430095473529, 11.0, 2.41], [117.98, 140.0, 0.04070214771517892, 301.0, 2.45], [148.52, 110.0, 0.02922987407630936, 170.0, 2.1], [104.8, 115.0, 0.02969373123956808, 193.0, 2.15], [103.0, 110.0, 0.0238246792656612, 36.0, 1.81], [140.7, 105.0, 0.02171823662231393, 254.0, 2.45], [116.13, 100.0, 0.057630864965401124, 65.0, 2.43], [89.35, 135.0, 0.06919720611335829, 793.0, 2.86], [82.67, 45.0, 0.05135880528303604, 389.0, 2.61], [94.99, 100.0, 0.0697894134639457, 154.0, 2.51], [140.95, 35.0, 0.033643711082795166, 204.0, 2.12], [92.08, 30.0, 0.056522309865481124, 402.0, 2.7], [78.8, 40.0, 0.020669559837986747, 665.0, 2.28], [125.68, 110.0, 0.02730710523442496, 634.0, 2.38], [139.24, 95.0, 0.02741726994500036, 0.0, 2.39], [143.36, 135.0, 0.02208173621110559, 161.0, 2.45], [81.6, 50.0, 0.027967467676052928, 633.0, 2.48], [76.5, 60.0, 0.01941518223912429, 296.0, 2.12], [145.84, 35.0, 0.020942446037653058, 182.0, 2.03], [91.39, 105.0, 0.05654371115744505, 767.0, 2.72], [100.3, 105.0, 0.031957296786981115, 112.0, 1.93], [122.75, 125.0, 0.029983711000520632, 92.0, 2.42], [142.03, 70.0, 0.02304807360549109, 74.0, 2.44], [125.02, 40.0, 0.04316950309792203, 280.0, 2.44], [84.5, 60.0, 0.016135623623264126, 148.0, 2.09], [137.22, 130.0, 0.02356572453640285, 45.0, 2.44], [143.02, 130.0, 0.03363884127473833, 46.0, 2.21], [143.71, 90.0, 0.02417727691911128, 14.0, 2.26], [101.77, 70.0, 0.06778791125188538, 168.0, 2.49], [93.51, 65.0, 0.04812671260953174, 778.0, 2.81], [86.05, 100.0, 0.037057284322713234, 38.0, 1.69], [95.44, 125.0, 0.05591199982832329, 739.0, 2.53], [115.8, 50.0, 0.04366757207570815, 23.0, 2.11], [93.98, 75.0, 0.0550863498793181, 135.0, 2.42], [136.6, 155.0, 0.02784704439188373, 151.0, 2.42], [61.45, 40.0, 0.03193718936996071, 42.0, 1.4], [109.82, 130.0, 0.0581122217960108, 37.0, 2.4], [82.95, 95.0, 0.02248597549291465, 197.0, 1.93], [145.84, 50.0, 0.020942446037653058, 0.0, 2.11], [97.42, 75.0, 0.046291221339118456, 87.0, 2.33], [139.47, 130.0, 0.02178936629123049, 3.0, 2.16], [88.67, 95.0, 0.052216453849600886, 127.0, 2.43], [97.42, 35.0, 0.046291221339118456, 87.0, 2.33], [108.68, 65.0, 0.05522043012971626, 56.0, 2.45], [114.18, 80.0, 0.05345431358025315, 235.0, 2.51], [86.45, 115.0, 0.035883690523158804, 156.0, 2.09], [97.45, 45.0, 0.03939848994816208, 1.0, 2.19], [99.55, 115.0, 0.033053053201065684, 113.0, 1.93], [84.15, 45.0, 0.02088460505842642, 211.0, 1.95], [84.92, 65.0, 0.05092128836817107, 119.0, 2.39], [109.35, 115.0, 0.06814659430140835, 351.0, 2.55], [86.89, 130.0, 0.06339175941381088, 786.0, 2.81], [149.04, 120.0, 0.03997917719852827, 575.0, 1.72], [87.2, 115.0, 0.05053913197199575, 125.0, 2.42], [82.45, 50.0, 0.02395413754744376, 653.0, 2.28], [98.85, 65.0, 0.038414581421304266, 77.0, 2.01], [99.55, 80.0, 0.02379997599014585, 65.0, 1.94], [114.85, 135.0, 0.04503190154239454, 212.0, 2.36], [81.65, 30.0, 0.04085377595000247, 630.0, 2.49], [111.27, 135.0, 0.05758693612186035, 32.0, 2.44], [119.41, 150.0, 0.057647592204568415, 702.0, 2.53], [81.9, 45.0, 0.023407470823318902, 196.0, 1.91], [101.57, 70.0, 0.051093507440548885, 730.0, 2.55], [101.87, 45.0, 0.04958711777085005, 360.0, 2.59], [110.11, 90.0, 0.06315234590095266, 42.0, 2.41], [107.6, 60.0, 0.02658037020883468, 576.0, 2.56], [81.2, 65.0, 0.023240811553711386, 102.0, 1.76], [135.81, 120.0, 0.028478627205766167, 150.0, 2.42], [133.43, 140.0, 0.026733957170835786, 170.0, 2.44], [102.25, 110.0, 0.04027350865033592, 35.0, 1.95], [89.41, 110.0, 0.05373582164075096, 205.0, 2.54], [92.28, 160.0, 0.05017401584613703, 53.0, 2.41], [83.15, 65.0, 0.02315670353995874, 4.0, 1.6], [133.57, 185.0, 0.026763198903317645, 172.0, 2.47], [136.8, 65.0, 0.022252106239307963, 169.0, 2.46], [95.93, 80.0, 0.06666538557082065, 70.0, 2.36], [148.52, 100.0, 0.02922987407630936, 534.0, 2.0], [121.4, 120.0, 0.056874325017275164, 154.0, 2.5], [122.75, 90.0, 0.029983711000520632, 638.0, 2.38], [133.4, 65.0, 0.02875923859176239, 239.0, 2.4], [82.05, 95.0, 0.03607495935958746, 31.0, 1.69], [119.15, 105.0, 0.04106330083258357, 46.0, 2.43], [88.4, 165.0, 0.05375751880029838, 784.0, 2.81], [112.45, 145.0, 0.046253993306802715, 849.0, 2.81], [137.22, 130.0, 0.02356572453640285, 10.0, 2.44], [106.99, 140.0, 0.06744445974072215, 44.0, 2.4], [142.1, 200.0, 0.03328721317978595, 112.0, 2.12], [92.28, 45.0, 0.05017401584613703, 417.0, 2.7], [85.6, 135.0, 0.05089068930639548, 758.0, 2.63], [114.1, 100.0, 0.04654464387159128, 1.0, 2.03], [149.04, 90.0, 0.03997917719852827, 211.0, 2.04], [125.02, 125.0, 0.04316950309792203, 6.0, 2.41], [82.25, 110.0, 0.039105580737061794, 18.0, 1.65], [115.95, 135.0, 0.043428805077523454, 35.0, 2.02], [82.45, 75.0, 0.02355362887883084, 680.0, 2.25], [133.43, 70.0, 0.026733957170835786, 79.0, 2.43], [92.28, 115.0, 0.05017401584613703, 143.0, 2.54], [84.25, 50.0, 0.021000429032404483, 126.0, 1.78], [106.2, 150.0, 0.03944865609835047, 161.0, 2.23], [99.55, 110.0, 0.06805140265323532, 437.0, 2.72], [125.68, 150.0, 0.02730710523442496, 25.0, 2.44], [107.25, 135.0, 0.02126967117374272, 308.0, 2.52], [99.55, 115.0, 0.033053053201065684, 204.0, 2.11], [122.51, 110.0, 0.03552736788519532, 1.0, 2.43], [136.49, 90.0, 0.028166128481303964, 30.0, 2.36], [102.39, 50.0, 0.03919313319782007, 183.0, 2.47], [145.21, 45.0, 0.03978760750816205, 32.0, 2.22], [145.52, 185.0, 0.019325458726455042, 25.0, 2.13], [110.11, 75.0, 0.06315234590095266, 350.0, 2.56], [101.95, 75.0, 0.03009799618017172, 574.0, 2.56], [129.59, 50.0, 0.02700353265241049, 632.0, 2.32], [90.25, 40.0, 0.05240592015590785, 386.0, 2.58], [90.25, 50.0, 0.05240592015590785, 112.0, 2.41], [145.84, 110.0, 0.020942446037653058, 0.0, 2.11], [98.55, 60.0, 0.06770483768273462, 74.0, 2.36], [140.7, 110.0, 0.02171823662231393, 163.0, 2.45], [148.01, 70.0, 0.017307845747791668, 80.0, 2.08], [75.55, 75.0, 0.03425629580763793, 689.0, 2.27], [118.12, 30.0, 0.03379825466972451, 303.0, 2.47], [149.04, 75.0, 0.03997917719852827, 120.0, 2.14], [97.4, 140.0, 0.03228772966546013, 571.0, 2.54], [83.15, 75.0, 0.02315670353995874, 39.0, 1.6], [113.65, 95.0, 0.03900722091893658, 129.0, 2.15], [83.2, 90.0, 0.022573054573586555, 128.0, 1.76], [105.85, 90.0, 0.03850843954337147, 176.0, 2.19], [117.98, 65.0, 0.04070214771517892, 27.0, 2.49], [85.04, 80.0, 0.06600052885413198, 424.0, 2.66], [151.52, 150.0, 0.01908022790249121, 86.0, 2.1], [109.6, 80.0, 0.028568698611290418, 51.0, 2.13], [102.36, 70.0, 0.03894561031299679, 458.0, 2.66], [87.2, 80.0, 0.05053913197199575, 125.0, 2.42], [99.55, 65.0, 0.033053053201065684, 568.0, 2.52], [114.85, 120.0, 0.04503190154239454, 850.0, 2.81], [151.52, 185.0, 0.01908022790249121, 240.0, 2.08], [75.05, 95.0, 0.03009198382900272, 50.0, 1.63], [82.1, 110.0, 0.05211553345680715, 756.0, 2.63], [89.41, 45.0, 0.05373582164075096, 23.0, 2.41], [99.65, 100.0, 0.040151201275386836, 156.0, 2.23], [108.68, 165.0, 0.05522043012971626, 148.0, 2.51], [101.91, 145.0, 0.06750222569987634, 44.0, 2.23], [108.25, 75.0, 0.03581670508662785, 42.0, 1.98], [107.28, 150.0, 0.01804299572857353, 316.0, 2.52], [120.34, 110.0, 0.0438325118803356, 101.0, 2.42], [141.96, 160.0, 0.040351047419522064, 134.0, 2.33], [119.26, 95.0, 0.04253479949494567, 15.0, 2.42], [119.26, 100.0, 0.04253479949494567, 289.0, 2.41], [102.36, 105.0, 0.03894561031299679, 3.0, 2.19], [139.76, 180.0, 0.03323668688625022, 206.0, 2.1], [108.36, 55.0, 0.02017738307473924, 37.0, 2.44], [147.42, 115.0, 0.01800164940835659, 235.0, 2.1], [74.1, 80.0, 0.03570263684949453, 148.0, 1.84], [95.93, 145.0, 0.06666538557082065, 798.0, 2.94], [60.15, 60.0, 0.034690698407710024, 10.0, 1.48], [128.25, 155.0, 0.02708046286156833, 633.0, 2.36], [104.29, 80.0, 0.04812054632559818, 28.0, 2.4], [83.15, 35.0, 0.03939288128719838, 261.0, 2.03], [102.25, 60.0, 0.04027350865033592, 63.0, 2.05], [85.75, 45.0, 0.016114162935089483, 238.0, 2.07], [83.5, 80.0, 0.041067196097455023, 85.0, 1.82], [86.45, 120.0, 0.035883690523158804, 2.0, 1.69], [148.01, 170.0, 0.017307845747791668, 17.0, 2.07], [124.48, 45.0, 0.035416602172033324, 94.0, 2.43], [95.91, 90.0, 0.0521173509381002, 38.0, 2.4], [105.2, 100.0, 0.02488153995771937, 542.0, 2.42], [106.85, 70.0, 0.03120329614729463, 511.0, 2.44], [98.2, 120.0, 0.02359929121875208, 130.0, 1.94], [83.425, 75.0, 0.03688202209474797, 254.0, 2.05], [104.2, 90.0, 0.029096468191720862, 191.0, 2.14], [113.95, 55.0, 0.04040101175550796, 492.0, 2.56], [81.65, 30.0, 0.04085377595000247, 84.0, 1.82], [143.48, 185.0, 0.024087248549372785, 252.0, 2.07], [115.8, 80.0, 0.04366757207570815, 51.0, 2.2], [136.8, 70.0, 0.022252106239307963, 169.0, 2.46], [95.93, 65.0, 0.06666538557082065, 798.0, 2.94], [84.6, 35.0, 0.039189587467606035, 624.0, 2.49], [80.5, 55.0, 0.02274421240213188, 290.0, 2.09], [113.65, 100.0, 0.03900722091893658, 219.0, 2.31], [114.98, 30.0, 0.04578773498363206, 109.0, 2.23], [77.3, 40.0, 0.03570828839001672, 149.0, 1.85], [78.8, 50.0, 0.020669559837986747, 210.0, 1.92], [96.6, 140.0, 0.06593577053311157, 791.0, 2.81], [121.4, 120.0, 0.056874325017275164, 700.0, 2.52], [74.6, 50.0, 0.035153152039118576, 337.0, 1.99], [136.49, 140.0, 0.028166128481303964, 30.0, 2.36], [83.3, 115.0, 0.02816223659953558, 179.0, 2.04], [122.65, 155.0, 0.04381723541187575, 37.0, 2.4], [90.52, 65.0, 0.058429640905986874, 171.0, 2.49], [125.75, 80.0, 0.0567472996325723, 24.0, 2.44], [111.1, 150.0, 0.0283847778515402, 230.0, 2.28], [103.0, 145.0, 0.0238246792656612, 218.0, 2.07], [95.75, 120.0, 0.019383883901721143, 590.0, 2.52], [133.43, 75.0, 0.026733957170835786, 261.0, 2.44], [86.89, 100.0, 0.06339175941381088, 148.0, 2.52], [111.65, 140.0, 0.038944572100956996, 220.0, 2.32], [128.25, 75.0, 0.02708046286156833, 59.0, 2.45], [82.25, 65.0, 0.039105580737061794, 81.0, 1.87], [105.2, 85.0, 0.02488153995771937, 542.0, 2.42], [92.08, 80.0, 0.056522309865481124, 766.0, 2.78], [119.7, 160.0, 0.04577045983518167, 476.0, 2.59], [85.16, 170.0, 0.04964192796762052, 743.0, 2.39], [136.6, 110.0, 0.02784704439188373, 32.0, 2.39], [95.91, 65.0, 0.0521173509381002, 10.0, 2.4], [106.87, 90.0, 0.017810059724161033, 135.0, 2.47], [90.34, 45.0, 0.05337744260853343, 46.0, 2.45], [95.0, 80.0, 0.04574261854631706, 819.0, 2.92], [143.53, 130.0, 0.029901334351513275, 16.0, 2.25], [83.15, 100.0, 0.03939288128719838, 261.0, 2.03], [102.95, 105.0, 0.03911118885856188, 527.0, 2.44], [115.95, 90.0, 0.043428805077523454, 126.0, 2.16], [137.22, 110.0, 0.02356572453640285, 255.0, 2.46], [96.7, 105.0, 0.057924496456266614, 449.0, 2.66], [102.36, 75.0, 0.03894561031299679, 822.0, 2.87], [98.25, 95.0, 0.02407223709119008, 133.0, 1.93], [143.48, 185.0, 0.024087248549372785, 7.0, 2.16], [97.27, 160.0, 0.03429335757363078, 823.0, 2.85], [84.15, 90.0, 0.02088460505842642, 120.0, 1.72], [107.85, 55.0, 0.020152416626519568, 36.0, 2.43], [105.3, 60.0, 0.03207961120690282, 196.0, 2.13], [125.02, 100.0, 0.04316950309792203, 35.0, 2.41], [116.3, 65.0, 0.04357222028705686, 115.0, 2.21], [145.59, 50.0, 0.0243538727116994, 555.0, 1.82], [145.52, 190.0, 0.019325458726455042, 25.0, 2.13], [145.47, 155.0, 0.01844086679291513, 85.0, 2.1], [106.85, 150.0, 0.03120329614729463, 28.0, 1.95], [84.15, 30.0, 0.02088460505842642, 29.0, 1.67], [125.68, 70.0, 0.02730710523442496, 88.0, 2.44], [103.2, 45.0, 0.03980976548517892, 157.0, 2.25], [86.45, 40.0, 0.02916089943722945, 183.0, 2.01], [83.2, 65.0, 0.022573054573586555, 219.0, 1.94], [99.55, 155.0, 0.04045012597373312, 64.0, 2.07], [89.42, 70.0, 0.05645052394588116, 224.0, 2.54], [85.15, 115.0, 0.0380501450991221, 11.0, 1.69], [143.36, 110.0, 0.02208173621110559, 70.0, 2.43], [103.9, 30.0, 0.04798018744684324, 358.0, 2.58], [101.91, 160.0, 0.06750222569987634, 800.0, 2.96], [122.65, 55.0, 0.04381723541187575, 282.0, 2.41], [145.47, 120.0, 0.01844086679291513, 239.0, 2.08], [137.34, 90.0, 0.0347013778172662, 49.0, 2.35], [101.34, 70.0, 0.05211642321528565, 93.0, 2.45], [104.65, 60.0, 0.02685491140134169, 183.0, 2.16], [101.29, 95.0, 0.052604678039866605, 7.0, 2.41], [134.86, 100.0, 0.027111380155893743, 1.0, 2.4], [82.25, 50.0, 0.039105580737061794, 46.0, 1.87], [92.28, 70.0, 0.05017401584613703, 25.0, 2.24], [83.18, 60.0, 0.05119926052739802, 4.0, 2.36], [119.7, 150.0, 0.04577045983518167, 49.0, 2.19], [85.0, 30.0, 0.028565676067374344, 91.0, 1.81], [104.2, 95.0, 0.029096468191720862, 191.0, 2.14], [111.96, 135.0, 0.04309717861046268, 472.0, 2.61], [122.65, 90.0, 0.038312663166650884, 666.0, 2.41], [90.34, 105.0, 0.05337744260853343, 108.0, 2.45], [94.41, 65.0, 0.0493526854941492, 141.0, 2.53], [108.6, 55.0, 0.032424728602590006, 508.0, 2.47], [98.85, 150.0, 0.038414581421304266, 14.0, 1.9], [133.73, 120.0, 0.034736415434142576, 228.0, 2.31], [149.04, 70.0, 0.03997917719852827, 211.0, 2.04], [83.425, 95.0, 0.03688202209474797, 37.0, 1.68], [122.51, 145.0, 0.03552736788519532, 275.0, 2.44], [124.98, 145.0, 0.04357283801505035, 95.0, 2.43], [116.3, 125.0, 0.04357222028705686, 24.0, 2.12], [141.91, 185.0, 0.020369889593048918, 2.0, 2.13], [115.95, 30.0, 0.043428805077523454, 126.0, 2.16], [134.76, 110.0, 0.03635558075423575, 598.0, 2.12], [89.42, 130.0, 0.05252903068517965, 203.0, 2.48], [124.48, 65.0, 0.035416602172033324, 185.0, 2.47], [136.8, 80.0, 0.022252106239307963, 15.0, 2.44], [85.2, 30.0, 0.016127754243936997, 233.0, 2.08], [108.05, 115.0, 0.02914895502030368, 95.0, 2.01], [77.3, 90.0, 0.03570828839001672, 58.0, 1.64], [90.52, 125.0, 0.058429640905986874, 445.0, 2.64], [138.18, 165.0, 0.037655242502910836, 45.0, 2.34], [85.6, 145.0, 0.05089068930639548, 2.0, 2.35], [98.85, 55.0, 0.038414581421304266, 77.0, 2.01], [83.3, 95.0, 0.020032987384958824, 123.0, 1.8], [140.95, 115.0, 0.033643711082795166, 204.0, 2.12], [141.17, 120.0, 0.021145810352489983, 43.0, 2.43], [97.4, 85.0, 0.03228772966546013, 207.0, 2.13], [148.52, 45.0, 0.02922987407630936, 534.0, 2.0], [118.84, 85.0, 0.04068573078584941, 21.0, 2.44], [84.5, 75.0, 0.016135623623264126, 603.0, 2.5], [91.55, 35.0, 0.01718211386227567, 228.0, 2.13], [145.52, 70.0, 0.019325458726455042, 179.0, 2.08], [148.52, 135.0, 0.02922987407630936, 79.0, 2.08], [137.46, 60.0, 0.026066182636784167, 67.0, 2.41], [109.0, 150.0, 0.02935983489015061, 185.0, 2.19], [93.98, 110.0, 0.0550863498793181, 773.0, 2.8], [137.46, 80.0, 0.026066182636784167, 613.0, 2.18], [94.1, 95.0, 0.038396805639194016, 190.0, 2.45], [117.98, 55.0, 0.04070214771517892, 119.0, 2.46], [98.95, 115.0, 0.032242082363378124, 115.0, 1.93], [109.27, 115.0, 0.043225389323293235, 14.0, 2.15], [101.29, 50.0, 0.052604678039866605, 7.0, 2.41], [94.1, 135.0, 0.038396805639194016, 37.0, 2.18], [111.15, 70.0, 0.044180877443518035, 32.0, 2.02], [59.95, 95.0, 0.03368497367649679, 345.0, 1.91], [122.65, 75.0, 0.04381723541187575, 282.0, 2.41], [86.4, 105.0, 0.020375721807325376, 122.0, 1.81], [84.25, 130.0, 0.03680927376720219, 32.0, 1.7], [115.8, 110.0, 0.04366757207570815, 114.0, 2.2], [106.52, 110.0, 0.0466434048839187, 357.0, 2.6], [141.4, 60.0, 0.022239045536183395, 259.0, 2.46], [116.3, 160.0, 0.04357222028705686, 52.0, 2.21], [83.05, 70.0, 0.019072673638772814, 662.0, 2.33], [82.85, 85.0, 0.02629471439129068, 646.0, 2.32], [111.1, 145.0, 0.0283847778515402, 504.0, 2.46], [120.11, 115.0, 0.04211339748648698, 105.0, 2.44], [74.85, 65.0, 0.03588738917539757, 150.0, 1.87], [143.1, 150.0, 0.02100244127244113, 246.0, 2.01], [85.15, 115.0, 0.0380501450991221, 39.0, 1.69], [76.8, 50.0, 0.02933387656602945, 231.0, 1.86], [106.3, 150.0, 0.03627265867160459, 15.0, 1.98], [145.52, 120.0, 0.019325458726455042, 242.0, 2.08], [82.25, 130.0, 0.039105580737061794, 172.0, 2.04], [106.5, 110.0, 0.02622556699757568, 31.0, 1.85], [74.1, 45.0, 0.03570263684949453, 239.0, 1.84], [103.75, 80.0, 0.02370739211794156, 217.0, 2.07], [122.75, 85.0, 0.029983711000520632, 29.0, 2.44], [93.98, 155.0, 0.0550863498793181, 135.0, 2.42], [140.94, 145.0, 0.036935548741476684, 135.0, 2.35], [110.69, 50.0, 0.05949430095473529, 165.0, 2.49], [108.75, 95.0, 0.027372650454282367, 548.0, 2.6], [119.3, 165.0, 0.041100395508881706, 290.0, 2.41], [149.14, 65.0, 0.01778622484506646, 539.0, 2.0], [122.75, 50.0, 0.029983711000520632, 0.0, 2.44], [133.57, 85.0, 0.026763198903317645, 263.0, 2.47], [99.55, 115.0, 0.06805140265323532, 10.0, 2.23], [106.1, 130.0, 0.03980859881527557, 71.0, 2.06], [143.48, 55.0, 0.024087248549372785, 7.0, 2.16], [116.13, 120.0, 0.057630864965401124, 3.0, 2.42], [99.55, 135.0, 0.06805140265323532, 163.0, 2.52], [95.93, 50.0, 0.06666538557082065, 434.0, 2.73], [95.75, 125.0, 0.019383883901721143, 226.0, 2.13], [81.2, 35.0, 0.023240811553711386, 648.0, 2.29], [141.17, 75.0, 0.021145810352489983, 43.0, 2.43], [108.6, 40.0, 0.032424728602590006, 144.0, 2.25], [119.7, 65.0, 0.04577045983518167, 21.0, 2.12], [95.75, 95.0, 0.019383883901721143, 44.0, 1.81], [103.79, 145.0, 0.05177982124764943, 45.0, 2.39], [121.62, 50.0, 0.043193840148350426, 7.0, 2.42], [137.46, 120.0, 0.026066182636784167, 613.0, 2.18], [103.79, 110.0, 0.05177982124764943, 717.0, 2.56], [79.55, 110.0, 0.02081677694808208, 113.0, 1.73], [120.34, 70.0, 0.0438325118803356, 283.0, 2.42], [82.95, 85.0, 0.02248597549291465, 197.0, 1.93], [108.15, 150.0, 0.01953874168830817, 130.0, 2.46], [114.18, 95.0, 0.05345431358025315, 144.0, 2.51], [151.52, 100.0, 0.01908022790249121, 177.0, 2.08], [90.52, 165.0, 0.058429640905986874, 809.0, 2.81], [148.12, 160.0, 0.03955871329297976, 0.0, 2.16], [104.05, 85.0, 0.03983454266421006, 522.0, 2.42], [139.59, 150.0, 0.033261560062757614, 51.0, 2.15], [108.9, 120.0, 0.02392192790432199, 88.0, 1.99], [71.7, 70.0, 0.035571211115538307, 65.0, 1.58], [114.18, 65.0, 0.05345431358025315, 144.0, 2.51], [113.67, 150.0, 0.049063841279046616, 233.0, 2.52], [85.15, 90.0, 0.0380501450991221, 39.0, 1.69], [146.01, 80.0, 0.04034332393473633, 39.0, 2.3], [135.81, 150.0, 0.028478627205766167, 59.0, 2.39], [143.48, 75.0, 0.024087248549372785, 189.0, 2.07], [146.1, 175.0, 0.01954833436101369, 24.0, 2.12], [103.75, 50.0, 0.02370739211794156, 217.0, 2.07], [98.95, 110.0, 0.023534909328441097, 220.0, 2.1], [139.24, 210.0, 0.02741726994500036, 609.0, 2.2], [128.25, 50.0, 0.02708046286156833, 269.0, 2.46], [117.4, 130.0, 0.04068156701191989, 296.0, 2.4], [113.67, 145.0, 0.049063841279046616, 142.0, 2.52], [85.6, 90.0, 0.05089068930639548, 30.0, 2.35], [88.25, 60.0, 0.029491533475485245, 640.0, 2.41], [111.96, 60.0, 0.04309717861046268, 198.0, 2.41], [133.4, 175.0, 0.02875923859176239, 29.0, 2.38], [119.0, 170.0, 0.043633075940499325, 841.0, 2.83], [119.66, 125.0, 0.056911777328876485, 155.0, 2.51], [99.65, 55.0, 0.040151201275386836, 520.0, 2.45], [97.98, 110.0, 0.0462370357253842, 178.0, 2.49], [114.01, 80.0, 0.0432652999768328, 197.0, 2.41], [145.84, 50.0, 0.020942446037653058, 182.0, 2.03], [108.68, 145.0, 0.05522043012971626, 148.0, 2.51], [103.75, 70.0, 0.02370739211794156, 35.0, 1.82], [140.94, 180.0, 0.036935548741476684, 226.0, 2.25], [116.13, 135.0, 0.057630864965401124, 157.0, 2.5], [115.8, 140.0, 0.04366757207570815, 478.0, 2.58], [107.28, 45.0, 0.01804299572857353, 680.0, 2.47], [144.13, 150.0, 0.02412207640156263, 557.0, 1.88], [114.01, 135.0, 0.0432652999768328, 835.0, 2.85], [109.03, 90.0, 0.0165504455523345, 45.0, 2.45], [120.11, 170.0, 0.04211339748648698, 105.0, 2.44], [81.65, 110.0, 0.04085377595000247, 630.0, 2.49], [144.11, 60.0, 0.03955388694961375, 571.0, 1.72], [134.79, 160.0, 0.0286904981199604, 238.0, 2.39], [106.1, 105.0, 0.03980859881527557, 71.0, 2.06], [139.76, 135.0, 0.03323668688625022, 570.0, 1.71], [97.35, 165.0, 0.06119850817893752, 443.0, 2.69], [99.55, 145.0, 0.033053053201065684, 50.0, 1.93], [104.1, 105.0, 0.02944259516825113, 10.0, 1.88], [76.5, 80.0, 0.01941518223912429, 114.0, 1.73], [100.3, 85.0, 0.031957296786981115, 567.0, 2.52], [108.25, 125.0, 0.03581670508662785, 223.0, 2.3], [96.47, 160.0, 0.04852132788166263, 774.0, 2.83], [81.2, 80.0, 0.023240811553711386, 11.0, 1.67], [104.1, 75.0, 0.02944259516825113, 192.0, 2.15], [75.05, 50.0, 0.03009198382900272, 141.0, 1.85], [105.3, 135.0, 0.03207961120690282, 560.0, 2.53], [108.68, 170.0, 0.05522043012971626, 56.0, 2.45], [83.6, 95.0, 0.032657795322860415, 149.0, 2.11], [116.3, 45.0, 0.04357222028705686, 115.0, 2.21], [134.79, 160.0, 0.0286904981199604, 602.0, 2.16], [81.9, 100.0, 0.023407470823318902, 196.0, 1.91], [111.96, 85.0, 0.05436436876731463, 147.0, 2.51], [106.6, 85.0, 0.03518143723410588, 225.0, 2.3], [85.15, 100.0, 0.0380501450991221, 256.0, 2.05], [145.21, 80.0, 0.03978760750816205, 214.0, 2.2], [145.52, 115.0, 0.019325458726455042, 25.0, 2.13], [103.91, 135.0, 0.050830213280792264, 365.0, 2.57], [88.75, 115.0, 0.03455286422363945, 63.0, 1.91], [97.51, 55.0, 0.03425648376411678, 7.0, 2.14], [79.55, 30.0, 0.02081677694808208, 295.0, 2.09], [104.65, 65.0, 0.02685491140134169, 1.0, 1.89], [104.29, 105.0, 0.04812054632559818, 364.0, 2.6], [99.55, 125.0, 0.033053053201065684, 113.0, 1.93], [104.65, 115.0, 0.02685491140134169, 92.0, 2.0], [146.1, 170.0, 0.01954833436101369, 87.0, 2.06], [145.84, 80.0, 0.03967343022331565, 2.0, 2.14], [109.1, 95.0, 0.016403341833589692, 322.0, 2.55], [109.35, 95.0, 0.06814659430140835, 15.0, 2.42], [144.75, 190.0, 0.02486137805704945, 36.0, 2.17], [106.0, 50.0, 0.02494461008299276, 32.0, 1.84], [136.8, 75.0, 0.022252106239307963, 50.0, 2.47], [99.58, 140.0, 0.03881411603965588, 465.0, 2.65], [75.05, 95.0, 0.03422545995240442, 233.0, 1.86], [133.94, 135.0, 0.037198772132634436, 51.0, 2.37], [145.47, 175.0, 0.01844086679291513, 540.0, 1.99], [143.61, 85.0, 0.03721474485363761, 128.0, 2.24], [111.96, 160.0, 0.05436436876731463, 693.0, 2.48], [111.22, 95.0, 0.05807076087841561, 164.0, 2.5], [86.4, 60.0, 0.020375721807325376, 304.0, 2.08], [145.84, 115.0, 0.03967343022331565, 121.0, 2.18], [97.98, 165.0, 0.0462370357253842, 178.0, 2.49], [102.36, 95.0, 0.047397276740506665, 51.0, 2.41], [143.36, 195.0, 0.02208173621110559, 161.0, 2.45], [82.1, 125.0, 0.05211553345680715, 392.0, 2.62], [119.7, 80.0, 0.04577045983518167, 476.0, 2.59], [122.65, 55.0, 0.04381723541187575, 8.0, 2.4], [83.18, 55.0, 0.05119926052739802, 122.0, 2.4], [107.6, 60.0, 0.02658037020883468, 212.0, 2.14], [104.1, 105.0, 0.02944259516825113, 192.0, 2.15], [83.2, 85.0, 0.022573054573586555, 2.0, 1.71], [85.67, 170.0, 0.05134786360186918, 31.0, 2.35], [118.92, 90.0, 0.04086959285181575, 662.0, 2.26], [106.85, 80.0, 0.03120329614729463, 56.0, 2.09], [108.1, 105.0, 0.05806304972627883, 8.0, 2.43], [116.1, 35.0, 0.04319010755719318, 127.0, 2.15], [103.91, 150.0, 0.050830213280792264, 1.0, 2.41], [146.1, 125.0, 0.01954833436101369, 87.0, 2.06], [106.1, 150.0, 0.03980859881527557, 71.0, 2.06], [83.425, 100.0, 0.03688202209474797, 618.0, 2.54], [143.02, 160.0, 0.03363884127473833, 46.0, 2.21], [148.12, 90.0, 0.03955871329297976, 0.0, 2.16], [80.5, 60.0, 0.02274421240213188, 654.0, 2.28], [109.02, 55.0, 0.04324673887199517, 196.0, 2.42], [109.35, 90.0, 0.06814659430140835, 43.0, 2.42], [144.63, 180.0, 0.03987837568686335, 213.0, 2.2], [85.16, 110.0, 0.04964192796762052, 197.0, 2.47], [87.95, 70.0, 0.035025484640970835, 64.0, 1.92], [101.44, 145.0, 0.06760264965192364, 8.0, 2.21], [109.25, 75.0, 0.02096594591642004, 687.0, 2.52], [96.95, 125.0, 0.037464009722041273, 18.0, 1.91], [108.6, 95.0, 0.032424728602590006, 53.0, 2.12], [138.18, 120.0, 0.037655242502910836, 591.0, 1.88], [145.47, 70.0, 0.01844086679291513, 85.0, 2.1], [110.69, 135.0, 0.05949430095473529, 347.0, 2.57], [115.8, 160.0, 0.04366757207570815, 51.0, 2.2], [144.78, 170.0, 0.04039331808446709, 42.0, 2.3], [98.55, 150.0, 0.06770483768273462, 438.0, 2.71], [122.75, 35.0, 0.029983711000520632, 274.0, 2.44], [141.17, 70.0, 0.021145810352489983, 71.0, 2.43], [116.13, 60.0, 0.057630864965401124, 31.0, 2.42], [105.98, 105.0, 0.01722287137317212, 41.0, 2.45], [99.55, 105.0, 0.02379997599014585, 583.0, 2.59], [110.85, 105.0, 0.02266813029334776, 86.0, 2.01], [97.51, 155.0, 0.03425648376411678, 826.0, 2.85], [105.15, 45.0, 0.05041707319464903, 718.0, 2.6], [108.68, 45.0, 0.05522043012971626, 148.0, 2.51], [94.18, 125.0, 0.0418915506785926, 413.0, 2.7], [117.98, 85.0, 0.04070214771517892, 301.0, 2.45], [87.2, 150.0, 0.05053913197199575, 125.0, 2.42], [145.27, 200.0, 0.02472683396997556, 101.0, 2.26], [93.69, 160.0, 0.05449156940305447, 43.0, 2.36], [102.36, 80.0, 0.047397276740506665, 723.0, 2.58], [84.85, 80.0, 0.027112728040820242, 36.0, 1.65], [129.59, 80.0, 0.02700353265241049, 23.0, 2.42], [94.1, 80.0, 0.038396805639194016, 37.0, 2.18], [111.3, 100.0, 0.03529287075030784, 45.0, 2.0], [86.05, 115.0, 0.037057284322713234, 38.0, 1.69], [101.77, 90.0, 0.06778791125188538, 15.0, 2.21], [109.82, 170.0, 0.0581122217960108, 71.0, 2.42], [97.27, 110.0, 0.03429335757363078, 95.0, 2.31], [149.14, 155.0, 0.01778622484506646, 539.0, 2.0], [136.6, 110.0, 0.02784704439188373, 151.0, 2.42], [85.75, 45.0, 0.016114162935089483, 56.0, 1.9], [140.95, 135.0, 0.033643711082795166, 113.0, 2.14], [134.76, 185.0, 0.03635558075423575, 234.0, 2.38], [109.05, 70.0, 0.028532374790515017, 24.0, 1.96], [114.18, 165.0, 0.05345431358025315, 144.0, 2.51], [83.425, 30.0, 0.03688202209474797, 72.0, 1.88], [97.51, 55.0, 0.03425648376411678, 98.0, 2.28], [121.77, 140.0, 0.040637651528114285, 297.0, 2.44], [102.36, 165.0, 0.047397276740506665, 723.0, 2.58], [141.96, 115.0, 0.040351047419522064, 15.0, 2.32], [96.6, 100.0, 0.06593577053311157, 35.0, 2.21], [98.85, 130.0, 0.038414581421304266, 49.0, 2.01], [135.81, 165.0, 0.028478627205766167, 605.0, 2.26], [125.68, 45.0, 0.02730710523442496, 634.0, 2.38], [96.6, 125.0, 0.06593577053311157, 63.0, 2.36], [104.05, 110.0, 0.03983454266421006, 158.0, 2.22], [136.49, 150.0, 0.028166128481303964, 58.0, 2.38], [144.11, 75.0, 0.03955388694961375, 116.0, 2.13], [102.6, 130.0, 0.0395312245048135, 73.0, 2.06], [81.7, 95.0, 0.022058999127506286, 311.0, 2.03], [114.1, 80.0, 0.04654464387159128, 120.0, 2.17], [129.95, 85.0, 0.026794942492717886, 22.0, 2.43], [121.62, 130.0, 0.043193840148350426, 36.0, 2.42], [84.5, 115.0, 0.026966968549812943, 35.0, 1.64], [101.29, 100.0, 0.052604678039866605, 35.0, 2.41], [119.15, 170.0, 0.04106330083258357, 200.0, 2.46], [141.4, 185.0, 0.022239045536183395, 623.0, 2.33], [91.31, 120.0, 0.06716914969694814, 66.0, 2.38], [83.05, 70.0, 0.019072673638772814, 25.0, 1.71], [133.4, 105.0, 0.02875923859176239, 29.0, 2.38], [125.68, 95.0, 0.02730710523442496, 88.0, 2.44], [116.3, 105.0, 0.04357222028705686, 479.0, 2.59], [101.91, 85.0, 0.06750222569987634, 436.0, 2.74], [133.52, 90.0, 0.02679878159514775, 630.0, 2.28], [101.77, 155.0, 0.06778791125188538, 442.0, 2.67], [141.4, 140.0, 0.022239045536183395, 77.0, 2.43], [140.94, 190.0, 0.036935548741476684, 135.0, 2.35], [79.65, 70.0, 0.026428436979249875, 11.0, 1.53], [104.29, 95.0, 0.04812054632559818, 364.0, 2.6], [93.98, 50.0, 0.0550863498793181, 135.0, 2.42], [120.11, 165.0, 0.04211339748648698, 651.0, 2.35], [91.55, 105.0, 0.04960606332745087, 814.0, 2.84], [97.45, 30.0, 0.03939848994816208, 92.0, 2.32], [95.91, 95.0, 0.0521173509381002, 192.0, 2.54], [108.89, 95.0, 0.033616104014165364, 668.0, 2.46], [94.18, 150.0, 0.0418915506785926, 413.0, 2.7], [84.55, 30.0, 0.026524870053739283, 10.0, 1.63], [111.01, 125.0, 0.05767055003564834, 7.0, 2.43], [106.52, 170.0, 0.0466434048839187, 357.0, 2.6], [101.44, 120.0, 0.06760264965192364, 435.0, 2.74], [83.425, 65.0, 0.03688202209474797, 9.0, 1.68], [103.0, 120.0, 0.0238246792656612, 1.0, 1.81], [113.5, 165.0, 0.045621608535184766, 209.0, 2.38], [135.81, 125.0, 0.028478627205766167, 605.0, 2.26], [109.0, 120.0, 0.02935983489015061, 185.0, 2.19], [109.27, 95.0, 0.02093525234091236, 127.0, 2.45], [144.63, 160.0, 0.03987837568686335, 122.0, 2.22], [101.29, 155.0, 0.052604678039866605, 735.0, 2.55], [84.5, 100.0, 0.026966968549812943, 7.0, 1.64], [111.96, 110.0, 0.04309717861046268, 108.0, 2.23], [85.6, 45.0, 0.02740671450912244, 95.0, 1.79], [94.18, 130.0, 0.0418915506785926, 139.0, 2.52], [144.75, 155.0, 0.02486137805704945, 99.0, 2.17], [108.89, 50.0, 0.033616104014165364, 30.0, 2.46], [114.18, 155.0, 0.05345431358025315, 144.0, 2.51], [96.7, 145.0, 0.057924496456266614, 85.0, 2.34], [79.35, 55.0, 0.02112959870762864, 318.0, 2.06], [106.87, 170.0, 0.017810059724161033, 681.0, 2.52], [120.34, 65.0, 0.0438325118803356, 9.0, 2.42], [134.16, 130.0, 0.02593423395533704, 626.0, 2.27], [129.95, 120.0, 0.026794942492717886, 85.0, 2.43], [99.55, 80.0, 0.02379997599014585, 37.0, 1.82], [113.95, 100.0, 0.04040101175550796, 9.0, 2.01], [146.01, 145.0, 0.04034332393473633, 585.0, 1.9], [109.82, 125.0, 0.0581122217960108, 37.0, 2.4], [102.95, 70.0, 0.03911118885856188, 72.0, 2.06], [85.04, 65.0, 0.06600052885413198, 60.0, 2.38], [86.97, 75.0, 0.0524224717238065, 36.0, 2.36], [77.4, 35.0, 0.0229767343221936, 655.0, 2.25], [125.75, 150.0, 0.0567472996325723, 58.0, 2.45], [83.2, 70.0, 0.022573054573586555, 2.0, 1.71], [109.1, 65.0, 0.016403341833589692, 686.0, 2.55], [94.18, 30.0, 0.0418915506785926, 49.0, 2.37], [105.85, 50.0, 0.03850843954337147, 85.0, 1.99], [145.21, 65.0, 0.03978760750816205, 32.0, 2.22], [101.44, 100.0, 0.06760264965192364, 799.0, 2.98], [141.91, 115.0, 0.020369889593048918, 2.0, 2.13], [107.28, 65.0, 0.01804299572857353, 316.0, 2.52], [134.76, 90.0, 0.03635558075423575, 143.0, 2.38], [142.03, 50.0, 0.02304807360549109, 256.0, 2.46], [88.75, 40.0, 0.03455286422363945, 154.0, 2.09], [82.1, 75.0, 0.05211553345680715, 0.0, 2.41], [96.47, 160.0, 0.04852132788166263, 410.0, 2.72], [146.1, 125.0, 0.01954833436101369, 59.0, 2.06], [143.0, 100.0, 0.02356693543711004, 186.0, 2.06], [142.44, 185.0, 0.037687252670167794, 129.0, 2.27], [85.04, 135.0, 0.06600052885413198, 60.0, 2.38], [83.15, 75.0, 0.03939288128719838, 44.0, 1.69], [83.05, 110.0, 0.019072673638772814, 662.0, 2.33], [134.76, 195.0, 0.03635558075423575, 598.0, 2.12], [143.36, 100.0, 0.02208173621110559, 42.0, 2.42], [98.95, 105.0, 0.023534909328441097, 38.0, 1.81], [98.95, 55.0, 0.023534909328441097, 38.0, 1.81], [119.0, 125.0, 0.043633075940499325, 22.0, 2.1], [100.3, 65.0, 0.039631207170908386, 74.0, 2.05], [83.2, 90.0, 0.022573054573586555, 219.0, 1.94], [118.84, 105.0, 0.04068573078584941, 295.0, 2.4], [122.65, 145.0, 0.038312663166650884, 302.0, 2.48], [87.0, 40.0, 0.02007968702641709, 667.0, 2.31], [143.02, 95.0, 0.03363884127473833, 200.0, 2.1], [60.15, 55.0, 0.034690698407710024, 38.0, 1.48], [85.6, 75.0, 0.02740671450912244, 4.0, 1.64], [108.05, 70.0, 0.02914895502030368, 550.0, 2.59], [98.2, 120.0, 0.02359929121875208, 39.0, 1.82], [117.4, 55.0, 0.04068156701191989, 296.0, 2.4], [96.7, 50.0, 0.057924496456266614, 85.0, 2.34], [108.15, 105.0, 0.01953874168830817, 312.0, 2.53], [109.35, 45.0, 0.06814659430140835, 715.0, 2.45], [91.89, 170.0, 0.05247972172205729, 14.0, 2.4], [96.47, 155.0, 0.04852132788166263, 136.0, 2.56], [99.65, 90.0, 0.040151201275386836, 156.0, 2.23], [86.97, 35.0, 0.0524224717238065, 36.0, 2.36], [111.27, 135.0, 0.05758693612186035, 158.0, 2.51], [95.0, 120.0, 0.04574261854631706, 455.0, 2.67], [146.01, 140.0, 0.04034332393473633, 11.0, 2.3], [112.0, 80.0, 0.044291377964058416, 480.0, 2.6], [144.78, 110.0, 0.04039331808446709, 42.0, 2.3], [103.65, 60.0, 0.039085237685685864, 513.0, 2.43], [84.25, 30.0, 0.03680927376720219, 249.0, 2.09], [141.96, 175.0, 0.040351047419522064, 134.0, 2.33], [143.1, 90.0, 0.02100244127244113, 1.0, 2.11], [146.1, 130.0, 0.01954833436101369, 542.0, 1.97], [109.03, 70.0, 0.0165504455523345, 683.0, 2.55], [109.82, 135.0, 0.0581122217960108, 709.0, 2.52], [105.2, 125.0, 0.02488153995771937, 24.0, 1.92], [145.47, 175.0, 0.01844086679291513, 239.0, 2.08], [141.91, 175.0, 0.020369889593048918, 184.0, 2.04], [82.67, 145.0, 0.05135880528303604, 115.0, 2.45], [77.65, 90.0, 0.020019776292782333, 24.0, 1.69], [114.85, 150.0, 0.04503190154239454, 486.0, 2.58], [103.65, 135.0, 0.039085237685685864, 30.0, 1.95], [82.45, 90.0, 0.02395413754744376, 289.0, 2.07], [99.6, 85.0, 0.03949299905522924, 78.0, 2.02], [103.65, 155.0, 0.039085237685685864, 513.0, 2.43], [111.96, 115.0, 0.05436436876731463, 693.0, 2.48], [107.85, 140.0, 0.020152416626519568, 310.0, 2.53], [107.21, 90.0, 0.01633129053880686, 10.0, 2.44], [83.15, 110.0, 0.02315670353995874, 130.0, 1.71], [144.75, 110.0, 0.02486137805704945, 190.0, 2.08], [119.26, 120.0, 0.04253479949494567, 653.0, 2.33], [139.59, 165.0, 0.033261560062757614, 23.0, 2.11], [142.94, 150.0, 0.03891984806009386, 217.0, 2.18], [145.52, 185.0, 0.019325458726455042, 60.0, 2.09], [97.4, 30.0, 0.03228772966546013, 25.0, 1.8], [82.95, 70.0, 0.02248597549291465, 197.0, 1.93], [146.01, 120.0, 0.04034332393473633, 11.0, 2.3], [99.58, 115.0, 0.03881411603965588, 465.0, 2.65], [148.01, 185.0, 0.017307845747791668, 234.0, 2.07], [137.46, 120.0, 0.026066182636784167, 4.0, 2.41], [84.15, 75.0, 0.02088460505842642, 211.0, 1.95], [133.52, 115.0, 0.02679878159514775, 56.0, 2.42], [85.15, 95.0, 0.0380501450991221, 165.0, 2.05], [147.42, 125.0, 0.01800164940835659, 53.0, 2.12], [101.67, 115.0, 0.06785756925371184, 49.0, 2.33], [114.18, 35.0, 0.05345431358025315, 326.0, 2.56], [99.58, 65.0, 0.03881411603965588, 10.0, 2.17], [81.2, 95.0, 0.023240811553711386, 102.0, 1.76], [94.99, 125.0, 0.0697894134639457, 428.0, 2.7], [116.13, 85.0, 0.057630864965401124, 157.0, 2.5], [137.51, 55.0, 0.02752305044493216, 66.0, 2.41], [82.45, 50.0, 0.02395413754744376, 107.0, 1.71], [119.41, 65.0, 0.057647592204568415, 30.0, 2.42], [86.89, 165.0, 0.06339175941381088, 148.0, 2.52], [143.61, 80.0, 0.03721474485363761, 128.0, 2.24], [101.95, 125.0, 0.03009799618017172, 574.0, 2.56], [129.95, 55.0, 0.026794942492717886, 267.0, 2.46], [90.0, 125.0, 0.01722376373399032, 14.0, 1.74], [141.17, 120.0, 0.021145810352489983, 617.0, 2.26], [79.35, 85.0, 0.02112959870762864, 10.0, 1.56], [115.8, 155.0, 0.04366757207570815, 204.0, 2.37], [117.4, 140.0, 0.04068156701191989, 51.0, 2.44], [108.25, 35.0, 0.03581670508662785, 133.0, 2.14], [146.1, 150.0, 0.01954833436101369, 241.0, 2.09], [107.25, 125.0, 0.02126967117374272, 126.0, 2.45], [81.75, 65.0, 0.022918911862514674, 681.0, 2.25], [96.6, 140.0, 0.06593577053311157, 427.0, 2.68], [86.97, 70.0, 0.0524224717238065, 218.0, 2.56], [108.9, 155.0, 0.02392192790432199, 88.0, 1.99], [100.3, 95.0, 0.031957296786981115, 21.0, 1.77], [115.8, 100.0, 0.04366757207570815, 842.0, 2.83], [141.17, 170.0, 0.021145810352489983, 43.0, 2.43], [102.36, 40.0, 0.03894561031299679, 3.0, 2.19], [89.42, 80.0, 0.05252903068517965, 77.0, 2.4], [118.92, 75.0, 0.04086959285181575, 24.0, 2.47], [106.2, 65.0, 0.03944865609835047, 7.0, 1.92], [101.91, 55.0, 0.06750222569987634, 800.0, 2.96], [103.0, 120.0, 0.0238246792656612, 36.0, 1.81], [134.16, 90.0, 0.02593423395533704, 80.0, 2.43], [108.1, 90.0, 0.05806304972627883, 344.0, 2.55], [141.4, 60.0, 0.022239045536183395, 623.0, 2.33], [106.7, 55.0, 0.028871292293442905, 7.0, 1.87], [84.85, 70.0, 0.027112728040820242, 281.0, 2.11], [87.95, 110.0, 0.035025484640970835, 1.0, 1.7], [144.11, 155.0, 0.03955388694961375, 207.0, 2.1], [145.21, 85.0, 0.03978760750816205, 32.0, 2.22], [99.8, 60.0, 0.04027389784965785, 241.0, 2.25], [83.3, 100.0, 0.02816223659953558, 53.0, 1.87], [99.65, 105.0, 0.040151201275386836, 37.0, 1.96], [109.03, 95.0, 0.0165504455523345, 11.0, 2.45], [109.27, 120.0, 0.043225389323293235, 105.0, 2.23], [116.3, 65.0, 0.04357222028705686, 843.0, 2.83], [61.75, 90.0, 0.03005834075666536, 351.0, 1.89], [96.47, 80.0, 0.04852132788166263, 774.0, 2.83], [144.75, 100.0, 0.02486137805704945, 190.0, 2.08], [106.85, 75.0, 0.03120329614729463, 237.0, 2.25], [125.68, 75.0, 0.02730710523442496, 270.0, 2.47], [143.0, 125.0, 0.02356693543711004, 550.0, 1.83], [137.34, 105.0, 0.0347013778172662, 49.0, 2.35], [141.96, 105.0, 0.040351047419522064, 43.0, 2.32], [141.4, 95.0, 0.022239045536183395, 259.0, 2.46], [74.1, 40.0, 0.03570263684949453, 57.0, 1.63], [105.85, 115.0, 0.03850843954337147, 176.0, 2.19], [99.58, 135.0, 0.03881411603965588, 829.0, 2.88], [145.52, 95.0, 0.019325458726455042, 60.0, 2.09], [102.39, 160.0, 0.03919313319782007, 457.0, 2.66], [91.55, 120.0, 0.01718211386227567, 228.0, 2.13], [96.47, 55.0, 0.04852132788166263, 46.0, 2.38], [134.86, 95.0, 0.027111380155893743, 155.0, 2.43], [94.37, 150.0, 0.05920640773116481, 812.0, 2.81], [109.27, 140.0, 0.02093525234091236, 673.0, 2.46], [113.67, 80.0, 0.049063841279046616, 233.0, 2.52], [144.78, 70.0, 0.04039331808446709, 224.0, 2.15], [86.05, 120.0, 0.037057284322713234, 10.0, 1.69], [105.15, 155.0, 0.05041707319464903, 354.0, 2.6], [116.3, 125.0, 0.04357222028705686, 52.0, 2.21], [89.41, 155.0, 0.05373582164075096, 751.0, 2.61], [111.27, 80.0, 0.05758693612186035, 4.0, 2.44], [99.58, 65.0, 0.03881411603965588, 829.0, 2.88], [110.69, 55.0, 0.05949430095473529, 347.0, 2.57], [111.11, 130.0, 0.055187490005592345, 240.0, 2.51], [109.25, 50.0, 0.02096594591642004, 141.0, 2.5], [86.4, 50.0, 0.020375721807325376, 31.0, 1.76], [94.37, 85.0, 0.05920640773116481, 812.0, 2.81], [142.09, 105.0, 0.02714700206074621, 37.0, 2.4], [96.7, 120.0, 0.057924496456266614, 22.0, 2.19], [142.09, 45.0, 0.02714700206074621, 65.0, 2.42], [102.39, 85.0, 0.03919313319782007, 30.0, 2.2], [94.37, 70.0, 0.05920640773116481, 56.0, 2.33], [91.39, 140.0, 0.05654371115744505, 11.0, 2.32], [108.05, 100.0, 0.02914895502030368, 186.0, 2.19], [82.05, 120.0, 0.03607495935958746, 31.0, 1.69], [74.85, 40.0, 0.03588738917539757, 332.0, 2.01], [125.02, 165.0, 0.04316950309792203, 98.0, 2.44], [82.1, 40.0, 0.05211553345680715, 28.0, 2.41], [134.16, 175.0, 0.02593423395533704, 80.0, 2.43], [145.59, 100.0, 0.0243538727116994, 100.0, 2.2], [109.05, 75.0, 0.028532374790515017, 233.0, 2.28], [133.52, 95.0, 0.02679878159514775, 56.0, 2.42], [125.75, 85.0, 0.0567472996325723, 24.0, 2.44], [111.11, 160.0, 0.055187490005592345, 57.0, 2.45], [143.36, 160.0, 0.02208173621110559, 7.0, 2.42], [139.59, 140.0, 0.033261560062757614, 51.0, 2.15], [83.18, 140.0, 0.05119926052739802, 4.0, 2.36], [143.71, 80.0, 0.02417727691911128, 560.0, 1.87], [110.85, 125.0, 0.02266813029334776, 23.0, 1.9], [145.27, 135.0, 0.02472683396997556, 38.0, 2.22], [84.92, 130.0, 0.05092128836817107, 29.0, 2.42], [108.65, 125.0, 0.029278954084508618, 36.0, 1.89], [105.85, 55.0, 0.03850843954337147, 85.0, 1.99], [83.65, 100.0, 0.03806448896319161, 77.0, 1.84], [85.5, 115.0, 0.034654111036277274, 242.0, 2.14], [94.41, 135.0, 0.0493526854941492, 415.0, 2.69], [101.57, 125.0, 0.051093507440548885, 30.0, 2.41], [146.01, 130.0, 0.04034332393473633, 39.0, 2.3], [91.89, 90.0, 0.05247972172205729, 70.0, 2.42], [87.0, 60.0, 0.02007968702641709, 667.0, 2.31], [81.75, 80.0, 0.022918911862514674, 226.0, 1.87], [99.55, 35.0, 0.04045012597373312, 519.0, 2.45], [139.76, 105.0, 0.03323668688625022, 570.0, 1.71], [96.6, 90.0, 0.06593577053311157, 0.0, 2.21], [145.84, 180.0, 0.03967343022331565, 30.0, 2.14], [103.65, 60.0, 0.039085237685685864, 30.0, 1.95], [143.22, 165.0, 0.037955192138043284, 8.0, 2.24], [143.53, 125.0, 0.029901334351513275, 44.0, 2.25], [133.52, 170.0, 0.02679878159514775, 266.0, 2.46], [103.79, 130.0, 0.05177982124764943, 353.0, 2.6], [142.94, 95.0, 0.03891984806009386, 35.0, 2.23], [60.15, 75.0, 0.034690698407710024, 710.0, 2.1], [89.4, 45.0, 0.02907330589461383, 639.0, 2.42], [91.82, 90.0, 0.05831998124933874, 17.0, 2.21], [84.25, 75.0, 0.021000429032404483, 35.0, 1.71], [151.52, 115.0, 0.01908022790249121, 86.0, 2.1], [89.35, 140.0, 0.06919720611335829, 429.0, 2.71], [99.55, 40.0, 0.02379997599014585, 219.0, 2.09], [82.05, 60.0, 0.03607495935958746, 612.0, 2.58], [102.39, 75.0, 0.03919313319782007, 457.0, 2.66], [145.84, 180.0, 0.020942446037653058, 245.0, 2.03], [145.21, 210.0, 0.03978760750816205, 123.0, 2.23], [105.3, 95.0, 0.03207961120690282, 196.0, 2.13], [76.1, 55.0, 0.03568778432317364, 238.0, 1.85], [135.81, 45.0, 0.028478627205766167, 605.0, 2.26], [74.6, 85.0, 0.035153152039118576, 64.0, 1.58], [94.18, 145.0, 0.0418915506785926, 139.0, 2.52], [139.24, 195.0, 0.02741726994500036, 154.0, 2.42], [94.99, 160.0, 0.0697894134639457, 428.0, 2.7], [89.42, 100.0, 0.05252903068517965, 203.0, 2.48], [144.62, 155.0, 0.02990831354276945, 45.0, 2.21], [83.425, 90.0, 0.03688202209474797, 618.0, 2.54], [86.16, 90.0, 0.06603447853296382, 59.0, 2.39], [119.26, 150.0, 0.04253479949494567, 15.0, 2.42], [85.15, 55.0, 0.0380501450991221, 256.0, 2.05], [97.51, 105.0, 0.03425648376411678, 462.0, 2.66], [109.27, 145.0, 0.043225389323293235, 469.0, 2.64], [139.52, 125.0, 0.03648791528053155, 22.0, 2.37], [139.59, 45.0, 0.033261560062757614, 23.0, 2.11], [94.1, 165.0, 0.038396805639194016, 100.0, 2.27], [116.1, 140.0, 0.04319010755719318, 36.0, 2.01], [145.84, 135.0, 0.020942446037653058, 245.0, 2.03], [101.34, 40.0, 0.05211642321528565, 367.0, 2.57], [149.14, 150.0, 0.01778622484506646, 238.0, 2.1], [143.36, 155.0, 0.02208173621110559, 7.0, 2.42], [86.97, 90.0, 0.0524224717238065, 218.0, 2.56], [82.95, 95.0, 0.02248597549291465, 106.0, 1.72], [85.1, 105.0, 0.015440871820853228, 52.0, 1.93], [85.6, 65.0, 0.02740671450912244, 32.0, 1.64], [88.75, 105.0, 0.03455286422363945, 28.0, 1.68], [115.8, 120.0, 0.04366757207570815, 51.0, 2.2], [119.0, 145.0, 0.043633075940499325, 50.0, 2.18], [105.15, 85.0, 0.05041707319464903, 18.0, 2.39], [143.1, 125.0, 0.02100244127244113, 29.0, 2.11], [97.51, 155.0, 0.03425648376411678, 188.0, 2.44], [119.41, 100.0, 0.057647592204568415, 702.0, 2.53], [95.44, 120.0, 0.05591199982832329, 739.0, 2.53], [144.75, 70.0, 0.02486137805704945, 8.0, 2.17], [119.0, 40.0, 0.043633075940499325, 113.0, 2.18], [77.3, 85.0, 0.03570828839001672, 23.0, 1.4], [81.7, 100.0, 0.022058999127506286, 38.0, 1.64], [99.89, 100.0, 0.05255867684674709, 64.0, 2.43], [97.42, 110.0, 0.046291221339118456, 87.0, 2.33], [113.65, 80.0, 0.03900722091893658, 10.0, 2.02], [109.35, 165.0, 0.06814659430140835, 351.0, 2.55], [140.95, 70.0, 0.033643711082795166, 22.0, 2.19], [104.05, 130.0, 0.03983454266421006, 158.0, 2.22], [92.12, 145.0, 0.037428600486516604, 463.0, 2.66], [94.1, 135.0, 0.038396805639194016, 464.0, 2.67], [95.91, 100.0, 0.0521173509381002, 738.0, 2.58], [141.91, 120.0, 0.020369889593048918, 184.0, 2.04], [104.8, 80.0, 0.02969373123956808, 193.0, 2.15], [143.22, 85.0, 0.037955192138043284, 127.0, 2.19], [82.4, 110.0, 0.02098512697245141, 127.0, 1.77], [139.59, 125.0, 0.033261560062757614, 569.0, 1.77], [81.5, 105.0, 0.0392368437441856, 626.0, 2.5], [144.13, 120.0, 0.02412207640156263, 39.0, 2.23], [104.1, 80.0, 0.03205668447190172, 106.0, 1.96], [99.55, 125.0, 0.04045012597373312, 1.0, 1.96], [105.65, 80.0, 0.03028472331639227, 120.0, 1.94], [108.89, 135.0, 0.033616104014165364, 30.0, 2.46], [97.27, 85.0, 0.03429335757363078, 4.0, 2.17], [111.96, 75.0, 0.05436436876731463, 329.0, 2.55], [107.25, 90.0, 0.02126967117374272, 672.0, 2.43], [136.6, 185.0, 0.02784704439188373, 242.0, 2.42], [85.04, 105.0, 0.06600052885413198, 32.0, 2.23], [87.2, 65.0, 0.05053913197199575, 763.0, 2.73], [113.5, 130.0, 0.045621608535184766, 56.0, 2.18], [144.11, 55.0, 0.03955388694961375, 25.0, 2.12], [81.75, 45.0, 0.027639068053334416, 268.0, 2.03], [128.25, 135.0, 0.02708046286156833, 87.0, 2.45], [119.15, 95.0, 0.04106330083258357, 109.0, 2.43], [91.31, 80.0, 0.06716914969694814, 66.0, 2.38], [86.75, 115.0, 0.036707828274391216, 35.0, 1.68], [107.25, 75.0, 0.02126967117374272, 0.0, 2.46], [142.1, 90.0, 0.03328721317978595, 112.0, 2.12], [106.87, 120.0, 0.017810059724161033, 9.0, 2.43], [97.45, 50.0, 0.03939848994816208, 92.0, 2.32], [109.25, 75.0, 0.02096594591642004, 15.0, 2.44], [84.5, 110.0, 0.016135623623264126, 57.0, 1.91], [95.44, 105.0, 0.05591199982832329, 39.0, 2.42], [79.65, 30.0, 0.026428436979249875, 319.0, 2.06], [134.16, 135.0, 0.02593423395533704, 262.0, 2.46], [108.65, 85.0, 0.029278954084508618, 8.0, 1.89], [81.75, 130.0, 0.027639068053334416, 51.0, 1.85], [119.7, 70.0, 0.04577045983518167, 840.0, 2.81], [120.83, 170.0, 0.04081190245642279, 112.0, 2.4], [141.96, 120.0, 0.040351047419522064, 134.0, 2.33], [105.3, 95.0, 0.02787708475705453, 57.0, 2.08], [117.98, 130.0, 0.04070214771517892, 56.0, 2.46], [108.9, 60.0, 0.02392192790432199, 25.0, 1.88], [81.75, 55.0, 0.022918911862514674, 317.0, 2.05], [140.95, 155.0, 0.033643711082795166, 50.0, 2.14], [81.9, 65.0, 0.023407470823318902, 14.0, 1.68], [122.51, 80.0, 0.03552736788519532, 639.0, 2.4], [85.6, 30.0, 0.02740671450912244, 4.0, 1.64], [79.35, 40.0, 0.02112959870762864, 227.0, 1.87], [95.75, 115.0, 0.019383883901721143, 590.0, 2.52], [82.67, 95.0, 0.05135880528303604, 207.0, 2.52], [83.225, 50.0, 0.03670930940113666, 617.0, 2.54], [109.65, 60.0, 0.029259029608548006, 50.0, 2.11], [105.98, 60.0, 0.01722287137317212, 133.0, 2.46], [92.28, 55.0, 0.05017401584613703, 781.0, 2.84], [129.59, 55.0, 0.02700353265241049, 177.0, 2.46], [109.65, 70.0, 0.029259029608548006, 50.0, 2.11], [92.08, 50.0, 0.056522309865481124, 128.0, 2.41], [114.01, 115.0, 0.0432652999768328, 107.0, 2.23], [108.9, 140.0, 0.02392192790432199, 543.0, 2.42], [129.59, 120.0, 0.02700353265241049, 86.0, 2.44], [84.85, 95.0, 0.027112728040820242, 190.0, 1.95], [81.2, 115.0, 0.023240811553711386, 102.0, 1.76], [108.1, 115.0, 0.05806304972627883, 162.0, 2.49], [145.59, 120.0, 0.0243538727116994, 555.0, 1.82], [118.92, 65.0, 0.04086959285181575, 24.0, 2.47], [102.6, 135.0, 0.0395312245048135, 45.0, 1.96], [83.3, 95.0, 0.020032987384958824, 32.0, 1.7], [114.98, 95.0, 0.04578773498363206, 837.0, 2.82], [109.27, 140.0, 0.02093525234091236, 35.0, 2.48], [119.41, 55.0, 0.057647592204568415, 30.0, 2.42], [99.55, 115.0, 0.02379997599014585, 583.0, 2.59], [105.98, 60.0, 0.01722287137317212, 7.0, 2.45], [101.29, 115.0, 0.052604678039866605, 7.0, 2.41], [86.45, 50.0, 0.035883690523158804, 2.0, 1.69], [139.76, 165.0, 0.03323668688625022, 115.0, 2.12], [108.15, 60.0, 0.01953874168830817, 130.0, 2.46], [136.8, 105.0, 0.022252106239307963, 15.0, 2.44], [95.93, 165.0, 0.06666538557082065, 160.0, 2.52], [143.1, 210.0, 0.02100244127244113, 92.0, 2.05], [101.44, 90.0, 0.06760264965192364, 71.0, 2.35], [98.95, 85.0, 0.023534909328441097, 3.0, 1.81], [108.1, 80.0, 0.05806304972627883, 162.0, 2.49], [107.85, 110.0, 0.020152416626519568, 310.0, 2.53], [59.65, 45.0, 0.034146872967722224, 161.0, 1.73], [107.6, 70.0, 0.02658037020883468, 58.0, 1.94], [93.69, 80.0, 0.05449156940305447, 407.0, 2.7], [119.41, 115.0, 0.057647592204568415, 156.0, 2.51], [81.2, 70.0, 0.023240811553711386, 193.0, 1.93], [99.58, 45.0, 0.03881411603965588, 101.0, 2.25], [107.25, 100.0, 0.02126967117374272, 308.0, 2.52], [117.98, 75.0, 0.04070214771517892, 301.0, 2.45], [108.9, 70.0, 0.02392192790432199, 25.0, 1.88], [88.4, 115.0, 0.05375751880029838, 56.0, 2.41], [103.65, 130.0, 0.039085237685685864, 149.0, 2.24], [106.1, 60.0, 0.03980859881527557, 71.0, 2.06], [121.4, 30.0, 0.056874325017275164, 336.0, 2.55], [140.7, 65.0, 0.02171823662231393, 618.0, 2.3], [83.425, 70.0, 0.03688202209474797, 9.0, 1.68], [105.2, 70.0, 0.02488153995771937, 24.0, 1.92], [118.12, 70.0, 0.03379825466972451, 29.0, 2.45], [113.5, 100.0, 0.045621608535184766, 209.0, 2.38], [133.57, 130.0, 0.026763198903317645, 18.0, 2.45], [118.84, 60.0, 0.04068573078584941, 204.0, 2.44], [91.39, 155.0, 0.05654371115744505, 129.0, 2.41], [109.1, 80.0, 0.016403341833589692, 322.0, 2.55], [101.44, 105.0, 0.06760264965192364, 8.0, 2.21], [81.6, 115.0, 0.027967467676052928, 269.0, 2.05], [94.41, 165.0, 0.0493526854941492, 415.0, 2.69], [86.97, 85.0, 0.0524224717238065, 8.0, 2.36], [95.0, 145.0, 0.04574261854631706, 0.0, 2.19], [84.5, 75.0, 0.026966968549812943, 35.0, 1.64], [75.05, 70.0, 0.03009198382900272, 15.0, 1.5], [99.58, 145.0, 0.03881411603965588, 38.0, 2.17], [85.5, 120.0, 0.034654111036277274, 242.0, 2.14], [89.42, 145.0, 0.05645052394588116, 14.0, 2.32], [142.44, 45.0, 0.037687252670167794, 220.0, 2.21], [97.35, 120.0, 0.06119850817893752, 16.0, 2.2], [103.9, 90.0, 0.04798018744684324, 84.0, 2.37], [89.42, 150.0, 0.05252903068517965, 749.0, 2.52], [80.5, 95.0, 0.02274421240213188, 654.0, 2.28], [89.41, 60.0, 0.05373582164075096, 205.0, 2.54], [125.68, 105.0, 0.02730710523442496, 179.0, 2.47], [92.08, 170.0, 0.056522309865481124, 38.0, 2.28], [89.54, 100.0, 0.049390696870170704, 52.0, 2.41], [102.36, 100.0, 0.047397276740506665, 51.0, 2.41], [116.1, 130.0, 0.04319010755719318, 36.0, 2.01], [144.75, 125.0, 0.02486137805704945, 36.0, 2.17], [82.25, 100.0, 0.039105580737061794, 627.0, 2.49], [83.05, 95.0, 0.019072673638772814, 53.0, 1.79], [119.7, 115.0, 0.04577045983518167, 202.0, 2.36], [108.89, 110.0, 0.033616104014165364, 668.0, 2.46], [109.02, 60.0, 0.04324673887199517, 15.0, 2.16], [148.12, 195.0, 0.03955871329297976, 210.0, 2.05], [109.6, 145.0, 0.028568698611290418, 232.0, 2.28], [77.3, 45.0, 0.03570828839001672, 695.0, 2.26], [78.8, 50.0, 0.020669559837986747, 665.0, 2.28], [103.9, 75.0, 0.04798018744684324, 84.0, 2.37], [139.76, 75.0, 0.03323668688625022, 206.0, 2.1], [125.02, 175.0, 0.04316950309792203, 644.0, 2.4], [60.0, 80.0, 0.03557069196275883, 74.0, 1.51], [120.11, 50.0, 0.04211339748648698, 105.0, 2.44], [109.1, 110.0, 0.016403341833589692, 14.0, 2.44], [149.14, 50.0, 0.01778622484506646, 539.0, 2.0], [112.45, 50.0, 0.046253993306802715, 121.0, 2.16], [71.7, 50.0, 0.035571211115538307, 156.0, 1.81], [118.12, 120.0, 0.03379825466972451, 121.0, 2.48], [139.59, 80.0, 0.033261560062757614, 569.0, 1.77], [118.65, 145.0, 0.042099531639726386, 14.0, 2.43], [89.54, 130.0, 0.049390696870170704, 416.0, 2.7], [85.6, 165.0, 0.05089068930639548, 120.0, 2.4], [77.65, 35.0, 0.020019776292782333, 115.0, 1.77], [71.7, 70.0, 0.035571211115538307, 702.0, 2.17], [118.65, 155.0, 0.042099531639726386, 197.0, 2.46], [108.1, 100.0, 0.05806304972627883, 708.0, 2.48], [118.92, 95.0, 0.04086959285181575, 116.0, 2.46], [96.95, 60.0, 0.037464009722041273, 18.0, 1.91], [144.75, 210.0, 0.02486137805704945, 190.0, 2.08], [141.96, 180.0, 0.040351047419522064, 589.0, 1.88], [108.36, 125.0, 0.02017738307473924, 37.0, 2.44], [144.13, 60.0, 0.02412207640156263, 11.0, 2.23], [89.35, 50.0, 0.06919720611335829, 65.0, 2.38], [111.96, 110.0, 0.05436436876731463, 55.0, 2.46], [115.95, 55.0, 0.043428805077523454, 216.0, 2.33], [86.05, 50.0, 0.037057284322713234, 619.0, 2.51], [85.1, 95.0, 0.015440871820853228, 143.0, 2.06], [91.31, 170.0, 0.06716914969694814, 430.0, 2.72], [115.95, 120.0, 0.043428805077523454, 126.0, 2.16], [114.01, 85.0, 0.0432652999768328, 16.0, 2.15], [109.25, 90.0, 0.02096594591642004, 15.0, 2.44], [95.93, 30.0, 0.06666538557082065, 70.0, 2.36], [106.99, 65.0, 0.06744445974072215, 16.0, 2.4], [95.75, 55.0, 0.019383883901721143, 44.0, 1.81], [148.52, 100.0, 0.02922987407630936, 51.0, 2.08], [142.94, 115.0, 0.03891984806009386, 581.0, 1.84], [99.89, 140.0, 0.05255867684674709, 190.0, 2.51], [106.5, 95.0, 0.02622556699757568, 59.0, 1.94], [89.42, 95.0, 0.05252903068517965, 77.0, 2.4], [107.96, 135.0, 0.020556949806368498, 31.0, 2.47], [141.4, 75.0, 0.022239045536183395, 14.0, 2.42], [87.95, 100.0, 0.035025484640970835, 155.0, 2.1], [98.2, 75.0, 0.02359929121875208, 4.0, 1.82], [115.95, 130.0, 0.043428805077523454, 490.0, 2.56], [133.43, 65.0, 0.026733957170835786, 261.0, 2.44], [95.35, 140.0, 0.03980656094125559, 16.0, 1.93], [106.87, 80.0, 0.017810059724161033, 681.0, 2.52], [104.2, 60.0, 0.029096468191720862, 555.0, 2.58], [106.7, 75.0, 0.028871292293442905, 98.0, 1.98], [111.27, 70.0, 0.05758693612186035, 704.0, 2.48], [65.55, 45.0, 0.03501358846120794, 157.0, 1.8], [109.35, 105.0, 0.06814659430140835, 15.0, 2.42], [107.21, 130.0, 0.01633129053880686, 10.0, 2.44], [139.52, 85.0, 0.03648791528053155, 232.0, 2.4], [107.25, 85.0, 0.02126967117374272, 308.0, 2.52], [122.75, 75.0, 0.029983711000520632, 183.0, 2.47], [94.41, 55.0, 0.0493526854941492, 141.0, 2.53], [91.31, 135.0, 0.06716914969694814, 156.0, 2.53], [118.92, 85.0, 0.04086959285181575, 298.0, 2.41], [98.95, 120.0, 0.032242082363378124, 570.0, 2.53], [91.39, 110.0, 0.05654371115744505, 403.0, 2.69], [111.27, 130.0, 0.05758693612186035, 158.0, 2.51], [94.37, 120.0, 0.05920640773116481, 56.0, 2.33], [111.11, 110.0, 0.055187490005592345, 240.0, 2.51], [107.85, 75.0, 0.020152416626519568, 128.0, 2.45], [111.22, 60.0, 0.05807076087841561, 10.0, 2.39], [83.425, 35.0, 0.03688202209474797, 254.0, 2.05], [148.12, 170.0, 0.03955871329297976, 210.0, 2.05], [148.01, 115.0, 0.017307845747791668, 535.0, 1.97], [90.52, 105.0, 0.058429640905986874, 809.0, 2.81], [94.18, 145.0, 0.0418915506785926, 413.0, 2.7], [143.02, 50.0, 0.03363884127473833, 200.0, 2.1], [59.65, 95.0, 0.034146872967722224, 707.0, 2.05], [89.4, 40.0, 0.02907330589461383, 275.0, 2.17], [83.18, 140.0, 0.05119926052739802, 122.0, 2.4], [108.25, 105.0, 0.03581670508662785, 223.0, 2.3], [109.27, 60.0, 0.043225389323293235, 469.0, 2.64], [145.84, 70.0, 0.03967343022331565, 121.0, 2.18], [100.3, 70.0, 0.039631207170908386, 529.0, 2.44], [108.05, 40.0, 0.02914895502030368, 550.0, 2.59], [83.3, 125.0, 0.02816223659953558, 53.0, 1.87], [59.95, 30.0, 0.03368497367649679, 72.0, 1.55], [105.15, 100.0, 0.05041707319464903, 18.0, 2.39], [144.62, 80.0, 0.02990831354276945, 108.0, 2.2], [97.42, 70.0, 0.046291221339118456, 24.0, 2.21], [99.29, 55.0, 0.05210345396041228, 94.0, 2.45], [86.75, 60.0, 0.036707828274391216, 161.0, 2.06], [108.1, 85.0, 0.05806304972627883, 8.0, 2.43], [91.89, 95.0, 0.05247972172205729, 14.0, 2.4], [89.42, 45.0, 0.05252903068517965, 203.0, 2.48], [85.04, 90.0, 0.06600052885413198, 150.0, 2.52], [105.15, 115.0, 0.05041707319464903, 18.0, 2.39], [109.05, 135.0, 0.028532374790515017, 233.0, 2.28], [148.52, 155.0, 0.02922987407630936, 534.0, 2.0], [109.35, 70.0, 0.06814659430140835, 169.0, 2.46], [112.0, 40.0, 0.044291377964058416, 480.0, 2.6], [91.82, 95.0, 0.05831998124933874, 80.0, 2.33], [88.25, 30.0, 0.029491533475485245, 3.0, 1.68], [149.04, 70.0, 0.03997917719852827, 120.0, 2.14], [147.42, 165.0, 0.01800164940835659, 18.0, 2.12], [118.65, 170.0, 0.042099531639726386, 652.0, 2.33], [74.85, 45.0, 0.03588738917539757, 696.0, 2.25], [143.0, 175.0, 0.02356693543711004, 4.0, 2.17], [124.98, 145.0, 0.04357283801505035, 32.0, 2.42], [143.36, 140.0, 0.02208173621110559, 70.0, 2.43], [119.36, 115.0, 0.04206772515911834, 39.0, 2.43], [104.05, 155.0, 0.03983454266421006, 522.0, 2.42], [80.5, 125.0, 0.02274421240213188, 199.0, 1.92], [101.77, 120.0, 0.06778791125188538, 78.0, 2.32], [86.89, 65.0, 0.06339175941381088, 58.0, 2.41], [118.92, 135.0, 0.04086959285181575, 662.0, 2.26], [128.25, 55.0, 0.02708046286156833, 633.0, 2.36], [142.03, 185.0, 0.02304807360549109, 165.0, 2.46], [117.4, 50.0, 0.04068156701191989, 114.0, 2.44], [83.3, 65.0, 0.03475224044737936, 59.0, 1.93], [85.2, 120.0, 0.016127754243936997, 233.0, 2.08], [83.5, 115.0, 0.041067196097455023, 85.0, 1.82], [119.7, 140.0, 0.04577045983518167, 112.0, 2.19], [129.95, 155.0, 0.026794942492717886, 267.0, 2.46], [144.13, 35.0, 0.02412207640156263, 193.0, 2.14], [86.97, 30.0, 0.0524224717238065, 36.0, 2.36], [142.94, 55.0, 0.03891984806009386, 217.0, 2.18], [81.6, 120.0, 0.027967467676052928, 87.0, 1.87], [120.11, 165.0, 0.04211339748648698, 105.0, 2.44], [109.05, 140.0, 0.028532374790515017, 507.0, 2.47], [106.99, 70.0, 0.06744445974072215, 170.0, 2.5], [142.03, 75.0, 0.02304807360549109, 74.0, 2.44], [97.45, 90.0, 0.03939848994816208, 92.0, 2.32], [85.1, 55.0, 0.015440871820853228, 17.0, 1.77], [116.3, 90.0, 0.04357222028705686, 843.0, 2.83], [88.67, 45.0, 0.052216453849600886, 401.0, 2.7], [142.94, 105.0, 0.03891984806009386, 217.0, 2.18], [85.16, 60.0, 0.04964192796762052, 43.0, 2.42], [86.45, 70.0, 0.035883690523158804, 611.0, 2.58], [82.25, 85.0, 0.039105580737061794, 172.0, 2.04], [143.61, 115.0, 0.03721474485363761, 9.0, 2.19], [143.71, 115.0, 0.02417727691911128, 14.0, 2.26], [61.45, 90.0, 0.03193718936996071, 77.0, 1.48], [76.1, 60.0, 0.034878010813682435, 144.0, 1.87], [97.4, 60.0, 0.03228772966546013, 25.0, 1.8], [77.65, 105.0, 0.020019776292782333, 297.0, 2.1], [144.78, 140.0, 0.04039331808446709, 14.0, 2.3], [107.25, 160.0, 0.02126967117374272, 672.0, 2.43], [102.36, 40.0, 0.047397276740506665, 359.0, 2.59], [108.68, 145.0, 0.05522043012971626, 56.0, 2.45], [103.91, 100.0, 0.050830213280792264, 1.0, 2.41], [139.76, 130.0, 0.03323668688625022, 115.0, 2.12], [139.24, 110.0, 0.02741726994500036, 245.0, 2.42], [124.48, 125.0, 0.035416602172033324, 31.0, 2.43], [98.55, 150.0, 0.06770483768273462, 164.0, 2.51], [146.01, 40.0, 0.04034332393473633, 221.0, 2.21], [144.62, 95.0, 0.02990831354276945, 108.0, 2.2], [89.41, 30.0, 0.05373582164075096, 23.0, 2.41], [104.29, 130.0, 0.04812054632559818, 364.0, 2.6], [94.41, 170.0, 0.0493526854941492, 51.0, 2.4], [92.08, 65.0, 0.056522309865481124, 402.0, 2.7], [145.84, 195.0, 0.020942446037653058, 182.0, 2.03], [89.42, 35.0, 0.05645052394588116, 42.0, 2.32], [85.5, 105.0, 0.034654111036277274, 151.0, 2.14], [142.94, 105.0, 0.03891984806009386, 35.0, 2.23], [119.3, 155.0, 0.041100395508881706, 290.0, 2.41], [95.91, 140.0, 0.0521173509381002, 738.0, 2.58], [140.95, 170.0, 0.033643711082795166, 113.0, 2.14], [136.49, 85.0, 0.028166128481303964, 604.0, 2.23], [101.67, 30.0, 0.06785756925371184, 77.0, 2.33], [134.86, 115.0, 0.027111380155893743, 64.0, 2.4], [91.39, 130.0, 0.05654371115744505, 403.0, 2.69], [142.94, 180.0, 0.03891984806009386, 581.0, 1.84], [91.31, 75.0, 0.06716914969694814, 430.0, 2.72], [92.08, 115.0, 0.056522309865481124, 402.0, 2.7], [90.34, 125.0, 0.05337744260853343, 200.0, 2.56], [90.52, 125.0, 0.058429640905986874, 18.0, 2.17], [101.91, 140.0, 0.06750222569987634, 800.0, 2.96], [97.98, 75.0, 0.0462370357253842, 25.0, 2.18], [63.1, 75.0, 0.03501066441507238, 67.0, 1.62], [79.55, 50.0, 0.02081677694808208, 659.0, 2.27], [85.67, 105.0, 0.05134786360186918, 31.0, 2.35], [118.84, 75.0, 0.04068573078584941, 113.0, 2.43], [145.52, 170.0, 0.019325458726455042, 543.0, 1.95], [85.16, 50.0, 0.04964192796762052, 743.0, 2.39], [94.37, 115.0, 0.05920640773116481, 448.0, 2.63], [120.34, 110.0, 0.0438325118803356, 283.0, 2.42], [83.15, 105.0, 0.03939288128719838, 170.0, 2.03], [85.04, 135.0, 0.06600052885413198, 788.0, 2.79], [119.36, 140.0, 0.04206772515911834, 648.0, 2.36], [111.1, 115.0, 0.0283847778515402, 21.0, 1.95], [98.95, 50.0, 0.023534909328441097, 584.0, 2.54], [116.1, 120.0, 0.04319010755719318, 36.0, 2.01], [83.15, 40.0, 0.03939288128719838, 170.0, 2.03], [99.58, 125.0, 0.03881411603965588, 10.0, 2.17], [97.98, 110.0, 0.0462370357253842, 88.0, 2.34], [111.27, 95.0, 0.05758693612186035, 704.0, 2.48], [121.4, 105.0, 0.056874325017275164, 700.0, 2.52], [139.52, 85.0, 0.03648791528053155, 596.0, 2.06], [101.91, 40.0, 0.06750222569987634, 436.0, 2.74], [86.4, 45.0, 0.020375721807325376, 122.0, 1.81], [59.65, 60.0, 0.034146872967722224, 35.0, 1.31], [119.0, 125.0, 0.043633075940499325, 477.0, 2.58], [81.65, 45.0, 0.04085377595000247, 175.0, 2.02], [100.3, 95.0, 0.039631207170908386, 74.0, 2.05], [144.78, 70.0, 0.04039331808446709, 588.0, 1.85], [85.15, 75.0, 0.0380501450991221, 165.0, 2.05], [116.3, 150.0, 0.04357222028705686, 479.0, 2.59], [89.41, 120.0, 0.05373582164075096, 387.0, 2.61], [91.89, 65.0, 0.05247972172205729, 14.0, 2.4], [109.65, 135.0, 0.029259029608548006, 505.0, 2.47], [118.12, 110.0, 0.03379825466972451, 303.0, 2.47], [118.65, 80.0, 0.042099531639726386, 288.0, 2.41], [101.29, 55.0, 0.052604678039866605, 97.0, 2.43], [111.15, 120.0, 0.044180877443518035, 123.0, 2.16], [133.43, 200.0, 0.026733957170835786, 625.0, 2.31], [81.7, 45.0, 0.022058999127506286, 220.0, 1.9], [84.55, 80.0, 0.026524870053739283, 283.0, 2.09], [145.27, 155.0, 0.02472683396997556, 38.0, 2.22], [109.02, 170.0, 0.04324673887199517, 106.0, 2.22], [93.98, 150.0, 0.0550863498793181, 45.0, 2.37], [99.8, 130.0, 0.04027389784965785, 241.0, 2.25], [118.84, 50.0, 0.04068573078584941, 21.0, 2.44], [125.68, 120.0, 0.02730710523442496, 179.0, 2.47], [109.05, 65.0, 0.028532374790515017, 24.0, 1.96], [108.25, 70.0, 0.03581670508662785, 133.0, 2.14], [106.0, 40.0, 0.02494461008299276, 578.0, 2.56], [94.18, 55.0, 0.0418915506785926, 21.0, 2.31], [107.6, 95.0, 0.02658037020883468, 30.0, 1.85], [143.36, 75.0, 0.02208173621110559, 70.0, 2.43], [89.35, 120.0, 0.06919720611335829, 65.0, 2.38], [106.3, 95.0, 0.03627265867160459, 134.0, 2.13], [100.3, 60.0, 0.031957296786981115, 21.0, 1.77], [104.29, 125.0, 0.04812054632559818, 728.0, 2.62], [86.05, 70.0, 0.037057284322713234, 73.0, 1.87], [105.65, 30.0, 0.03028472331639227, 29.0, 1.85], [133.57, 150.0, 0.026763198903317645, 172.0, 2.47], [94.41, 100.0, 0.0493526854941492, 415.0, 2.69], [95.91, 100.0, 0.0521173509381002, 374.0, 2.6], [120.11, 110.0, 0.04211339748648698, 42.0, 2.42], [119.36, 125.0, 0.04206772515911834, 193.0, 2.48], [101.29, 55.0, 0.052604678039866605, 7.0, 2.41], [109.6, 100.0, 0.028568698611290418, 232.0, 2.28], [86.4, 35.0, 0.020375721807325376, 122.0, 1.81], [87.0, 90.0, 0.02007968702641709, 212.0, 1.95], [145.21, 95.0, 0.03978760750816205, 32.0, 2.22], [113.95, 75.0, 0.04040101175550796, 218.0, 2.33], [109.27, 110.0, 0.02093525234091236, 218.0, 2.52], [99.58, 165.0, 0.03881411603965588, 465.0, 2.65], [125.75, 155.0, 0.0567472996325723, 241.0, 2.52], [109.27, 155.0, 0.02093525234091236, 127.0, 2.45], [143.61, 50.0, 0.03721474485363761, 219.0, 2.2], [78.8, 75.0, 0.020669559837986747, 28.0, 1.69], [99.8, 40.0, 0.04027389784965785, 515.0, 2.43], [102.0, 45.0, 0.03123251637738835, 563.0, 2.53], [81.5, 60.0, 0.0392368437441856, 17.0, 1.68], [111.65, 135.0, 0.038944572100956996, 39.0, 1.98], [124.48, 80.0, 0.035416602172033324, 2.0, 2.43], [108.68, 145.0, 0.05522043012971626, 22.0, 2.43], [91.39, 35.0, 0.05654371115744505, 39.0, 2.32], [125.75, 60.0, 0.0567472996325723, 24.0, 2.44], [111.3, 135.0, 0.03529287075030784, 45.0, 2.0], [113.67, 70.0, 0.049063841279046616, 324.0, 2.54], [120.34, 105.0, 0.0438325118803356, 192.0, 2.46], [143.48, 155.0, 0.024087248549372785, 553.0, 1.84], [136.6, 185.0, 0.02784704439188373, 60.0, 2.39], [139.59, 180.0, 0.033261560062757614, 569.0, 1.77], [125.68, 60.0, 0.02730710523442496, 179.0, 2.47], [95.44, 85.0, 0.05591199982832329, 101.0, 2.45], [99.55, 45.0, 0.04045012597373312, 64.0, 2.07], [113.95, 145.0, 0.04040101175550796, 9.0, 2.01], [93.98, 170.0, 0.0550863498793181, 773.0, 2.8], [135.81, 175.0, 0.028478627205766167, 31.0, 2.37], [102.0, 55.0, 0.03123251637738835, 563.0, 2.53], [76.8, 35.0, 0.02933387656602945, 322.0, 2.06], [103.9, 125.0, 0.04798018744684324, 176.0, 2.5], [95.93, 55.0, 0.06666538557082065, 160.0, 2.52], [112.45, 165.0, 0.046253993306802715, 121.0, 2.16], [77.65, 120.0, 0.020019776292782333, 661.0, 2.26], [141.4, 85.0, 0.022239045536183395, 77.0, 2.43], [142.94, 165.0, 0.03891984806009386, 217.0, 2.18], [142.03, 135.0, 0.02304807360549109, 165.0, 2.46], [78.8, 100.0, 0.020669559837986747, 301.0, 2.04], [146.1, 105.0, 0.01954833436101369, 59.0, 2.06], [85.67, 150.0, 0.05134786360186918, 395.0, 2.64], [107.25, 140.0, 0.02126967117374272, 34.0, 2.46], [110.69, 150.0, 0.05949430095473529, 347.0, 2.57], [89.42, 85.0, 0.05252903068517965, 203.0, 2.48], [87.95, 45.0, 0.035025484640970835, 610.0, 2.57], [134.76, 55.0, 0.03635558075423575, 52.0, 2.37], [91.31, 130.0, 0.06716914969694814, 430.0, 2.72], [86.4, 95.0, 0.020375721807325376, 59.0, 1.81], [114.85, 105.0, 0.04503190154239454, 122.0, 2.17], [98.02, 115.0, 0.052282287257146204, 37.0, 2.4], [85.6, 75.0, 0.02740671450912244, 186.0, 1.98], [60.0, 95.0, 0.03557069196275883, 711.0, 2.08], [109.02, 90.0, 0.04324673887199517, 834.0, 2.87], [82.25, 65.0, 0.039105580737061794, 627.0, 2.49], [102.1, 145.0, 0.039317618027402086, 59.0, 2.08], [104.2, 65.0, 0.029096468191720862, 9.0, 1.89], [148.12, 100.0, 0.03955871329297976, 119.0, 2.11], [98.85, 70.0, 0.038414581421304266, 168.0, 2.23], [85.16, 80.0, 0.04964192796762052, 71.0, 2.41], [91.82, 135.0, 0.05831998124933874, 170.0, 2.48], [106.52, 75.0, 0.0466434048839187, 21.0, 2.36], [142.1, 110.0, 0.03328721317978595, 49.0, 2.12], [85.1, 90.0, 0.015440871820853228, 17.0, 1.77], [109.82, 115.0, 0.0581122217960108, 345.0, 2.56], [83.5, 80.0, 0.041067196097455023, 50.0, 1.82], [109.02, 135.0, 0.04324673887199517, 834.0, 2.87], [145.84, 100.0, 0.03967343022331565, 576.0, 1.74], [135.81, 160.0, 0.028478627205766167, 31.0, 2.37], [122.65, 125.0, 0.04381723541187575, 100.0, 2.43], [85.2, 40.0, 0.016127754243936997, 142.0, 2.08], [111.3, 145.0, 0.03529287075030784, 45.0, 2.0], [99.29, 170.0, 0.05210345396041228, 368.0, 2.57], [140.94, 120.0, 0.036935548741476684, 226.0, 2.25], [109.25, 45.0, 0.02096594591642004, 687.0, 2.52], [143.48, 110.0, 0.024087248549372785, 553.0, 1.84], [59.95, 85.0, 0.03368497367649679, 709.0, 2.15], [95.0, 115.0, 0.039871988179493965, 80.0, 2.03], [105.3, 110.0, 0.02787708475705453, 238.0, 2.23], [116.13, 90.0, 0.057630864965401124, 3.0, 2.42], [144.63, 85.0, 0.03987837568686335, 577.0, 1.86], [144.75, 45.0, 0.02486137805704945, 8.0, 2.17], [103.91, 75.0, 0.050830213280792264, 91.0, 2.42], [83.3, 40.0, 0.020032987384958824, 123.0, 1.8], [143.22, 105.0, 0.037955192138043284, 127.0, 2.19], [83.15, 95.0, 0.03939288128719838, 79.0, 1.84], [94.1, 90.0, 0.038396805639194016, 828.0, 2.88], [111.27, 55.0, 0.05758693612186035, 158.0, 2.51], [144.62, 185.0, 0.02990831354276945, 17.0, 2.21], [141.4, 50.0, 0.022239045536183395, 623.0, 2.33], [125.75, 110.0, 0.0567472996325723, 150.0, 2.52], [105.3, 140.0, 0.02787708475705453, 512.0, 2.43], [111.65, 110.0, 0.038944572100956996, 11.0, 1.98], [133.43, 110.0, 0.026733957170835786, 79.0, 2.43], [60.15, 80.0, 0.034690698407710024, 164.0, 1.69], [94.37, 85.0, 0.05920640773116481, 56.0, 2.33], [102.0, 60.0, 0.03123251637738835, 563.0, 2.53], [119.41, 130.0, 0.057647592204568415, 30.0, 2.42], [151.52, 135.0, 0.01908022790249121, 86.0, 2.1], [83.15, 120.0, 0.03939288128719838, 16.0, 1.69], [110.11, 60.0, 0.06315234590095266, 714.0, 2.52], [90.34, 85.0, 0.05337744260853343, 746.0, 2.48], [109.02, 75.0, 0.04324673887199517, 15.0, 2.16], [84.6, 120.0, 0.039189587467606035, 43.0, 1.68], [89.42, 165.0, 0.05252903068517965, 749.0, 2.52], [97.42, 105.0, 0.046291221339118456, 87.0, 2.33], [104.29, 60.0, 0.04812054632559818, 728.0, 2.62], [143.02, 130.0, 0.03363884127473833, 200.0, 2.1], [144.75, 140.0, 0.02486137805704945, 190.0, 2.08], [88.25, 55.0, 0.029491533475485245, 640.0, 2.41], [111.27, 95.0, 0.05758693612186035, 340.0, 2.55], [84.5, 100.0, 0.026966968549812943, 644.0, 2.37], [111.27, 70.0, 0.05758693612186035, 32.0, 2.44], [99.55, 70.0, 0.02379997599014585, 128.0, 1.94], [119.66, 65.0, 0.056911777328876485, 1.0, 2.45], [99.55, 110.0, 0.033053053201065684, 204.0, 2.11], [95.0, 110.0, 0.039871988179493965, 17.0, 1.94], [107.28, 115.0, 0.01804299572857353, 225.0, 2.52], [61.05, 85.0, 0.02987537075131015, 352.0, 1.9], [106.1, 95.0, 0.03980859881527557, 526.0, 2.44], [142.03, 130.0, 0.02304807360549109, 11.0, 2.43], [120.34, 80.0, 0.0438325118803356, 101.0, 2.42], [118.84, 105.0, 0.04068573078584941, 21.0, 2.44], [103.75, 75.0, 0.02370739211794156, 581.0, 2.55], [102.39, 165.0, 0.03919313319782007, 821.0, 2.89], [133.4, 115.0, 0.02875923859176239, 57.0, 2.37], [136.49, 135.0, 0.028166128481303964, 149.0, 2.41], [102.6, 50.0, 0.0395312245048135, 528.0, 2.45], [83.15, 50.0, 0.02315670353995874, 312.0, 2.05], [102.25, 125.0, 0.04027350865033592, 35.0, 1.95], [151.52, 55.0, 0.01908022790249121, 541.0, 1.98], [91.82, 85.0, 0.05831998124933874, 808.0, 2.84], [104.35, 50.0, 0.026903333240906255, 0.0, 1.86], [114.1, 90.0, 0.04654464387159128, 848.0, 2.81], [145.27, 160.0, 0.02472683396997556, 38.0, 2.22], [81.5, 40.0, 0.0392368437441856, 80.0, 1.85], [77.4, 55.0, 0.0229767343221936, 109.0, 1.77], [142.09, 60.0, 0.02714700206074621, 156.0, 2.43], [90.25, 75.0, 0.05240592015590785, 78.0, 2.41], [100.3, 125.0, 0.039631207170908386, 529.0, 2.44], [82.25, 55.0, 0.039105580737061794, 627.0, 2.49], [144.11, 50.0, 0.03955388694961375, 25.0, 2.12], [98.95, 40.0, 0.023534909328441097, 220.0, 2.1], [103.75, 75.0, 0.02370739211794156, 63.0, 1.94], [142.03, 110.0, 0.02304807360549109, 11.0, 2.43], [116.13, 125.0, 0.057630864965401124, 157.0, 2.5], [119.66, 155.0, 0.056911777328876485, 701.0, 2.5], [110.85, 105.0, 0.02266813029334776, 541.0, 2.42], [89.54, 120.0, 0.049390696870170704, 24.0, 2.31], [146.1, 180.0, 0.01954833436101369, 241.0, 2.09], [93.69, 145.0, 0.05449156940305447, 133.0, 2.41], [107.6, 65.0, 0.02658037020883468, 58.0, 1.94], [89.4, 75.0, 0.02907330589461383, 2.0, 1.67], [84.6, 70.0, 0.039189587467606035, 260.0, 2.02], [99.29, 75.0, 0.05210345396041228, 32.0, 2.42], [118.84, 130.0, 0.04068573078584941, 295.0, 2.4], [137.51, 140.0, 0.02752305044493216, 157.0, 2.43], [93.69, 80.0, 0.05449156940305447, 225.0, 2.56], [90.34, 45.0, 0.05337744260853343, 382.0, 2.63], [120.11, 160.0, 0.04211339748648698, 42.0, 2.42], [108.65, 115.0, 0.029278954084508618, 554.0, 2.6], [104.1, 100.0, 0.02944259516825113, 192.0, 2.15], [145.84, 70.0, 0.020942446037653058, 182.0, 2.03], [103.79, 100.0, 0.05177982124764943, 353.0, 2.6], [59.95, 85.0, 0.03368497367649679, 37.0, 1.36], [101.45, 150.0, 0.03742145682550624, 21.0, 1.9], [87.95, 115.0, 0.035025484640970835, 155.0, 2.1], [81.75, 65.0, 0.027639068053334416, 632.0, 2.49], [97.45, 65.0, 0.03939848994816208, 182.0, 2.47], [144.62, 160.0, 0.02990831354276945, 199.0, 2.09], [83.18, 85.0, 0.05119926052739802, 32.0, 2.36], [91.82, 130.0, 0.05831998124933874, 170.0, 2.48], [103.0, 115.0, 0.0238246792656612, 582.0, 2.59], [106.87, 140.0, 0.017810059724161033, 317.0, 2.54], [97.45, 140.0, 0.03939848994816208, 1.0, 2.19], [94.4, 55.0, 0.017144481326023718, 45.0, 1.82], [143.0, 210.0, 0.02356693543711004, 186.0, 2.06], [140.94, 145.0, 0.036935548741476684, 16.0, 2.31], [103.0, 70.0, 0.0238246792656612, 127.0, 1.94], [144.78, 45.0, 0.04039331808446709, 42.0, 2.3], [103.75, 55.0, 0.02370739211794156, 0.0, 1.82], [134.79, 100.0, 0.0286904981199604, 147.0, 2.39], [105.3, 95.0, 0.03207961120690282, 42.0, 1.86], [93.69, 55.0, 0.05449156940305447, 225.0, 2.56], [134.86, 110.0, 0.027111380155893743, 610.0, 2.2], [92.9, 105.0, 0.02391101621048447, 43.0, 1.78], [84.85, 40.0, 0.027112728040820242, 645.0, 2.34], [109.65, 40.0, 0.029259029608548006, 505.0, 2.47], [104.35, 120.0, 0.026903333240906255, 0.0, 1.86], [109.02, 170.0, 0.04324673887199517, 834.0, 2.87], [98.55, 55.0, 0.06770483768273462, 74.0, 2.36], [116.3, 120.0, 0.04357222028705686, 115.0, 2.21], [118.12, 105.0, 0.03379825466972451, 667.0, 2.4], [147.42, 50.0, 0.01800164940835659, 172.0, 2.1], [134.76, 160.0, 0.03635558075423575, 234.0, 2.38], [112.45, 135.0, 0.046253993306802715, 58.0, 2.16], [84.85, 55.0, 0.027112728040820242, 281.0, 2.11], [111.96, 160.0, 0.04309717861046268, 108.0, 2.23], [108.65, 140.0, 0.029278954084508618, 554.0, 2.6], [99.6, 125.0, 0.03949299905522924, 169.0, 2.22], [95.44, 165.0, 0.05591199982832329, 375.0, 2.58], [82.45, 110.0, 0.02355362887883084, 225.0, 1.89], [103.9, 50.0, 0.04798018744684324, 176.0, 2.5], [120.11, 150.0, 0.04211339748648698, 287.0, 2.43], [148.12, 85.0, 0.03955871329297976, 119.0, 2.11], [98.02, 125.0, 0.052282287257146204, 191.0, 2.52], [81.7, 100.0, 0.022058999127506286, 311.0, 2.03], [107.85, 45.0, 0.020152416626519568, 310.0, 2.53], [113.95, 80.0, 0.04040101175550796, 9.0, 2.01], [103.91, 90.0, 0.050830213280792264, 57.0, 2.42], [107.85, 115.0, 0.020152416626519568, 36.0, 2.43], [134.86, 170.0, 0.027111380155893743, 64.0, 2.4], [83.6, 80.0, 0.032657795322860415, 23.0, 1.76], [121.62, 140.0, 0.043193840148350426, 7.0, 2.42], [77.4, 70.0, 0.0229767343221936, 109.0, 1.77], [145.21, 155.0, 0.03978760750816205, 32.0, 2.22], [114.09, 110.0, 0.04988989500469597, 689.0, 2.48], [95.44, 125.0, 0.05591199982832329, 193.0, 2.54], [133.73, 135.0, 0.034736415434142576, 46.0, 2.35], [138.18, 160.0, 0.037655242502910836, 17.0, 2.34], [114.18, 30.0, 0.05345431358025315, 326.0, 2.56], [101.91, 65.0, 0.06750222569987634, 800.0, 2.96], [120.83, 75.0, 0.04081190245642279, 294.0, 2.4], [133.57, 105.0, 0.026763198903317645, 18.0, 2.45], [109.03, 150.0, 0.0165504455523345, 137.0, 2.54], [143.61, 170.0, 0.03721474485363761, 583.0, 1.88], [144.13, 190.0, 0.02412207640156263, 557.0, 1.88], [99.8, 110.0, 0.04027389784965785, 60.0, 2.06], [101.67, 95.0, 0.06785756925371184, 441.0, 2.7], [124.48, 80.0, 0.035416602172033324, 185.0, 2.47], [84.25, 45.0, 0.03680927376720219, 4.0, 1.7], [100.3, 85.0, 0.039631207170908386, 11.0, 1.92], [137.46, 160.0, 0.026066182636784167, 4.0, 2.41], [99.55, 80.0, 0.02379997599014585, 128.0, 1.94], [109.1, 135.0, 0.016403341833589692, 140.0, 2.52], [97.27, 150.0, 0.03429335757363078, 185.0, 2.47], [85.04, 125.0, 0.06600052885413198, 788.0, 2.79], [142.44, 120.0, 0.037687252670167794, 584.0, 1.93], [109.0, 90.0, 0.02935983489015061, 185.0, 2.19], [86.4, 85.0, 0.020375721807325376, 304.0, 2.08], [81.2, 60.0, 0.023240811553711386, 102.0, 1.76], [111.27, 85.0, 0.05758693612186035, 4.0, 2.44], [108.1, 135.0, 0.05806304972627883, 36.0, 2.43], [87.0, 100.0, 0.02007968702641709, 58.0, 1.74], [90.0, 65.0, 0.01722376373399032, 595.0, 2.47], [94.4, 80.0, 0.017144481326023718, 45.0, 1.82], [88.4, 100.0, 0.05375751880029838, 146.0, 2.52], [142.94, 110.0, 0.03891984806009386, 581.0, 1.84], [137.51, 90.0, 0.02752305044493216, 3.0, 2.41], [118.84, 160.0, 0.04068573078584941, 113.0, 2.43], [104.8, 30.0, 0.02969373123956808, 193.0, 2.15], [101.45, 120.0, 0.03742145682550624, 84.0, 2.0], [133.94, 90.0, 0.037198772132634436, 51.0, 2.37], [106.7, 70.0, 0.028871292293442905, 35.0, 1.87], [113.67, 100.0, 0.049063841279046616, 50.0, 2.45], [118.92, 85.0, 0.04086959285181575, 116.0, 2.46], [99.6, 140.0, 0.03949299905522924, 50.0, 2.02], [98.2, 110.0, 0.02359929121875208, 39.0, 1.82], [84.85, 55.0, 0.027112728040820242, 190.0, 1.95], [110.69, 125.0, 0.05949430095473529, 11.0, 2.41], [120.34, 170.0, 0.0438325118803356, 9.0, 2.42], [140.7, 85.0, 0.02171823662231393, 618.0, 2.3], [60.15, 80.0, 0.034690698407710024, 346.0, 1.87], [129.59, 150.0, 0.02700353265241049, 177.0, 2.46], [102.36, 65.0, 0.047397276740506665, 177.0, 2.51], [104.29, 60.0, 0.04812054632559818, 182.0, 2.5], [111.01, 145.0, 0.05767055003564834, 343.0, 2.54], [92.08, 110.0, 0.056522309865481124, 766.0, 2.78], [99.55, 120.0, 0.06805140265323532, 801.0, 2.93], [133.94, 180.0, 0.037198772132634436, 233.0, 2.38], [98.02, 110.0, 0.052282287257146204, 99.0, 2.45], [98.2, 55.0, 0.02359929121875208, 130.0, 1.94], [82.45, 110.0, 0.02395413754744376, 107.0, 1.71], [89.4, 100.0, 0.02907330589461383, 184.0, 2.01], [95.91, 105.0, 0.0521173509381002, 10.0, 2.4], [85.75, 70.0, 0.016114162935089483, 21.0, 1.7], [109.35, 70.0, 0.06814659430140835, 351.0, 2.55], [106.85, 145.0, 0.03120329614729463, 56.0, 2.09], [146.01, 190.0, 0.04034332393473633, 130.0, 2.29], [81.75, 40.0, 0.022918911862514674, 317.0, 2.05], [118.65, 95.0, 0.042099531639726386, 288.0, 2.41], [119.26, 120.0, 0.04253479949494567, 289.0, 2.41], [119.41, 85.0, 0.057647592204568415, 338.0, 2.55], [83.18, 140.0, 0.05119926052739802, 32.0, 2.36], [113.67, 85.0, 0.049063841279046616, 688.0, 2.5], [104.29, 145.0, 0.04812054632559818, 90.0, 2.41], [125.68, 145.0, 0.02730710523442496, 634.0, 2.38], [137.22, 160.0, 0.02356572453640285, 45.0, 2.44], [120.34, 60.0, 0.0438325118803356, 283.0, 2.42], [92.08, 70.0, 0.056522309865481124, 10.0, 2.28], [103.91, 115.0, 0.050830213280792264, 57.0, 2.42], [102.0, 80.0, 0.03123251637738835, 45.0, 1.91], [112.45, 120.0, 0.046253993306802715, 849.0, 2.81], [114.18, 170.0, 0.05345431358025315, 326.0, 2.56], [91.55, 120.0, 0.04960606332745087, 814.0, 2.84], [93.98, 70.0, 0.0550863498793181, 409.0, 2.71], [97.27, 100.0, 0.03429335757363078, 185.0, 2.47], [85.5, 65.0, 0.034654111036277274, 25.0, 1.71], [95.93, 115.0, 0.06666538557082065, 434.0, 2.73], [74.1, 40.0, 0.03570263684949453, 239.0, 1.84], [85.2, 115.0, 0.016127754243936997, 597.0, 2.42], [81.6, 70.0, 0.027967467676052928, 52.0, 1.87], [141.91, 115.0, 0.020369889593048918, 93.0, 2.14], [114.1, 45.0, 0.04654464387159128, 484.0, 2.58], [97.45, 105.0, 0.03939848994816208, 1.0, 2.19], [107.85, 55.0, 0.020152416626519568, 2.0, 2.43], [74.6, 85.0, 0.035153152039118576, 29.0, 1.3], [95.93, 115.0, 0.06666538557082065, 7.0, 2.21], [88.25, 125.0, 0.029491533475485245, 185.0, 2.02], [99.6, 130.0, 0.03949299905522924, 15.0, 1.89], [114.18, 85.0, 0.05345431358025315, 235.0, 2.51], [144.63, 120.0, 0.03987837568686335, 122.0, 2.22], [145.21, 30.0, 0.03978760750816205, 214.0, 2.2], [134.86, 185.0, 0.027111380155893743, 610.0, 2.2], [136.49, 100.0, 0.028166128481303964, 149.0, 2.41], [141.91, 100.0, 0.020369889593048918, 247.0, 2.04], [111.11, 50.0, 0.055187490005592345, 331.0, 2.54], [110.11, 145.0, 0.06315234590095266, 76.0, 2.4], [74.6, 65.0, 0.035153152039118576, 1.0, 1.3], [86.45, 110.0, 0.02916089943722945, 29.0, 1.67], [124.48, 165.0, 0.035416602172033324, 276.0, 2.45], [134.16, 155.0, 0.02593423395533704, 262.0, 2.46], [119.0, 165.0, 0.043633075940499325, 113.0, 2.18], [83.15, 65.0, 0.03939288128719838, 44.0, 1.69], [104.8, 70.0, 0.02969373123956808, 557.0, 2.57], [74.6, 80.0, 0.035153152039118576, 701.0, 2.19], [98.85, 80.0, 0.038414581421304266, 14.0, 1.9], [134.79, 160.0, 0.0286904981199604, 147.0, 2.39], [124.98, 85.0, 0.04357283801505035, 277.0, 2.43], [114.98, 85.0, 0.04578773498363206, 109.0, 2.23], [85.6, 60.0, 0.02740671450912244, 4.0, 1.64], [116.1, 75.0, 0.04319010755719318, 127.0, 2.15], [119.15, 50.0, 0.04106330083258357, 109.0, 2.43], [84.15, 50.0, 0.02088460505842642, 57.0, 1.72], [95.0, 95.0, 0.039871988179493965, 17.0, 1.94], [82.45, 65.0, 0.02355362887883084, 8.0, 1.57], [121.4, 110.0, 0.056874325017275164, 0.0, 2.43], [95.0, 135.0, 0.039871988179493965, 80.0, 2.03], [94.18, 35.0, 0.0418915506785926, 49.0, 2.37], [83.15, 85.0, 0.02315670353995874, 221.0, 1.89], [101.95, 55.0, 0.03009799618017172, 119.0, 1.93], [111.01, 50.0, 0.05767055003564834, 707.0, 2.45], [90.52, 135.0, 0.058429640905986874, 445.0, 2.64], [104.35, 145.0, 0.026903333240906255, 182.0, 2.16], [80.5, 125.0, 0.02274421240213188, 654.0, 2.28], [114.01, 75.0, 0.0432652999768328, 16.0, 2.15], [122.65, 90.0, 0.038312663166650884, 302.0, 2.48], [102.0, 145.0, 0.03123251637738835, 108.0, 1.98], [146.01, 35.0, 0.04034332393473633, 221.0, 2.21], [108.25, 110.0, 0.03581670508662785, 42.0, 1.98], [113.65, 85.0, 0.03900722091893658, 10.0, 2.02], [84.15, 45.0, 0.02088460505842642, 666.0, 2.29], [92.12, 150.0, 0.037428600486516604, 8.0, 2.14], [75.6, 85.0, 0.035646036027757975, 63.0, 1.62], [82.45, 100.0, 0.02286542567703102, 42.0, 1.57], [144.11, 155.0, 0.03955388694961375, 25.0, 2.12], [108.68, 110.0, 0.05522043012971626, 694.0, 2.53], [99.65, 145.0, 0.040151201275386836, 37.0, 1.96], [89.54, 120.0, 0.049390696870170704, 234.0, 2.53], [114.01, 95.0, 0.0432652999768328, 197.0, 2.41], [143.53, 175.0, 0.029901334351513275, 16.0, 2.25], [102.25, 65.0, 0.04027350865033592, 154.0, 2.24], [139.59, 105.0, 0.033261560062757614, 51.0, 2.15], [109.1, 165.0, 0.016403341833589692, 140.0, 2.52], [119.26, 110.0, 0.04253479949494567, 15.0, 2.42], [144.11, 140.0, 0.03955388694961375, 53.0, 2.13], [124.48, 80.0, 0.035416602172033324, 276.0, 2.45], [102.6, 115.0, 0.0395312245048135, 528.0, 2.45], [61.45, 45.0, 0.03193718936996071, 714.0, 2.15], [85.6, 115.0, 0.05089068930639548, 758.0, 2.63], [82.45, 70.0, 0.02395413754744376, 198.0, 1.9], [111.22, 105.0, 0.05807076087841561, 10.0, 2.39], [83.3, 120.0, 0.02816223659953558, 634.0, 2.49], [145.52, 170.0, 0.019325458726455042, 60.0, 2.09], [111.27, 130.0, 0.05758693612186035, 340.0, 2.55], [83.15, 80.0, 0.03939288128719838, 261.0, 2.03], [109.27, 60.0, 0.02093525234091236, 673.0, 2.46], [145.59, 170.0, 0.0243538727116994, 191.0, 2.07], [102.36, 145.0, 0.03894561031299679, 94.0, 2.3], [94.37, 90.0, 0.05920640773116481, 56.0, 2.33], [83.3, 45.0, 0.020032987384958824, 214.0, 1.99], [89.54, 155.0, 0.049390696870170704, 780.0, 2.83], [121.4, 45.0, 0.056874325017275164, 0.0, 2.43], [96.6, 140.0, 0.06593577053311157, 0.0, 2.21], [82.4, 85.0, 0.02098512697245141, 1.0, 1.7], [96.47, 40.0, 0.04852132788166263, 410.0, 2.72], [107.28, 130.0, 0.01804299572857353, 8.0, 2.45], [90.34, 145.0, 0.05337744260853343, 18.0, 2.44], [116.1, 145.0, 0.04319010755719318, 127.0, 2.15], [91.31, 140.0, 0.06716914969694814, 38.0, 2.24], [98.02, 135.0, 0.052282287257146204, 191.0, 2.52], [119.0, 110.0, 0.043633075940499325, 22.0, 2.1], [104.1, 120.0, 0.03205668447190172, 43.0, 1.87], [103.91, 170.0, 0.050830213280792264, 365.0, 2.57], [139.59, 85.0, 0.033261560062757614, 23.0, 2.11], [125.02, 130.0, 0.04316950309792203, 98.0, 2.44], [119.66, 50.0, 0.056911777328876485, 701.0, 2.5], [101.57, 115.0, 0.051093507440548885, 2.0, 2.41], [119.3, 105.0, 0.041100395508881706, 199.0, 2.45], [81.75, 125.0, 0.027639068053334416, 86.0, 1.85], [110.11, 130.0, 0.06315234590095266, 714.0, 2.52], [99.8, 110.0, 0.04027389784965785, 32.0, 1.93], [108.75, 90.0, 0.027372650454282367, 548.0, 2.6], [86.95, 60.0, 0.015562401342617497, 50.0, 1.93], [86.4, 120.0, 0.020375721807325376, 59.0, 1.81], [113.95, 160.0, 0.04040101175550796, 128.0, 2.16], [111.96, 80.0, 0.04309717861046268, 17.0, 2.14], [77.65, 55.0, 0.020019776292782333, 661.0, 2.26], [109.27, 75.0, 0.02093525234091236, 1.0, 2.48], [119.3, 125.0, 0.041100395508881706, 290.0, 2.41], [109.05, 125.0, 0.028532374790515017, 143.0, 2.28], [111.96, 35.0, 0.05436436876731463, 329.0, 2.55], [91.89, 120.0, 0.05247972172205729, 104.0, 2.42], [143.0, 195.0, 0.02356693543711004, 186.0, 2.06], [101.29, 60.0, 0.052604678039866605, 189.0, 2.5], [99.58, 95.0, 0.03881411603965588, 191.0, 2.46], [77.4, 85.0, 0.0229767343221936, 291.0, 2.08], [106.3, 130.0, 0.03627265867160459, 498.0, 2.5], [87.0, 55.0, 0.02007968702641709, 121.0, 1.74], [92.28, 115.0, 0.05017401584613703, 25.0, 2.24], [106.5, 100.0, 0.02622556699757568, 577.0, 2.54], [93.98, 65.0, 0.0550863498793181, 45.0, 2.37], [101.57, 70.0, 0.051093507440548885, 30.0, 2.41], [109.02, 110.0, 0.04324673887199517, 106.0, 2.22], [92.28, 45.0, 0.05017401584613703, 781.0, 2.84], [104.29, 85.0, 0.04812054632559818, 182.0, 2.5], [140.95, 75.0, 0.033643711082795166, 568.0, 1.74], [92.9, 120.0, 0.02391101621048447, 43.0, 1.78], [96.47, 115.0, 0.04852132788166263, 46.0, 2.38], [83.225, 105.0, 0.03670930940113666, 36.0, 1.69], [101.45, 60.0, 0.03742145682550624, 21.0, 1.9], [133.94, 115.0, 0.037198772132634436, 51.0, 2.37], [84.55, 125.0, 0.026524870053739283, 283.0, 2.09], [84.5, 30.0, 0.026966968549812943, 98.0, 1.76], [114.01, 45.0, 0.0432652999768328, 107.0, 2.23], [84.92, 165.0, 0.05092128836817107, 119.0, 2.39], [136.6, 135.0, 0.02784704439188373, 242.0, 2.42], [97.42, 80.0, 0.046291221339118456, 24.0, 2.21], [111.96, 65.0, 0.05436436876731463, 147.0, 2.51], [99.89, 145.0, 0.05255867684674709, 372.0, 2.59], [81.6, 45.0, 0.027967467676052928, 178.0, 2.05], [91.82, 55.0, 0.05831998124933874, 80.0, 2.33], [91.55, 90.0, 0.04960606332745087, 86.0, 2.34], [139.24, 110.0, 0.02741726994500036, 609.0, 2.2], [79.65, 75.0, 0.026428436979249875, 46.0, 1.7], [124.98, 180.0, 0.04357283801505035, 186.0, 2.46], [83.5, 110.0, 0.041067196097455023, 267.0, 2.02], [59.65, 65.0, 0.034146872967722224, 343.0, 1.89], [134.16, 105.0, 0.02593423395533704, 52.0, 2.43], [104.1, 115.0, 0.02944259516825113, 556.0, 2.59], [103.0, 100.0, 0.0238246792656612, 218.0, 2.07], [88.75, 65.0, 0.03455286422363945, 154.0, 2.09], [85.1, 115.0, 0.015440871820853228, 52.0, 1.93], [86.75, 60.0, 0.036707828274391216, 616.0, 2.54], [143.1, 50.0, 0.02100244127244113, 183.0, 2.01], [99.55, 105.0, 0.06805140265323532, 73.0, 2.35], [102.1, 80.0, 0.039317618027402086, 514.0, 2.45], [106.87, 150.0, 0.017810059724161033, 43.0, 2.43], [110.11, 65.0, 0.06315234590095266, 42.0, 2.41], [103.75, 135.0, 0.02370739211794156, 126.0, 1.94], [114.85, 140.0, 0.04503190154239454, 122.0, 2.17], [98.95, 55.0, 0.032242082363378124, 115.0, 1.93], [137.34, 125.0, 0.0347013778172662, 231.0, 2.35], [97.4, 110.0, 0.03228772966546013, 571.0, 2.54], [145.47, 175.0, 0.01844086679291513, 57.0, 2.1], [98.55, 165.0, 0.06770483768273462, 438.0, 2.71], [83.3, 65.0, 0.02816223659953558, 25.0, 1.69], [85.2, 120.0, 0.016127754243936997, 142.0, 2.08], [142.94, 90.0, 0.03891984806009386, 7.0, 2.23], [142.03, 60.0, 0.02304807360549109, 620.0, 2.31], [83.225, 60.0, 0.03670930940113666, 162.0, 2.05], [124.48, 100.0, 0.035416602172033324, 94.0, 2.43], [119.36, 130.0, 0.04206772515911834, 193.0, 2.48], [59.95, 75.0, 0.03368497367649679, 709.0, 2.15], [84.25, 65.0, 0.03680927376720219, 67.0, 1.93], [133.4, 210.0, 0.02875923859176239, 603.0, 2.12], [133.57, 30.0, 0.026763198903317645, 263.0, 2.47], [118.65, 165.0, 0.042099531639726386, 197.0, 2.46], [95.0, 55.0, 0.039871988179493965, 535.0, 2.44], [90.65, 70.0, 0.05369590696567412, 72.0, 2.42], [84.92, 75.0, 0.05092128836817107, 29.0, 2.42], [83.05, 90.0, 0.019072673638772814, 53.0, 1.79], [112.45, 120.0, 0.046253993306802715, 58.0, 2.16], [112.0, 90.0, 0.044291377964058416, 53.0, 2.22], [106.0, 65.0, 0.02494461008299276, 123.0, 1.94], [99.6, 85.0, 0.03949299905522924, 169.0, 2.22], [93.98, 145.0, 0.0550863498793181, 17.0, 2.37], [109.25, 50.0, 0.02096594591642004, 687.0, 2.52], [60.0, 60.0, 0.03557069196275883, 74.0, 1.51], [116.3, 40.0, 0.04357222028705686, 24.0, 2.12], [121.77, 100.0, 0.040637651528114285, 297.0, 2.44], [86.16, 160.0, 0.06603447853296382, 423.0, 2.67], [141.96, 160.0, 0.040351047419522064, 589.0, 1.88], [95.93, 100.0, 0.06666538557082065, 70.0, 2.36], [102.1, 155.0, 0.039317618027402086, 59.0, 2.08], [111.27, 85.0, 0.05758693612186035, 340.0, 2.55], [96.47, 100.0, 0.04852132788166263, 228.0, 2.56], [82.45, 55.0, 0.02355362887883084, 225.0, 1.89], [89.42, 115.0, 0.05252903068517965, 49.0, 2.4], [88.4, 170.0, 0.05375751880029838, 56.0, 2.41], [97.27, 110.0, 0.03429335757363078, 823.0, 2.85], [144.63, 85.0, 0.03987837568686335, 213.0, 2.2], [124.48, 110.0, 0.035416602172033324, 2.0, 2.43], [110.69, 145.0, 0.05949430095473529, 73.0, 2.42], [82.95, 115.0, 0.02248597549291465, 288.0, 2.07], [105.3, 90.0, 0.02787708475705453, 29.0, 1.94], [65.55, 55.0, 0.03501358846120794, 66.0, 1.59], [121.62, 100.0, 0.043193840148350426, 36.0, 2.42], [146.01, 125.0, 0.04034332393473633, 585.0, 1.9], [125.68, 125.0, 0.02730710523442496, 179.0, 2.47], [76.8, 85.0, 0.02933387656602945, 231.0, 1.86], [79.55, 40.0, 0.02081677694808208, 204.0, 1.93], [104.1, 110.0, 0.02944259516825113, 38.0, 1.88], [90.25, 160.0, 0.05240592015590785, 112.0, 2.41], [124.48, 125.0, 0.035416602172033324, 640.0, 2.41], [137.22, 85.0, 0.02356572453640285, 255.0, 2.46], [112.45, 160.0, 0.046253993306802715, 485.0, 2.58], [145.52, 165.0, 0.019325458726455042, 88.0, 2.09], [90.65, 160.0, 0.05369590696567412, 380.0, 2.6], [109.1, 140.0, 0.016403341833589692, 140.0, 2.52], [89.41, 125.0, 0.05373582164075096, 23.0, 2.41], [107.28, 50.0, 0.01804299572857353, 680.0, 2.47], [145.52, 65.0, 0.019325458726455042, 179.0, 2.08], [103.91, 40.0, 0.050830213280792264, 1.0, 2.41], [105.85, 125.0, 0.03850843954337147, 85.0, 1.99], [89.42, 55.0, 0.05645052394588116, 770.0, 2.72], [86.75, 40.0, 0.036707828274391216, 161.0, 2.06], [86.75, 55.0, 0.036707828274391216, 252.0, 2.06], [114.01, 30.0, 0.0432652999768328, 471.0, 2.62], [101.87, 85.0, 0.04958711777085005, 178.0, 2.51], [108.1, 65.0, 0.05806304972627883, 70.0, 2.42], [102.39, 125.0, 0.03919313319782007, 30.0, 2.2], [105.3, 150.0, 0.03207961120690282, 42.0, 1.86], [101.29, 120.0, 0.052604678039866605, 97.0, 2.43], [120.11, 35.0, 0.04211339748648698, 287.0, 2.43], [106.2, 140.0, 0.03944865609835047, 42.0, 1.92], [143.1, 145.0, 0.02100244127244113, 547.0, 1.9], [119.3, 50.0, 0.041100395508881706, 654.0, 2.3], [114.98, 155.0, 0.04578773498363206, 109.0, 2.23], [96.47, 100.0, 0.04852132788166263, 774.0, 2.83], [102.0, 70.0, 0.03123251637738835, 199.0, 2.12], [111.27, 75.0, 0.05758693612186035, 66.0, 2.45], [81.2, 40.0, 0.023240811553711386, 11.0, 1.67], [134.86, 110.0, 0.027111380155893743, 246.0, 2.43], [81.65, 95.0, 0.04085377595000247, 630.0, 2.49], [144.62, 95.0, 0.02990831354276945, 17.0, 2.21], [136.49, 170.0, 0.028166128481303964, 30.0, 2.36], [60.15, 45.0, 0.034690698407710024, 73.0, 1.52], [143.02, 145.0, 0.03363884127473833, 564.0, 1.78], [85.67, 60.0, 0.05134786360186918, 31.0, 2.35], [84.15, 50.0, 0.02088460505842642, 211.0, 1.95], [75.55, 35.0, 0.03425629580763793, 689.0, 2.27], [136.6, 125.0, 0.02784704439188373, 151.0, 2.42], [119.66, 105.0, 0.056911777328876485, 337.0, 2.53], [144.11, 110.0, 0.03955388694961375, 53.0, 2.13], [142.03, 130.0, 0.02304807360549109, 256.0, 2.46], [117.98, 165.0, 0.04070214771517892, 301.0, 2.45], [138.18, 125.0, 0.037655242502910836, 136.0, 2.29], [106.0, 45.0, 0.02494461008299276, 214.0, 2.13], [109.27, 85.0, 0.043225389323293235, 105.0, 2.23], [101.45, 95.0, 0.03742145682550624, 539.0, 2.43], [84.55, 120.0, 0.026524870053739283, 283.0, 2.09], [89.35, 150.0, 0.06919720611335829, 155.0, 2.52], [83.65, 50.0, 0.03806448896319161, 259.0, 2.03], [102.6, 90.0, 0.0395312245048135, 45.0, 1.96], [85.04, 115.0, 0.06600052885413198, 424.0, 2.66], [94.41, 40.0, 0.0493526854941492, 51.0, 2.4], [109.03, 75.0, 0.0165504455523345, 228.0, 2.54], [106.6, 70.0, 0.03518143723410588, 44.0, 2.0], [105.3, 130.0, 0.02787708475705453, 29.0, 1.94], [86.95, 95.0, 0.015562401342617497, 50.0, 1.93], [113.67, 145.0, 0.049063841279046616, 688.0, 2.5], [134.86, 160.0, 0.027111380155893743, 246.0, 2.43], [117.4, 70.0, 0.04068156701191989, 205.0, 2.46], [95.91, 65.0, 0.0521173509381002, 38.0, 2.4], [146.01, 85.0, 0.04034332393473633, 11.0, 2.3], [118.12, 100.0, 0.03379825466972451, 667.0, 2.4], [135.81, 110.0, 0.028478627205766167, 59.0, 2.39], [99.55, 110.0, 0.033053053201065684, 50.0, 1.93], [109.1, 170.0, 0.016403341833589692, 322.0, 2.55], [133.94, 85.0, 0.037198772132634436, 23.0, 2.35], [85.6, 35.0, 0.02740671450912244, 277.0, 2.12], [109.35, 130.0, 0.06814659430140835, 77.0, 2.41], [86.89, 155.0, 0.06339175941381088, 422.0, 2.67], [141.96, 115.0, 0.040351047419522064, 225.0, 2.22], [115.8, 135.0, 0.04366757207570815, 204.0, 2.37], [145.52, 85.0, 0.019325458726455042, 543.0, 1.95], [148.01, 115.0, 0.017307845747791668, 234.0, 2.07], [146.01, 115.0, 0.04034332393473633, 221.0, 2.21], [76.5, 40.0, 0.01941518223912429, 114.0, 1.73], [102.36, 130.0, 0.03894561031299679, 458.0, 2.66], [142.44, 180.0, 0.037687252670167794, 38.0, 2.27], [114.1, 140.0, 0.04654464387159128, 57.0, 2.17], [103.79, 65.0, 0.05177982124764943, 717.0, 2.56], [119.36, 60.0, 0.04206772515911834, 648.0, 2.36], [144.78, 120.0, 0.04039331808446709, 588.0, 1.85], [87.95, 55.0, 0.035025484640970835, 1.0, 1.7], [96.6, 120.0, 0.06593577053311157, 0.0, 2.21], [143.53, 140.0, 0.029901334351513275, 562.0, 1.77], [92.12, 150.0, 0.037428600486516604, 827.0, 2.85], [89.4, 100.0, 0.02907330589461383, 30.0, 1.67], [109.05, 45.0, 0.028532374790515017, 52.0, 2.13], [108.9, 75.0, 0.02392192790432199, 25.0, 1.88], [83.05, 35.0, 0.019072673638772814, 116.0, 1.79], [83.3, 90.0, 0.020032987384958824, 214.0, 1.99], [84.85, 65.0, 0.027112728040820242, 281.0, 2.11], [81.7, 65.0, 0.022058999127506286, 38.0, 1.64], [85.15, 55.0, 0.0380501450991221, 165.0, 2.05], [120.34, 85.0, 0.0438325118803356, 192.0, 2.46], [82.45, 125.0, 0.02395413754744376, 289.0, 2.07], [99.29, 50.0, 0.05210345396041228, 186.0, 2.52], [88.75, 40.0, 0.03455286422363945, 609.0, 2.55], [92.12, 95.0, 0.037428600486516604, 827.0, 2.85], [90.65, 35.0, 0.05369590696567412, 16.0, 2.4], [148.01, 165.0, 0.017307845747791668, 535.0, 1.97], [111.96, 85.0, 0.05436436876731463, 693.0, 2.48], [58.25, 60.0, 0.034302774894045644, 708.0, 2.13], [84.5, 40.0, 0.026966968549812943, 7.0, 1.64], [84.6, 55.0, 0.039189587467606035, 43.0, 1.68], [98.85, 120.0, 0.038414581421304266, 168.0, 2.23], [134.86, 110.0, 0.027111380155893743, 1.0, 2.4], [134.79, 115.0, 0.0286904981199604, 28.0, 2.37], [97.35, 150.0, 0.06119850817893752, 16.0, 2.2], [148.52, 160.0, 0.02922987407630936, 51.0, 2.08], [111.01, 105.0, 0.05767055003564834, 69.0, 2.43], [99.8, 80.0, 0.04027389784965785, 241.0, 2.25], [134.79, 120.0, 0.0286904981199604, 238.0, 2.39], [112.0, 65.0, 0.044291377964058416, 844.0, 2.83], [98.95, 115.0, 0.032242082363378124, 24.0, 1.79], [61.75, 80.0, 0.03005834075666536, 43.0, 1.41], [90.25, 95.0, 0.05240592015590785, 386.0, 2.58], [149.14, 160.0, 0.01778622484506646, 21.0, 2.13], [82.95, 115.0, 0.02248597549291465, 106.0, 1.72], [83.18, 75.0, 0.05119926052739802, 122.0, 2.4], [114.1, 95.0, 0.04654464387159128, 120.0, 2.17], [101.91, 150.0, 0.06750222569987634, 9.0, 2.23], [107.85, 140.0, 0.020152416626519568, 674.0, 2.45], [112.0, 85.0, 0.044291377964058416, 206.0, 2.38], [76.1, 75.0, 0.034878010813682435, 326.0, 2.03], [124.98, 165.0, 0.04357283801505035, 95.0, 2.43], [99.29, 135.0, 0.05210345396041228, 368.0, 2.57], [91.89, 155.0, 0.05247972172205729, 14.0, 2.4], [111.96, 80.0, 0.04309717861046268, 472.0, 2.61], [84.92, 85.0, 0.05092128836817107, 1.0, 2.42], [97.4, 105.0, 0.03228772966546013, 25.0, 1.8], [84.25, 130.0, 0.03680927376720219, 249.0, 2.09], [104.35, 60.0, 0.026903333240906255, 91.0, 1.99], [143.61, 165.0, 0.03721474485363761, 9.0, 2.19], [86.89, 45.0, 0.06339175941381088, 240.0, 2.52], [79.65, 85.0, 0.026428436979249875, 11.0, 1.53], [145.84, 75.0, 0.020942446037653058, 0.0, 2.11], [139.24, 120.0, 0.02741726994500036, 609.0, 2.2], [117.98, 80.0, 0.04070214771517892, 210.0, 2.48], [71.7, 100.0, 0.035571211115538307, 65.0, 1.58], [99.6, 65.0, 0.03949299905522924, 533.0, 2.45], [83.3, 85.0, 0.02816223659953558, 53.0, 1.87], [118.65, 55.0, 0.042099531639726386, 288.0, 2.41], [96.7, 70.0, 0.057924496456266614, 449.0, 2.66], [102.39, 135.0, 0.03919313319782007, 30.0, 2.2], [63.1, 45.0, 0.03501066441507238, 340.0, 1.93], [108.15, 90.0, 0.01953874168830817, 38.0, 2.44], [91.55, 135.0, 0.04960606332745087, 450.0, 2.64], [107.25, 110.0, 0.02126967117374272, 126.0, 2.45], [88.4, 125.0, 0.05375751880029838, 238.0, 2.52], [86.45, 65.0, 0.035883690523158804, 30.0, 1.69], [91.55, 85.0, 0.01718211386227567, 11.0, 1.77], [114.09, 130.0, 0.04988989500469597, 325.0, 2.55], [140.94, 85.0, 0.036935548741476684, 135.0, 2.35], [125.02, 65.0, 0.04316950309792203, 6.0, 2.41], [95.91, 50.0, 0.0521173509381002, 192.0, 2.54], [79.55, 90.0, 0.02081677694808208, 113.0, 1.73], [104.29, 105.0, 0.04812054632559818, 0.0, 2.4], [101.44, 150.0, 0.06760264965192364, 435.0, 2.74], [93.51, 135.0, 0.04812671260953174, 22.0, 2.31], [65.55, 70.0, 0.03501358846120794, 157.0, 1.8], [89.42, 105.0, 0.05252903068517965, 203.0, 2.48], [105.2, 75.0, 0.02488153995771937, 87.0, 2.02], [99.55, 95.0, 0.06805140265323532, 73.0, 2.35], [95.35, 85.0, 0.03980656094125559, 16.0, 1.93], [84.85, 80.0, 0.027112728040820242, 281.0, 2.11], [109.82, 150.0, 0.0581122217960108, 345.0, 2.56], [84.92, 140.0, 0.05092128836817107, 393.0, 2.64], [77.4, 40.0, 0.0229767343221936, 655.0, 2.25], [101.87, 70.0, 0.04958711777085005, 724.0, 2.58], [87.95, 45.0, 0.035025484640970835, 246.0, 2.1], [99.29, 115.0, 0.05210345396041228, 94.0, 2.45], [143.1, 180.0, 0.02100244127244113, 547.0, 1.9], [108.68, 125.0, 0.05522043012971626, 22.0, 2.43], [81.75, 85.0, 0.022918911862514674, 44.0, 1.57], [65.55, 50.0, 0.03501358846120794, 31.0, 1.34], [119.7, 120.0, 0.04577045983518167, 21.0, 2.12], [99.55, 140.0, 0.04045012597373312, 1.0, 1.96], [85.0, 105.0, 0.028565676067374344, 28.0, 1.65], [95.0, 130.0, 0.04574261854631706, 28.0, 2.19], [83.3, 80.0, 0.020032987384958824, 32.0, 1.7], [107.6, 45.0, 0.02658037020883468, 30.0, 1.85], [109.0, 120.0, 0.02935983489015061, 31.0, 1.93], [121.62, 115.0, 0.043193840148350426, 36.0, 2.42], [106.99, 120.0, 0.06744445974072215, 170.0, 2.5], [105.2, 155.0, 0.02488153995771937, 87.0, 2.02], [143.1, 95.0, 0.02100244127244113, 1.0, 2.11], [86.4, 115.0, 0.020375721807325376, 304.0, 2.08], [106.87, 75.0, 0.017810059724161033, 681.0, 2.52], [88.4, 130.0, 0.05375751880029838, 784.0, 2.81], [85.67, 115.0, 0.05134786360186918, 31.0, 2.35], [75.05, 45.0, 0.03009198382900272, 15.0, 1.5], [128.25, 110.0, 0.02708046286156833, 269.0, 2.46], [111.27, 50.0, 0.05758693612186035, 340.0, 2.55], [147.42, 135.0, 0.01800164940835659, 235.0, 2.1], [91.82, 145.0, 0.05831998124933874, 444.0, 2.66], [95.44, 105.0, 0.05591199982832329, 11.0, 2.42], [148.52, 105.0, 0.02922987407630936, 534.0, 2.0], [99.89, 125.0, 0.05255867684674709, 190.0, 2.51], [106.5, 135.0, 0.02622556699757568, 213.0, 2.13], [142.09, 195.0, 0.02714700206074621, 611.0, 2.16], [88.75, 85.0, 0.03455286422363945, 609.0, 2.55], [129.59, 70.0, 0.02700353265241049, 632.0, 2.32], [108.75, 130.0, 0.027372650454282367, 184.0, 2.17], [144.13, 190.0, 0.02412207640156263, 102.0, 2.26], [142.1, 185.0, 0.03328721317978595, 21.0, 2.18], [151.52, 110.0, 0.01908022790249121, 23.0, 2.1], [109.82, 90.0, 0.0581122217960108, 709.0, 2.52], [102.1, 80.0, 0.039317618027402086, 150.0, 2.25], [145.21, 170.0, 0.03978760750816205, 123.0, 2.23], [102.36, 55.0, 0.03894561031299679, 822.0, 2.87], [111.01, 75.0, 0.05767055003564834, 161.0, 2.49], [119.26, 155.0, 0.04253479949494567, 107.0, 2.44], [107.6, 90.0, 0.02658037020883468, 121.0, 1.94], [75.6, 85.0, 0.035646036027757975, 28.0, 1.35], [98.95, 110.0, 0.023534909328441097, 66.0, 1.92], [125.75, 70.0, 0.0567472996325723, 696.0, 2.5], [104.05, 50.0, 0.03983454266421006, 522.0, 2.42], [85.2, 120.0, 0.016127754243936997, 51.0, 1.94], [107.25, 135.0, 0.02126967117374272, 0.0, 2.46], [124.48, 35.0, 0.035416602172033324, 276.0, 2.45], [137.22, 95.0, 0.02356572453640285, 10.0, 2.44], [109.03, 145.0, 0.0165504455523345, 319.0, 2.54], [139.59, 55.0, 0.033261560062757614, 114.0, 2.15], [109.27, 120.0, 0.043225389323293235, 42.0, 2.15], [146.01, 145.0, 0.04034332393473633, 221.0, 2.21], [120.34, 165.0, 0.0438325118803356, 101.0, 2.42], [89.42, 85.0, 0.05645052394588116, 132.0, 2.4], [98.02, 155.0, 0.052282287257146204, 99.0, 2.45], [103.91, 105.0, 0.050830213280792264, 1.0, 2.41], [106.6, 135.0, 0.03518143723410588, 135.0, 2.14], [133.73, 165.0, 0.034736415434142576, 18.0, 2.36], [98.25, 115.0, 0.02407223709119008, 224.0, 2.12], [86.75, 115.0, 0.036707828274391216, 161.0, 2.06], [110.85, 115.0, 0.02266813029334776, 86.0, 2.01], [133.73, 155.0, 0.034736415434142576, 137.0, 2.31], [97.45, 85.0, 0.03939848994816208, 29.0, 2.19], [114.01, 155.0, 0.0432652999768328, 835.0, 2.85], [81.9, 120.0, 0.023407470823318902, 105.0, 1.73], [83.05, 125.0, 0.019072673638772814, 116.0, 1.79], [85.2, 65.0, 0.016127754243936997, 142.0, 2.08], [108.68, 140.0, 0.05522043012971626, 148.0, 2.51], [97.35, 120.0, 0.06119850817893752, 807.0, 2.87], [79.55, 75.0, 0.02081677694808208, 204.0, 1.93], [149.14, 185.0, 0.01778622484506646, 238.0, 2.1], [107.96, 165.0, 0.020556949806368498, 214.0, 2.51], [111.11, 155.0, 0.055187490005592345, 57.0, 2.45], [116.1, 150.0, 0.04319010755719318, 127.0, 2.15], [111.15, 95.0, 0.044180877443518035, 4.0, 2.02], [90.25, 110.0, 0.05240592015590785, 50.0, 2.41], [85.6, 130.0, 0.02740671450912244, 186.0, 1.98], [108.9, 75.0, 0.02392192790432199, 543.0, 2.42], [101.57, 60.0, 0.051093507440548885, 2.0, 2.41], [113.65, 130.0, 0.03900722091893658, 493.0, 2.55], [96.7, 115.0, 0.057924496456266614, 22.0, 2.19], [96.95, 60.0, 0.037464009722041273, 172.0, 2.21], [108.1, 100.0, 0.05806304972627883, 162.0, 2.49], [119.15, 45.0, 0.04106330083258357, 655.0, 2.33], [137.34, 45.0, 0.0347013778172662, 595.0, 1.95], [103.0, 120.0, 0.0238246792656612, 64.0, 1.94], [102.39, 110.0, 0.03919313319782007, 30.0, 2.2], [84.15, 55.0, 0.02088460505842642, 666.0, 2.29], [96.6, 60.0, 0.06593577053311157, 427.0, 2.68], [143.71, 190.0, 0.02417727691911128, 42.0, 2.26], [99.55, 145.0, 0.06805140265323532, 45.0, 2.23], [89.54, 80.0, 0.049390696870170704, 24.0, 2.31], [102.39, 65.0, 0.03919313319782007, 2.0, 2.2], [142.09, 120.0, 0.02714700206074621, 65.0, 2.42], [103.65, 135.0, 0.039085237685685864, 58.0, 2.09], [135.81, 65.0, 0.028478627205766167, 241.0, 2.42], [95.0, 60.0, 0.04574261854631706, 91.0, 2.31], [143.22, 50.0, 0.037955192138043284, 36.0, 2.24], [147.42, 145.0, 0.01800164940835659, 172.0, 2.1], [107.6, 120.0, 0.02658037020883468, 121.0, 1.94], [96.6, 70.0, 0.06593577053311157, 35.0, 2.21], [115.8, 125.0, 0.04366757207570815, 23.0, 2.11], [88.25, 75.0, 0.029491533475485245, 276.0, 2.16], [142.09, 155.0, 0.02714700206074621, 2.0, 2.4], [85.6, 120.0, 0.05089068930639548, 758.0, 2.63], [145.21, 125.0, 0.03978760750816205, 123.0, 2.23], [91.55, 90.0, 0.01718211386227567, 137.0, 2.13], [59.95, 50.0, 0.03368497367649679, 345.0, 1.91], [92.12, 160.0, 0.037428600486516604, 36.0, 2.14], [113.65, 95.0, 0.03900722091893658, 219.0, 2.31], [148.01, 175.0, 0.017307845747791668, 52.0, 2.08], [144.11, 85.0, 0.03955388694961375, 571.0, 1.72], [143.61, 135.0, 0.03721474485363761, 219.0, 2.2], [85.1, 60.0, 0.015440871820853228, 598.0, 2.32], [98.25, 85.0, 0.02407223709119008, 7.0, 1.78], [97.27, 120.0, 0.03429335757363078, 4.0, 2.17], [144.62, 165.0, 0.02990831354276945, 45.0, 2.21], [99.89, 95.0, 0.05255867684674709, 736.0, 2.56], [96.7, 160.0, 0.057924496456266614, 449.0, 2.66], [105.65, 85.0, 0.03028472331639227, 120.0, 1.94], [109.0, 80.0, 0.02935983489015061, 3.0, 1.93], [121.77, 75.0, 0.040637651528114285, 206.0, 2.49], [120.83, 125.0, 0.04081190245642279, 658.0, 2.27], [82.45, 80.0, 0.02355362887883084, 8.0, 1.57], [143.36, 155.0, 0.02208173621110559, 70.0, 2.43], [76.1, 80.0, 0.03568778432317364, 238.0, 1.85], [89.35, 50.0, 0.06919720611335829, 793.0, 2.86], [141.17, 80.0, 0.021145810352489983, 162.0, 2.46], [145.84, 55.0, 0.020942446037653058, 546.0, 1.94], [134.86, 160.0, 0.027111380155893743, 64.0, 2.4], [105.2, 50.0, 0.02488153995771937, 178.0, 2.19], [119.0, 65.0, 0.043633075940499325, 22.0, 2.1], [98.02, 150.0, 0.052282287257146204, 373.0, 2.59], [108.89, 60.0, 0.033616104014165364, 30.0, 2.46], [109.82, 120.0, 0.0581122217960108, 163.0, 2.5], [136.49, 125.0, 0.028166128481303964, 240.0, 2.41], [122.65, 110.0, 0.038312663166650884, 211.0, 2.5], [89.42, 70.0, 0.05252903068517965, 749.0, 2.52], [143.61, 195.0, 0.03721474485363761, 583.0, 1.88], [143.71, 85.0, 0.02417727691911128, 14.0, 2.26], [116.13, 75.0, 0.057630864965401124, 31.0, 2.42], [83.3, 105.0, 0.02816223659953558, 25.0, 1.69], [120.34, 55.0, 0.0438325118803356, 283.0, 2.42], [107.85, 145.0, 0.020152416626519568, 128.0, 2.45], [104.29, 95.0, 0.04812054632559818, 728.0, 2.62], [108.25, 160.0, 0.03581670508662785, 133.0, 2.14], [108.89, 155.0, 0.033616104014165364, 30.0, 2.46], [82.67, 75.0, 0.05135880528303604, 115.0, 2.45], [111.1, 130.0, 0.0283847778515402, 140.0, 2.28], [118.65, 160.0, 0.042099531639726386, 14.0, 2.43], [129.95, 185.0, 0.026794942492717886, 267.0, 2.46], [102.95, 80.0, 0.03911118885856188, 72.0, 2.06], [145.27, 65.0, 0.02472683396997556, 192.0, 2.15], [145.27, 195.0, 0.02472683396997556, 38.0, 2.22], [144.63, 50.0, 0.03987837568686335, 31.0, 2.18], [84.92, 125.0, 0.05092128836817107, 211.0, 2.55], [92.28, 65.0, 0.05017401584613703, 417.0, 2.7], [108.68, 75.0, 0.05522043012971626, 56.0, 2.45], [88.75, 130.0, 0.03455286422363945, 63.0, 1.91], [120.34, 90.0, 0.0438325118803356, 283.0, 2.42], [145.21, 150.0, 0.03978760750816205, 214.0, 2.2], [88.75, 55.0, 0.03455286422363945, 28.0, 1.68], [108.68, 130.0, 0.05522043012971626, 148.0, 2.51], [108.05, 95.0, 0.02914895502030368, 32.0, 1.9], [137.34, 150.0, 0.0347013778172662, 21.0, 2.35], [114.09, 125.0, 0.04988989500469597, 51.0, 2.45], [83.15, 95.0, 0.02315670353995874, 4.0, 1.6], [106.7, 55.0, 0.028871292293442905, 553.0, 2.59], [95.44, 70.0, 0.05591199982832329, 67.0, 2.45], [149.04, 145.0, 0.03997917719852827, 29.0, 2.17], [109.05, 95.0, 0.028532374790515017, 143.0, 2.28], [88.4, 110.0, 0.05375751880029838, 146.0, 2.52], [90.34, 40.0, 0.05337744260853343, 18.0, 2.44], [149.04, 175.0, 0.03997917719852827, 29.0, 2.17], [137.46, 105.0, 0.026066182636784167, 613.0, 2.18], [107.21, 165.0, 0.01633129053880686, 682.0, 2.55], [99.8, 130.0, 0.04027389784965785, 515.0, 2.43], [101.57, 35.0, 0.051093507440548885, 2.0, 2.41], [81.65, 125.0, 0.04085377595000247, 175.0, 2.02], [108.1, 50.0, 0.05806304972627883, 70.0, 2.42], [118.84, 120.0, 0.04068573078584941, 204.0, 2.44], [105.3, 85.0, 0.03207961120690282, 560.0, 2.53], [134.79, 175.0, 0.0286904981199604, 28.0, 2.37], [145.59, 165.0, 0.0243538727116994, 254.0, 2.07], [112.0, 90.0, 0.044291377964058416, 480.0, 2.6], [82.1, 80.0, 0.05211553345680715, 118.0, 2.39], [95.44, 170.0, 0.05591199982832329, 375.0, 2.58], [104.2, 95.0, 0.029096468191720862, 9.0, 1.89], [98.95, 140.0, 0.032242082363378124, 52.0, 1.93], [81.7, 75.0, 0.022058999127506286, 38.0, 1.64], [149.14, 85.0, 0.01778622484506646, 84.0, 2.12], [89.35, 55.0, 0.06919720611335829, 65.0, 2.38], [147.42, 105.0, 0.01800164940835659, 18.0, 2.12], [143.22, 65.0, 0.037955192138043284, 582.0, 1.83], [85.6, 55.0, 0.02740671450912244, 95.0, 1.79], [143.1, 155.0, 0.02100244127244113, 547.0, 1.9], [139.47, 140.0, 0.02178936629123049, 185.0, 2.06], [115.95, 55.0, 0.043428805077523454, 490.0, 2.56], [125.02, 160.0, 0.04316950309792203, 189.0, 2.47], [106.3, 145.0, 0.03627265867160459, 224.0, 2.3], [143.36, 90.0, 0.02208173621110559, 70.0, 2.43], [97.42, 170.0, 0.046291221339118456, 815.0, 2.89], [141.17, 75.0, 0.021145810352489983, 253.0, 2.46], [85.6, 55.0, 0.05089068930639548, 2.0, 2.35], [83.18, 135.0, 0.05119926052739802, 760.0, 2.7], [81.65, 55.0, 0.04085377595000247, 266.0, 2.02], [81.9, 55.0, 0.023407470823318902, 14.0, 1.68], [148.52, 200.0, 0.02922987407630936, 79.0, 2.08], [140.94, 85.0, 0.036935548741476684, 44.0, 2.31], [110.11, 130.0, 0.06315234590095266, 350.0, 2.56], [97.42, 125.0, 0.046291221339118456, 815.0, 2.89], [142.94, 135.0, 0.03891984806009386, 217.0, 2.18], [140.95, 120.0, 0.033643711082795166, 568.0, 1.74], [146.1, 175.0, 0.01954833436101369, 59.0, 2.06], [99.65, 105.0, 0.040151201275386836, 2.0, 1.96], [105.85, 110.0, 0.03850843954337147, 57.0, 1.99], [101.34, 170.0, 0.05211642321528565, 93.0, 2.45], [71.7, 100.0, 0.035571211115538307, 702.0, 2.17], [100.3, 105.0, 0.039631207170908386, 165.0, 2.23], [104.8, 85.0, 0.02969373123956808, 193.0, 2.15], [102.39, 95.0, 0.03919313319782007, 457.0, 2.66], [97.42, 150.0, 0.046291221339118456, 24.0, 2.21], [85.6, 50.0, 0.02740671450912244, 95.0, 1.79], [85.67, 145.0, 0.05134786360186918, 395.0, 2.64], [97.42, 125.0, 0.046291221339118456, 177.0, 2.48], [92.12, 165.0, 0.037428600486516604, 827.0, 2.85], [95.0, 55.0, 0.04574261854631706, 181.0, 2.48], [88.67, 115.0, 0.052216453849600886, 37.0, 2.3], [84.92, 130.0, 0.05092128836817107, 119.0, 2.39], [63.1, 45.0, 0.03501066441507238, 4.0, 1.35], [94.4, 70.0, 0.017144481326023718, 136.0, 2.13], [146.1, 185.0, 0.01954833436101369, 87.0, 2.06], [94.99, 90.0, 0.0697894134639457, 428.0, 2.7], [89.42, 140.0, 0.05252903068517965, 111.0, 2.4], [145.52, 45.0, 0.019325458726455042, 179.0, 2.08], [128.25, 100.0, 0.02708046286156833, 59.0, 2.45], [95.91, 150.0, 0.0521173509381002, 738.0, 2.58], [99.55, 85.0, 0.033053053201065684, 50.0, 1.93], [109.0, 45.0, 0.02935983489015061, 549.0, 2.62], [109.25, 95.0, 0.02096594591642004, 232.0, 2.5], [128.25, 95.0, 0.02708046286156833, 269.0, 2.46], [140.94, 60.0, 0.036935548741476684, 44.0, 2.31], [85.0, 65.0, 0.028565676067374344, 91.0, 1.81], [83.2, 55.0, 0.022573054573586555, 128.0, 1.76], [76.5, 40.0, 0.01941518223912429, 660.0, 2.28], [90.52, 70.0, 0.058429640905986874, 53.0, 2.34], [146.01, 160.0, 0.04034332393473633, 11.0, 2.3], [108.6, 90.0, 0.032424728602590006, 53.0, 2.12], [110.11, 125.0, 0.06315234590095266, 168.0, 2.46], [141.96, 175.0, 0.040351047419522064, 43.0, 2.32], [103.2, 30.0, 0.03980976548517892, 521.0, 2.44], [84.5, 70.0, 0.026966968549812943, 35.0, 1.64], [133.94, 60.0, 0.037198772132634436, 233.0, 2.38], [101.87, 50.0, 0.04958711777085005, 724.0, 2.58], [89.42, 90.0, 0.05645052394588116, 132.0, 2.4], [85.67, 130.0, 0.05134786360186918, 121.0, 2.39], [133.43, 140.0, 0.026733957170835786, 16.0, 2.42], [97.51, 65.0, 0.03425648376411678, 98.0, 2.28], [101.44, 165.0, 0.06760264965192364, 161.0, 2.52], [124.98, 95.0, 0.04357283801505035, 277.0, 2.43], [146.1, 195.0, 0.01954833436101369, 24.0, 2.12], [109.03, 160.0, 0.0165504455523345, 319.0, 2.54], [95.91, 45.0, 0.0521173509381002, 374.0, 2.6], [113.95, 80.0, 0.04040101175550796, 128.0, 2.16], [114.1, 85.0, 0.04654464387159128, 848.0, 2.81], [88.67, 105.0, 0.052216453849600886, 765.0, 2.77], [82.95, 115.0, 0.02248597549291465, 197.0, 1.93], [139.76, 95.0, 0.03323668688625022, 206.0, 2.1], [95.44, 140.0, 0.05591199982832329, 739.0, 2.53], [81.5, 80.0, 0.0392368437441856, 171.0, 2.05], [102.36, 40.0, 0.03894561031299679, 458.0, 2.66], [93.69, 75.0, 0.05449156940305447, 225.0, 2.56], [94.18, 160.0, 0.0418915506785926, 139.0, 2.52], [114.18, 75.0, 0.05345431358025315, 690.0, 2.51], [119.41, 65.0, 0.057647592204568415, 338.0, 2.55], [101.34, 165.0, 0.05211642321528565, 367.0, 2.57], [96.47, 145.0, 0.04852132788166263, 136.0, 2.56], [97.42, 115.0, 0.046291221339118456, 177.0, 2.48], [111.3, 125.0, 0.03529287075030784, 136.0, 2.29], [81.2, 80.0, 0.023240811553711386, 648.0, 2.29], [109.02, 105.0, 0.04324673887199517, 834.0, 2.87], [95.0, 145.0, 0.04574261854631706, 91.0, 2.31], [133.4, 125.0, 0.02875923859176239, 239.0, 2.4], [135.81, 175.0, 0.028478627205766167, 150.0, 2.42], [137.51, 80.0, 0.02752305044493216, 38.0, 2.41], [133.94, 100.0, 0.037198772132634436, 597.0, 2.09], [85.6, 125.0, 0.02740671450912244, 186.0, 1.98], [134.16, 95.0, 0.02593423395533704, 171.0, 2.46], [81.7, 100.0, 0.022058999127506286, 675.0, 2.26], [143.02, 195.0, 0.03363884127473833, 564.0, 1.78], [134.76, 120.0, 0.03635558075423575, 234.0, 2.38], [133.94, 85.0, 0.037198772132634436, 597.0, 2.09], [105.85, 115.0, 0.03850843954337147, 540.0, 2.41], [86.45, 35.0, 0.035883690523158804, 65.0, 1.92], [86.89, 85.0, 0.06339175941381088, 30.0, 2.25], [133.73, 130.0, 0.034736415434142576, 46.0, 2.35], [83.65, 90.0, 0.03806448896319161, 14.0, 1.67], [105.15, 80.0, 0.05041707319464903, 46.0, 2.42], [101.34, 135.0, 0.05211642321528565, 3.0, 2.41], [85.2, 90.0, 0.016127754243936997, 597.0, 2.42], [109.1, 125.0, 0.016403341833589692, 48.0, 2.44], [91.82, 50.0, 0.05831998124933874, 444.0, 2.66], [97.42, 140.0, 0.046291221339118456, 451.0, 2.67], [81.7, 105.0, 0.022058999127506286, 675.0, 2.26], [82.4, 90.0, 0.02098512697245141, 673.0, 2.29], [111.65, 100.0, 0.038944572100956996, 11.0, 1.98], [120.34, 125.0, 0.0438325118803356, 283.0, 2.42], [95.91, 115.0, 0.0521173509381002, 738.0, 2.58], [84.25, 115.0, 0.03680927376720219, 249.0, 2.09], [94.4, 80.0, 0.017144481326023718, 136.0, 2.13], [96.8, 45.0, 0.0329202118784856, 205.0, 2.1], [94.18, 115.0, 0.0418915506785926, 777.0, 2.8], [94.99, 50.0, 0.0697894134639457, 64.0, 2.37], [141.91, 55.0, 0.020369889593048918, 93.0, 2.14], [95.91, 70.0, 0.0521173509381002, 38.0, 2.4], [135.81, 140.0, 0.028478627205766167, 59.0, 2.39], [107.25, 85.0, 0.02126967117374272, 672.0, 2.43], [82.05, 90.0, 0.03607495935958746, 3.0, 1.69], [143.48, 70.0, 0.024087248549372785, 7.0, 2.16], [82.25, 105.0, 0.039105580737061794, 263.0, 2.04], [98.85, 85.0, 0.038414581421304266, 532.0, 2.43], [113.67, 50.0, 0.049063841279046616, 50.0, 2.45], [85.2, 100.0, 0.016127754243936997, 16.0, 1.77], [94.1, 110.0, 0.038396805639194016, 464.0, 2.67], [145.52, 180.0, 0.019325458726455042, 543.0, 1.95], [99.55, 150.0, 0.06805140265323532, 437.0, 2.72], [86.45, 70.0, 0.02916089943722945, 183.0, 2.01], [119.7, 170.0, 0.04577045983518167, 202.0, 2.36], [83.3, 80.0, 0.020032987384958824, 214.0, 1.99], [101.45, 120.0, 0.03742145682550624, 21.0, 1.9], [84.5, 125.0, 0.016135623623264126, 148.0, 2.09], [145.59, 100.0, 0.0243538727116994, 191.0, 2.07], [106.99, 100.0, 0.06744445974072215, 44.0, 2.4], [93.98, 135.0, 0.0550863498793181, 135.0, 2.42], [85.67, 105.0, 0.05134786360186918, 3.0, 2.35], [109.65, 105.0, 0.029259029608548006, 505.0, 2.47], [74.6, 60.0, 0.035153152039118576, 155.0, 1.82], [86.75, 115.0, 0.036707828274391216, 70.0, 1.92], [143.22, 80.0, 0.037955192138043284, 218.0, 2.18], [106.1, 85.0, 0.03980859881527557, 162.0, 2.25], [92.08, 120.0, 0.056522309865481124, 766.0, 2.78], [143.1, 50.0, 0.02100244127244113, 1.0, 2.11], [144.78, 50.0, 0.04039331808446709, 42.0, 2.3], [88.67, 150.0, 0.052216453849600886, 765.0, 2.77], [141.4, 150.0, 0.022239045536183395, 168.0, 2.46], [103.2, 35.0, 0.03980976548517892, 157.0, 2.25], [129.95, 145.0, 0.026794942492717886, 57.0, 2.43], [94.41, 170.0, 0.0493526854941492, 141.0, 2.53], [122.75, 140.0, 0.029983711000520632, 92.0, 2.42], [101.45, 75.0, 0.03742145682550624, 84.0, 2.0], [109.05, 155.0, 0.028532374790515017, 52.0, 2.13], [99.8, 110.0, 0.04027389784965785, 241.0, 2.25], [75.05, 100.0, 0.03009198382900272, 141.0, 1.85], [59.65, 40.0, 0.034146872967722224, 35.0, 1.31], [144.78, 165.0, 0.04039331808446709, 14.0, 2.3], [139.24, 175.0, 0.02741726994500036, 154.0, 2.42], [109.27, 130.0, 0.02093525234091236, 218.0, 2.52], [95.75, 100.0, 0.019383883901721143, 590.0, 2.52], [83.18, 115.0, 0.05119926052739802, 32.0, 2.36], [139.47, 185.0, 0.02178936629123049, 3.0, 2.16], [99.29, 125.0, 0.05210345396041228, 732.0, 2.53], [141.91, 160.0, 0.020369889593048918, 93.0, 2.14], [138.18, 55.0, 0.037655242502910836, 227.0, 2.29], [143.1, 195.0, 0.02100244127244113, 547.0, 1.9], [108.25, 105.0, 0.03581670508662785, 497.0, 2.53], [143.22, 55.0, 0.037955192138043284, 218.0, 2.18], [92.9, 75.0, 0.02391101621048447, 43.0, 1.78], [102.36, 80.0, 0.047397276740506665, 177.0, 2.51], [81.6, 125.0, 0.027967467676052928, 269.0, 2.05], [149.14, 80.0, 0.01778622484506646, 175.0, 2.1], [125.75, 110.0, 0.0567472996325723, 58.0, 2.45], [65.55, 40.0, 0.03501358846120794, 157.0, 1.8], [146.1, 110.0, 0.01954833436101369, 542.0, 1.97], [83.425, 40.0, 0.03688202209474797, 163.0, 2.05], [116.13, 65.0, 0.057630864965401124, 3.0, 2.42], [97.51, 100.0, 0.03425648376411678, 462.0, 2.66], [85.75, 60.0, 0.016114162935089483, 602.0, 2.48], [106.87, 35.0, 0.017810059724161033, 317.0, 2.54], [104.05, 80.0, 0.03983454266421006, 522.0, 2.42], [81.6, 95.0, 0.027967467676052928, 633.0, 2.48], [143.71, 110.0, 0.02417727691911128, 42.0, 2.26], [109.1, 110.0, 0.016403341833589692, 48.0, 2.44], [103.9, 110.0, 0.04798018744684324, 84.0, 2.37], [119.7, 125.0, 0.04577045983518167, 840.0, 2.81], [124.98, 85.0, 0.04357283801505035, 3.0, 2.42], [60.0, 45.0, 0.03557069196275883, 347.0, 1.85], [105.85, 60.0, 0.03850843954337147, 85.0, 1.99], [103.0, 85.0, 0.0238246792656612, 1.0, 1.81], [103.9, 50.0, 0.04798018744684324, 358.0, 2.58], [85.67, 150.0, 0.05134786360186918, 31.0, 2.35], [83.65, 85.0, 0.03806448896319161, 259.0, 2.03], [90.52, 55.0, 0.058429640905986874, 809.0, 2.81], [91.39, 125.0, 0.05654371115744505, 11.0, 2.32], [144.78, 95.0, 0.04039331808446709, 133.0, 2.28], [101.95, 105.0, 0.03009799618017172, 574.0, 2.56], [85.5, 130.0, 0.034654111036277274, 242.0, 2.14], [74.1, 90.0, 0.03570263684949453, 148.0, 1.84], [143.53, 75.0, 0.029901334351513275, 16.0, 2.25], [86.16, 90.0, 0.06603447853296382, 423.0, 2.67], [101.67, 155.0, 0.06785756925371184, 441.0, 2.7], [82.05, 70.0, 0.03607495935958746, 31.0, 1.69], [94.18, 75.0, 0.0418915506785926, 139.0, 2.52], [134.79, 105.0, 0.0286904981199604, 147.0, 2.39], [101.34, 100.0, 0.05211642321528565, 3.0, 2.41], [142.44, 50.0, 0.037687252670167794, 220.0, 2.21], [112.45, 145.0, 0.046253993306802715, 2.0, 2.03], [119.7, 170.0, 0.04577045983518167, 840.0, 2.81], [107.21, 170.0, 0.01633129053880686, 318.0, 2.54], [144.62, 100.0, 0.02990831354276945, 17.0, 2.21], [146.01, 180.0, 0.04034332393473633, 130.0, 2.29], [78.8, 105.0, 0.020669559837986747, 56.0, 1.74], [112.45, 40.0, 0.046253993306802715, 30.0, 2.03], [109.82, 85.0, 0.0581122217960108, 9.0, 2.4], [108.36, 120.0, 0.02017738307473924, 675.0, 2.45], [137.51, 125.0, 0.02752305044493216, 3.0, 2.41], [122.51, 120.0, 0.03552736788519532, 275.0, 2.44], [87.2, 110.0, 0.05053913197199575, 399.0, 2.68], [116.13, 80.0, 0.057630864965401124, 703.0, 2.5], [106.7, 90.0, 0.028871292293442905, 35.0, 1.87], [122.65, 115.0, 0.04381723541187575, 37.0, 2.4], [89.41, 110.0, 0.05373582164075096, 387.0, 2.61], [83.05, 65.0, 0.019072673638772814, 25.0, 1.71], [106.3, 110.0, 0.03627265867160459, 498.0, 2.5], [113.95, 100.0, 0.04040101175550796, 128.0, 2.16], [137.22, 95.0, 0.02356572453640285, 619.0, 2.28], [144.75, 45.0, 0.02486137805704945, 190.0, 2.08], [89.41, 150.0, 0.05373582164075096, 751.0, 2.61], [85.04, 55.0, 0.06600052885413198, 150.0, 2.52], [120.34, 160.0, 0.0438325118803356, 192.0, 2.46], [113.95, 130.0, 0.04040101175550796, 218.0, 2.33], [85.67, 165.0, 0.05134786360186918, 759.0, 2.65], [86.45, 40.0, 0.02916089943722945, 92.0, 1.82], [97.51, 135.0, 0.03425648376411678, 188.0, 2.44], [83.225, 95.0, 0.03670930940113666, 617.0, 2.54], [111.11, 115.0, 0.055187490005592345, 57.0, 2.45], [85.67, 70.0, 0.05134786360186918, 121.0, 2.39], [82.25, 50.0, 0.039105580737061794, 263.0, 2.04], [91.55, 65.0, 0.04960606332745087, 450.0, 2.64], [119.7, 40.0, 0.04577045983518167, 476.0, 2.59], [114.1, 75.0, 0.04654464387159128, 1.0, 2.03], [119.15, 150.0, 0.04106330083258357, 17.0, 2.42], [141.17, 160.0, 0.021145810352489983, 162.0, 2.46], [96.6, 135.0, 0.06593577053311157, 791.0, 2.81], [137.34, 180.0, 0.0347013778172662, 49.0, 2.35], [111.01, 110.0, 0.05767055003564834, 707.0, 2.45], [107.96, 135.0, 0.020556949806368498, 305.0, 2.52], [91.55, 85.0, 0.01718211386227567, 46.0, 1.94], [90.52, 35.0, 0.058429640905986874, 445.0, 2.64], [83.05, 30.0, 0.019072673638772814, 116.0, 1.79], [84.15, 90.0, 0.02088460505842642, 211.0, 1.95], [119.26, 105.0, 0.04253479949494567, 289.0, 2.41], [145.27, 150.0, 0.02472683396997556, 10.0, 2.22], [110.69, 55.0, 0.05949430095473529, 711.0, 2.53], [95.91, 50.0, 0.0521173509381002, 10.0, 2.4], [99.29, 45.0, 0.05210345396041228, 186.0, 2.52], [100.3, 40.0, 0.031957296786981115, 21.0, 1.77], [92.12, 155.0, 0.037428600486516604, 827.0, 2.85], [143.36, 115.0, 0.02208173621110559, 42.0, 2.42], [119.0, 115.0, 0.043633075940499325, 22.0, 2.1], [99.55, 145.0, 0.033053053201065684, 204.0, 2.11], [111.65, 150.0, 0.038944572100956996, 130.0, 2.14], [85.0, 70.0, 0.028565676067374344, 637.0, 2.46], [86.97, 65.0, 0.0524224717238065, 218.0, 2.56], [84.25, 110.0, 0.03680927376720219, 32.0, 1.7], [108.75, 55.0, 0.027372650454282367, 184.0, 2.17], [114.01, 45.0, 0.0432652999768328, 471.0, 2.62], [101.44, 110.0, 0.06760264965192364, 161.0, 2.52], [109.03, 90.0, 0.0165504455523345, 11.0, 2.45], [139.59, 110.0, 0.033261560062757614, 114.0, 2.15], [148.01, 160.0, 0.017307845747791668, 234.0, 2.07], [105.2, 100.0, 0.02488153995771937, 178.0, 2.19], [120.83, 140.0, 0.04081190245642279, 294.0, 2.4], [98.2, 65.0, 0.02359929121875208, 130.0, 1.94], [86.89, 150.0, 0.06339175941381088, 148.0, 2.52], [114.98, 120.0, 0.04578773498363206, 199.0, 2.4], [115.8, 145.0, 0.04366757207570815, 204.0, 2.37], [74.85, 40.0, 0.03588738917539757, 59.0, 1.66], [89.41, 170.0, 0.05373582164075096, 387.0, 2.61], [141.91, 60.0, 0.020369889593048918, 184.0, 2.04], [101.91, 105.0, 0.06750222569987634, 72.0, 2.37], [102.25, 115.0, 0.04027350865033592, 63.0, 2.05], [143.48, 135.0, 0.024087248549372785, 553.0, 1.84], [143.36, 185.0, 0.02208173621110559, 70.0, 2.43], [89.42, 85.0, 0.05252903068517965, 49.0, 2.4], [143.36, 80.0, 0.02208173621110559, 161.0, 2.45], [105.85, 70.0, 0.03850843954337147, 540.0, 2.41], [85.04, 145.0, 0.06600052885413198, 150.0, 2.52], [83.2, 35.0, 0.022573054573586555, 674.0, 2.26], [77.65, 95.0, 0.020019776292782333, 206.0, 1.93], [124.98, 75.0, 0.04357283801505035, 32.0, 2.42], [86.4, 125.0, 0.020375721807325376, 122.0, 1.81], [94.99, 95.0, 0.0697894134639457, 1.0, 2.2], [142.44, 115.0, 0.037687252670167794, 220.0, 2.21], [115.8, 115.0, 0.04366757207570815, 204.0, 2.37], [142.03, 165.0, 0.02304807360549109, 620.0, 2.31], [142.09, 180.0, 0.02714700206074621, 156.0, 2.43], [83.3, 100.0, 0.03475224044737936, 150.0, 2.13], [108.68, 120.0, 0.05522043012971626, 22.0, 2.43], [104.29, 70.0, 0.04812054632559818, 182.0, 2.5], [101.45, 55.0, 0.03742145682550624, 175.0, 2.2], [101.34, 105.0, 0.05211642321528565, 367.0, 2.57], [61.45, 45.0, 0.03193718936996071, 350.0, 1.88], [145.47, 60.0, 0.01844086679291513, 540.0, 1.99], [111.15, 75.0, 0.044180877443518035, 487.0, 2.57], [97.4, 105.0, 0.03228772966546013, 116.0, 1.93], [81.65, 35.0, 0.04085377595000247, 266.0, 2.02], [88.25, 95.0, 0.029491533475485245, 31.0, 1.68], [99.65, 130.0, 0.040151201275386836, 156.0, 2.23], [84.6, 90.0, 0.039189587467606035, 624.0, 2.49], [104.05, 105.0, 0.03983454266421006, 158.0, 2.22], [96.47, 60.0, 0.04852132788166263, 228.0, 2.56], [135.81, 65.0, 0.028478627205766167, 605.0, 2.26], [98.02, 90.0, 0.052282287257146204, 737.0, 2.56], [104.29, 155.0, 0.04812054632559818, 0.0, 2.4], [139.76, 65.0, 0.03323668688625022, 206.0, 2.1], [114.09, 145.0, 0.04988989500469597, 51.0, 2.45], [125.02, 75.0, 0.04316950309792203, 644.0, 2.4], [128.25, 105.0, 0.02708046286156833, 178.0, 2.46], [94.41, 110.0, 0.0493526854941492, 141.0, 2.53], [146.01, 100.0, 0.04034332393473633, 39.0, 2.3], [148.12, 95.0, 0.03955871329297976, 0.0, 2.16], [137.22, 95.0, 0.02356572453640285, 164.0, 2.46], [89.4, 95.0, 0.02907330589461383, 2.0, 1.67], [85.67, 80.0, 0.05134786360186918, 759.0, 2.65], [87.95, 65.0, 0.035025484640970835, 1.0, 1.7], [82.4, 105.0, 0.02098512697245141, 673.0, 2.29], [145.47, 200.0, 0.01844086679291513, 540.0, 1.99], [144.78, 80.0, 0.04039331808446709, 133.0, 2.28], [84.25, 125.0, 0.03680927376720219, 613.0, 2.55], [106.0, 120.0, 0.02494461008299276, 60.0, 1.94], [91.31, 165.0, 0.06716914969694814, 794.0, 2.89], [108.1, 155.0, 0.05806304972627883, 344.0, 2.55], [81.7, 50.0, 0.022058999127506286, 3.0, 1.64], [93.69, 70.0, 0.05449156940305447, 225.0, 2.56], [101.29, 70.0, 0.052604678039866605, 371.0, 2.58], [148.12, 210.0, 0.03955871329297976, 210.0, 2.05], [139.52, 140.0, 0.03648791528053155, 232.0, 2.4], [106.7, 65.0, 0.028871292293442905, 7.0, 1.87], [144.13, 120.0, 0.02412207640156263, 102.0, 2.26], [86.05, 85.0, 0.037057284322713234, 73.0, 1.87], [106.3, 100.0, 0.03627265867160459, 134.0, 2.13], [91.31, 150.0, 0.06716914969694814, 66.0, 2.38], [111.22, 55.0, 0.05807076087841561, 38.0, 2.39], [84.6, 45.0, 0.039189587467606035, 260.0, 2.02], [98.02, 45.0, 0.052282287257146204, 737.0, 2.56], [119.0, 65.0, 0.043633075940499325, 203.0, 2.37], [106.0, 115.0, 0.02494461008299276, 214.0, 2.13], [145.84, 100.0, 0.03967343022331565, 121.0, 2.18], [83.225, 35.0, 0.03670930940113666, 71.0, 1.9], [111.22, 170.0, 0.05807076087841561, 346.0, 2.56], [111.65, 130.0, 0.038944572100956996, 494.0, 2.54], [111.96, 130.0, 0.05436436876731463, 21.0, 2.43], [84.85, 95.0, 0.027112728040820242, 36.0, 1.65], [116.13, 155.0, 0.057630864965401124, 65.0, 2.43], [139.52, 135.0, 0.03648791528053155, 596.0, 2.06], [118.65, 140.0, 0.042099531639726386, 14.0, 2.43], [84.25, 70.0, 0.021000429032404483, 672.0, 2.31], [136.8, 65.0, 0.022252106239307963, 260.0, 2.46], [104.35, 85.0, 0.026903333240906255, 28.0, 1.86], [144.13, 180.0, 0.02412207640156263, 102.0, 2.26], [101.57, 160.0, 0.051093507440548885, 2.0, 2.41], [143.53, 185.0, 0.029901334351513275, 107.0, 2.21], [93.51, 155.0, 0.04812671260953174, 50.0, 2.37], [122.51, 80.0, 0.03552736788519532, 30.0, 2.43], [82.67, 40.0, 0.05135880528303604, 25.0, 2.42], [107.28, 110.0, 0.01804299572857353, 225.0, 2.52], [96.8, 100.0, 0.0329202118784856, 114.0, 1.93], [119.66, 145.0, 0.056911777328876485, 701.0, 2.5], [142.94, 75.0, 0.03891984806009386, 35.0, 2.23], [95.91, 90.0, 0.0521173509381002, 192.0, 2.54], [115.95, 65.0, 0.043428805077523454, 35.0, 2.02], [107.25, 85.0, 0.02126967117374272, 217.0, 2.52], [101.44, 110.0, 0.06760264965192364, 43.0, 2.21], [101.29, 95.0, 0.052604678039866605, 189.0, 2.5], [59.95, 90.0, 0.03368497367649679, 72.0, 1.55], [118.12, 160.0, 0.03379825466972451, 121.0, 2.48], [83.3, 80.0, 0.02816223659953558, 634.0, 2.49], [109.1, 110.0, 0.016403341833589692, 231.0, 2.52], [91.55, 110.0, 0.04960606332745087, 450.0, 2.64], [137.46, 130.0, 0.026066182636784167, 249.0, 2.42], [114.98, 75.0, 0.04578773498363206, 46.0, 2.23], [89.4, 95.0, 0.02907330589461383, 184.0, 2.01], [88.67, 75.0, 0.052216453849600886, 401.0, 2.7], [106.87, 140.0, 0.017810059724161033, 681.0, 2.52], [145.59, 125.0, 0.0243538727116994, 254.0, 2.07], [139.47, 170.0, 0.02178936629123049, 248.0, 2.06], [119.7, 30.0, 0.04577045983518167, 112.0, 2.19], [135.81, 95.0, 0.028478627205766167, 59.0, 2.39], [61.45, 75.0, 0.03193718936996071, 77.0, 1.48], [128.25, 100.0, 0.02708046286156833, 269.0, 2.46], [144.75, 130.0, 0.02486137805704945, 253.0, 2.08], [105.65, 130.0, 0.03028472331639227, 211.0, 2.12], [135.81, 175.0, 0.028478627205766167, 605.0, 2.26], [121.62, 155.0, 0.043193840148350426, 281.0, 2.44], [82.4, 85.0, 0.02098512697245141, 309.0, 2.07], [106.99, 55.0, 0.06744445974072215, 716.0, 2.52], [82.67, 110.0, 0.05135880528303604, 207.0, 2.52], [102.25, 95.0, 0.04027350865033592, 35.0, 1.95], [117.98, 45.0, 0.04070214771517892, 119.0, 2.46], [99.6, 105.0, 0.03949299905522924, 169.0, 2.22], [129.95, 190.0, 0.026794942492717886, 631.0, 2.33], [114.18, 40.0, 0.05345431358025315, 326.0, 2.56], [89.54, 95.0, 0.049390696870170704, 24.0, 2.31], [97.27, 80.0, 0.03429335757363078, 32.0, 2.17], [120.11, 135.0, 0.04211339748648698, 651.0, 2.35], [144.78, 125.0, 0.04039331808446709, 133.0, 2.28], [116.13, 115.0, 0.057630864965401124, 339.0, 2.55], [98.02, 105.0, 0.052282287257146204, 737.0, 2.56], [94.99, 105.0, 0.0697894134639457, 1.0, 2.2], [85.6, 120.0, 0.02740671450912244, 641.0, 2.39], [94.99, 125.0, 0.0697894134639457, 1.0, 2.2], [101.67, 150.0, 0.06785756925371184, 805.0, 2.91], [107.25, 85.0, 0.02126967117374272, 126.0, 2.45], [76.1, 105.0, 0.034878010813682435, 235.0, 1.87], [104.65, 30.0, 0.02685491140134169, 547.0, 2.4], [137.51, 95.0, 0.02752305044493216, 38.0, 2.41], [107.85, 95.0, 0.020152416626519568, 2.0, 2.43], [97.27, 70.0, 0.03429335757363078, 459.0, 2.67], [112.0, 50.0, 0.044291377964058416, 116.0, 2.22], [90.0, 60.0, 0.01722376373399032, 140.0, 2.1], [134.79, 80.0, 0.0286904981199604, 238.0, 2.39], [143.0, 70.0, 0.02356693543711004, 186.0, 2.06], [85.75, 105.0, 0.016114162935089483, 21.0, 1.7], [105.98, 80.0, 0.01722287137317212, 133.0, 2.46], [119.41, 155.0, 0.057647592204568415, 702.0, 2.53], [110.11, 85.0, 0.06315234590095266, 168.0, 2.46], [111.22, 115.0, 0.05807076087841561, 710.0, 2.53], [111.96, 70.0, 0.04309717861046268, 836.0, 2.82], [83.6, 35.0, 0.032657795322860415, 58.0, 1.92], [91.55, 140.0, 0.04960606332745087, 176.0, 2.47], [96.47, 150.0, 0.04852132788166263, 46.0, 2.38], [121.4, 85.0, 0.056874325017275164, 0.0, 2.43], [89.42, 110.0, 0.05645052394588116, 132.0, 2.4], [119.0, 120.0, 0.043633075940499325, 841.0, 2.83], [77.3, 60.0, 0.03570828839001672, 23.0, 1.4], [116.3, 140.0, 0.04357222028705686, 115.0, 2.21], [145.59, 90.0, 0.0243538727116994, 9.0, 2.18], [145.52, 150.0, 0.019325458726455042, 242.0, 2.08], [136.6, 160.0, 0.02784704439188373, 242.0, 2.42], [103.75, 80.0, 0.02370739211794156, 0.0, 1.82], [59.65, 85.0, 0.034146872967722224, 7.0, 1.31], [114.18, 90.0, 0.05345431358025315, 52.0, 2.47], [108.89, 105.0, 0.033616104014165364, 30.0, 2.46], [104.8, 60.0, 0.02969373123956808, 102.0, 1.98], [143.71, 180.0, 0.02417727691911128, 42.0, 2.26], [77.4, 90.0, 0.0229767343221936, 18.0, 1.68], [104.05, 135.0, 0.03983454266421006, 67.0, 2.06], [103.79, 100.0, 0.05177982124764943, 79.0, 2.42], [82.95, 75.0, 0.02248597549291465, 197.0, 1.93], [101.67, 150.0, 0.06785756925371184, 77.0, 2.33], [100.3, 125.0, 0.031957296786981115, 112.0, 1.93], [107.85, 125.0, 0.020152416626519568, 219.0, 2.53], [145.47, 195.0, 0.01844086679291513, 176.0, 2.08], [135.81, 130.0, 0.028478627205766167, 241.0, 2.42], [99.58, 75.0, 0.03881411603965588, 191.0, 2.46], [92.12, 120.0, 0.037428600486516604, 99.0, 2.27], [81.6, 50.0, 0.027967467676052928, 269.0, 2.05], [122.65, 165.0, 0.038312663166650884, 666.0, 2.41], [103.65, 90.0, 0.039085237685685864, 58.0, 2.09], [119.15, 45.0, 0.04106330083258357, 291.0, 2.41], [102.0, 110.0, 0.03123251637738835, 45.0, 1.91], [110.11, 115.0, 0.06315234590095266, 42.0, 2.41], [87.95, 50.0, 0.035025484640970835, 155.0, 2.1], [139.47, 145.0, 0.02178936629123049, 94.0, 2.15], [85.6, 135.0, 0.05089068930639548, 394.0, 2.62], [111.11, 55.0, 0.055187490005592345, 57.0, 2.45], [84.25, 60.0, 0.021000429032404483, 0.0, 1.71], [143.1, 105.0, 0.02100244127244113, 29.0, 2.11], [106.52, 165.0, 0.0466434048839187, 357.0, 2.6], [115.8, 150.0, 0.04366757207570815, 114.0, 2.2], [122.65, 95.0, 0.038312663166650884, 666.0, 2.41], [139.47, 110.0, 0.02178936629123049, 3.0, 2.16], [92.08, 85.0, 0.056522309865481124, 38.0, 2.28], [80.5, 50.0, 0.02274421240213188, 290.0, 2.09], [82.1, 165.0, 0.05211553345680715, 118.0, 2.39], [97.45, 100.0, 0.03939848994816208, 182.0, 2.47], [142.44, 80.0, 0.037687252670167794, 584.0, 1.93], [105.98, 145.0, 0.01722287137317212, 41.0, 2.45], [90.52, 45.0, 0.058429640905986874, 81.0, 2.34], [140.94, 210.0, 0.036935548741476684, 590.0, 1.83], [122.51, 45.0, 0.03552736788519532, 93.0, 2.44], [122.51, 60.0, 0.03552736788519532, 639.0, 2.4], [118.65, 170.0, 0.042099531639726386, 106.0, 2.44], [102.36, 125.0, 0.03894561031299679, 31.0, 2.19], [145.21, 115.0, 0.03978760750816205, 123.0, 2.23], [145.27, 45.0, 0.02472683396997556, 192.0, 2.15], [104.2, 80.0, 0.029096468191720862, 9.0, 1.89], [91.89, 135.0, 0.05247972172205729, 742.0, 2.5], [86.16, 135.0, 0.06603447853296382, 31.0, 2.23], [99.6, 120.0, 0.03949299905522924, 169.0, 2.22], [81.75, 65.0, 0.022918911862514674, 226.0, 1.87], [137.34, 95.0, 0.0347013778172662, 231.0, 2.35], [140.7, 105.0, 0.02171823662231393, 9.0, 2.42], [105.15, 75.0, 0.05041707319464903, 80.0, 2.42], [142.09, 130.0, 0.02714700206074621, 247.0, 2.43], [101.87, 45.0, 0.04958711777085005, 178.0, 2.51], [106.7, 135.0, 0.028871292293442905, 98.0, 1.98], [94.41, 70.0, 0.0493526854941492, 233.0, 2.53], [136.6, 65.0, 0.02784704439188373, 242.0, 2.42], [134.16, 145.0, 0.02593423395533704, 626.0, 2.27], [111.15, 95.0, 0.044180877443518035, 851.0, 2.78], [114.01, 110.0, 0.0432652999768328, 835.0, 2.85], [118.65, 165.0, 0.042099531639726386, 288.0, 2.41], [58.25, 95.0, 0.034302774894045644, 71.0, 1.55], [116.13, 30.0, 0.057630864965401124, 339.0, 2.55], [108.15, 55.0, 0.01953874168830817, 38.0, 2.44], [106.1, 95.0, 0.03980859881527557, 8.0, 1.91], [120.34, 110.0, 0.0438325118803356, 38.0, 2.42], [85.67, 100.0, 0.05134786360186918, 395.0, 2.64], [101.87, 160.0, 0.04958711777085005, 86.0, 2.43], [139.24, 50.0, 0.02741726994500036, 245.0, 2.42], [94.18, 80.0, 0.0418915506785926, 413.0, 2.7], [109.35, 145.0, 0.06814659430140835, 77.0, 2.41], [137.51, 200.0, 0.02752305044493216, 248.0, 2.43], [96.7, 60.0, 0.057924496456266614, 57.0, 2.34], [119.41, 125.0, 0.057647592204568415, 2.0, 2.42], [106.99, 95.0, 0.06744445974072215, 352.0, 2.57], [119.66, 140.0, 0.056911777328876485, 63.0, 2.43], [141.4, 170.0, 0.022239045536183395, 623.0, 2.33], [118.65, 50.0, 0.042099531639726386, 288.0, 2.41], [88.4, 120.0, 0.05375751880029838, 28.0, 2.25], [87.0, 75.0, 0.02007968702641709, 30.0, 1.71], [83.5, 120.0, 0.041067196097455023, 267.0, 2.02], [109.6, 55.0, 0.028568698611290418, 142.0, 2.28], [83.5, 80.0, 0.041067196097455023, 631.0, 2.49], [96.6, 135.0, 0.06593577053311157, 0.0, 2.21], [103.91, 105.0, 0.050830213280792264, 365.0, 2.57], [125.75, 170.0, 0.0567472996325723, 58.0, 2.45], [97.42, 150.0, 0.046291221339118456, 815.0, 2.89], [83.425, 130.0, 0.03688202209474797, 72.0, 1.88], [109.02, 105.0, 0.04324673887199517, 196.0, 2.42], [79.55, 100.0, 0.02081677694808208, 50.0, 1.73], [106.85, 75.0, 0.03120329614729463, 147.0, 2.25], [110.11, 45.0, 0.06315234590095266, 350.0, 2.56], [105.98, 130.0, 0.01722287137317212, 133.0, 2.46], [119.7, 130.0, 0.04577045983518167, 21.0, 2.12], [112.0, 40.0, 0.044291377964058416, 116.0, 2.22], [108.25, 45.0, 0.03581670508662785, 497.0, 2.53], [111.11, 145.0, 0.055187490005592345, 23.0, 2.41], [99.29, 65.0, 0.05210345396041228, 4.0, 2.42], [86.89, 70.0, 0.06339175941381088, 30.0, 2.25], [103.75, 65.0, 0.02370739211794156, 0.0, 1.82], [84.6, 110.0, 0.039189587467606035, 169.0, 2.02], [88.75, 95.0, 0.03455286422363945, 63.0, 1.91], [102.25, 155.0, 0.04027350865033592, 518.0, 2.44], [91.55, 135.0, 0.04960606332745087, 58.0, 2.34], [91.82, 115.0, 0.05831998124933874, 808.0, 2.84], [101.45, 75.0, 0.03742145682550624, 56.0, 2.0], [120.11, 60.0, 0.04211339748648698, 196.0, 2.46], [106.99, 55.0, 0.06744445974072215, 16.0, 2.4], [85.6, 70.0, 0.05089068930639548, 2.0, 2.35], [108.68, 105.0, 0.05522043012971626, 56.0, 2.45], [85.67, 135.0, 0.05134786360186918, 31.0, 2.35], [104.35, 125.0, 0.026903333240906255, 546.0, 2.41], [114.01, 130.0, 0.0432652999768328, 471.0, 2.62], [115.8, 65.0, 0.04366757207570815, 478.0, 2.58], [149.04, 185.0, 0.03997917719852827, 29.0, 2.17], [109.27, 30.0, 0.043225389323293235, 469.0, 2.64], [145.52, 105.0, 0.019325458726455042, 179.0, 2.08], [111.11, 170.0, 0.055187490005592345, 57.0, 2.45], [94.4, 85.0, 0.017144481326023718, 227.0, 2.13], [115.95, 70.0, 0.043428805077523454, 490.0, 2.56], [118.65, 135.0, 0.042099531639726386, 197.0, 2.46], [104.35, 90.0, 0.026903333240906255, 546.0, 2.41], [101.87, 80.0, 0.04958711777085005, 24.0, 2.38], [108.05, 85.0, 0.02914895502030368, 186.0, 2.19], [145.47, 120.0, 0.01844086679291513, 176.0, 2.08], [142.03, 90.0, 0.02304807360549109, 620.0, 2.31], [104.1, 60.0, 0.02944259516825113, 192.0, 2.15], [114.85, 35.0, 0.04503190154239454, 486.0, 2.58], [128.25, 160.0, 0.02708046286156833, 269.0, 2.46], [109.35, 120.0, 0.06814659430140835, 169.0, 2.46], [95.35, 70.0, 0.03980656094125559, 16.0, 1.93], [89.42, 45.0, 0.05252903068517965, 749.0, 2.52], [109.1, 120.0, 0.016403341833589692, 140.0, 2.52], [84.55, 55.0, 0.026524870053739283, 192.0, 1.93], [103.9, 70.0, 0.04798018744684324, 176.0, 2.5], [143.53, 210.0, 0.029901334351513275, 198.0, 2.08], [83.2, 65.0, 0.022573054573586555, 2.0, 1.71], [119.36, 170.0, 0.04206772515911834, 102.0, 2.43], [76.1, 95.0, 0.034878010813682435, 326.0, 2.03], [84.92, 75.0, 0.05092128836817107, 393.0, 2.64], [84.15, 80.0, 0.02088460505842642, 666.0, 2.29], [77.65, 85.0, 0.020019776292782333, 661.0, 2.26], [109.27, 170.0, 0.043225389323293235, 469.0, 2.64], [103.75, 65.0, 0.02370739211794156, 217.0, 2.07], [90.0, 120.0, 0.01722376373399032, 49.0, 1.92], [114.01, 120.0, 0.0432652999768328, 835.0, 2.85], [90.52, 145.0, 0.058429640905986874, 809.0, 2.81], [81.7, 50.0, 0.022058999127506286, 220.0, 1.9], [143.36, 85.0, 0.02208173621110559, 7.0, 2.42], [95.91, 125.0, 0.0521173509381002, 38.0, 2.4], [119.41, 90.0, 0.057647592204568415, 30.0, 2.42], [136.6, 140.0, 0.02784704439188373, 151.0, 2.42], [98.02, 80.0, 0.052282287257146204, 65.0, 2.45], [98.2, 85.0, 0.02359929121875208, 67.0, 1.94], [91.89, 120.0, 0.05247972172205729, 742.0, 2.5], [81.6, 115.0, 0.027967467676052928, 52.0, 1.87], [135.81, 120.0, 0.028478627205766167, 605.0, 2.26], [85.75, 110.0, 0.016114162935089483, 56.0, 1.9], [97.45, 165.0, 0.03939848994816208, 456.0, 2.67], [83.65, 115.0, 0.03806448896319161, 623.0, 2.51], [106.85, 70.0, 0.03120329614729463, 237.0, 2.25], [83.65, 60.0, 0.03806448896319161, 623.0, 2.51], [97.45, 110.0, 0.03939848994816208, 29.0, 2.19], [111.96, 90.0, 0.05436436876731463, 21.0, 2.43], [99.8, 85.0, 0.04027389784965785, 515.0, 2.43], [102.25, 140.0, 0.04027350865033592, 518.0, 2.44], [92.08, 135.0, 0.056522309865481124, 10.0, 2.28], [151.52, 135.0, 0.01908022790249121, 177.0, 2.08], [134.76, 165.0, 0.03635558075423575, 598.0, 2.12], [94.99, 145.0, 0.0697894134639457, 428.0, 2.7], [139.24, 150.0, 0.02741726994500036, 154.0, 2.42], [138.18, 180.0, 0.037655242502910836, 227.0, 2.29], [120.83, 85.0, 0.04081190245642279, 294.0, 2.4], [125.02, 95.0, 0.04316950309792203, 6.0, 2.41], [106.5, 90.0, 0.02622556699757568, 213.0, 2.13], [108.9, 105.0, 0.02392192790432199, 179.0, 2.19], [111.1, 50.0, 0.0283847778515402, 504.0, 2.46], [109.27, 60.0, 0.043225389323293235, 833.0, 2.88], [140.95, 145.0, 0.033643711082795166, 204.0, 2.12], [98.95, 75.0, 0.032242082363378124, 206.0, 2.14], [143.48, 80.0, 0.024087248549372785, 7.0, 2.16], [118.12, 110.0, 0.03379825466972451, 667.0, 2.4], [101.45, 45.0, 0.03742145682550624, 539.0, 2.43], [88.4, 50.0, 0.05375751880029838, 56.0, 2.41], [111.15, 135.0, 0.044180877443518035, 123.0, 2.16], [97.51, 85.0, 0.03425648376411678, 462.0, 2.66], [98.2, 110.0, 0.02359929121875208, 585.0, 2.52], [103.79, 105.0, 0.05177982124764943, 45.0, 2.39], [104.1, 115.0, 0.02944259516825113, 38.0, 1.88], [59.65, 65.0, 0.034146872967722224, 707.0, 2.05], [90.52, 100.0, 0.058429640905986874, 18.0, 2.17], [94.18, 60.0, 0.0418915506785926, 49.0, 2.37], [81.5, 125.0, 0.0392368437441856, 45.0, 1.68], [144.78, 135.0, 0.04039331808446709, 224.0, 2.15], [83.3, 45.0, 0.020032987384958824, 123.0, 1.8], [91.82, 85.0, 0.05831998124933874, 80.0, 2.33], [102.1, 115.0, 0.039317618027402086, 59.0, 2.08], [86.95, 100.0, 0.015562401342617497, 50.0, 1.93], [106.0, 150.0, 0.02494461008299276, 214.0, 2.13], [100.3, 105.0, 0.039631207170908386, 11.0, 1.92], [97.45, 80.0, 0.03939848994816208, 182.0, 2.47], [114.01, 150.0, 0.0432652999768328, 197.0, 2.41], [88.67, 90.0, 0.052216453849600886, 401.0, 2.7], [83.225, 65.0, 0.03670930940113666, 8.0, 1.69], [104.1, 30.0, 0.03205668447190172, 561.0, 2.55], [75.55, 55.0, 0.03425629580763793, 17.0, 1.49], [109.6, 95.0, 0.028568698611290418, 23.0, 1.97], [97.98, 135.0, 0.0462370357253842, 452.0, 2.68], [108.15, 145.0, 0.01953874168830817, 676.0, 2.47], [136.8, 115.0, 0.022252106239307963, 78.0, 2.47], [149.14, 60.0, 0.01778622484506646, 539.0, 2.0], [101.29, 85.0, 0.052604678039866605, 189.0, 2.5], [99.55, 140.0, 0.06805140265323532, 73.0, 2.35], [116.3, 130.0, 0.04357222028705686, 479.0, 2.59], [115.8, 70.0, 0.04366757207570815, 51.0, 2.2], [97.27, 125.0, 0.03429335757363078, 459.0, 2.67], [112.45, 65.0, 0.046253993306802715, 30.0, 2.03], [65.55, 65.0, 0.03501358846120794, 3.0, 1.34], [77.65, 70.0, 0.020019776292782333, 661.0, 2.26], [108.36, 165.0, 0.02017738307473924, 37.0, 2.44], [108.68, 120.0, 0.05522043012971626, 56.0, 2.45], [83.3, 105.0, 0.02816223659953558, 53.0, 1.87], [83.425, 60.0, 0.03688202209474797, 37.0, 1.68], [98.95, 40.0, 0.023534909328441097, 129.0, 1.92], [84.85, 70.0, 0.027112728040820242, 645.0, 2.34], [143.02, 175.0, 0.03363884127473833, 18.0, 2.17], [114.18, 65.0, 0.05345431358025315, 326.0, 2.56], [121.4, 130.0, 0.056874325017275164, 336.0, 2.55], [83.2, 115.0, 0.022573054573586555, 674.0, 2.26], [86.45, 130.0, 0.035883690523158804, 156.0, 2.09], [146.01, 160.0, 0.04034332393473633, 585.0, 1.9], [145.84, 190.0, 0.020942446037653058, 546.0, 1.94], [147.42, 145.0, 0.01800164940835659, 53.0, 2.12], [145.84, 200.0, 0.020942446037653058, 91.0, 2.06], [109.03, 65.0, 0.0165504455523345, 45.0, 2.45], [82.85, 30.0, 0.02629471439129068, 646.0, 2.32], [108.05, 105.0, 0.02914895502030368, 550.0, 2.59], [118.92, 80.0, 0.04086959285181575, 24.0, 2.47], [102.39, 145.0, 0.03919313319782007, 183.0, 2.47], [138.18, 145.0, 0.037655242502910836, 45.0, 2.34], [139.59, 135.0, 0.033261560062757614, 205.0, 2.12], [97.45, 140.0, 0.03939848994816208, 820.0, 2.87], [128.25, 30.0, 0.02708046286156833, 269.0, 2.46], [95.44, 90.0, 0.05591199982832329, 193.0, 2.54], [85.6, 85.0, 0.05089068930639548, 2.0, 2.35], [94.18, 95.0, 0.0418915506785926, 777.0, 2.8], [99.65, 75.0, 0.040151201275386836, 156.0, 2.23], [99.6, 95.0, 0.03949299905522924, 78.0, 2.02], [121.77, 40.0, 0.040637651528114285, 297.0, 2.44], [82.45, 65.0, 0.02355362887883084, 680.0, 2.25], [84.85, 115.0, 0.027112728040820242, 190.0, 1.95], [139.76, 145.0, 0.03323668688625022, 570.0, 1.71], [141.96, 175.0, 0.040351047419522064, 15.0, 2.32], [144.63, 115.0, 0.03987837568686335, 122.0, 2.22], [99.65, 100.0, 0.040151201275386836, 65.0, 2.07], [88.67, 120.0, 0.052216453849600886, 219.0, 2.56], [104.8, 150.0, 0.02969373123956808, 557.0, 2.57], [84.55, 120.0, 0.026524870053739283, 101.0, 1.74], [114.18, 135.0, 0.05345431358025315, 144.0, 2.51], [78.8, 65.0, 0.020669559837986747, 28.0, 1.69], [109.65, 90.0, 0.029259029608548006, 50.0, 2.11], [85.5, 35.0, 0.034654111036277274, 606.0, 2.58], [110.69, 155.0, 0.05949430095473529, 347.0, 2.57], [88.4, 125.0, 0.05375751880029838, 28.0, 2.25], [83.5, 35.0, 0.041067196097455023, 85.0, 1.82], [103.9, 50.0, 0.04798018744684324, 722.0, 2.56], [108.36, 160.0, 0.02017738307473924, 675.0, 2.45], [143.48, 145.0, 0.024087248549372785, 7.0, 2.16], [102.95, 40.0, 0.03911118885856188, 527.0, 2.44], [59.95, 40.0, 0.03368497367649679, 9.0, 1.36], [145.59, 85.0, 0.0243538727116994, 555.0, 1.82], [111.3, 35.0, 0.03529287075030784, 500.0, 2.49], [99.6, 95.0, 0.03949299905522924, 15.0, 1.89], [121.77, 65.0, 0.040637651528114285, 297.0, 2.44], [86.89, 125.0, 0.06339175941381088, 58.0, 2.41], [93.51, 135.0, 0.04812671260953174, 50.0, 2.37], [143.71, 145.0, 0.02417727691911128, 105.0, 2.23], [83.3, 55.0, 0.020032987384958824, 305.0, 2.08], [97.27, 135.0, 0.03429335757363078, 4.0, 2.17], [92.28, 70.0, 0.05017401584613703, 781.0, 2.84], [101.67, 165.0, 0.06785756925371184, 77.0, 2.33], [139.47, 100.0, 0.02178936629123049, 248.0, 2.06], [93.69, 80.0, 0.05449156940305447, 43.0, 2.36], [60.15, 65.0, 0.034690698407710024, 38.0, 1.48], [125.02, 155.0, 0.04316950309792203, 98.0, 2.44], [122.65, 65.0, 0.04381723541187575, 37.0, 2.4], [98.85, 115.0, 0.038414581421304266, 77.0, 2.01], [133.52, 175.0, 0.02679878159514775, 630.0, 2.28], [136.49, 85.0, 0.028166128481303964, 240.0, 2.41], [89.42, 100.0, 0.05645052394588116, 14.0, 2.32], [109.25, 125.0, 0.02096594591642004, 232.0, 2.5], [136.8, 180.0, 0.022252106239307963, 169.0, 2.46], [92.9, 110.0, 0.02391101621048447, 589.0, 2.5], [133.94, 40.0, 0.037198772132634436, 233.0, 2.38], [101.57, 150.0, 0.051093507440548885, 92.0, 2.43], [94.4, 65.0, 0.017144481326023718, 227.0, 2.13], [138.18, 65.0, 0.037655242502910836, 227.0, 2.29], [81.65, 100.0, 0.04085377595000247, 175.0, 2.02], [101.44, 60.0, 0.06760264965192364, 799.0, 2.98], [136.6, 145.0, 0.02784704439188373, 151.0, 2.42], [83.3, 75.0, 0.03475224044737936, 241.0, 2.13], [83.65, 65.0, 0.03806448896319161, 259.0, 2.03], [99.55, 135.0, 0.06805140265323532, 73.0, 2.35], [85.6, 80.0, 0.05089068930639548, 30.0, 2.35], [121.77, 90.0, 0.040637651528114285, 52.0, 2.46], [75.6, 35.0, 0.035646036027757975, 700.0, 2.21], [146.01, 170.0, 0.04034332393473633, 585.0, 1.9], [85.6, 70.0, 0.05089068930639548, 120.0, 2.4], [140.94, 160.0, 0.036935548741476684, 590.0, 1.83], [89.4, 95.0, 0.02907330589461383, 30.0, 1.67], [118.65, 180.0, 0.042099531639726386, 652.0, 2.33], [101.29, 80.0, 0.052604678039866605, 371.0, 2.58], [134.86, 80.0, 0.027111380155893743, 246.0, 2.43], [101.29, 80.0, 0.052604678039866605, 735.0, 2.55], [145.59, 70.0, 0.0243538727116994, 100.0, 2.2], [118.84, 115.0, 0.04068573078584941, 50.0, 2.43], [139.52, 55.0, 0.03648791528053155, 141.0, 2.4], [93.51, 140.0, 0.04812671260953174, 22.0, 2.31], [141.17, 85.0, 0.021145810352489983, 71.0, 2.43], [81.6, 75.0, 0.027967467676052928, 24.0, 1.7], [134.86, 115.0, 0.027111380155893743, 155.0, 2.43], [86.45, 115.0, 0.035883690523158804, 30.0, 1.69], [139.76, 180.0, 0.03323668688625022, 52.0, 2.12], [112.45, 130.0, 0.046253993306802715, 58.0, 2.16], [101.29, 80.0, 0.052604678039866605, 35.0, 2.41], [137.22, 155.0, 0.02356572453640285, 164.0, 2.46], [85.04, 165.0, 0.06600052885413198, 60.0, 2.38], [118.84, 130.0, 0.04068573078584941, 113.0, 2.43], [111.96, 65.0, 0.05436436876731463, 55.0, 2.46], [81.2, 100.0, 0.023240811553711386, 193.0, 1.93], [85.16, 85.0, 0.04964192796762052, 43.0, 2.42], [89.41, 40.0, 0.05373582164075096, 23.0, 2.41], [136.49, 120.0, 0.028166128481303964, 604.0, 2.23], [135.81, 140.0, 0.028478627205766167, 241.0, 2.42], [137.22, 135.0, 0.02356572453640285, 255.0, 2.46], [111.15, 90.0, 0.044180877443518035, 487.0, 2.57], [109.27, 50.0, 0.043225389323293235, 105.0, 2.23], [134.86, 130.0, 0.027111380155893743, 246.0, 2.43], [87.0, 95.0, 0.02007968702641709, 667.0, 2.31], [99.65, 120.0, 0.040151201275386836, 2.0, 1.96], [95.0, 130.0, 0.039871988179493965, 171.0, 2.21], [86.75, 95.0, 0.036707828274391216, 616.0, 2.54], [74.85, 90.0, 0.03588738917539757, 332.0, 2.01], [85.67, 65.0, 0.05134786360186918, 3.0, 2.35], [109.35, 65.0, 0.06814659430140835, 43.0, 2.42], [101.77, 80.0, 0.06778791125188538, 78.0, 2.32], [145.21, 155.0, 0.03978760750816205, 214.0, 2.2], [134.76, 60.0, 0.03635558075423575, 598.0, 2.12], [107.28, 160.0, 0.01804299572857353, 225.0, 2.52], [105.65, 65.0, 0.03028472331639227, 57.0, 1.94], [86.75, 110.0, 0.036707828274391216, 70.0, 1.92], [133.43, 85.0, 0.026733957170835786, 170.0, 2.44], [103.9, 150.0, 0.04798018744684324, 722.0, 2.56], [143.1, 110.0, 0.02100244127244113, 92.0, 2.05], [96.7, 90.0, 0.057924496456266614, 85.0, 2.34], [98.85, 145.0, 0.038414581421304266, 532.0, 2.43], [136.49, 165.0, 0.028166128481303964, 58.0, 2.38], [119.7, 135.0, 0.04577045983518167, 476.0, 2.59], [121.77, 125.0, 0.040637651528114285, 297.0, 2.44], [86.45, 55.0, 0.02916089943722945, 183.0, 2.01], [129.95, 145.0, 0.026794942492717886, 22.0, 2.43], [85.6, 160.0, 0.05089068930639548, 394.0, 2.62], [85.67, 30.0, 0.05134786360186918, 395.0, 2.64], [106.87, 80.0, 0.017810059724161033, 9.0, 2.43], [121.4, 90.0, 0.056874325017275164, 0.0, 2.43], [112.45, 60.0, 0.046253993306802715, 121.0, 2.16], [111.65, 95.0, 0.038944572100956996, 11.0, 1.98], [129.59, 175.0, 0.02700353265241049, 632.0, 2.32], [111.15, 95.0, 0.044180877443518035, 32.0, 2.02], [84.25, 70.0, 0.021000429032404483, 0.0, 1.71], [86.4, 80.0, 0.020375721807325376, 668.0, 2.34], [61.05, 80.0, 0.02987537075131015, 170.0, 1.66], [101.57, 100.0, 0.051093507440548885, 92.0, 2.43], [94.1, 105.0, 0.038396805639194016, 464.0, 2.67], [92.12, 85.0, 0.037428600486516604, 36.0, 2.14], [91.89, 80.0, 0.05247972172205729, 42.0, 2.4], [82.05, 100.0, 0.03607495935958746, 248.0, 2.09], [118.92, 155.0, 0.04086959285181575, 116.0, 2.46], [104.65, 110.0, 0.02685491140134169, 1.0, 1.89], [108.9, 145.0, 0.02392192790432199, 543.0, 2.42], [120.83, 150.0, 0.04081190245642279, 203.0, 2.44], [109.27, 95.0, 0.043225389323293235, 42.0, 2.15], [82.05, 70.0, 0.03607495935958746, 157.0, 2.09], [85.6, 70.0, 0.02740671450912244, 186.0, 1.98], [144.78, 55.0, 0.04039331808446709, 588.0, 1.85], [101.57, 65.0, 0.051093507440548885, 184.0, 2.49], [133.43, 55.0, 0.026733957170835786, 261.0, 2.44], [61.45, 85.0, 0.03193718936996071, 14.0, 1.4], [109.02, 115.0, 0.04324673887199517, 15.0, 2.16], [84.6, 75.0, 0.039189587467606035, 15.0, 1.68], [82.1, 100.0, 0.05211553345680715, 0.0, 2.41], [102.6, 70.0, 0.0395312245048135, 528.0, 2.45], [109.6, 65.0, 0.028568698611290418, 142.0, 2.28], [103.0, 125.0, 0.0238246792656612, 127.0, 1.94], [59.95, 40.0, 0.03368497367649679, 37.0, 1.36], [106.6, 140.0, 0.03518143723410588, 135.0, 2.14], [86.45, 60.0, 0.035883690523158804, 2.0, 1.69], [90.65, 140.0, 0.05369590696567412, 106.0, 2.42], [102.36, 85.0, 0.03894561031299679, 184.0, 2.46], [139.24, 180.0, 0.02741726994500036, 609.0, 2.2], [105.85, 80.0, 0.03850843954337147, 22.0, 1.89], [99.55, 155.0, 0.033053053201065684, 113.0, 1.93], [121.62, 125.0, 0.043193840148350426, 645.0, 2.35], [83.15, 85.0, 0.03939288128719838, 16.0, 1.69], [103.79, 75.0, 0.05177982124764943, 79.0, 2.42], [89.41, 115.0, 0.05373582164075096, 113.0, 2.44], [121.62, 120.0, 0.043193840148350426, 645.0, 2.35], [129.95, 60.0, 0.026794942492717886, 631.0, 2.33], [93.51, 35.0, 0.04812671260953174, 50.0, 2.37], [143.48, 180.0, 0.024087248549372785, 7.0, 2.16], [84.15, 50.0, 0.02088460505842642, 302.0, 2.05], [65.55, 55.0, 0.03501358846120794, 703.0, 2.1], [114.1, 115.0, 0.04654464387159128, 29.0, 2.03], [92.08, 130.0, 0.056522309865481124, 220.0, 2.55], [119.7, 135.0, 0.04577045983518167, 21.0, 2.12], [104.2, 125.0, 0.029096468191720862, 191.0, 2.14], [88.67, 80.0, 0.052216453849600886, 9.0, 2.3], [119.26, 175.0, 0.04253479949494567, 107.0, 2.44], [142.44, 135.0, 0.037687252670167794, 584.0, 1.93], [113.65, 135.0, 0.03900722091893658, 38.0, 2.02], [133.4, 105.0, 0.02875923859176239, 603.0, 2.12], [104.65, 40.0, 0.02685491140134169, 547.0, 2.4], [144.11, 145.0, 0.03955388694961375, 25.0, 2.12], [111.96, 90.0, 0.05436436876731463, 147.0, 2.51], [143.1, 45.0, 0.02100244127244113, 1.0, 2.11], [101.95, 110.0, 0.03009799618017172, 210.0, 2.11], [92.12, 125.0, 0.037428600486516604, 463.0, 2.66], [99.29, 95.0, 0.05210345396041228, 32.0, 2.42], [76.5, 90.0, 0.01941518223912429, 114.0, 1.73], [91.55, 120.0, 0.04960606332745087, 23.0, 2.2], [111.96, 135.0, 0.05436436876731463, 329.0, 2.55], [81.65, 120.0, 0.04085377595000247, 630.0, 2.49], [81.5, 110.0, 0.0392368437441856, 17.0, 1.68], [76.5, 110.0, 0.01941518223912429, 296.0, 2.12], [94.18, 35.0, 0.0418915506785926, 413.0, 2.7], [92.28, 75.0, 0.05017401584613703, 25.0, 2.24], [107.96, 80.0, 0.020556949806368498, 60.0, 2.44], [61.05, 55.0, 0.02987537075131015, 716.0, 2.14], [82.95, 45.0, 0.02248597549291465, 652.0, 2.3], [77.65, 115.0, 0.020019776292782333, 115.0, 1.77], [107.96, 110.0, 0.020556949806368498, 214.0, 2.51], [92.9, 110.0, 0.02391101621048447, 43.0, 1.78], [142.44, 200.0, 0.037687252670167794, 584.0, 1.93], [143.53, 50.0, 0.029901334351513275, 198.0, 2.08], [144.63, 150.0, 0.03987837568686335, 577.0, 1.86], [91.39, 145.0, 0.05654371115744505, 403.0, 2.69], [119.3, 95.0, 0.041100395508881706, 199.0, 2.45], [112.45, 100.0, 0.046253993306802715, 121.0, 2.16], [145.27, 115.0, 0.02472683396997556, 255.0, 2.15], [99.55, 120.0, 0.06805140265323532, 437.0, 2.72], [94.37, 100.0, 0.05920640773116481, 56.0, 2.33], [122.65, 160.0, 0.038312663166650884, 28.0, 2.51], [102.36, 115.0, 0.03894561031299679, 94.0, 2.3], [115.8, 170.0, 0.04366757207570815, 204.0, 2.37], [94.1, 45.0, 0.038396805639194016, 100.0, 2.27], [148.52, 105.0, 0.02922987407630936, 170.0, 2.1], [93.98, 95.0, 0.0550863498793181, 409.0, 2.71], [83.65, 90.0, 0.03806448896319161, 623.0, 2.51], [108.05, 105.0, 0.02914895502030368, 4.0, 1.9], [139.24, 175.0, 0.02741726994500036, 609.0, 2.2], [115.8, 70.0, 0.04366757207570815, 23.0, 2.11], [134.16, 115.0, 0.02593423395533704, 171.0, 2.46], [144.62, 135.0, 0.02990831354276945, 17.0, 2.21], [122.75, 105.0, 0.029983711000520632, 274.0, 2.44], [148.01, 180.0, 0.017307845747791668, 17.0, 2.07], [120.34, 80.0, 0.0438325118803356, 283.0, 2.42], [149.14, 160.0, 0.01778622484506646, 175.0, 2.1], [89.42, 75.0, 0.05252903068517965, 77.0, 2.4], [141.4, 195.0, 0.022239045536183395, 168.0, 2.46], [99.29, 120.0, 0.05210345396041228, 94.0, 2.45], [84.25, 120.0, 0.021000429032404483, 217.0, 1.96], [133.57, 145.0, 0.026763198903317645, 263.0, 2.47], [91.82, 135.0, 0.05831998124933874, 444.0, 2.66], [129.59, 155.0, 0.02700353265241049, 268.0, 2.46], [99.55, 145.0, 0.02379997599014585, 583.0, 2.59], [143.1, 95.0, 0.02100244127244113, 183.0, 2.01], [91.55, 150.0, 0.04960606332745087, 450.0, 2.64], [143.22, 170.0, 0.037955192138043284, 582.0, 1.83], [102.36, 90.0, 0.03894561031299679, 94.0, 2.3], [104.1, 80.0, 0.02944259516825113, 10.0, 1.88], [79.55, 55.0, 0.02081677694808208, 204.0, 1.93], [133.73, 75.0, 0.034736415434142576, 228.0, 2.31], [100.3, 65.0, 0.039631207170908386, 529.0, 2.44], [99.6, 75.0, 0.03949299905522924, 78.0, 2.02], [144.78, 110.0, 0.04039331808446709, 224.0, 2.15], [143.02, 70.0, 0.03363884127473833, 564.0, 1.78], [89.4, 100.0, 0.02907330589461383, 2.0, 1.67], [141.91, 150.0, 0.020369889593048918, 93.0, 2.14], [134.76, 145.0, 0.03635558075423575, 143.0, 2.38], [116.1, 100.0, 0.04319010755719318, 217.0, 2.33], [101.87, 150.0, 0.04958711777085005, 86.0, 2.43], [75.05, 55.0, 0.03422545995240442, 688.0, 2.25], [85.0, 50.0, 0.028565676067374344, 273.0, 2.22], [86.05, 105.0, 0.037057284322713234, 619.0, 2.51], [145.84, 120.0, 0.020942446037653058, 91.0, 2.06], [120.83, 130.0, 0.04081190245642279, 294.0, 2.4], [107.21, 125.0, 0.01633129053880686, 44.0, 2.44], [101.34, 70.0, 0.05211642321528565, 31.0, 2.41], [84.25, 45.0, 0.03680927376720219, 249.0, 2.09], [111.96, 45.0, 0.05436436876731463, 147.0, 2.51], [90.52, 110.0, 0.058429640905986874, 171.0, 2.49], [116.13, 170.0, 0.057630864965401124, 703.0, 2.5], [142.1, 70.0, 0.03328721317978595, 112.0, 2.12], [122.51, 95.0, 0.03552736788519532, 184.0, 2.47], [88.67, 35.0, 0.052216453849600886, 37.0, 2.3], [137.34, 100.0, 0.0347013778172662, 49.0, 2.35], [114.01, 110.0, 0.0432652999768328, 471.0, 2.62], [104.1, 30.0, 0.02944259516825113, 192.0, 2.15], [90.52, 125.0, 0.058429640905986874, 171.0, 2.49], [135.81, 125.0, 0.028478627205766167, 59.0, 2.39], [83.05, 30.0, 0.019072673638772814, 662.0, 2.33], [111.27, 140.0, 0.05758693612186035, 32.0, 2.44], [85.6, 90.0, 0.05089068930639548, 758.0, 2.63], [146.1, 175.0, 0.01954833436101369, 542.0, 1.97], [60.15, 60.0, 0.034690698407710024, 73.0, 1.52], [104.05, 60.0, 0.03983454266421006, 4.0, 1.93], [92.12, 65.0, 0.037428600486516604, 8.0, 2.14], [149.14, 110.0, 0.01778622484506646, 84.0, 2.12], [116.1, 80.0, 0.04319010755719318, 127.0, 2.15], [117.98, 100.0, 0.04070214771517892, 301.0, 2.45], [101.34, 160.0, 0.05211642321528565, 3.0, 2.41], [102.0, 50.0, 0.03123251637738835, 563.0, 2.53], [108.15, 160.0, 0.01953874168830817, 312.0, 2.53], [113.5, 135.0, 0.045621608535184766, 0.0, 2.05], [119.3, 45.0, 0.041100395508881706, 108.0, 2.42], [93.51, 115.0, 0.04812671260953174, 50.0, 2.37], [97.4, 60.0, 0.03228772966546013, 53.0, 1.93], [119.66, 140.0, 0.056911777328876485, 701.0, 2.5], [98.25, 60.0, 0.02407223709119008, 133.0, 1.93], [125.02, 105.0, 0.04316950309792203, 644.0, 2.4], [141.91, 200.0, 0.020369889593048918, 93.0, 2.14], [111.1, 60.0, 0.0283847778515402, 21.0, 1.95], [108.15, 55.0, 0.01953874168830817, 312.0, 2.53], [143.53, 140.0, 0.029901334351513275, 198.0, 2.08], [82.4, 85.0, 0.02098512697245141, 36.0, 1.7], [119.3, 105.0, 0.041100395508881706, 45.0, 2.43], [121.77, 95.0, 0.040637651528114285, 297.0, 2.44], [107.25, 115.0, 0.02126967117374272, 308.0, 2.52], [146.1, 140.0, 0.01954833436101369, 542.0, 1.97], [82.05, 120.0, 0.03607495935958746, 157.0, 2.09], [95.35, 125.0, 0.03980656094125559, 79.0, 2.03], [144.78, 145.0, 0.04039331808446709, 588.0, 1.85], [92.08, 80.0, 0.056522309865481124, 402.0, 2.7], [88.4, 85.0, 0.05375751880029838, 420.0, 2.67], [88.4, 105.0, 0.05375751880029838, 784.0, 2.81], [91.31, 55.0, 0.06716914969694814, 430.0, 2.72], [103.0, 75.0, 0.0238246792656612, 36.0, 1.81], [111.22, 115.0, 0.05807076087841561, 38.0, 2.39], [144.78, 70.0, 0.04039331808446709, 133.0, 2.28], [136.6, 165.0, 0.02784704439188373, 242.0, 2.42], [94.41, 145.0, 0.0493526854941492, 779.0, 2.81], [141.91, 35.0, 0.020369889593048918, 184.0, 2.04], [120.83, 100.0, 0.04081190245642279, 294.0, 2.4], [149.04, 130.0, 0.03997917719852827, 211.0, 2.04], [104.05, 35.0, 0.03983454266421006, 158.0, 2.22], [111.01, 80.0, 0.05767055003564834, 7.0, 2.43], [107.96, 140.0, 0.020556949806368498, 123.0, 2.44], [144.63, 105.0, 0.03987837568686335, 577.0, 1.86], [93.98, 45.0, 0.0550863498793181, 45.0, 2.37], [114.98, 40.0, 0.04578773498363206, 473.0, 2.6], [122.65, 95.0, 0.038312663166650884, 120.0, 2.49], [85.16, 50.0, 0.04964192796762052, 197.0, 2.47], [108.89, 55.0, 0.033616104014165364, 668.0, 2.46], [101.91, 165.0, 0.06750222569987634, 800.0, 2.96], [108.15, 70.0, 0.01953874168830817, 38.0, 2.44], [101.29, 100.0, 0.052604678039866605, 189.0, 2.5], [125.75, 100.0, 0.0567472996325723, 696.0, 2.5], [79.35, 35.0, 0.02112959870762864, 318.0, 2.06], [115.8, 85.0, 0.04366757207570815, 51.0, 2.2], [97.42, 155.0, 0.046291221339118456, 87.0, 2.33], [86.97, 120.0, 0.0524224717238065, 36.0, 2.36], [83.225, 125.0, 0.03670930940113666, 617.0, 2.54], [133.52, 30.0, 0.02679878159514775, 266.0, 2.46], [84.92, 135.0, 0.05092128836817107, 393.0, 2.64], [91.39, 80.0, 0.05654371115744505, 767.0, 2.72], [112.0, 135.0, 0.044291377964058416, 25.0, 2.07], [109.0, 115.0, 0.02935983489015061, 94.0, 2.02], [100.3, 50.0, 0.039631207170908386, 529.0, 2.44], [143.61, 65.0, 0.03721474485363761, 37.0, 2.19], [111.11, 160.0, 0.055187490005592345, 240.0, 2.51], [83.18, 55.0, 0.05119926052739802, 760.0, 2.7], [109.1, 75.0, 0.016403341833589692, 686.0, 2.55], [139.47, 55.0, 0.02178936629123049, 185.0, 2.06], [85.0, 30.0, 0.028565676067374344, 0.0, 1.65], [125.02, 140.0, 0.04316950309792203, 189.0, 2.47], [137.22, 200.0, 0.02356572453640285, 164.0, 2.46], [119.7, 105.0, 0.04577045983518167, 112.0, 2.19], [85.5, 100.0, 0.034654111036277274, 151.0, 2.14], [89.42, 65.0, 0.05645052394588116, 406.0, 2.68], [142.44, 85.0, 0.037687252670167794, 584.0, 1.93], [103.65, 85.0, 0.039085237685685864, 58.0, 2.09], [90.65, 100.0, 0.05369590696567412, 198.0, 2.51], [106.3, 80.0, 0.03627265867160459, 224.0, 2.3], [95.0, 130.0, 0.039871988179493965, 80.0, 2.03], [142.09, 85.0, 0.02714700206074621, 611.0, 2.16], [109.03, 140.0, 0.0165504455523345, 45.0, 2.45], [109.02, 60.0, 0.04324673887199517, 106.0, 2.22], [117.98, 70.0, 0.04070214771517892, 210.0, 2.48], [134.76, 105.0, 0.03635558075423575, 143.0, 2.38], [124.48, 85.0, 0.035416602172033324, 31.0, 2.43], [101.77, 55.0, 0.06778791125188538, 442.0, 2.67], [125.02, 110.0, 0.04316950309792203, 280.0, 2.44], [109.65, 105.0, 0.029259029608548006, 141.0, 2.28], [102.0, 95.0, 0.03123251637738835, 563.0, 2.53], [108.75, 90.0, 0.027372650454282367, 93.0, 2.0], [90.0, 70.0, 0.01722376373399032, 49.0, 1.92], [115.95, 115.0, 0.043428805077523454, 216.0, 2.33], [140.7, 95.0, 0.02171823662231393, 163.0, 2.45], [143.71, 110.0, 0.02417727691911128, 105.0, 2.23], [88.4, 60.0, 0.05375751880029838, 146.0, 2.52], [141.4, 165.0, 0.022239045536183395, 623.0, 2.33], [102.1, 155.0, 0.039317618027402086, 150.0, 2.25], [108.89, 160.0, 0.033616104014165364, 122.0, 2.46], [87.2, 45.0, 0.05053913197199575, 763.0, 2.73], [81.6, 30.0, 0.027967467676052928, 269.0, 2.05], [102.25, 70.0, 0.04027350865033592, 154.0, 2.24], [133.73, 135.0, 0.034736415434142576, 228.0, 2.31], [76.1, 30.0, 0.034878010813682435, 690.0, 2.22], [98.95, 70.0, 0.023534909328441097, 38.0, 1.81], [98.02, 115.0, 0.052282287257146204, 373.0, 2.59], [143.53, 140.0, 0.029901334351513275, 16.0, 2.25], [142.44, 165.0, 0.037687252670167794, 38.0, 2.27], [81.9, 65.0, 0.023407470823318902, 105.0, 1.73], [142.1, 85.0, 0.03328721317978595, 203.0, 2.09], [145.59, 95.0, 0.0243538727116994, 555.0, 1.82], [143.61, 200.0, 0.03721474485363761, 583.0, 1.88], [85.16, 80.0, 0.04964192796762052, 379.0, 2.5], [99.55, 80.0, 0.02379997599014585, 219.0, 2.09], [106.6, 95.0, 0.03518143723410588, 135.0, 2.14], [99.58, 120.0, 0.03881411603965588, 191.0, 2.46], [99.89, 125.0, 0.05255867684674709, 736.0, 2.56], [142.1, 150.0, 0.03328721317978595, 49.0, 2.12], [109.6, 135.0, 0.028568698611290418, 51.0, 2.13], [89.4, 75.0, 0.02907330589461383, 30.0, 1.67], [98.55, 95.0, 0.06770483768273462, 46.0, 2.36], [139.76, 70.0, 0.03323668688625022, 206.0, 2.1], [108.6, 100.0, 0.032424728602590006, 508.0, 2.47], [75.05, 90.0, 0.03009198382900272, 50.0, 1.63], [116.3, 165.0, 0.04357222028705686, 843.0, 2.83], [108.25, 120.0, 0.03581670508662785, 223.0, 2.3], [80.5, 50.0, 0.02274421240213188, 108.0, 1.75], [113.65, 115.0, 0.03900722091893658, 219.0, 2.31], [139.76, 160.0, 0.03323668688625022, 570.0, 1.71], [109.6, 85.0, 0.028568698611290418, 506.0, 2.48], [108.68, 70.0, 0.05522043012971626, 330.0, 2.55], [114.18, 95.0, 0.05345431358025315, 52.0, 2.47], [89.42, 80.0, 0.05645052394588116, 14.0, 2.32], [84.25, 75.0, 0.03680927376720219, 4.0, 1.7], [74.6, 30.0, 0.035153152039118576, 155.0, 1.82], [109.27, 55.0, 0.043225389323293235, 195.0, 2.41], [143.1, 100.0, 0.02100244127244113, 92.0, 2.05], [85.04, 85.0, 0.06600052885413198, 788.0, 2.79], [119.41, 45.0, 0.057647592204568415, 2.0, 2.42], [137.22, 150.0, 0.02356572453640285, 45.0, 2.44], [71.7, 30.0, 0.035571211115538307, 338.0, 1.98], [128.25, 125.0, 0.02708046286156833, 269.0, 2.46], [94.4, 55.0, 0.017144481326023718, 227.0, 2.13], [101.34, 125.0, 0.05211642321528565, 93.0, 2.45], [75.05, 45.0, 0.03422545995240442, 16.0, 1.5], [107.6, 130.0, 0.02658037020883468, 121.0, 1.94], [125.02, 75.0, 0.04316950309792203, 35.0, 2.41], [90.52, 125.0, 0.058429640905986874, 809.0, 2.81], [133.52, 115.0, 0.02679878159514775, 266.0, 2.46], [143.36, 210.0, 0.02208173621110559, 161.0, 2.45], [99.89, 75.0, 0.05255867684674709, 36.0, 2.42], [85.5, 50.0, 0.034654111036277274, 151.0, 2.14], [90.25, 140.0, 0.05240592015590785, 386.0, 2.58], [142.44, 190.0, 0.037687252670167794, 220.0, 2.21], [143.1, 145.0, 0.02100244127244113, 29.0, 2.11], [81.75, 130.0, 0.027639068053334416, 268.0, 2.03], [82.05, 30.0, 0.03607495935958746, 66.0, 1.92], [90.65, 85.0, 0.05369590696567412, 744.0, 2.5], [111.01, 65.0, 0.05767055003564834, 69.0, 2.43], [134.76, 70.0, 0.03635558075423575, 234.0, 2.38], [97.42, 65.0, 0.046291221339118456, 451.0, 2.67], [104.1, 60.0, 0.02944259516825113, 10.0, 1.88], [141.17, 170.0, 0.021145810352489983, 71.0, 2.43], [145.47, 105.0, 0.01844086679291513, 22.0, 2.16], [106.1, 85.0, 0.03980859881527557, 8.0, 1.91], [129.95, 70.0, 0.026794942492717886, 22.0, 2.43], [91.39, 90.0, 0.05654371115744505, 767.0, 2.72], [108.89, 65.0, 0.033616104014165364, 59.0, 2.46], [96.8, 75.0, 0.0329202118784856, 569.0, 2.52], [145.84, 75.0, 0.03967343022331565, 2.0, 2.14], [125.02, 60.0, 0.04316950309792203, 189.0, 2.47], [89.54, 125.0, 0.049390696870170704, 416.0, 2.7], [82.25, 130.0, 0.039105580737061794, 627.0, 2.49], [102.95, 115.0, 0.03911118885856188, 72.0, 2.06], [97.4, 100.0, 0.03228772966546013, 116.0, 1.93], [101.29, 75.0, 0.052604678039866605, 371.0, 2.58], [61.45, 90.0, 0.03193718936996071, 350.0, 1.88], [108.68, 85.0, 0.05522043012971626, 56.0, 2.45], [83.3, 95.0, 0.02816223659953558, 270.0, 2.04], [97.51, 90.0, 0.03425648376411678, 98.0, 2.28], [90.34, 35.0, 0.05337744260853343, 382.0, 2.63], [113.95, 115.0, 0.04040101175550796, 37.0, 2.01], [97.4, 150.0, 0.03228772966546013, 207.0, 2.13], [84.25, 95.0, 0.021000429032404483, 35.0, 1.71], [113.95, 60.0, 0.04040101175550796, 492.0, 2.56], [88.4, 145.0, 0.05375751880029838, 146.0, 2.52], [139.59, 155.0, 0.033261560062757614, 23.0, 2.11], [84.55, 100.0, 0.026524870053739283, 10.0, 1.63], [85.6, 60.0, 0.05089068930639548, 30.0, 2.35], [151.52, 100.0, 0.01908022790249121, 58.0, 2.1], [129.59, 100.0, 0.02700353265241049, 268.0, 2.46], [119.0, 145.0, 0.043633075940499325, 477.0, 2.58], [104.2, 70.0, 0.029096468191720862, 555.0, 2.58], [95.91, 70.0, 0.0521173509381002, 738.0, 2.58], [114.1, 130.0, 0.04654464387159128, 57.0, 2.17], [119.7, 60.0, 0.04577045983518167, 476.0, 2.59], [116.13, 70.0, 0.057630864965401124, 31.0, 2.42], [105.98, 75.0, 0.01722287137317212, 7.0, 2.45], [136.6, 80.0, 0.02784704439188373, 32.0, 2.39], [103.91, 165.0, 0.050830213280792264, 1.0, 2.41], [98.55, 145.0, 0.06770483768273462, 438.0, 2.71], [111.27, 50.0, 0.05758693612186035, 158.0, 2.51], [95.0, 70.0, 0.04574261854631706, 28.0, 2.19], [106.6, 95.0, 0.03518143723410588, 44.0, 2.0], [85.0, 80.0, 0.028565676067374344, 182.0, 2.01], [122.65, 120.0, 0.038312663166650884, 120.0, 2.49], [105.15, 50.0, 0.05041707319464903, 172.0, 2.51], [102.0, 130.0, 0.03123251637738835, 108.0, 1.98], [76.1, 100.0, 0.03568778432317364, 329.0, 2.02], [142.1, 140.0, 0.03328721317978595, 203.0, 2.09], [91.55, 135.0, 0.04960606332745087, 86.0, 2.34], [145.84, 190.0, 0.020942446037653058, 91.0, 2.06], [108.36, 95.0, 0.02017738307473924, 220.0, 2.53], [103.9, 45.0, 0.04798018744684324, 358.0, 2.58], [114.85, 140.0, 0.04503190154239454, 59.0, 2.17], [135.81, 125.0, 0.028478627205766167, 150.0, 2.42], [142.1, 120.0, 0.03328721317978595, 49.0, 2.12], [74.1, 65.0, 0.03570263684949453, 22.0, 1.34], [91.55, 105.0, 0.04960606332745087, 176.0, 2.47], [117.4, 70.0, 0.04068156701191989, 296.0, 2.4], [106.0, 130.0, 0.02494461008299276, 214.0, 2.13], [106.85, 70.0, 0.03120329614729463, 147.0, 2.25], [134.76, 200.0, 0.03635558075423575, 234.0, 2.38], [108.6, 155.0, 0.032424728602590006, 508.0, 2.47], [97.51, 120.0, 0.03425648376411678, 188.0, 2.44], [85.15, 125.0, 0.0380501450991221, 620.0, 2.49], [143.0, 160.0, 0.02356693543711004, 249.0, 2.06], [113.65, 90.0, 0.03900722091893658, 219.0, 2.31], [84.15, 40.0, 0.02088460505842642, 302.0, 2.05], [82.1, 75.0, 0.05211553345680715, 84.0, 2.39], [144.62, 60.0, 0.02990831354276945, 108.0, 2.2], [90.52, 60.0, 0.058429640905986874, 81.0, 2.34], [76.1, 100.0, 0.03568778432317364, 693.0, 2.25], [103.65, 110.0, 0.039085237685685864, 149.0, 2.24], [141.17, 90.0, 0.021145810352489983, 253.0, 2.46], [136.8, 180.0, 0.022252106239307963, 624.0, 2.35], [95.0, 80.0, 0.039871988179493965, 171.0, 2.21], [106.6, 75.0, 0.03518143723410588, 16.0, 2.0], [111.01, 150.0, 0.05767055003564834, 69.0, 2.43], [94.41, 120.0, 0.0493526854941492, 415.0, 2.69], [104.29, 55.0, 0.04812054632559818, 728.0, 2.62], [85.6, 50.0, 0.02740671450912244, 4.0, 1.64], [143.0, 185.0, 0.02356693543711004, 95.0, 2.16], [109.35, 115.0, 0.06814659430140835, 169.0, 2.46], [104.29, 85.0, 0.04812054632559818, 364.0, 2.6], [139.47, 185.0, 0.02178936629123049, 31.0, 2.16], [109.02, 95.0, 0.04324673887199517, 43.0, 2.16], [75.05, 45.0, 0.03422545995240442, 142.0, 1.86], [133.73, 115.0, 0.034736415434142576, 18.0, 2.36], [81.75, 85.0, 0.027639068053334416, 632.0, 2.49], [83.15, 65.0, 0.02315670353995874, 676.0, 2.27], [109.35, 170.0, 0.06814659430140835, 77.0, 2.41], [89.54, 165.0, 0.049390696870170704, 416.0, 2.7], [112.0, 100.0, 0.044291377964058416, 116.0, 2.22], [142.94, 120.0, 0.03891984806009386, 126.0, 2.2], [113.67, 155.0, 0.049063841279046616, 142.0, 2.52], [103.91, 135.0, 0.050830213280792264, 183.0, 2.5], [141.96, 30.0, 0.040351047419522064, 225.0, 2.22], [107.28, 80.0, 0.01804299572857353, 134.0, 2.45], [142.03, 180.0, 0.02304807360549109, 256.0, 2.46], [96.47, 60.0, 0.04852132788166263, 136.0, 2.56], [129.59, 135.0, 0.02700353265241049, 86.0, 2.44], [76.8, 55.0, 0.02933387656602945, 49.0, 1.65], [101.44, 115.0, 0.06760264965192364, 161.0, 2.52], [89.42, 150.0, 0.05252903068517965, 21.0, 2.39], [133.4, 145.0, 0.02875923859176239, 29.0, 2.38], [139.76, 145.0, 0.03323668688625022, 115.0, 2.12], [114.98, 65.0, 0.04578773498363206, 837.0, 2.82], [81.65, 60.0, 0.04085377595000247, 175.0, 2.02], [110.11, 115.0, 0.06315234590095266, 14.0, 2.41], [119.26, 130.0, 0.04253479949494567, 15.0, 2.42], [97.45, 110.0, 0.03939848994816208, 182.0, 2.47], [129.95, 140.0, 0.026794942492717886, 631.0, 2.33], [143.1, 180.0, 0.02100244127244113, 183.0, 2.01], [106.3, 55.0, 0.03627265867160459, 498.0, 2.5], [86.05, 110.0, 0.037057284322713234, 619.0, 2.51], [99.65, 60.0, 0.040151201275386836, 65.0, 2.07], [111.15, 125.0, 0.044180877443518035, 32.0, 2.02], [142.44, 120.0, 0.037687252670167794, 129.0, 2.27], [141.91, 165.0, 0.020369889593048918, 548.0, 1.83], [117.4, 85.0, 0.04068156701191989, 660.0, 2.22], [111.15, 125.0, 0.044180877443518035, 851.0, 2.78], [111.22, 135.0, 0.05807076087841561, 710.0, 2.53], [76.8, 90.0, 0.02933387656602945, 686.0, 2.25], [89.42, 100.0, 0.05252903068517965, 385.0, 2.57], [119.7, 155.0, 0.04577045983518167, 476.0, 2.59], [100.3, 120.0, 0.031957296786981115, 567.0, 2.52], [114.1, 100.0, 0.04654464387159128, 484.0, 2.58], [109.27, 105.0, 0.043225389323293235, 469.0, 2.64], [93.51, 120.0, 0.04812671260953174, 140.0, 2.52], [111.96, 80.0, 0.04309717861046268, 108.0, 2.23], [109.6, 95.0, 0.028568698611290418, 142.0, 2.28], [82.45, 115.0, 0.02395413754744376, 653.0, 2.28], [135.81, 200.0, 0.028478627205766167, 150.0, 2.42], [82.1, 170.0, 0.05211553345680715, 756.0, 2.63], [90.0, 40.0, 0.01722376373399032, 231.0, 2.1], [76.5, 100.0, 0.01941518223912429, 296.0, 2.12], [94.41, 65.0, 0.0493526854941492, 51.0, 2.4], [106.7, 100.0, 0.028871292293442905, 98.0, 1.98], [87.95, 105.0, 0.035025484640970835, 29.0, 1.7], [125.75, 65.0, 0.0567472996325723, 24.0, 2.44], [81.65, 120.0, 0.04085377595000247, 21.0, 1.62], [91.55, 120.0, 0.01718211386227567, 137.0, 2.13], [120.11, 115.0, 0.04211339748648698, 13.0, 2.42], [109.03, 60.0, 0.0165504455523345, 683.0, 2.55], [96.7, 60.0, 0.057924496456266614, 85.0, 2.34], [117.98, 120.0, 0.04070214771517892, 56.0, 2.46], [86.89, 140.0, 0.06339175941381088, 786.0, 2.81], [104.2, 120.0, 0.029096468191720862, 191.0, 2.14], [86.97, 110.0, 0.0524224717238065, 400.0, 2.69], [105.2, 60.0, 0.02488153995771937, 87.0, 2.02], [143.02, 135.0, 0.03363884127473833, 46.0, 2.21], [84.55, 100.0, 0.026524870053739283, 38.0, 1.63], [144.62, 155.0, 0.02990831354276945, 17.0, 2.21], [122.75, 80.0, 0.029983711000520632, 92.0, 2.42], [89.42, 95.0, 0.05645052394588116, 14.0, 2.32], [120.11, 80.0, 0.04211339748648698, 651.0, 2.35], [84.25, 90.0, 0.021000429032404483, 0.0, 1.71], [142.03, 120.0, 0.02304807360549109, 620.0, 2.31], [90.65, 115.0, 0.05369590696567412, 44.0, 2.4], [136.6, 120.0, 0.02784704439188373, 32.0, 2.39], [144.75, 110.0, 0.02486137805704945, 8.0, 2.17], [149.04, 55.0, 0.03997917719852827, 211.0, 2.04], [121.77, 170.0, 0.040637651528114285, 23.0, 2.46], [82.1, 140.0, 0.05211553345680715, 756.0, 2.63], [99.58, 130.0, 0.03881411603965588, 10.0, 2.17], [102.25, 70.0, 0.04027350865033592, 518.0, 2.44], [58.25, 40.0, 0.034302774894045644, 71.0, 1.55], [104.8, 135.0, 0.02969373123956808, 557.0, 2.57], [117.98, 120.0, 0.04070214771517892, 301.0, 2.45], [99.58, 160.0, 0.03881411603965588, 829.0, 2.88], [124.48, 95.0, 0.035416602172033324, 640.0, 2.41], [109.82, 145.0, 0.0581122217960108, 345.0, 2.56], [114.09, 120.0, 0.04988989500469597, 17.0, 2.43], [106.52, 110.0, 0.0466434048839187, 83.0, 2.39], [113.95, 140.0, 0.04040101175550796, 492.0, 2.56], [79.35, 60.0, 0.02112959870762864, 136.0, 1.87]]}'"
            ]
          },
          "metadata": {
            "tags": []
          },
          "execution_count": 45
        }
      ]
    },
    {
      "cell_type": "code",
      "metadata": {
        "id": "2473jsqSh3mP"
      },
      "source": [
        "!pip install -q requests\n",
        "import requests\n",
        "\n",
        "headers = {\"content-type\": \"application/json\"}\n",
        "json_response = requests.post(\n",
        "    'http://localhost:8501/v1/models/first_model:predict',         \n",
        "    data = data,\n",
        "    headers = headers)"
      ],
      "execution_count": 46,
      "outputs": []
    },
    {
      "cell_type": "code",
      "metadata": {
        "id": "OmJPAZrMiSDy"
      },
      "source": [
        "predictions = json.loads(json_response.text)['predictions']\n",
        "output = predictions[0]"
      ],
      "execution_count": 47,
      "outputs": []
    },
    {
      "cell_type": "code",
      "metadata": {
        "colab": {
          "base_uri": "https://localhost:8080/"
        },
        "id": "o4c7w71hjKr4",
        "outputId": "8a4081c1-f448-46e3-906f-b22ec430acff"
      },
      "source": [
        "output"
      ],
      "execution_count": 48,
      "outputs": [
        {
          "output_type": "execute_result",
          "data": {
            "text/plain": [
              "[4.62066, 4.80713463]"
            ]
          },
          "metadata": {
            "tags": []
          },
          "execution_count": 48
        }
      ]
    },
    {
      "cell_type": "code",
      "metadata": {
        "colab": {
          "base_uri": "https://localhost:8080/"
        },
        "id": "-FsM33BajO3o",
        "outputId": "9d2e5b6a-e8d8-43be-cb25-e822a0dd57d0"
      },
      "source": [
        "output"
      ],
      "execution_count": 49,
      "outputs": [
        {
          "output_type": "execute_result",
          "data": {
            "text/plain": [
              "[4.62066, 4.80713463]"
            ]
          },
          "metadata": {
            "tags": []
          },
          "execution_count": 49
        }
      ]
    },
    {
      "cell_type": "code",
      "metadata": {
        "colab": {
          "base_uri": "https://localhost:8080/",
          "height": 0
        },
        "id": "TG3L-QtNj1bY",
        "outputId": "de70d171-9518-4138-f510-b07a7a8cb82a"
      },
      "source": [
        "from keras.preprocessing import image\n",
        "classes = ['Bid','Ask']\n",
        "classes[np.argmax(output)]"
      ],
      "execution_count": 49,
      "outputs": [
        {
          "output_type": "execute_result",
          "data": {
            "application/vnd.google.colaboratory.intrinsic+json": {
              "type": "string"
            },
            "text/plain": [
              "'Ask'"
            ]
          },
          "metadata": {
            "tags": []
          },
          "execution_count": 49
        }
      ]
    },
    {
      "cell_type": "code",
      "metadata": {
        "id": "42y4DgwLEUa4"
      },
      "source": [
        ""
      ],
      "execution_count": null,
      "outputs": []
    },
    {
      "cell_type": "code",
      "metadata": {
        "id": "fJAZAyD935eP"
      },
      "source": [
        ""
      ],
      "execution_count": null,
      "outputs": []
    },
    {
      "cell_type": "markdown",
      "metadata": {
        "id": "33cGt2RnJbly"
      },
      "source": [
        "#**TFX Model Deployment/Prediction on Flask**"
      ]
    },
    {
      "cell_type": "code",
      "metadata": {
        "colab": {
          "base_uri": "https://localhost:8080/"
        },
        "id": "ifHqxEl1S5jC",
        "outputId": "c3aa7900-96b1-4ec8-9ac8-fbc16c625184"
      },
      "source": [
        "!pip install flask-ngrok\n"
      ],
      "execution_count": 32,
      "outputs": [
        {
          "output_type": "stream",
          "text": [
            "Requirement already satisfied: flask-ngrok in /usr/local/lib/python3.6/dist-packages (0.0.25)\n",
            "Requirement already satisfied: Flask>=0.8 in /usr/local/lib/python3.6/dist-packages (from flask-ngrok) (1.1.2)\n",
            "Requirement already satisfied: requests in /usr/local/lib/python3.6/dist-packages (from flask-ngrok) (2.25.0)\n",
            "Requirement already satisfied: click>=5.1 in /usr/local/lib/python3.6/dist-packages (from Flask>=0.8->flask-ngrok) (7.1.2)\n",
            "Requirement already satisfied: Werkzeug>=0.15 in /usr/local/lib/python3.6/dist-packages (from Flask>=0.8->flask-ngrok) (1.0.1)\n",
            "Requirement already satisfied: itsdangerous>=0.24 in /usr/local/lib/python3.6/dist-packages (from Flask>=0.8->flask-ngrok) (1.1.0)\n",
            "Requirement already satisfied: Jinja2>=2.10.1 in /usr/local/lib/python3.6/dist-packages (from Flask>=0.8->flask-ngrok) (2.11.2)\n",
            "Requirement already satisfied: chardet<4,>=3.0.2 in /usr/local/lib/python3.6/dist-packages (from requests->flask-ngrok) (3.0.4)\n",
            "Requirement already satisfied: certifi>=2017.4.17 in /usr/local/lib/python3.6/dist-packages (from requests->flask-ngrok) (2020.11.8)\n",
            "Requirement already satisfied: idna<3,>=2.5 in /usr/local/lib/python3.6/dist-packages (from requests->flask-ngrok) (2.10)\n",
            "Requirement already satisfied: urllib3<1.27,>=1.21.1 in /usr/local/lib/python3.6/dist-packages (from requests->flask-ngrok) (1.24.3)\n",
            "Requirement already satisfied: MarkupSafe>=0.23 in /usr/local/lib/python3.6/dist-packages (from Jinja2>=2.10.1->Flask>=0.8->flask-ngrok) (1.1.1)\n"
          ],
          "name": "stdout"
        }
      ]
    },
    {
      "cell_type": "code",
      "metadata": {
        "colab": {
          "base_uri": "https://localhost:8080/"
        },
        "id": "P1xmNh-RmXPD",
        "outputId": "3e762dc2-cefe-42cd-b521-4daa8f58ead2"
      },
      "source": [
        "pip install -U flask-cors"
      ],
      "execution_count": 33,
      "outputs": [
        {
          "output_type": "stream",
          "text": [
            "Requirement already up-to-date: flask-cors in /usr/local/lib/python3.6/dist-packages (3.0.9)\n",
            "Requirement already satisfied, skipping upgrade: Flask>=0.9 in /usr/local/lib/python3.6/dist-packages (from flask-cors) (1.1.2)\n",
            "Requirement already satisfied, skipping upgrade: Six in /usr/local/lib/python3.6/dist-packages (from flask-cors) (1.15.0)\n",
            "Requirement already satisfied, skipping upgrade: click>=5.1 in /usr/local/lib/python3.6/dist-packages (from Flask>=0.9->flask-cors) (7.1.2)\n",
            "Requirement already satisfied, skipping upgrade: itsdangerous>=0.24 in /usr/local/lib/python3.6/dist-packages (from Flask>=0.9->flask-cors) (1.1.0)\n",
            "Requirement already satisfied, skipping upgrade: Jinja2>=2.10.1 in /usr/local/lib/python3.6/dist-packages (from Flask>=0.9->flask-cors) (2.11.2)\n",
            "Requirement already satisfied, skipping upgrade: Werkzeug>=0.15 in /usr/local/lib/python3.6/dist-packages (from Flask>=0.9->flask-cors) (1.0.1)\n",
            "Requirement already satisfied, skipping upgrade: MarkupSafe>=0.23 in /usr/local/lib/python3.6/dist-packages (from Jinja2>=2.10.1->Flask>=0.9->flask-cors) (1.1.1)\n"
          ],
          "name": "stdout"
        }
      ]
    },
    {
      "cell_type": "code",
      "metadata": {
        "id": "SSb3soynS5hE"
      },
      "source": [
        "from flask_ngrok import run_with_ngrok\n",
        "from flask import Flask, jsonify, request\n"
      ],
      "execution_count": 34,
      "outputs": []
    },
    {
      "cell_type": "markdown",
      "metadata": {
        "id": "1F9CPbvbJyWY"
      },
      "source": [
        "**Making POST request to TF server**"
      ]
    },
    {
      "cell_type": "code",
      "metadata": {
        "colab": {
          "base_uri": "https://localhost:8080/"
        },
        "id": "rH5fH0cPeyN3",
        "outputId": "fca00e35-2b4c-44c9-8208-3af5e85b1ad1"
      },
      "source": [
        "import json\n",
        "import numpy as np\n",
        "import requests\n",
        "from keras.applications import inception_v3\n",
        "from keras.preprocessing import image\n",
        "headers = {\"content-type\": \"application/json\"}\n",
        "payload = {\"instances\": xs.tolist()}\n",
        "json_response = requests.post('http://localhost:8501/v1/models/first_model:predict', json = payload)\n",
        "predictions = json.loads(json_response.text)['predictions']\n",
        "output= predictions[0]\n",
        "print(output)"
      ],
      "execution_count": 35,
      "outputs": [
        {
          "output_type": "stream",
          "text": [
            "[4.62066, 4.80713463]\n"
          ],
          "name": "stdout"
        }
      ]
    },
    {
      "cell_type": "code",
      "metadata": {
        "id": "jUrtvT0J33c7"
      },
      "source": [
        ""
      ],
      "execution_count": null,
      "outputs": []
    },
    {
      "cell_type": "code",
      "metadata": {
        "colab": {
          "base_uri": "https://localhost:8080/"
        },
        "id": "ymEZSvaRS5ep",
        "outputId": "428139fd-bd01-4d9c-acd5-e71f12c4b0f8"
      },
      "source": [
        "app = Flask(__name__)\n",
        "run_with_ngrok(app) \n",
        "#app.route('/hello/', methods=['GET', 'POST'])\n",
        "#def hello_world():\n",
        "#    return 'Hello, World!'\n",
        "\n",
        "\n",
        "@app.route('/first_model/predict/', methods=['POST'])\n",
        "def first_model():\n",
        "    payload = {\"instances\": xs.tolist()\n",
        "    }\n",
        "    json_response = requests.post('http://localhost:8501/v1/models/first_model:predict', json= payload)\n",
        "    predictions = json.loads(json_response.text)['predictions']\n",
        "    output= predictions[0]\n",
        "    return jsonify(output)\n",
        "app.run()"
      ],
      "execution_count": 40,
      "outputs": [
        {
          "output_type": "stream",
          "text": [
            " * Serving Flask app \"__main__\" (lazy loading)\n",
            " * Environment: production\n",
            "\u001b[31m   WARNING: This is a development server. Do not use it in a production deployment.\u001b[0m\n",
            "\u001b[2m   Use a production WSGI server instead.\u001b[0m\n",
            " * Debug mode: off\n"
          ],
          "name": "stdout"
        },
        {
          "output_type": "stream",
          "text": [
            "INFO:werkzeug: * Running on http://127.0.0.1:5000/ (Press CTRL+C to quit)\n"
          ],
          "name": "stderr"
        },
        {
          "output_type": "stream",
          "text": [
            " * Running on http://ac538b4b505a.ngrok.io\n",
            " * Traffic stats available on http://127.0.0.1:4040\n"
          ],
          "name": "stdout"
        },
        {
          "output_type": "stream",
          "text": [
            "INFO:werkzeug:127.0.0.1 - - [07/Dec/2020 02:00:07] \"\u001b[33mGET / HTTP/1.1\u001b[0m\" 404 -\n",
            "INFO:werkzeug:127.0.0.1 - - [07/Dec/2020 02:00:08] \"\u001b[33mGET /favicon.ico HTTP/1.1\u001b[0m\" 404 -\n"
          ],
          "name": "stderr"
        }
      ]
    },
    {
      "cell_type": "code",
      "metadata": {
        "id": "6Qg-ao1m35oE"
      },
      "source": [
        ""
      ],
      "execution_count": null,
      "outputs": []
    },
    {
      "cell_type": "code",
      "metadata": {
        "id": "kiC1RpEI35jO"
      },
      "source": [
        ""
      ],
      "execution_count": null,
      "outputs": []
    },
    {
      "cell_type": "code",
      "metadata": {
        "id": "Ri1wqpO935gu"
      },
      "source": [
        ""
      ],
      "execution_count": null,
      "outputs": []
    }
  ]
}