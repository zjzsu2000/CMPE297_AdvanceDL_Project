{
  "nbformat": 4,
  "nbformat_minor": 0,
  "metadata": {
    "colab": {
      "name": "data_black_scholes.ipynb",
      "provenance": [],
      "collapsed_sections": [],
      "include_colab_link": true
    },
    "kernelspec": {
      "name": "python3",
      "display_name": "Python 3"
    }
  },
  "cells": [
    {
      "cell_type": "markdown",
      "metadata": {
        "id": "view-in-github",
        "colab_type": "text"
      },
      "source": [
        "<a href=\"https://colab.research.google.com/github/zjzsu2000/CMPE297_AdvanceDL_Project/blob/main/Data_Preprocessing/data_black_scholes.ipynb\" target=\"_parent\"><img src=\"https://colab.research.google.com/assets/colab-badge.svg\" alt=\"Open In Colab\"/></a>"
      ]
    },
    {
      "cell_type": "code",
      "metadata": {
        "colab": {
          "base_uri": "https://localhost:8080/"
        },
        "id": "-S30kvSlnVP9",
        "outputId": "faba5072-7176-48c2-f230-dc940a5e78eb"
      },
      "source": [
        "from google.colab import drive\n",
        "drive.mount(\"/gdrive\")"
      ],
      "execution_count": null,
      "outputs": [
        {
          "output_type": "stream",
          "text": [
            "Drive already mounted at /gdrive; to attempt to forcibly remount, call drive.mount(\"/gdrive\", force_remount=True).\n"
          ],
          "name": "stdout"
        }
      ]
    },
    {
      "cell_type": "code",
      "metadata": {
        "id": "JFRt30pgnYEm"
      },
      "source": [
        "import pandas as pd\n",
        "name = 'VCYT_option_sigma_TresuryRate'\n",
        "option = pd.read_csv('/gdrive/My Drive/Data set/Option/Tresury_rate/'+name+'.csv')"
      ],
      "execution_count": null,
      "outputs": []
    },
    {
      "cell_type": "code",
      "metadata": {
        "id": "5GkR_uuMnoNu"
      },
      "source": [
        "import io\n",
        "import os\n",
        "import numpy as np\n",
        "from scipy.stats import norm"
      ],
      "execution_count": null,
      "outputs": []
    },
    {
      "cell_type": "code",
      "metadata": {
        "id": "YMghCESleRn1"
      },
      "source": [
        "def black_scholes_21_put(row):\n",
        "    S = row.UnderlyingPrice\n",
        "    X = row.Strike\n",
        "    T = row.date_diff / 365\n",
        "    r = (float) (row.treasury_rate)/ 100\n",
        "    σ = row.sigma_21\n",
        "    d1 = (np.log(S / X) + (r + (σ ** 2) / 2) * T) / (σ * (T ** .5))\n",
        "    d2 = d1 - σ * (T ** .5)\n",
        "    P  = norm.cdf(-d2) * X * np.exp(-r * T) - S * norm.cdf(-d1)\n",
        "    return P\n",
        "\n",
        "\n",
        "def black_scholes_21(row):\n",
        "    S = row.UnderlyingPrice\n",
        "    X = row.Strike\n",
        "    T = row.date_diff / 365\n",
        "    r =  (float) (row.treasury_rate)/ 100\n",
        "    σ = row.sigma_21\n",
        "    d1 = (np.log(S / X) + (r + (σ ** 2) / 2) * T) / (σ * (T ** .5))\n",
        "    d2 = d1 - σ * (T ** .5)\n",
        "    C = S * norm.cdf(d1) - X * np.exp(-r * T) * norm.cdf(d2)\n",
        "    return C"
      ],
      "execution_count": null,
      "outputs": []
    },
    {
      "cell_type": "code",
      "metadata": {
        "colab": {
          "base_uri": "https://localhost:8080/"
        },
        "id": "HHvLGXXG9ODw",
        "outputId": "1b95ab68-ccae-46a5-a138-7ae9bc96c585"
      },
      "source": [
        "def main(row):\n",
        "  df_option_treasury=row.copy()\n",
        "  df_option_treasury.drop(df_option_treasury.loc[df_option_treasury['treasury_rate']=='.'].index, inplace=True)\n",
        "  options_df_new_put = df_option_treasury[df_option_treasury.Type == 'put'].drop(['Type'], axis=1)\n",
        "  options_df_new_call = df_option_treasury[df_option_treasury.Type == 'call'].drop(['Type'], axis=1)\n",
        "  options_df_new_put.head(3)\n",
        "  options_df_new_call['black_scholes_pred_21'] = options_df_new_call.apply(black_scholes_21, axis=1)\n",
        "  options_df_new_put['black_scholes_pred_21'] = options_df_new_put.apply(black_scholes_21_put, axis=1)\n",
        "  mse = lambda df, pred_col: np.sum(np.square(df[['Bid', 'Ask']].mean(axis=1) - df[pred_col])) / df.shape[0]\n",
        "  mse(options_df_new_call, 'black_scholes_pred_21')\n",
        "  med_abs_err = lambda df, pred_col: (np.abs(df[['Bid', 'Ask']].mean(axis=1) - df[pred_col])).iloc[df.shape[0]//2]\n",
        "  med_abs_err(options_df_new_call, 'black_scholes_pred_21')\n",
        "  options_df_new_call.to_csv(('/gdrive/My Drive/Data set/Option/call_put/'+name+'_call.csv'))\n",
        "  options_df_new_put.to_csv(('/gdrive/My Drive/Data set/Option/call_put/'+name+'_put.csv'))\n",
        "main(option)"
      ],
      "execution_count": null,
      "outputs": [
        {
          "output_type": "stream",
          "text": [
            "/usr/local/lib/python3.6/dist-packages/ipykernel_launcher.py:19: RuntimeWarning: divide by zero encountered in double_scalars\n",
            "/usr/local/lib/python3.6/dist-packages/ipykernel_launcher.py:7: RuntimeWarning: divide by zero encountered in double_scalars\n",
            "  import sys\n"
          ],
          "name": "stderr"
        }
      ]
    },
    {
      "cell_type": "code",
      "metadata": {
        "id": "6FhxmLPj-uNB"
      },
      "source": [
        ""
      ],
      "execution_count": null,
      "outputs": []
    }
  ]
}